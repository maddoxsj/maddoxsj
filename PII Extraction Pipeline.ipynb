{
 "cells": [
  {
   "cell_type": "code",
   "execution_count": 1,
   "metadata": {},
   "outputs": [
    {
     "name": "stdout",
     "output_type": "stream",
     "text": [
      "Path at terminal when executing this file\n",
      "C:\\Users\\maddo\\Downloads\n",
      "\n"
     ]
    }
   ],
   "source": [
    "import pandas as pd\n",
    "# from piidetect.fakepii import Fake_PII, write_to_disk_train, write_to_disk_test\n",
    "import os\n",
    "\n",
    "print(\"Path at terminal when executing this file\")\n",
    "print(os.getcwd() + \"\\n\")\n",
    "#Make note of CWD- change it if you want- this is where your CSVs will end up"
   ]
  },
  {
   "cell_type": "code",
   "execution_count": 2,
   "metadata": {},
   "outputs": [],
   "source": [
    "from gensim.models import Word2Vec"
   ]
  },
  {
   "cell_type": "code",
   "execution_count": 3,
   "metadata": {},
   "outputs": [],
   "source": [
    "fake_ = Fake_PII()\n",
    "fake_.create_fake_profile(100)\n",
    "train_labels, train_text, train_PII = fake_.create_pii_text_train(n_text = 5)\n",
    "write_to_disk_train(300)\n",
    "write_to_disk_test(300)"
   ]
  },
  {
   "cell_type": "code",
   "execution_count": 4,
   "metadata": {},
   "outputs": [],
   "source": []
  },
  {
   "cell_type": "code",
   "execution_count": 5,
   "metadata": {},
   "outputs": [],
   "source": [
    "train_data = pd.read_csv(\"train.csv\")\n",
    "test_data = pd.read_csv(\"test.csv\")"
   ]
  },
  {
   "cell_type": "code",
   "execution_count": 30,
   "metadata": {
    "pycharm": {
     "name": "#%%\n"
    }
   },
   "outputs": [
    {
     "data": {
      "text/html": [
       "<div>\n",
       "<style scoped>\n",
       "    .dataframe tbody tr th:only-of-type {\n",
       "        vertical-align: middle;\n",
       "    }\n",
       "\n",
       "    .dataframe tbody tr th {\n",
       "        vertical-align: top;\n",
       "    }\n",
       "\n",
       "    .dataframe thead tr th {\n",
       "        text-align: left;\n",
       "    }\n",
       "\n",
       "    .dataframe thead tr:last-of-type th {\n",
       "        text-align: right;\n",
       "    }\n",
       "</style>\n",
       "<table border=\"1\" class=\"dataframe\">\n",
       "  <thead>\n",
       "    <tr>\n",
       "      <th></th>\n",
       "      <th colspan=\"4\" halign=\"left\">Special_char_num</th>\n",
       "    </tr>\n",
       "    <tr>\n",
       "      <th></th>\n",
       "      <th>min</th>\n",
       "      <th>max</th>\n",
       "      <th>mean</th>\n",
       "      <th>median</th>\n",
       "    </tr>\n",
       "    <tr>\n",
       "      <th>Labels</th>\n",
       "      <th></th>\n",
       "      <th></th>\n",
       "      <th></th>\n",
       "      <th></th>\n",
       "    </tr>\n",
       "  </thead>\n",
       "  <tbody>\n",
       "    <tr>\n",
       "      <th>Address</th>\n",
       "      <td>0</td>\n",
       "      <td>0</td>\n",
       "      <td>0.000000</td>\n",
       "      <td>0</td>\n",
       "    </tr>\n",
       "    <tr>\n",
       "      <th>CreditCardNumber</th>\n",
       "      <td>0</td>\n",
       "      <td>0</td>\n",
       "      <td>0.000000</td>\n",
       "      <td>0</td>\n",
       "    </tr>\n",
       "    <tr>\n",
       "      <th>Email</th>\n",
       "      <td>2</td>\n",
       "      <td>2</td>\n",
       "      <td>2.000000</td>\n",
       "      <td>2</td>\n",
       "    </tr>\n",
       "    <tr>\n",
       "      <th>Name</th>\n",
       "      <td>0</td>\n",
       "      <td>0</td>\n",
       "      <td>0.000000</td>\n",
       "      <td>0</td>\n",
       "    </tr>\n",
       "    <tr>\n",
       "      <th>None</th>\n",
       "      <td>0</td>\n",
       "      <td>0</td>\n",
       "      <td>0.000000</td>\n",
       "      <td>0</td>\n",
       "    </tr>\n",
       "    <tr>\n",
       "      <th>Phone_number</th>\n",
       "      <td>0</td>\n",
       "      <td>3</td>\n",
       "      <td>1.463333</td>\n",
       "      <td>1</td>\n",
       "    </tr>\n",
       "    <tr>\n",
       "      <th>Plates</th>\n",
       "      <td>0</td>\n",
       "      <td>1</td>\n",
       "      <td>0.263333</td>\n",
       "      <td>0</td>\n",
       "    </tr>\n",
       "    <tr>\n",
       "      <th>SSN</th>\n",
       "      <td>0</td>\n",
       "      <td>1</td>\n",
       "      <td>0.560000</td>\n",
       "      <td>1</td>\n",
       "    </tr>\n",
       "  </tbody>\n",
       "</table>\n",
       "</div>"
      ],
      "text/plain": [
       "                 Special_char_num                     \n",
       "                              min max      mean median\n",
       "Labels                                                \n",
       "Address                         0   0  0.000000      0\n",
       "CreditCardNumber                0   0  0.000000      0\n",
       "Email                           2   2  2.000000      2\n",
       "Name                            0   0  0.000000      0\n",
       "None                            0   0  0.000000      0\n",
       "Phone_number                    0   3  1.463333      1\n",
       "Plates                          0   1  0.263333      0\n",
       "SSN                             0   1  0.560000      1"
      ]
     },
     "execution_count": 30,
     "metadata": {},
     "output_type": "execute_result"
    }
   ],
   "source": [
    "import re\n",
    "train_data['Labels'].value_counts()\n",
    "def clean_text(text):\n",
    "    # replace  . and a space with only a space, then amke all words lower case.\n",
    "    text = text.replace(\". \",\" \").replace(\",\",\"\").lower()\n",
    "    # get rid of the . at the end of each line.\n",
    "    cleaned_text = re.sub(\"\\.$\",\"\",text)\n",
    "\n",
    "    return cleaned_text\n",
    "def extract_special_len(text):\n",
    "    # the complete special char list\n",
    "    all_special_char = '!\"#$%&\\'()*+,-./:;<=>?@[\\\\]^_`{|}~'\n",
    "    # return the special char if it is in the text\n",
    "    special_list = [special_char for special_char in all_special_char\\\n",
    "                   if special_char in text]\n",
    "\n",
    "    return len(special_list)\n",
    "\n",
    "\n",
    "def extract_special_char(text):\n",
    "    # the complete special char list\n",
    "    all_special_char = '!\"#$%&\\'()*+,-./:;<=>?@[\\\\]^_`{|}~'\n",
    "    # return the special char if it is in the text\n",
    "    special_list = [special_char for special_char in all_special_char\\\n",
    "                   if special_char in text]\n",
    "\n",
    "    return special_list\n",
    "train_data[\"Cleaned_text\"] = train_data[\"Text\"].apply(clean_text)\n",
    "train_data['Special_char_num'] = train_data[\"Cleaned_text\"].apply(extract_special_len)\n",
    "train_data['Special_chars'] = train_data[\"Cleaned_text\"].apply(extract_special_char)\n",
    "train_data.groupby(\"Labels\").agg({'Special_char_num':[\"min\",\"max\",\"mean\",'median']})\n",
    "test_data[\"Cleaned_text\"] = test_data[\"Text\"].apply(clean_text)\n",
    "test_data['Special_char_num'] = test_data[\"Cleaned_text\"].apply(extract_special_len)\n",
    "test_data['Special_chars'] = test_data[\"Cleaned_text\"].apply(extract_special_char)\n",
    "test_data.groupby(\"Labels\").agg({'Special_char_num':[\"min\",\"max\",\"mean\",'median']})"
   ]
  },
  {
   "cell_type": "code",
   "execution_count": 7,
   "metadata": {
    "pycharm": {
     "name": "#%%\n"
    }
   },
   "outputs": [],
   "source": [
    "# train_data.to_csv(\"train_cleaned.csv\",index=False)\n",
    "# test_data.to_csv(\"test_cleaned.csv\",index=False)\n",
    "\n",
    "#You can look at these in your CWD to check that everything worked and use the generated data later"
   ]
  },
  {
   "cell_type": "code",
   "execution_count": 37,
   "metadata": {},
   "outputs": [
    {
     "name": "stderr",
     "output_type": "stream",
     "text": [
      "<ipython-input-37-030ac64f355f>:2: SettingWithCopyWarning: \n",
      "A value is trying to be set on a copy of a slice from a DataFrame.\n",
      "Try using .loc[row_indexer,col_indexer] = value instead\n",
      "\n",
      "See the caveats in the documentation: https://pandas.pydata.org/pandas-docs/stable/user_guide/indexing.html#returning-a-view-versus-a-copy\n",
      "  fake_pii['Target']= \"1\"\n",
      "<ipython-input-37-030ac64f355f>:9: SettingWithCopyWarning: \n",
      "A value is trying to be set on a copy of a slice from a DataFrame.\n",
      "Try using .loc[row_indexer,col_indexer] = value instead\n",
      "\n",
      "See the caveats in the documentation: https://pandas.pydata.org/pandas-docs/stable/user_guide/indexing.html#returning-a-view-versus-a-copy\n",
      "  fake_pii[\"Target\"] = fake_pii['Labels'].apply(binary_pii)\n"
     ]
    },
    {
     "data": {
      "text/html": [
       "<div>\n",
       "<style scoped>\n",
       "    .dataframe tbody tr th:only-of-type {\n",
       "        vertical-align: middle;\n",
       "    }\n",
       "\n",
       "    .dataframe tbody tr th {\n",
       "        vertical-align: top;\n",
       "    }\n",
       "\n",
       "    .dataframe thead th {\n",
       "        text-align: right;\n",
       "    }\n",
       "</style>\n",
       "<table border=\"1\" class=\"dataframe\">\n",
       "  <thead>\n",
       "    <tr style=\"text-align: right;\">\n",
       "      <th></th>\n",
       "      <th>Text</th>\n",
       "      <th>Labels</th>\n",
       "      <th>PII</th>\n",
       "      <th>Cleaned_text</th>\n",
       "      <th>Target</th>\n",
       "    </tr>\n",
       "  </thead>\n",
       "  <tbody>\n",
       "    <tr>\n",
       "      <th>755</th>\n",
       "      <td>Energy lose cultural. Maintain always jamiejoh...</td>\n",
       "      <td>Email</td>\n",
       "      <td>jamiejohnson@example.org</td>\n",
       "      <td>energy lose cultural maintain always jamiejohn...</td>\n",
       "      <td>1</td>\n",
       "    </tr>\n",
       "    <tr>\n",
       "      <th>1872</th>\n",
       "      <td>Instead 728 27 3744 white name animal expect r...</td>\n",
       "      <td>SSN</td>\n",
       "      <td>728 27 3744</td>\n",
       "      <td>instead 728 27 3744 white name animal expect r...</td>\n",
       "      <td>1</td>\n",
       "    </tr>\n",
       "    <tr>\n",
       "      <th>1103</th>\n",
       "      <td>Series majority treatment. Certainly top image...</td>\n",
       "      <td>Name</td>\n",
       "      <td>Patricia Mora</td>\n",
       "      <td>series majority treatment certainly top image ...</td>\n",
       "      <td>1</td>\n",
       "    </tr>\n",
       "    <tr>\n",
       "      <th>877</th>\n",
       "      <td>Class line name john00@example.net later card ...</td>\n",
       "      <td>Email</td>\n",
       "      <td>john00@example.net</td>\n",
       "      <td>class line name john00@example.net later card ...</td>\n",
       "      <td>1</td>\n",
       "    </tr>\n",
       "    <tr>\n",
       "      <th>1207</th>\n",
       "      <td>120-157-1599x504 Those in wife political indiv...</td>\n",
       "      <td>Phone_number</td>\n",
       "      <td>120-157-1599x504</td>\n",
       "      <td>120-157-1599x504 those in wife political indiv...</td>\n",
       "      <td>1</td>\n",
       "    </tr>\n",
       "    <tr>\n",
       "      <th>1113</th>\n",
       "      <td>Standard soldier even trial apply. Some market...</td>\n",
       "      <td>Name</td>\n",
       "      <td>Sanders</td>\n",
       "      <td>standard soldier even trial apply some market ...</td>\n",
       "      <td>1</td>\n",
       "    </tr>\n",
       "    <tr>\n",
       "      <th>2245</th>\n",
       "      <td>Prevent become able firm. Force look whether t...</td>\n",
       "      <td>None</td>\n",
       "      <td>None</td>\n",
       "      <td>prevent become able firm force look whether tr...</td>\n",
       "      <td>0</td>\n",
       "    </tr>\n",
       "    <tr>\n",
       "      <th>72</th>\n",
       "      <td>Instead white 62371 Allison Row East Stephanie...</td>\n",
       "      <td>Address</td>\n",
       "      <td>62371 Allison Row East Stephanie, IL 03958</td>\n",
       "      <td>instead white 62371 allison row east stephanie...</td>\n",
       "      <td>1</td>\n",
       "    </tr>\n",
       "    <tr>\n",
       "      <th>1853</th>\n",
       "      <td>Culture wind loss left adult. Interview 470 58...</td>\n",
       "      <td>SSN</td>\n",
       "      <td>470 58 6670</td>\n",
       "      <td>culture wind loss left adult interview 470 58 ...</td>\n",
       "      <td>1</td>\n",
       "    </tr>\n",
       "    <tr>\n",
       "      <th>1984</th>\n",
       "      <td>Arrive seem skill apply and ground. Produce re...</td>\n",
       "      <td>SSN</td>\n",
       "      <td>349 02 3390</td>\n",
       "      <td>arrive seem skill apply and ground produce rea...</td>\n",
       "      <td>1</td>\n",
       "    </tr>\n",
       "  </tbody>\n",
       "</table>\n",
       "</div>"
      ],
      "text/plain": [
       "                                                   Text        Labels  \\\n",
       "755   Energy lose cultural. Maintain always jamiejoh...         Email   \n",
       "1872  Instead 728 27 3744 white name animal expect r...           SSN   \n",
       "1103  Series majority treatment. Certainly top image...          Name   \n",
       "877   Class line name john00@example.net later card ...         Email   \n",
       "1207  120-157-1599x504 Those in wife political indiv...  Phone_number   \n",
       "1113  Standard soldier even trial apply. Some market...          Name   \n",
       "2245  Prevent become able firm. Force look whether t...          None   \n",
       "72    Instead white 62371 Allison Row East Stephanie...       Address   \n",
       "1853  Culture wind loss left adult. Interview 470 58...           SSN   \n",
       "1984  Arrive seem skill apply and ground. Produce re...           SSN   \n",
       "\n",
       "                                             PII  \\\n",
       "755                     jamiejohnson@example.org   \n",
       "1872                                 728 27 3744   \n",
       "1103                               Patricia Mora   \n",
       "877                           john00@example.net   \n",
       "1207                            120-157-1599x504   \n",
       "1113                                     Sanders   \n",
       "2245                                        None   \n",
       "72    62371 Allison Row East Stephanie, IL 03958   \n",
       "1853                                 470 58 6670   \n",
       "1984                                 349 02 3390   \n",
       "\n",
       "                                           Cleaned_text  Target  \n",
       "755   energy lose cultural maintain always jamiejohn...       1  \n",
       "1872  instead 728 27 3744 white name animal expect r...       1  \n",
       "1103  series majority treatment certainly top image ...       1  \n",
       "877   class line name john00@example.net later card ...       1  \n",
       "1207  120-157-1599x504 those in wife political indiv...       1  \n",
       "1113  standard soldier even trial apply some market ...       1  \n",
       "2245  prevent become able firm force look whether tr...       0  \n",
       "72    instead white 62371 allison row east stephanie...       1  \n",
       "1853  culture wind loss left adult interview 470 58 ...       1  \n",
       "1984  arrive seem skill apply and ground produce rea...       1  "
      ]
     },
     "execution_count": 37,
     "metadata": {},
     "output_type": "execute_result"
    }
   ],
   "source": [
    "fake_pii = train_data[[\"Text\", \"Labels\", \"PII\", \"Cleaned_text\"]]\n",
    "fake_pii['Target']= \"1\"\n",
    "def binary_pii(label):\n",
    "    pii_label = 0\n",
    "    if label != \"None\":\n",
    "        pii_label = 1\n",
    "    return pii_label \n",
    "fake_pii[\"Target\"] = fake_pii['Labels'].apply(binary_pii)\n",
    "df = pd.DataFrame(data=fake_pii)\n",
    "df2 = df.sample(n=10,replace=True)\n",
    "df2"
   ]
  },
  {
   "cell_type": "code",
   "execution_count": 9,
   "metadata": {},
   "outputs": [],
   "source": [
    "context_sentences = [sentence.split(\" \") for sentence in fake_pii.Cleaned_text]"
   ]
  },
  {
   "cell_type": "code",
   "execution_count": 10,
   "metadata": {},
   "outputs": [],
   "source": [
    "word2vec_model = Word2Vec(context_sentences, vector_size = 20, window=5,\n",
    "                                  min_count = 1, workers = 2)"
   ]
  },
  {
   "cell_type": "code",
   "execution_count": 11,
   "metadata": {},
   "outputs": [],
   "source": [
    "import re\n",
    "from tqdm import tqdm\n",
    "import numpy as np\n",
    "\n",
    "def find_part_pii(text, model, sep = \" \"):\n",
    "    tokenized_text = text.split(sep)\n",
    "    \n",
    "    part_pii = model.wv.doesnt_match(tokenized_text)\n",
    "    #save numerics/easy pii \n",
    "    return part_pii    \n",
    "\n",
    "\n",
    "\n",
    "def get_word2vec_matrix(pii_list, model):\n",
    "    # set the matrix dimensions\n",
    "    column_num = 20\n",
    "    row_num = len(pii_list)\n",
    "    # initialized the matrix\n",
    "    pii2vec_mat = np.zeros((row_num, column_num))\n",
    "    # iterate through the pii_list and assign the vectors to matrix.\n",
    "    for index, ith_pii in enumerate(tqdm(pii_list)):\n",
    "        pii2vec_mat[index,:] = model.wv[ith_pii]\n",
    "    \n",
    "    return pii2vec_mat\n",
    "\n",
    "\n",
    "def get_doc2vec_matrix(texts, model):\n",
    "    \"\"\"\n",
    "    A helper function to get the vector for each document\n",
    "    and combine it into a matrix. \n",
    "    \"\"\"\n",
    "    num_columns = 100\n",
    "    num_rows = len(texts)\n",
    "    \n",
    "    doc2vec_pii_matrix = np.zeros((num_rows, num_columns))\n",
    "    \n",
    "    for index, text in enumerate(tqdm(texts)):\n",
    "        \n",
    "        doc2vec_pii_matrix[index,:] = model.infer_vector(text.split(\" \"))\n",
    "        \n",
    "    return doc2vec_pii_matrix\n",
    "\n",
    "\n",
    "color_dict = {\"Phone_number\":\"red\",\"SSN\":\"blue\",\"Address\":\"black\",\"Name\":\"yellow\",\n",
    "             \"Plates\":\"orange\",\"CreditCardNumber\":\"purple\",\"None\":'pink',\"Email\":\"tan\"}\n",
    "\n",
    "\n",
    "def _match_re_and_extract_cv_scores(model,all_cv_keys, regex):\n",
    "    match_keys = re.findall(regex,\" \".join(all_cv_keys))\n",
    "    \n",
    "    cv_scores = dict()\n",
    "    \n",
    "    for key in match_keys:\n",
    "        cv_scores[key] = model.cv_results_[key]\n",
    "    return cv_scores \n",
    "\n",
    "\n",
    "def extract_sk_cv(model, test = True):\n",
    "    \"\"\"\n",
    "    A helper function to extract the training/testing cross validation result\n",
    "    \"\"\"\n",
    "    all_cv_keys = model.cv_results_.keys()\n",
    "    \n",
    "    if test:\n",
    "        sk_cv_result =  _match_re_and_extract_cv_scores(model = model,all_cv_keys = all_cv_keys\n",
    "                                                             ,regex = r\"split[0-9]+_test_score\")\n",
    "        return pd.DataFrame(sk_cv_result)\n",
    "\n",
    "    elif not test:\n",
    "        \n",
    "        sk_cv_result = _match_re_and_extract_cv_scores(model = model,all_cv_keys = all_cv_keys\n",
    "                                                             ,regex = r\"split[0-9]+_train_score\")\n",
    "        return pd.DataFrame(sk_cv_result)"
   ]
  },
  {
   "cell_type": "code",
   "execution_count": 12,
   "metadata": {},
   "outputs": [
    {
     "name": "stderr",
     "output_type": "stream",
     "text": [
      "100%|██████████| 2400/2400 [00:00<00:00, 3389.50it/s]\n"
     ]
    }
   ],
   "source": [
    "pii_list = [find_part_pii(text, model = word2vec_model) for text in tqdm(fake_pii[\"Cleaned_text\"]) ]"
   ]
  },
  {
   "cell_type": "code",
   "execution_count": 13,
   "metadata": {},
   "outputs": [
    {
     "name": "stderr",
     "output_type": "stream",
     "text": [
      "100%|██████████| 2400/2400 [00:00<00:00, 66656.05it/s]\n"
     ]
    }
   ],
   "source": [
    "pii_matrix = get_word2vec_matrix(pii_list = pii_list, model = word2vec_model)"
   ]
  },
  {
   "cell_type": "code",
   "execution_count": 14,
   "metadata": {},
   "outputs": [
    {
     "data": {
      "text/plain": [
       "RandomizedSearchCV(cv=10, error_score=0,\n",
       "                   estimator=Pipeline(steps=[('logisticregression',\n",
       "                                              LogisticRegression(max_iter=10000,\n",
       "                                                                 n_jobs=1,\n",
       "                                                                 random_state=0))]),\n",
       "                   n_jobs=2,\n",
       "                   param_distributions={'logisticregression__C': <scipy.stats._distn_infrastructure.rv_frozen object at 0x000001BAA8B393D0>,\n",
       "                                        'logisticregression__penalty': ['l2']},\n",
       "                   return_train_score=True, scoring='f1')"
      ]
     },
     "execution_count": 14,
     "metadata": {},
     "output_type": "execute_result"
    }
   ],
   "source": [
    "\n",
    "from sklearn.linear_model import LogisticRegression\n",
    "from scipy.stats import expon\n",
    "from sklearn.model_selection import RandomizedSearchCV\n",
    "from sklearn.pipeline import make_pipeline\n",
    "\n",
    "pipe = make_pipeline(LogisticRegression(random_state=0 , max_iter=10000,n_jobs = 1))\n",
    "\n",
    "param_grid = {\n",
    "    'logisticregression__C':expon(scale = 2),\n",
    "    'logisticregression__penalty':['l2']\n",
    "}\n",
    "\n",
    "random_cv_lr = RandomizedSearchCV(estimator= pipe, param_distributions = param_grid, cv =10, error_score = 0,\n",
    "                               n_iter = 10 , scoring = 'f1', return_train_score=True,n_jobs = 2 )\n",
    "\n",
    "\n",
    "random_cv_lr.fit(pii_matrix, fake_pii['Target'])"
   ]
  },
  {
   "cell_type": "code",
   "execution_count": 15,
   "metadata": {},
   "outputs": [],
   "source": [
    "binary_pred = random_cv_lr.predict(pii_matrix)\n",
    "binary_true = fake_pii[\"Target\"]"
   ]
  },
  {
   "cell_type": "code",
   "execution_count": 16,
   "metadata": {},
   "outputs": [],
   "source": [
    "from sklearn.metrics import confusion_matrix\n",
    "from sklearn.metrics import classification_report"
   ]
  },
  {
   "cell_type": "code",
   "execution_count": 17,
   "metadata": {
    "scrolled": true
   },
   "outputs": [
    {
     "data": {
      "text/plain": [
       "Text(51.0, 0.5, 'True values')"
      ]
     },
     "execution_count": 17,
     "metadata": {},
     "output_type": "execute_result"
    },
    {
     "data": {
      "image/png": "[encoded data removed]",
      "text/plain": [
       "<Figure size 576x576 with 2 Axes>"
      ]
     },
     "metadata": {
      "needs_background": "light"
     },
     "output_type": "display_data"
    }
   ],
   "source": [
    "import seaborn as sns\n",
    "import matplotlib.pyplot as plt\n",
    "plt.figure(figsize= (8,8))\n",
    "sns.heatmap(confusion_matrix(y_true = binary_true, y_pred = binary_pred), annot = True,fmt=\"d\",cmap=\"YlGnBu\")\n",
    "plt.xlabel(\"Predicted values\")\n",
    "plt.ylabel(\"True values\")"
   ]
  },
  {
   "cell_type": "code",
   "execution_count": 18,
   "metadata": {},
   "outputs": [
    {
     "name": "stdout",
     "output_type": "stream",
     "text": [
      "              precision    recall  f1-score   support\n",
      "\n",
      "           0       0.96      0.87      0.91       300\n",
      "           1       0.98      0.99      0.99      2100\n",
      "\n",
      "    accuracy                           0.98      2400\n",
      "   macro avg       0.97      0.93      0.95      2400\n",
      "weighted avg       0.98      0.98      0.98      2400\n",
      "\n"
     ]
    }
   ],
   "source": [
    "print(classification_report(y_true = binary_true, y_pred = binary_pred))"
   ]
  },
  {
   "cell_type": "code",
   "execution_count": 19,
   "metadata": {},
   "outputs": [
    {
     "data": {
      "text/plain": [
       "Pipeline(steps=[('logisticregression',\n",
       "                 LogisticRegression(C=4.735935390112014, max_iter=10000,\n",
       "                                    n_jobs=1, random_state=0))])"
      ]
     },
     "execution_count": 19,
     "metadata": {},
     "output_type": "execute_result"
    }
   ],
   "source": [
    "random_cv_lr.best_estimator_"
   ]
  },
  {
   "cell_type": "code",
   "execution_count": 20,
   "metadata": {},
   "outputs": [
    {
     "data": {
      "text/plain": [
       "RandomizedSearchCV(cv=10, error_score=0,\n",
       "                   estimator=Pipeline(steps=[('logisticregression',\n",
       "                                              LogisticRegression(class_weight={0: 0.1,\n",
       "                                                                               1: 0.9},\n",
       "                                                                 max_iter=10000,\n",
       "                                                                 n_jobs=1,\n",
       "                                                                 random_state=0))]),\n",
       "                   n_jobs=2,\n",
       "                   param_distributions={'logisticregression__C': <scipy.stats._distn_infrastructure.rv_frozen object at 0x000001BAAB7BE460>,\n",
       "                                        'logisticregression__penalty': ['l2']},\n",
       "                   return_train_score=True, scoring='f1')"
      ]
     },
     "execution_count": 20,
     "metadata": {},
     "output_type": "execute_result"
    }
   ],
   "source": [
    "from sklearn.linear_model import LogisticRegression\n",
    "from scipy.stats import expon\n",
    "from sklearn.model_selection import RandomizedSearchCV\n",
    "from sklearn.pipeline import make_pipeline\n",
    "\n",
    "# suppose the class_weight are 0.1 for 0 (no PII)  and 0.9 for 1 (PII exist)\n",
    "\n",
    "pipe_lr_weights = make_pipeline(LogisticRegression(random_state=0 , max_iter=10000,n_jobs = 1,\n",
    "                                                  class_weight={0:.1, 1:.9}) )\n",
    "param_grid = {\n",
    "              'logisticregression__C':expon(scale = 2),\n",
    "              'logisticregression__penalty':['l2']\n",
    "}\n",
    "\n",
    "random_cv_lr_weights = RandomizedSearchCV(estimator= pipe_lr_weights, param_distributions = param_grid,\n",
    "                                  cv =10, error_score = 0,n_iter = 10 , scoring = 'f1',\n",
    "                                  return_train_score=True,n_jobs = 2 )\n",
    "                               \n",
    "\n",
    "\n",
    "random_cv_lr_weights.fit(pii_matrix, fake_pii['Target'])"
   ]
  },
  {
   "cell_type": "code",
   "execution_count": 21,
   "metadata": {},
   "outputs": [
    {
     "data": {
      "text/plain": [
       "Text(51.0, 0.5, 'True values')"
      ]
     },
     "execution_count": 21,
     "metadata": {},
     "output_type": "execute_result"
    },
    {
     "data": {
      "image/png": "[encoded data removed]",
      "text/plain": [
       "<Figure size 576x576 with 2 Axes>"
      ]
     },
     "metadata": {
      "needs_background": "light"
     },
     "output_type": "display_data"
    }
   ],
   "source": [
    "binary_pred = random_cv_lr_weights.predict(pii_matrix)\n",
    "binary_true = fake_pii[\"Target\"]\n",
    "\n",
    "from sklearn.metrics import confusion_matrix\n",
    "from sklearn.metrics import classification_report\n",
    "\n",
    "\n",
    "\n",
    "import seaborn as sns\n",
    "import matplotlib.pyplot as plt\n",
    "plt.figure(figsize= (8,8))\n",
    "sns.heatmap(confusion_matrix(y_true = binary_true, y_pred = binary_pred), annot = True,fmt=\"d\",cmap=\"YlGnBu\")\n",
    "plt.xlabel(\"Predicted values\")\n",
    "plt.ylabel(\"True values\")"
   ]
  },
  {
   "cell_type": "code",
   "execution_count": 22,
   "metadata": {},
   "outputs": [
    {
     "name": "stdout",
     "output_type": "stream",
     "text": [
      "              precision    recall  f1-score   support\n",
      "\n",
      "           0       0.96      0.65      0.78       300\n",
      "           1       0.95      1.00      0.97      2100\n",
      "\n",
      "    accuracy                           0.95      2400\n",
      "   macro avg       0.95      0.82      0.87      2400\n",
      "weighted avg       0.95      0.95      0.95      2400\n",
      "\n"
     ]
    }
   ],
   "source": [
    "print(classification_report(y_true = binary_true, y_pred = binary_pred))"
   ]
  },
  {
   "cell_type": "code",
   "execution_count": 23,
   "metadata": {
    "pycharm": {
     "name": "#%%\n"
    },
    "scrolled": true
   },
   "outputs": [
    {
     "data": {
      "text/plain": [
       "Pipeline(steps=[('logisticregression',\n",
       "                 LogisticRegression(C=6.232756418568851,\n",
       "                                    class_weight={0: 0.1, 1: 0.9},\n",
       "                                    max_iter=10000, n_jobs=1,\n",
       "                                    random_state=0))])"
      ]
     },
     "execution_count": 23,
     "metadata": {},
     "output_type": "execute_result"
    }
   ],
   "source": [
    "random_cv_lr_weights.best_estimator_"
   ]
  },
  {
   "cell_type": "code",
   "execution_count": 24,
   "metadata": {
    "pycharm": {
     "name": "#%%\n"
    }
   },
   "outputs": [
    {
     "name": "stderr",
     "output_type": "stream",
     "text": [
      "100%|██████████| 2400/2400 [00:00<00:00, 9521.22it/s]\n"
     ]
    }
   ],
   "source": [
    "from gensim.models.doc2vec import Doc2Vec, TaggedDocument\n",
    "\n",
    "fake_pii = pd.read_csv('train_cleaned.csv')\n",
    "paragraph = fake_pii['Cleaned_text'].copy()\n",
    "tags = fake_pii['Labels'].copy()\n",
    "fake_pii['Target']= \"1\"\n",
    "fake_pii[\"Target\"] = fake_pii['Labels'].apply(binary_pii)\n",
    "True_tag_documents = [TaggedDocument(paragraph.iloc[index].split(\" \"), [tags.iloc[index]])\\\n",
    "                      for index in tqdm(range(len(tags)))]"
   ]
  },
  {
   "cell_type": "code",
   "execution_count": 25,
   "metadata": {
    "pycharm": {
     "name": "#%%\n"
    }
   },
   "outputs": [
    {
     "data": {
      "text/plain": [
       "<bound method NDFrame.head of                                                    Text   Labels  \\\n",
       "0     Suddenly 51484 Ariana Track Suite 969 about se...  Address   \n",
       "1     Yourself worry as serve rate. 014 Duncan Keys ...  Address   \n",
       "2     Stock enter 559 Burgess Alley Suite 358 most m...  Address   \n",
       "3     Mean maintain effort long. USS Stanley FPO AE ...  Address   \n",
       "4     Level heavy remember risk certainly paper. Tal...  Address   \n",
       "...                                                 ...      ...   \n",
       "2395  Deal education Democrat just opportunity song....     None   \n",
       "2396  Customer agent grow parent stay. Age affect ab...     None   \n",
       "2397  Picture together budget side. Material nothing...     None   \n",
       "2398  Physical opportunity allow rich. Tree door hop...     None   \n",
       "2399  Fast despite later image wide. Drive federal t...     None   \n",
       "\n",
       "                                                   PII  \\\n",
       "0                         51484 Ariana Track Suite 969   \n",
       "1     014 Duncan Keys Apt. 979 Pattersonberg, DC 01932   \n",
       "2                          559 Burgess Alley Suite 358   \n",
       "3                             USS Stanley FPO AE 01357   \n",
       "4                                            Suite 387   \n",
       "...                                                ...   \n",
       "2395                                              None   \n",
       "2396                                              None   \n",
       "2397                                              None   \n",
       "2398                                              None   \n",
       "2399                                              None   \n",
       "\n",
       "                                           Cleaned_text  Special_char_num  \\\n",
       "0     suddenly 51484 ariana track suite 969 about se...                 0   \n",
       "1     yourself worry as serve rate 014 duncan keys a...                 0   \n",
       "2     stock enter 559 burgess alley suite 358 most m...                 0   \n",
       "3     mean maintain effort long uss stanley fpo ae 0...                 0   \n",
       "4     level heavy remember risk certainly paper talk...                 0   \n",
       "...                                                 ...               ...   \n",
       "2395  deal education democrat just opportunity song ...                 0   \n",
       "2396  customer agent grow parent stay age affect abi...                 0   \n",
       "2397  picture together budget side material nothing ...                 0   \n",
       "2398  physical opportunity allow rich tree door hope...                 0   \n",
       "2399  fast despite later image wide drive federal tr...                 0   \n",
       "\n",
       "     Special_chars  Target  \n",
       "0               []       1  \n",
       "1               []       1  \n",
       "2               []       1  \n",
       "3               []       1  \n",
       "4               []       1  \n",
       "...            ...     ...  \n",
       "2395            []       0  \n",
       "2396            []       0  \n",
       "2397            []       0  \n",
       "2398            []       0  \n",
       "2399            []       0  \n",
       "\n",
       "[2400 rows x 7 columns]>"
      ]
     },
     "execution_count": 25,
     "metadata": {},
     "output_type": "execute_result"
    }
   ],
   "source": [
    "fake_pii.head"
   ]
  },
  {
   "cell_type": "code",
   "execution_count": 26,
   "metadata": {
    "pycharm": {
     "name": "#%%\n"
    }
   },
   "outputs": [
    {
     "name": "stderr",
     "output_type": "stream",
     "text": [
      "100%|██████████| 2400/2400 [00:04<00:00, 504.69it/s]\n"
     ]
    }
   ],
   "source": [
    "true_tag_doc2vec_100 = Doc2Vec(True_tag_documents,vector_size = 100, min_count = 1, epochs = 15, workers = 2 )\n",
    "pii_label_matrix_100 = get_doc2vec_matrix(texts = fake_pii['Cleaned_text'], model = true_tag_doc2vec_100)"
   ]
  },
  {
   "cell_type": "code",
   "execution_count": 27,
   "metadata": {
    "pycharm": {
     "name": "#%%\n"
    }
   },
   "outputs": [
    {
     "data": {
      "text/plain": [
       "RandomizedSearchCV(cv=10, error_score=0,\n",
       "                   estimator=Pipeline(steps=[('logisticregression',\n",
       "                                              LogisticRegression(max_iter=10000,\n",
       "                                                                 n_jobs=1,\n",
       "                                                                 random_state=0))]),\n",
       "                   n_jobs=2,\n",
       "                   param_distributions={'logisticregression__C': <scipy.stats._distn_infrastructure.rv_frozen object at 0x000001BAAB5FF340>,\n",
       "                                        'logisticregression__penalty': ['l2']},\n",
       "                   return_train_score=True, scoring='f1')"
      ]
     },
     "execution_count": 27,
     "metadata": {},
     "output_type": "execute_result"
    }
   ],
   "source": [
    "from sklearn.linear_model import LogisticRegression\n",
    "from scipy.stats import expon\n",
    "from sklearn.model_selection import RandomizedSearchCV\n",
    "from sklearn.pipeline import make_pipeline\n",
    "\n",
    "\n",
    "pipe = make_pipeline(LogisticRegression(random_state=0 , max_iter=10000,n_jobs = 1))\n",
    "\n",
    "param_grid = {\n",
    "    'logisticregression__C':expon(scale = 2),\n",
    "    'logisticregression__penalty':['l2']\n",
    "}\n",
    "\n",
    "random_cv_lr_label_100 = RandomizedSearchCV(estimator= pipe, param_distributions = param_grid, cv =10,\n",
    "                                        error_score = 0,n_iter = 10 , scoring = 'f1',\n",
    "                                        return_train_score=True,n_jobs = 2 )\n",
    "\n",
    "\n",
    "\n",
    "random_cv_lr_label_100.fit(pii_label_matrix_100, fake_pii['Target'])"
   ]
  },
  {
   "cell_type": "code",
   "execution_count": 28,
   "metadata": {
    "pycharm": {
     "name": "#%%\n"
    }
   },
   "outputs": [
    {
     "name": "stdout",
     "output_type": "stream",
     "text": [
      "              precision    recall  f1-score   support\n",
      "\n",
      "           0       0.00      0.00      0.00       300\n",
      "           1       0.88      1.00      0.93      2100\n",
      "\n",
      "    accuracy                           0.88      2400\n",
      "   macro avg       0.44      0.50      0.47      2400\n",
      "weighted avg       0.77      0.88      0.82      2400\n",
      "\n"
     ]
    },
    {
     "name": "stderr",
     "output_type": "stream",
     "text": [
      "C:\\Users\\maddo\\anaconda3\\lib\\site-packages\\sklearn\\metrics\\_classification.py:1221: UndefinedMetricWarning: Precision and F-score are ill-defined and being set to 0.0 in labels with no predicted samples. Use `zero_division` parameter to control this behavior.\n",
      "  _warn_prf(average, modifier, msg_start, len(result))\n"
     ]
    }
   ],
   "source": [
    "from sklearn.metrics import classification_report\n",
    "\n",
    "binary_pred = random_cv_lr_label_100.predict(pii_label_matrix_100)\n",
    "binary_true = fake_pii[\"Target\"]\n",
    "print(classification_report(y_true = binary_true, y_pred = binary_pred))"
   ]
  },
  {
   "cell_type": "code",
   "execution_count": 29,
   "metadata": {
    "pycharm": {
     "name": "#%%\n"
    }
   },
   "outputs": [
    {
     "data": {
      "text/plain": [
       "Text(51.0, 0.5, 'True values')"
      ]
     },
     "execution_count": 29,
     "metadata": {},
     "output_type": "execute_result"
    },
    {
     "data": {
      "image/png": "[encoded data removed]",
      "text/plain": [
       "<Figure size 576x576 with 2 Axes>"
      ]
     },
     "metadata": {
      "needs_background": "light"
     },
     "output_type": "display_data"
    }
   ],
   "source": [
    "import seaborn as sns\n",
    "import matplotlib.pyplot as plt\n",
    "from sklearn.metrics import confusion_matrix\n",
    "binary_pred = random_cv_lr_label_100.predict(pii_label_matrix_100)\n",
    "binary_true = fake_pii[\"Target\"]\n",
    "plt.figure(figsize= (8,8))\n",
    "sns.heatmap(confusion_matrix(y_true = binary_true, y_pred = binary_pred), annot = True,fmt=\"d\",cmap=\"YlGnBu\")\n",
    "plt.xlabel(\"Predicted values\")\n",
    "plt.ylabel(\"True values\")"
   ]
  },
  {
   "cell_type": "code",
   "execution_count": null,
   "metadata": {},
   "outputs": [],
   "source": []
  }
 ],
 "metadata": {
  "kernelspec": {
   "display_name": "Python 3",
   "language": "python",
   "name": "python3"
  },
  "language_info": {
   "codemirror_mode": {
    "name": "ipython",
    "version": 3
   },
   "file_extension": ".py",
   "mimetype": "text/x-python",
   "name": "python",
   "nbconvert_exporter": "python",
   "pygments_lexer": "ipython3",
   "version": "3.8.5"
  }
 },
 "nbformat": 4,
 "nbformat_minor": 2
}
