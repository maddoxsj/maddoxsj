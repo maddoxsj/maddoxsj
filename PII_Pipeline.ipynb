{
 "cells": [
  {
   "cell_type": "code",
   "execution_count": 34,
   "metadata": {},
   "outputs": [
    {
     "name": "stdout",
     "output_type": "stream",
     "text": [
      "Path at terminal when executing this file\n",
      "C:\\Users\\maddo\\Downloads\n",
      "\n"
     ]
    }
   ],
   "source": [
    "import pandas as pd\n",
    "# from piidetect.fakepii import Fake_PII, write_to_disk_train, write_to_disk_test\n",
    "import os\n",
    "print(\"Path at terminal when executing this file\")\n",
    "print(os.getcwd() + \"\\n\")\n",
    "#Make note of CWD- change it if you want- this is where your CSVs will end up"
   ]
  },
  {
   "cell_type": "code",
   "execution_count": 35,
   "metadata": {},
   "outputs": [],
   "source": [
    "from gensim.models import Word2Vec"
   ]
  },
  {
   "cell_type": "code",
   "execution_count": 36,
   "metadata": {},
   "outputs": [
    {
     "ename": "NameError",
     "evalue": "name 'Fake_PII' is not defined",
     "output_type": "error",
     "traceback": [
      "\u001b[1;31m---------------------------------------------------------------------------\u001b[0m",
      "\u001b[1;31mNameError\u001b[0m                                 Traceback (most recent call last)",
      "\u001b[1;32m<ipython-input-36-f4a99d7fce47>\u001b[0m in \u001b[0;36m<module>\u001b[1;34m\u001b[0m\n\u001b[1;32m----> 1\u001b[1;33m \u001b[0mfake_\u001b[0m \u001b[1;33m=\u001b[0m \u001b[0mFake_PII\u001b[0m\u001b[1;33m(\u001b[0m\u001b[1;33m)\u001b[0m\u001b[1;33m\u001b[0m\u001b[1;33m\u001b[0m\u001b[0m\n\u001b[0m\u001b[0;32m      2\u001b[0m \u001b[0mfake_\u001b[0m\u001b[1;33m.\u001b[0m\u001b[0mcreate_fake_profile\u001b[0m\u001b[1;33m(\u001b[0m\u001b[1;36m100\u001b[0m\u001b[1;33m)\u001b[0m\u001b[1;33m\u001b[0m\u001b[1;33m\u001b[0m\u001b[0m\n\u001b[0;32m      3\u001b[0m \u001b[0mtrain_labels\u001b[0m\u001b[1;33m,\u001b[0m \u001b[0mtrain_text\u001b[0m\u001b[1;33m,\u001b[0m \u001b[0mtrain_PII\u001b[0m \u001b[1;33m=\u001b[0m \u001b[0mfake_\u001b[0m\u001b[1;33m.\u001b[0m\u001b[0mcreate_pii_text_train\u001b[0m\u001b[1;33m(\u001b[0m\u001b[0mn_text\u001b[0m \u001b[1;33m=\u001b[0m \u001b[1;36m5\u001b[0m\u001b[1;33m)\u001b[0m\u001b[1;33m\u001b[0m\u001b[1;33m\u001b[0m\u001b[0m\n\u001b[0;32m      4\u001b[0m \u001b[0mwrite_to_disk_train\u001b[0m\u001b[1;33m(\u001b[0m\u001b[1;36m300\u001b[0m\u001b[1;33m)\u001b[0m\u001b[1;33m\u001b[0m\u001b[1;33m\u001b[0m\u001b[0m\n\u001b[0;32m      5\u001b[0m \u001b[0mwrite_to_disk_test\u001b[0m\u001b[1;33m(\u001b[0m\u001b[1;36m300\u001b[0m\u001b[1;33m)\u001b[0m\u001b[1;33m\u001b[0m\u001b[1;33m\u001b[0m\u001b[0m\n",
      "\u001b[1;31mNameError\u001b[0m: name 'Fake_PII' is not defined"
     ]
    }
   ],
   "source": [
    "fake_ = Fake_PII()\n",
    "fake_.create_fake_profile(100)\n",
    "train_labels, train_text, train_PII = fake_.create_pii_text_train(n_text = 5)\n",
    "write_to_disk_train(300)\n",
    "write_to_disk_test(300)"
   ]
  },
  {
   "cell_type": "code",
   "execution_count": null,
   "metadata": {},
   "outputs": [],
   "source": []
  },
  {
   "cell_type": "code",
   "execution_count": 37,
   "metadata": {},
   "outputs": [],
   "source": [
    "train_data = pd.read_csv(\"train.csv\")\n",
    "test_data = pd.read_csv(\"test.csv\")"
   ]
  },
  {
   "cell_type": "code",
   "execution_count": 38,
   "metadata": {},
   "outputs": [],
   "source": [
    "df_temp = pd.read_csv(\"train.csv\") # avoid header=None. \n",
    "shuffled_df = df_temp.sample(frac=1)\n",
    "shuffled_df.to_csv(\"train_shuffled.csv\", index=False)\n",
    "df_temp_test = pd.read_csv(\"test.csv\") # avoid header=None. \n",
    "shuffled_df_test = df_temp_test.sample(frac=1)\n",
    "shuffled_df_test.to_csv(\"test_shuffled.csv\", index=False)\n",
    "train_data = pd.read_csv(\"train_shuffled.csv\")\n",
    "test_data = pd.read_csv(\"test_shuffled.csv\")"
   ]
  },
  {
   "cell_type": "code",
   "execution_count": 39,
   "metadata": {
    "pycharm": {
     "name": "#%%\n"
    }
   },
   "outputs": [
    {
     "data": {
      "text/html": [
       "<div>\n",
       "<style scoped>\n",
       "    .dataframe tbody tr th:only-of-type {\n",
       "        vertical-align: middle;\n",
       "    }\n",
       "\n",
       "    .dataframe tbody tr th {\n",
       "        vertical-align: top;\n",
       "    }\n",
       "\n",
       "    .dataframe thead tr th {\n",
       "        text-align: left;\n",
       "    }\n",
       "\n",
       "    .dataframe thead tr:last-of-type th {\n",
       "        text-align: right;\n",
       "    }\n",
       "</style>\n",
       "<table border=\"1\" class=\"dataframe\">\n",
       "  <thead>\n",
       "    <tr>\n",
       "      <th></th>\n",
       "      <th colspan=\"4\" halign=\"left\">Special_char_num</th>\n",
       "    </tr>\n",
       "    <tr>\n",
       "      <th></th>\n",
       "      <th>min</th>\n",
       "      <th>max</th>\n",
       "      <th>mean</th>\n",
       "      <th>median</th>\n",
       "    </tr>\n",
       "    <tr>\n",
       "      <th>Labels</th>\n",
       "      <th></th>\n",
       "      <th></th>\n",
       "      <th></th>\n",
       "      <th></th>\n",
       "    </tr>\n",
       "  </thead>\n",
       "  <tbody>\n",
       "    <tr>\n",
       "      <th>Address</th>\n",
       "      <td>0</td>\n",
       "      <td>0</td>\n",
       "      <td>0.000000</td>\n",
       "      <td>0</td>\n",
       "    </tr>\n",
       "    <tr>\n",
       "      <th>CreditCardNumber</th>\n",
       "      <td>0</td>\n",
       "      <td>0</td>\n",
       "      <td>0.000000</td>\n",
       "      <td>0</td>\n",
       "    </tr>\n",
       "    <tr>\n",
       "      <th>Email</th>\n",
       "      <td>2</td>\n",
       "      <td>2</td>\n",
       "      <td>2.000000</td>\n",
       "      <td>2</td>\n",
       "    </tr>\n",
       "    <tr>\n",
       "      <th>Name</th>\n",
       "      <td>0</td>\n",
       "      <td>0</td>\n",
       "      <td>0.000000</td>\n",
       "      <td>0</td>\n",
       "    </tr>\n",
       "    <tr>\n",
       "      <th>None</th>\n",
       "      <td>0</td>\n",
       "      <td>0</td>\n",
       "      <td>0.000000</td>\n",
       "      <td>0</td>\n",
       "    </tr>\n",
       "    <tr>\n",
       "      <th>Phone_number</th>\n",
       "      <td>0</td>\n",
       "      <td>3</td>\n",
       "      <td>1.463333</td>\n",
       "      <td>1</td>\n",
       "    </tr>\n",
       "    <tr>\n",
       "      <th>Plates</th>\n",
       "      <td>0</td>\n",
       "      <td>1</td>\n",
       "      <td>0.263333</td>\n",
       "      <td>0</td>\n",
       "    </tr>\n",
       "    <tr>\n",
       "      <th>SSN</th>\n",
       "      <td>0</td>\n",
       "      <td>1</td>\n",
       "      <td>0.560000</td>\n",
       "      <td>1</td>\n",
       "    </tr>\n",
       "  </tbody>\n",
       "</table>\n",
       "</div>"
      ],
      "text/plain": [
       "                 Special_char_num                     \n",
       "                              min max      mean median\n",
       "Labels                                                \n",
       "Address                         0   0  0.000000      0\n",
       "CreditCardNumber                0   0  0.000000      0\n",
       "Email                           2   2  2.000000      2\n",
       "Name                            0   0  0.000000      0\n",
       "None                            0   0  0.000000      0\n",
       "Phone_number                    0   3  1.463333      1\n",
       "Plates                          0   1  0.263333      0\n",
       "SSN                             0   1  0.560000      1"
      ]
     },
     "execution_count": 39,
     "metadata": {},
     "output_type": "execute_result"
    }
   ],
   "source": [
    "import re\n",
    "train_data['Labels'].value_counts()\n",
    "def clean_text(text):\n",
    "    # replace  . and a space with only a space, then amke all words lower case.\n",
    "    text = text.replace(\". \",\" \").replace(\",\",\"\").lower()\n",
    "    # get rid of the . at the end of each line.\n",
    "    cleaned_text = re.sub(\"\\.$\",\"\",text)\n",
    "\n",
    "    return cleaned_text\n",
    "def extract_special_len(text):\n",
    "    # the complete special char list\n",
    "    all_special_char = '!\"#$%&\\'()*+,-./:;<=>?@[\\\\]^_`{|}~'\n",
    "    # return the special char if it is in the text\n",
    "    special_list = [special_char for special_char in all_special_char\\\n",
    "                   if special_char in text]\n",
    "\n",
    "    return len(special_list)\n",
    "\n",
    "\n",
    "def extract_special_char(text):\n",
    "    # the complete special char list\n",
    "    all_special_char = '!\"#$%&\\'()*+,-./:;<=>?@[\\\\]^_`{|}~'\n",
    "    # return the special char if it is in the text\n",
    "    special_list = [special_char for special_char in all_special_char\\\n",
    "                   if special_char in text]\n",
    "\n",
    "    return special_list\n",
    "train_data[\"Cleaned_text\"] = train_data[\"Text\"].apply(clean_text)\n",
    "train_data['Special_char_num'] = train_data[\"Cleaned_text\"].apply(extract_special_len)\n",
    "train_data['Special_chars'] = train_data[\"Cleaned_text\"].apply(extract_special_char)\n",
    "train_data.groupby(\"Labels\").agg({'Special_char_num':[\"min\",\"max\",\"mean\",'median']})\n",
    "test_data[\"Cleaned_text\"] = test_data[\"Text\"].apply(clean_text)\n",
    "test_data['Special_char_num'] = test_data[\"Cleaned_text\"].apply(extract_special_len)\n",
    "test_data['Special_chars'] = test_data[\"Cleaned_text\"].apply(extract_special_char)\n",
    "test_data.groupby(\"Labels\").agg({'Special_char_num':[\"min\",\"max\",\"mean\",'median']})"
   ]
  },
  {
   "cell_type": "code",
   "execution_count": 40,
   "metadata": {
    "pycharm": {
     "name": "#%%\n"
    }
   },
   "outputs": [],
   "source": [
    "# train_data.to_csv(\"train_cleaned.csv\",index=False)\n",
    "# test_data.to_csv(\"test_cleaned.csv\",index=False)\n",
    "\n",
    "#You can look at these in your CWD to check that everything worked and use the generated data later"
   ]
  },
  {
   "cell_type": "code",
   "execution_count": 41,
   "metadata": {},
   "outputs": [
    {
     "name": "stderr",
     "output_type": "stream",
     "text": [
      "<ipython-input-41-895788e9eb24>:3: SettingWithCopyWarning: \n",
      "A value is trying to be set on a copy of a slice from a DataFrame.\n",
      "Try using .loc[row_indexer,col_indexer] = value instead\n",
      "\n",
      "See the caveats in the documentation: https://pandas.pydata.org/pandas-docs/stable/user_guide/indexing.html#returning-a-view-versus-a-copy\n",
      "  fake_pii['Target']= \"1\"\n",
      "<ipython-input-41-895788e9eb24>:4: SettingWithCopyWarning: \n",
      "A value is trying to be set on a copy of a slice from a DataFrame.\n",
      "Try using .loc[row_indexer,col_indexer] = value instead\n",
      "\n",
      "See the caveats in the documentation: https://pandas.pydata.org/pandas-docs/stable/user_guide/indexing.html#returning-a-view-versus-a-copy\n",
      "  fake_pii_test['Target']= \"1\"\n",
      "<ipython-input-41-895788e9eb24>:10: SettingWithCopyWarning: \n",
      "A value is trying to be set on a copy of a slice from a DataFrame.\n",
      "Try using .loc[row_indexer,col_indexer] = value instead\n",
      "\n",
      "See the caveats in the documentation: https://pandas.pydata.org/pandas-docs/stable/user_guide/indexing.html#returning-a-view-versus-a-copy\n",
      "  fake_pii[\"Target\"] = fake_pii['Labels'].apply(binary_pii)\n",
      "<ipython-input-41-895788e9eb24>:11: SettingWithCopyWarning: \n",
      "A value is trying to be set on a copy of a slice from a DataFrame.\n",
      "Try using .loc[row_indexer,col_indexer] = value instead\n",
      "\n",
      "See the caveats in the documentation: https://pandas.pydata.org/pandas-docs/stable/user_guide/indexing.html#returning-a-view-versus-a-copy\n",
      "  fake_pii_test[\"Target\"] = fake_pii_test['Labels'].apply(binary_pii)\n"
     ]
    }
   ],
   "source": [
    "fake_pii = train_data[[\"Text\", \"Labels\", \"PII\", \"Cleaned_text\"]]\n",
    "fake_pii_test = test_data[[\"Text\", \"Labels\", \"PII\", \"Cleaned_text\"]]\n",
    "fake_pii['Target']= \"1\"\n",
    "fake_pii_test['Target']= \"1\"\n",
    "def binary_pii(label):\n",
    "    pii_label = 0\n",
    "    if label != \"None\":\n",
    "        pii_label = 1\n",
    "    return pii_label \n",
    "fake_pii[\"Target\"] = fake_pii['Labels'].apply(binary_pii)\n",
    "fake_pii_test[\"Target\"] = fake_pii_test['Labels'].apply(binary_pii)\n",
    "df = pd.DataFrame(data=fake_pii)\n",
    "df_test = pd.DataFrame(data=fake_pii_test)\n",
    "dfsample = df.sample(n=10,replace=True)\n",
    "dfsample\n",
    "df_testsample = df_test.sample(n=10,replace=True)"
   ]
  },
  {
   "cell_type": "code",
   "execution_count": 42,
   "metadata": {},
   "outputs": [],
   "source": [
    "context_sentences = [sentence.split(\" \") for sentence in fake_pii.Cleaned_text]\n",
    "context_sentences_test = [sentence.split(\" \") for sentence in fake_pii_test.Cleaned_text]"
   ]
  },
  {
   "cell_type": "code",
   "execution_count": 43,
   "metadata": {},
   "outputs": [],
   "source": [
    "word2vec_model = Word2Vec(context_sentences, vector_size = 20, window=5,\n",
    "                                  min_count = 1, workers = 2)\n",
    "word2vec_model_test = Word2Vec(context_sentences_test, vector_size = 20, window=5,\n",
    "                                  min_count = 1, workers = 2)"
   ]
  },
  {
   "cell_type": "code",
   "execution_count": 44,
   "metadata": {},
   "outputs": [],
   "source": [
    "import re\n",
    "from tqdm import tqdm\n",
    "import numpy as np\n",
    "\n",
    "def find_part_pii(text, model, sep = \" \"):\n",
    "    tokenized_text = text.split(sep)\n",
    "    \n",
    "    part_pii = model.wv.doesnt_match(tokenized_text)\n",
    "    #save numerics/easy pii \n",
    "    return part_pii    \n",
    "\n",
    "\n",
    "\n",
    "def get_word2vec_matrix(pii_list, model):\n",
    "    # set the matrix dimensions\n",
    "    column_num = 20\n",
    "    row_num = len(pii_list)\n",
    "    # initialized the matrix\n",
    "    pii2vec_mat = np.zeros((row_num, column_num))\n",
    "    # iterate through the pii_list and assign the vectors to matrix.\n",
    "    for index, ith_pii in enumerate(tqdm(pii_list)):\n",
    "        pii2vec_mat[index,:] = model.wv[ith_pii]\n",
    "    \n",
    "    return pii2vec_mat\n",
    "\n",
    "\n",
    "def get_doc2vec_matrix(texts, model):\n",
    "    \"\"\"\n",
    "    A helper function to get the vector for each document\n",
    "    and combine it into a matrix. \n",
    "    \"\"\"\n",
    "    num_columns = 100\n",
    "    num_rows = len(texts)\n",
    "    \n",
    "    doc2vec_pii_matrix = np.zeros((num_rows, num_columns))\n",
    "    \n",
    "    for index, text in enumerate(tqdm(texts)):\n",
    "        \n",
    "        doc2vec_pii_matrix[index,:] = model.infer_vector(text.split(\" \"))\n",
    "        \n",
    "    return doc2vec_pii_matrix\n",
    "\n",
    "\n",
    "color_dict = {\"Phone_number\":\"red\",\"SSN\":\"blue\",\"Address\":\"black\",\"Name\":\"yellow\",\n",
    "             \"Plates\":\"orange\",\"CreditCardNumber\":\"purple\",\"None\":'pink',\"Email\":\"tan\"}\n",
    "\n",
    "\n",
    "def _match_re_and_extract_cv_scores(model,all_cv_keys, regex):\n",
    "    match_keys = re.findall(regex,\" \".join(all_cv_keys))\n",
    "    \n",
    "    cv_scores = dict()\n",
    "    \n",
    "    for key in match_keys:\n",
    "        cv_scores[key] = model.cv_results_[key]\n",
    "    return cv_scores \n",
    "\n",
    "\n",
    "def extract_sk_cv(model, test = True):\n",
    "    \"\"\"\n",
    "    A helper function to extract the training/testing cross validation result\n",
    "    \"\"\"\n",
    "    all_cv_keys = model.cv_results_.keys()\n",
    "    \n",
    "    if test:\n",
    "        sk_cv_result =  _match_re_and_extract_cv_scores(model = model,all_cv_keys = all_cv_keys\n",
    "                                                             ,regex = r\"split[0-9]+_test_score\")\n",
    "        return pd.DataFrame(sk_cv_result)\n",
    "\n",
    "    elif not test:\n",
    "        \n",
    "        sk_cv_result = _match_re_and_extract_cv_scores(model = model,all_cv_keys = all_cv_keys\n",
    "                                                             ,regex = r\"split[0-9]+_train_score\")\n",
    "        return pd.DataFrame(sk_cv_result)"
   ]
  },
  {
   "cell_type": "code",
   "execution_count": 45,
   "metadata": {},
   "outputs": [
    {
     "name": "stderr",
     "output_type": "stream",
     "text": [
      "100%|██████████| 2400/2400 [00:00<00:00, 6503.65it/s]\n",
      "100%|██████████| 2400/2400 [00:00<00:00, 6837.15it/s]\n"
     ]
    }
   ],
   "source": [
    "pii_list = [find_part_pii(text, model = word2vec_model) for text in tqdm(fake_pii[\"Cleaned_text\"]) ]\n",
    "pii_list_test = [find_part_pii(text, model = word2vec_model_test) for text in tqdm(fake_pii_test[\"Cleaned_text\"]) ]"
   ]
  },
  {
   "cell_type": "code",
   "execution_count": 46,
   "metadata": {},
   "outputs": [
    {
     "name": "stderr",
     "output_type": "stream",
     "text": [
      "100%|██████████| 2400/2400 [00:00<00:00, 171446.84it/s]\n",
      "100%|██████████| 2400/2400 [00:00<00:00, 218306.47it/s]\n"
     ]
    }
   ],
   "source": [
    "pii_matrix = get_word2vec_matrix(pii_list = pii_list, model = word2vec_model)\n",
    "pii_matrix_test = get_word2vec_matrix(pii_list = pii_list_test, model = word2vec_model_test)"
   ]
  },
  {
   "cell_type": "code",
   "execution_count": 47,
   "metadata": {},
   "outputs": [
    {
     "data": {
      "text/plain": [
       "RandomizedSearchCV(cv=10, error_score=0,\n",
       "                   estimator=Pipeline(steps=[('logisticregression',\n",
       "                                              LogisticRegression(max_iter=10000,\n",
       "                                                                 n_jobs=1,\n",
       "                                                                 random_state=0))]),\n",
       "                   n_jobs=2,\n",
       "                   param_distributions={'logisticregression__C': <scipy.stats._distn_infrastructure.rv_frozen object at 0x000001AB79948AF0>,\n",
       "                                        'logisticregression__penalty': ['l2']},\n",
       "                   return_train_score=True, scoring='f1')"
      ]
     },
     "execution_count": 47,
     "metadata": {},
     "output_type": "execute_result"
    }
   ],
   "source": [
    "\n",
    "from sklearn.linear_model import LogisticRegression\n",
    "from scipy.stats import expon\n",
    "from sklearn.model_selection import RandomizedSearchCV\n",
    "from sklearn.model_selection import GridSearchCV\n",
    "from sklearn.neighbors import KNeighborsClassifier\n",
    "from sklearn.pipeline import make_pipeline\n",
    "\n",
    "pipe = make_pipeline(LogisticRegression(random_state=0 , max_iter=10000,n_jobs = 1))\n",
    "\n",
    "param_grid = {\n",
    "    'logisticregression__C':expon(scale = 2),\n",
    "    'logisticregression__penalty':['l2']\n",
    "}\n",
    "\n",
    "random_cv_lr = RandomizedSearchCV(estimator= pipe, param_distributions = param_grid, cv =10, error_score = 0,\n",
    "                               n_iter = 10 , scoring = 'f1', return_train_score=True,n_jobs = 2 )\n",
    "param_grid2 = {\n",
    "    'knn__n_neighbors': [2,5,15, 30, 45, 64]\n",
    "}\n",
    "\n",
    "random_cv_lr.fit(pii_matrix, fake_pii['Target'])"
   ]
  },
  {
   "cell_type": "code",
   "execution_count": 48,
   "metadata": {},
   "outputs": [],
   "source": [
    "binary_pred = random_cv_lr.predict(pii_matrix_test)\n",
    "binary_true = fake_pii_test[\"Target\"]"
   ]
  },
  {
   "cell_type": "code",
   "execution_count": 49,
   "metadata": {},
   "outputs": [],
   "source": [
    "from sklearn.metrics import confusion_matrix\n",
    "from sklearn.metrics import classification_report"
   ]
  },
  {
   "cell_type": "code",
   "execution_count": 50,
   "metadata": {
    "scrolled": true
   },
   "outputs": [
    {
     "data": {
      "text/plain": [
       "Text(51.0, 0.5, 'True values')"
      ]
     },
     "execution_count": 50,
     "metadata": {},
     "output_type": "execute_result"
    },
    {
     "data": {
      "image/png": "[encoded data removed]",
      "text/plain": [
       "<Figure size 576x576 with 2 Axes>"
      ]
     },
     "metadata": {
      "needs_background": "light"
     },
     "output_type": "display_data"
    }
   ],
   "source": [
    "import seaborn as sns\n",
    "import matplotlib.pyplot as plt\n",
    "plt.figure(figsize= (8,8))\n",
    "sns.heatmap(confusion_matrix(y_true = binary_true, y_pred = binary_pred), annot = True,fmt=\"d\",cmap=\"YlGnBu\")\n",
    "plt.xlabel(\"Predicted values\")\n",
    "plt.ylabel(\"True values\")"
   ]
  },
  {
   "cell_type": "code",
   "execution_count": 51,
   "metadata": {},
   "outputs": [
    {
     "name": "stdout",
     "output_type": "stream",
     "text": [
      "              precision    recall  f1-score   support\n",
      "\n",
      "           0       0.88      1.00      0.94       300\n",
      "           1       1.00      0.98      0.99      2100\n",
      "\n",
      "    accuracy                           0.98      2400\n",
      "   macro avg       0.94      0.99      0.96      2400\n",
      "weighted avg       0.99      0.98      0.98      2400\n",
      "\n"
     ]
    }
   ],
   "source": [
    "print(classification_report(y_true = binary_true, y_pred = binary_pred))"
   ]
  },
  {
   "cell_type": "code",
   "execution_count": 52,
   "metadata": {},
   "outputs": [
    {
     "data": {
      "text/plain": [
       "Pipeline(steps=[('logisticregression',\n",
       "                 LogisticRegression(C=8.9460645691252, max_iter=10000, n_jobs=1,\n",
       "                                    random_state=0))])"
      ]
     },
     "execution_count": 52,
     "metadata": {},
     "output_type": "execute_result"
    }
   ],
   "source": [
    "random_cv_lr.best_estimator_"
   ]
  },
  {
   "cell_type": "code",
   "execution_count": 53,
   "metadata": {},
   "outputs": [
    {
     "data": {
      "text/plain": [
       "RandomizedSearchCV(cv=10, error_score=0,\n",
       "                   estimator=Pipeline(steps=[('logisticregression',\n",
       "                                              LogisticRegression(class_weight={0: 0.1,\n",
       "                                                                               1: 0.9},\n",
       "                                                                 max_iter=10000,\n",
       "                                                                 n_jobs=1,\n",
       "                                                                 random_state=0))]),\n",
       "                   n_jobs=2,\n",
       "                   param_distributions={'logisticregression__C': <scipy.stats._distn_infrastructure.rv_frozen object at 0x000001AB7A129FD0>,\n",
       "                                        'logisticregression__penalty': ['l2']},\n",
       "                   return_train_score=True, scoring='f1')"
      ]
     },
     "execution_count": 53,
     "metadata": {},
     "output_type": "execute_result"
    }
   ],
   "source": [
    "from sklearn.linear_model import LogisticRegression\n",
    "from scipy.stats import expon\n",
    "from sklearn.model_selection import RandomizedSearchCV\n",
    "from sklearn.pipeline import make_pipeline\n",
    "\n",
    "# suppose the class_weight are 0.1 for 0 (no PII)  and 0.9 for 1 (PII exist)\n",
    "\n",
    "pipe_lr_weights = make_pipeline(LogisticRegression(random_state=0 , max_iter=10000,n_jobs = 1,\n",
    "                                                  class_weight={0:.1, 1:.9}) )\n",
    "param_grid = {\n",
    "              'logisticregression__C':expon(scale = 2),\n",
    "              'logisticregression__penalty':['l2']\n",
    "}\n",
    "\n",
    "random_cv_lr_weights = RandomizedSearchCV(estimator= pipe_lr_weights, param_distributions = param_grid,\n",
    "                                  cv =10, error_score = 0,n_iter = 10 , scoring = 'f1',\n",
    "                                  return_train_score=True,n_jobs = 2 )\n",
    "                               \n",
    "\n",
    "\n",
    "random_cv_lr_weights.fit(pii_matrix, fake_pii['Target'])"
   ]
  },
  {
   "cell_type": "code",
   "execution_count": 54,
   "metadata": {},
   "outputs": [
    {
     "data": {
      "text/plain": [
       "Text(51.0, 0.5, 'True values')"
      ]
     },
     "execution_count": 54,
     "metadata": {},
     "output_type": "execute_result"
    },
    {
     "data": {
      "image/png": "[encoded data removed]",
      "text/plain": [
       "<Figure size 576x576 with 2 Axes>"
      ]
     },
     "metadata": {
      "needs_background": "light"
     },
     "output_type": "display_data"
    }
   ],
   "source": [
    "binary_pred = random_cv_lr_weights.predict(pii_matrix_test)\n",
    "binary_true = fake_pii_test[\"Target\"]\n",
    "\n",
    "from sklearn.metrics import confusion_matrix\n",
    "from sklearn.metrics import classification_report\n",
    "\n",
    "\n",
    "\n",
    "import seaborn as sns\n",
    "import matplotlib.pyplot as plt\n",
    "plt.figure(figsize= (8,8))\n",
    "sns.heatmap(confusion_matrix(y_true = binary_true, y_pred = binary_pred), annot = True,fmt=\"d\",cmap=\"YlGnBu\")\n",
    "plt.xlabel(\"Predicted values\")\n",
    "plt.ylabel(\"True values\")"
   ]
  },
  {
   "cell_type": "code",
   "execution_count": 55,
   "metadata": {},
   "outputs": [
    {
     "name": "stdout",
     "output_type": "stream",
     "text": [
      "              precision    recall  f1-score   support\n",
      "\n",
      "           0       0.94      1.00      0.97       300\n",
      "           1       1.00      0.99      1.00      2100\n",
      "\n",
      "    accuracy                           0.99      2400\n",
      "   macro avg       0.97      1.00      0.98      2400\n",
      "weighted avg       0.99      0.99      0.99      2400\n",
      "\n"
     ]
    }
   ],
   "source": [
    "print(classification_report(y_true = binary_true, y_pred = binary_pred))"
   ]
  },
  {
   "cell_type": "code",
   "execution_count": 56,
   "metadata": {
    "pycharm": {
     "name": "#%%\n"
    },
    "scrolled": true
   },
   "outputs": [
    {
     "data": {
      "text/plain": [
       "Pipeline(steps=[('logisticregression',\n",
       "                 LogisticRegression(C=3.338050757035225,\n",
       "                                    class_weight={0: 0.1, 1: 0.9},\n",
       "                                    max_iter=10000, n_jobs=1,\n",
       "                                    random_state=0))])"
      ]
     },
     "execution_count": 56,
     "metadata": {},
     "output_type": "execute_result"
    }
   ],
   "source": [
    "random_cv_lr_weights.best_estimator_"
   ]
  },
  {
   "cell_type": "code",
   "execution_count": 57,
   "metadata": {},
   "outputs": [
    {
     "data": {
      "text/plain": [
       "0.9829166666666667"
      ]
     },
     "execution_count": 57,
     "metadata": {},
     "output_type": "execute_result"
    }
   ],
   "source": [
    "\n",
    "from sklearn.neighbors import KNeighborsClassifier\n",
    "neigh = KNeighborsClassifier(n_neighbors=5)\n",
    "neigh.fit(pii_matrix, fake_pii[\"Target\"])\n",
    "neigh.score(pii_matrix_test, fake_pii_test[\"Target\"])"
   ]
  },
  {
   "cell_type": "code",
   "execution_count": 32,
   "metadata": {},
   "outputs": [
    {
     "data": {
      "text/plain": [
       "0       1\n",
       "1       0\n",
       "2       1\n",
       "3       1\n",
       "4       1\n",
       "       ..\n",
       "2395    1\n",
       "2396    1\n",
       "2397    1\n",
       "2398    1\n",
       "2399    1\n",
       "Name: Target, Length: 2400, dtype: int64"
      ]
     },
     "execution_count": 32,
     "metadata": {},
     "output_type": "execute_result"
    }
   ],
   "source": [
    "fake_pii_test[\"Target\"]"
   ]
  },
  {
   "cell_type": "code",
   "execution_count": 33,
   "metadata": {},
   "outputs": [
    {
     "data": {
      "text/plain": [
       "0       1\n",
       "1       1\n",
       "2       1\n",
       "3       1\n",
       "4       1\n",
       "       ..\n",
       "2395    1\n",
       "2396    1\n",
       "2397    1\n",
       "2398    1\n",
       "2399    1\n",
       "Name: Target, Length: 2400, dtype: int64"
      ]
     },
     "execution_count": 33,
     "metadata": {},
     "output_type": "execute_result"
    }
   ],
   "source": [
    "fake_pii[\"Target\"]"
   ]
  },
  {
   "cell_type": "code",
   "execution_count": null,
   "metadata": {},
   "outputs": [],
   "source": []
  },
  {
   "cell_type": "code",
   "execution_count": null,
   "metadata": {},
   "outputs": [],
   "source": []
  }
 ],
 "metadata": {
  "kernelspec": {
   "display_name": "Python 3",
   "language": "python",
   "name": "python3"
  },
  "language_info": {
   "codemirror_mode": {
    "name": "ipython",
    "version": 3
   },
   "file_extension": ".py",
   "mimetype": "text/x-python",
   "name": "python",
   "nbconvert_exporter": "python",
   "pygments_lexer": "ipython3",
   "version": "3.8.5"
  }
 },
 "nbformat": 4,
 "nbformat_minor": 2
}
