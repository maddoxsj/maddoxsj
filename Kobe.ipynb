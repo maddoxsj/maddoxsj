{
 "cells": [
  {
   "cell_type": "markdown",
   "metadata": {},
   "source": [
    "## Using twitterscraper api, you can scrape tweets into a .json file directly from the commandline.\n",
    "twitterscraper Kobe --limit 1000 -bd 2020-01-27 --lang en --output=kobenextday.json"
   ]
  },
  {
   "cell_type": "code",
   "execution_count": 1,
   "metadata": {},
   "outputs": [
    {
     "name": "stdout",
     "output_type": "stream",
     "text": [
      "0     First NBA game I went to.. Kobe.. and he dropp...\n",
      "1     Kobe Bryant  #BlackMamba\\n\\nGianna Bryant \\n\\n...\n",
      "2     Watch @CBCNews's broadcast: Kobe Bryant killed...\n",
      "3     People really in Lebron ig comments saying he ...\n",
      "4     I totally Agree Mr President. What a huge loss...\n",
      "5                @dotNoso predicted Kobe Bryant’s death\n",
      "6     RIP KOBE BRYANT MY IDOL DIED.  https://twitter...\n",
      "7     Goodbye Kobe. Rest in Peace. pic.twitter.com/U...\n",
      "8                     I knew basketball because of Kobe\n",
      "9     I grew up on Kobe , my first Alexandra fair .....\n",
      "10    Heroes come and go but legends are forever. Th...\n",
      "11                                    Kobe from the 90s\n",
      "12                                   rest in peace kobe\n",
      "13          This so sad about Kobe Bryant  and daughter\n",
      "14    Every time they show the NBA reactions I just ...\n",
      "15    GOD have Mercy!!!!\\n\\nRIP kobe Bryant,  Gianna...\n",
      "16     Shocked!! RIP Kobe!! #nba #legend #BlackMambaRIP\n",
      "17                       R.I.P. Kobe and His Daughter. \n",
      "18    Words can’t describe this tragic situation. RI...\n",
      "19    First NBA game I went to.. Kobe.. and he dropp...\n",
      "20    Kobe Bryant  #BlackMamba\\n\\nGianna Bryant \\n\\n...\n",
      "21    Watch @CBCNews's broadcast: Kobe Bryant killed...\n",
      "22    People really in Lebron ig comments saying he ...\n",
      "23    I totally Agree Mr President. What a huge loss...\n",
      "24               @dotNoso predicted Kobe Bryant’s death\n",
      "Name: text, dtype: object\n",
      "First NBA game I went to.. Kobe.. and he dropped 58. \n",
      "Kobe is a hero basketball NBA shocking \n"
     ]
    },
    {
     "name": "stderr",
     "output_type": "stream",
     "text": [
      "/Library/Frameworks/Python.framework/Versions/3.7/lib/python3.7/site-packages/ipykernel_launcher.py:21: SettingWithCopyWarning: \n",
      "A value is trying to be set on a copy of a slice from a DataFrame\n",
      "\n",
      "See the caveats in the documentation: http://pandas.pydata.org/pandas-docs/stable/user_guide/indexing.html#returning-a-view-versus-a-copy\n"
     ]
    },
    {
     "data": {
      "text/plain": [
       "0               Kobe is a hero basketball NBA shocking \n",
       "1     Kobe Bryant  #BlackMamba\\n\\nGianna Bryant \\n\\n...\n",
       "2     Watch @CBCNews's broadcast: Kobe Bryant killed...\n",
       "3     People really in Lebron ig comments saying he ...\n",
       "4     I totally Agree Mr President. What a huge loss...\n",
       "5                @dotNoso predicted Kobe Bryant’s death\n",
       "6     RIP KOBE BRYANT MY IDOL DIED.  https://twitter...\n",
       "7     Goodbye Kobe. Rest in Peace. pic.twitter.com/U...\n",
       "8                     I knew basketball because of Kobe\n",
       "9     I grew up on Kobe , my first Alexandra fair .....\n",
       "10    Heroes come and go but legends are forever. Th...\n",
       "11                                    Kobe from the 90s\n",
       "12                                   rest in peace kobe\n",
       "13          This so sad about Kobe Bryant  and daughter\n",
       "14    Every time they show the NBA reactions I just ...\n",
       "15    GOD have Mercy!!!!\\n\\nRIP kobe Bryant,  Gianna...\n",
       "16     Shocked!! RIP Kobe!! #nba #legend #BlackMambaRIP\n",
       "17                       R.I.P. Kobe and His Daughter. \n",
       "18    Words can’t describe this tragic situation. RI...\n",
       "19    First NBA game I went to.. Kobe.. and he dropp...\n",
       "38    Amen to that.   RIP Kobe Bryant. https://twitt...\n",
       "39    \"Kobe Bryant, daughter and seven others killed...\n",
       "40    Sleep in peace, Kobe  A better world outside t...\n",
       "41    Rest Up !! 24 4L Sending my deepest condolence...\n",
       "42    Amen!! Kobe is synonymous with the Staples Cen...\n",
       "Name: text, dtype: object"
      ]
     },
     "execution_count": 1,
     "metadata": {},
     "output_type": "execute_result"
    }
   ],
   "source": [
    "from __future__ import print_function\n",
    "from sklearn.decomposition import TruncatedSVD\n",
    "from sklearn.feature_extraction.text import TfidfVectorizer\n",
    "from sklearn.preprocessing import Normalizer\n",
    "from sklearn import metrics\n",
    "from sklearn.cluster import KMeans, MiniBatchKMeans\n",
    "import codecs, json\n",
    "import sklearn\n",
    "# Import all of the scikit learn stuff\n",
    "\n",
    "import pandas as pd\n",
    "import warnings\n",
    "with codecs.open('kobe2.json','r','utf-8') as f:\n",
    "    tweets = json.load(f, encoding = 'utf-8')   #loads file\n",
    "import pandas as pd\n",
    "df = pd.read_json('kobe2.json', encoding='utf-8') #creates the full dataframe using pandas\n",
    "#print(df.head())  #debugging\n",
    "d = df['text']  #creates a new dataframe with just the tweet contents\n",
    "print(d.head(25))\n",
    "print(d[0])\n",
    "d[0] = 'Kobe is a hero basketball NBA shocking '\n",
    "print(d[0])\n",
    "d=d.drop_duplicates(keep='first', inplace=False)  #drop duplicates\n",
    "d.head(25)\n",
    "           \n",
    "#dlikes = df['likes']  #creates a data frame with int number of likes per tweet\n",
    "#d.to_csv(r'c:\\data\\pandas.txt', header=None, index=None, sep=' ', mode='a')  #exports tweets to a .txt\n"
   ]
  },
  {
   "cell_type": "code",
   "execution_count": 2,
   "metadata": {},
   "outputs": [
    {
     "name": "stdout",
     "output_type": "stream",
     "text": [
      "0     Wow they’re giving out a free Kobe jersey to e...\n",
      "1     next Tuesday, February 4 is senior Knight for ...\n",
      "2     Good luck with that. The wounds are still too ...\n",
      "3     24 shots in 8 minutes for kobe tonight? say less.\n",
      "4     January was a tough year but we are almost don...\n",
      "5          still not real...\\nRIP KOBE , GIGI , NIPSEY \n",
      "6     A few years ago I told myself that I would tat...\n",
      "7     Love that he remembers the exact score ... Hah...\n",
      "8     I know. I've been loading up on reaction memes...\n",
      "9     @Tigerfists88 #PeoplesChamp.!! Obama #p2 Biden...\n",
      "10    Nothing but 3, 4, and 5XL’s left in Kobe jerse...\n",
      "11    The way people respect Kobe off the strength o...\n",
      "12    I’m not dwelling on no sad shit....even Kobe!!...\n",
      "13    You think this funny??https://twitter.com/azaz...\n",
      "14                                         Why Kobe man\n",
      "15    8 henny shots in 24 seconds in honor of Kobe t...\n",
      "16    My thoughts on Kobe https://twitter.com/ringer...\n",
      "17    Had me messed up yesterday. Smh. Todavía no lo...\n",
      "36    if you got a problem wit me it’s fuck you idc ...\n",
      "37                                                sorry\n",
      "38                                                Right\n",
      "39    ugh! Why you on Twitter? You and Kobe at the s...\n",
      "40    On the real though, has anyone checked on Mr. ...\n",
      "41    1 time for the 1 time. \\nKOBE BRYANT'S ASSASSI...\n",
      "42    $KieferCall1 @robertsrylee @CarlosAispuro19 @d...\n",
      "Name: text, dtype: object\n"
     ]
    }
   ],
   "source": [
    "with codecs.open('kobenextday.json','r','utf-8') as f:\n",
    "    tweets = json.load(f, encoding = 'utf-8')   #loads new file\n",
    "import pandas as pd\n",
    "dfnew = pd.read_json('kobenextday.json', encoding='utf-8')\n",
    "dnew = dfnew['text']\n",
    "dnew=dnew.drop_duplicates(keep='first', inplace=False)\n",
    "print(dnew.head(25))\n",
    "dnewindex=dnew[0:1023]\n"
   ]
  },
  {
   "cell_type": "code",
   "execution_count": 3,
   "metadata": {},
   "outputs": [
    {
     "name": "stdout",
     "output_type": "stream",
     "text": [
      "0     At the vet. Kobe (cat) fell out 3rd story wind...\n",
      "2     Watching Kobe Braynt on Jimmy Kimmel, channel ...\n",
      "3     Kobe Bryant likes is a Harry Potter fan? I can...\n",
      "4     Busy, tired morning. Finally getting around to...\n",
      "5     completely stuffed after a massive kobe beef l...\n",
      "6     Going to lunch at Kobe Japanese Steak House to...\n",
      "7                            @jag Kobe and lobster.  :)\n",
      "8     @rjchrhl So where does one order $100 steak? K...\n",
      "9     got a haircut & the Zoom Kobe II's...Laker Col...\n",
      "10                     Just finished eating Kobe with D\n",
      "11    Following @VTWthrGrl's lead and having dinner ...\n",
      "12                   About to enjoy some fabulous Kobe!\n",
      "13    Kevin Garnet: \"I didn’t really consider LA bec...\n",
      "14    I`msorry to late reply.anyway,just I tell ya w...\n",
      "15    @ramil well I would like to try Kobe and Wagyu...\n",
      "16             @ Kobe Steakhouse getting a late dinner.\n",
      "17          Lunch at Kobe, then a trip up to Bluefield.\n",
      "18    Yahoo! News - everyday the newspaper - < prote...\n",
      "21    Todd is diappointed about lucias closing. I'm ...\n",
      "42    Simpsons movie was really funny. We're glad we...\n",
      "43    After trying Kobe beef today I would have to s...\n",
      "44                             Proficiat Kobe & ouders!\n",
      "45    @loaded : remember i bought that purple vinyl ...\n",
      "46    Google news :: AROUND JAPAN/KOBE: Hip hop give...\n",
      "47    Doing another photowalk with the new lens: Thi...\n",
      "Name: text, dtype: object\n"
     ]
    }
   ],
   "source": [
    "with codecs.open('kobepresent.json','r','utf-8') as f:\n",
    "    tweets = json.load(f, encoding = 'utf-8')   #loads new file\n",
    "import pandas as pd\n",
    "dfpresent = pd.read_json('kobepresent.json', encoding='utf-8')\n",
    "dpresent = dfpresent['text']\n",
    "dpresent=dpresent.drop_duplicates(keep='first', inplace=False)\n",
    "print(dpresent.head(25))\n",
    "\n"
   ]
  },
  {
   "cell_type": "markdown",
   "metadata": {},
   "source": [
    "## We can create a new dataframe with tweets containing certain phrases"
   ]
  },
  {
   "cell_type": "code",
   "execution_count": 4,
   "metadata": {},
   "outputs": [
    {
     "data": {
      "text/plain": [
       "572                     Convicted rapist Kobe Bryant lol\n",
       "853                                   Was Kobe a rapist?\n",
       "992    That seems like it’s between you and your ther...\n",
       "Name: text, dtype: object"
      ]
     },
     "execution_count": 4,
     "metadata": {},
     "output_type": "execute_result"
    }
   ],
   "source": [
    "#searches for tweets instances with desired string and creates new dataframe\n",
    "data_filtered = d[d.str.contains('rapist')]\n",
    "data_filtered.head()\n",
    "\n"
   ]
  },
  {
   "cell_type": "code",
   "execution_count": 5,
   "metadata": {},
   "outputs": [
    {
     "data": {
      "text/plain": [
       "49      He wasn’t a rapist and it was never approved. ...\n",
       "203     Why is it that you can say stuff like this but...\n",
       "517                      Convicted rapist Kobe Bryant lol\n",
       "647     He's a rapist based on what? Because he settle...\n",
       "1107    Wouldn't you want the child molester or rapist...\n",
       "Name: text, dtype: object"
      ]
     },
     "execution_count": 5,
     "metadata": {},
     "output_type": "execute_result"
    }
   ],
   "source": [
    "data_filtered_new = dnew[dnew.str.contains('rapist')]\n",
    "data_filtered_new.head()"
   ]
  },
  {
   "cell_type": "code",
   "execution_count": 6,
   "metadata": {},
   "outputs": [
    {
     "data": {
      "text/plain": [
       "408    @NEEKlovePINK ...See u start every year ain't ...\n",
       "Name: text, dtype: object"
      ]
     },
     "execution_count": 6,
     "metadata": {},
     "output_type": "execute_result"
    }
   ],
   "source": [
    "data_filtered_present = dpresent[dpresent.str.contains('rapist')]\n",
    "data_filtered_present.head()"
   ]
  },
  {
   "cell_type": "code",
   "execution_count": 7,
   "metadata": {},
   "outputs": [
    {
     "data": {
      "text/plain": [
       "[('the', 789),\n",
       " ('Kobe', 718),\n",
       " ('to', 497),\n",
       " ('and', 457),\n",
       " ('a', 352),\n",
       " ('of', 343),\n",
       " ('I', 312),\n",
       " ('in', 271),\n",
       " ('Bryant', 200),\n",
       " ('for', 198),\n",
       " ('that', 187),\n",
       " ('is', 183),\n",
       " ('…', 182),\n",
       " ('was', 176),\n",
       " ('you', 156),\n",
       " ('on', 152),\n",
       " ('his', 140),\n",
       " ('my', 134),\n",
       " ('be', 120),\n",
       " ('this', 107),\n",
       " ('with', 101),\n",
       " ('it', 100),\n",
       " ('about', 95),\n",
       " ('NBA', 91),\n",
       " ('he', 90)]"
      ]
     },
     "execution_count": 7,
     "metadata": {},
     "output_type": "execute_result"
    }
   ],
   "source": [
    "from collections import Counter\n",
    "Counter(\" \".join(df[\"text\"]).split()).most_common(25) #most common words without stop words removal"
   ]
  },
  {
   "cell_type": "code",
   "execution_count": null,
   "metadata": {},
   "outputs": [],
   "source": []
  },
  {
   "cell_type": "markdown",
   "metadata": {},
   "source": [
    "## Count Vectorizer is a handy tool from the ski kit learn package to quickly vectorize text data"
   ]
  },
  {
   "cell_type": "code",
   "execution_count": 8,
   "metadata": {},
   "outputs": [
    {
     "name": "stdout",
     "output_type": "stream",
     "text": [
      "200\n",
      "\n",
      "\n",
      "(980, 200)\n",
      "\n",
      "\n",
      "[0 0 0 0 0 0 0 0 0 0 0 0 0 0 1 0 0 0 0 0 0 0 0 0 0 0 0 0 0 0 0 0 0 0 0 0 0\n",
      " 0 0 0 0 0 0 0 0 0 0 0 0 0 0 0 0 0 0 0 0 0 0 0 0 0 0 0 0 0 0 0 0 0 0 0 0 0\n",
      " 0 0 0 0 0 0 0 0 0 0 0 0 0 0 0 0 0 0 0 0 0 0 0 0 0 0 0 0 0 0 0 0 0 0 0 0 0\n",
      " 0 0 0 0 0 0 0 0 0 0 0 0 0 0 0 0 0 0 0 0 1 0 0 0 0 0 0 0 0 0 0 0 0 0 0 0 0\n",
      " 1 0 0 0 0 0 0 0 0 0 0 0 0 0 0 0 0 0 0 0 0 0 0 0 0 0 0 0 0 0 0 0 0 0 0 0 0\n",
      " 0 0 0 0 0 0 0 0 0 0 0 0 0 0 0]\n",
      "\n",
      "\n",
      "['2020', '24', 'after', 'always', 'around', 'away', 'back', 'basketball', 'beautiful', 'been', 'before', 'being', 'believe', 'better', 'bryant', 'can', 'change', 'chng', 'condolences', 'court']\n",
      "\n",
      "\n",
      "\n",
      "\n",
      "['01', '2020', '24', 'after', 'again', 'ain', 'anything', 'around', 'ass', 'back', 'bad', 'basketball', 'been', 'before', 'being', 'believe', 'best', 'better', 'black', 'bro', 'bryant', 'bryants', 'can', 'change', 'chng', 'crash', 'damn', 'daughter', 'day', 'death']\n",
      "\n",
      "\n",
      "['10', '100', '11', '18', 'after', 'again', 'ass', 'aston', 'back', 'ball', 'basketball', 'beef', 'been', 'best', 'better', 'bit', 'bitch', 'broke', 'bron', 'bryant', 'came', 'can', 'check', 'co', 'comments', 'contest', 'damn', 'day', 'did', 'didn']\n"
     ]
    }
   ],
   "source": [
    "\n",
    "import numpy as np\n",
    "import sys\n",
    "from sklearn.feature_extraction.text import CountVectorizer, TfidfVectorizer\n",
    "# we set up our CountVectorizers arguments\n",
    "\n",
    "# setup stop work list (to remove from docs)\n",
    "stop_words = ['and','the','to','do','if', 'is','www','instagram','com','it','http', 'in','https','twitter','am','as','an','the','beause','he','a','of','i','who', 'to','one','at','will','from','sign','for','that','is','was','you','because','on','are','his','by','but','also','are''my','be','like','not','up','have','all','so','throbbing','just','about']\n",
    "# setup n_gram ranges\n",
    "ngram_range = (1, 1)\n",
    "# drop words that show up 70% or more of the time\n",
    "max_df = .7\n",
    "# drop words that only show up less than 1% of the time\n",
    "min_df = .001\n",
    "max_features = 200\n",
    "# initiates the count vectorizer\n",
    "c = CountVectorizer(stop_words=stop_words, ngram_range=ngram_range, max_df=max_df, min_df=min_df, \n",
    "                    max_features=max_features, binary=True)\n",
    "c1 = CountVectorizer(stop_words=stop_words, ngram_range=ngram_range, max_df=max_df, min_df=min_df, \n",
    "                    max_features=max_features, binary=True)\n",
    "c2 = CountVectorizer(stop_words=stop_words, ngram_range=ngram_range, max_df=max_df, min_df=min_df, \n",
    "                    max_features=max_features, binary=True)\n",
    "#discrete model if True\n",
    "features = c.fit_transform(d)    #original set\n",
    "features = features.toarray()\n",
    "feature_names = c.get_feature_names()  \n",
    "featuresnew = c1.fit_transform(dnew)\n",
    "featuresnew = featuresnew.toarray()  #2 days after set\n",
    "feature_names_new = c1.get_feature_names()\n",
    "featurespresent = c2.fit_transform(dpresent)    #present set\n",
    "featurespresent = featurespresent.toarray()\n",
    "feature_names_present = c2.get_feature_names()\n",
    "print(len(feature_names)) #number of words counted\n",
    "print('\\n')\n",
    "print(features.shape) #size of matrix\n",
    "print('\\n')\n",
    "print(features[20]) #example of matrix subsection\n",
    "print('\\n')\n",
    "print(feature_names[0:20]) #You can index the words to view subsets\n",
    "print('\\n')\n",
    "#print(feature_names) #every words in the matrix\n",
    "print('\\n')\n",
    "print(feature_names_new[0:30])\n",
    "print('\\n')\n",
    "print(feature_names_present[0:30])\n",
    "np.set_printoptions(threshold=sys.maxsize) #view entire matrix\n",
    "#print(features)"
   ]
  },
  {
   "cell_type": "markdown",
   "metadata": {},
   "source": [
    "## Using our generated matrix, we can easily perform an exploratory analysis "
   ]
  },
  {
   "cell_type": "code",
   "execution_count": 9,
   "metadata": {},
   "outputs": [
    {
     "data": {
      "image/png": "[encoded data removed]",
      "text/plain": [
       "<Figure size 1440x720 with 1 Axes>"
      ]
     },
     "metadata": {
      "needs_background": "light"
     },
     "output_type": "display_data"
    }
   ],
   "source": [
    "# Generate a word cloud based on frequency\n",
    "%matplotlib inline\n",
    "import os\n",
    "from wordcloud import WordCloud\n",
    "import matplotlib.pyplot as plt\n",
    "\n",
    "word_string = d[100]\n",
    "wordcloud = WordCloud(width=800, height=400).generate(word_string)\n",
    "plt.figure( figsize=(20,10) )\n",
    "plt.imshow(wordcloud)\n",
    "plt.axis('off')\n",
    "plt.tight_layout(pad=0)\n",
    "plt.show()"
   ]
  },
  {
   "cell_type": "code",
   "execution_count": null,
   "metadata": {},
   "outputs": [],
   "source": []
  },
  {
   "cell_type": "code",
   "execution_count": 10,
   "metadata": {},
   "outputs": [
    {
     "data": {
      "text/html": [
       "        <script type=\"text/javascript\">\n",
       "        window.PlotlyConfig = {MathJaxConfig: 'local'};\n",
       "        if (window.MathJax) {MathJax.Hub.Config({SVG: {font: \"STIX-Web\"}});}\n",
       "        if (typeof require !== 'undefined') {\n",
       "        require.undef(\"plotly\");\n",
       "        requirejs.config({\n",
       "            paths: {\n",
       "                'plotly': ['https://cdn.plot.ly/plotly-latest.min']\n",
       "            }\n",
       "        });\n",
       "        require(['plotly'], function(Plotly) {\n",
       "            window._Plotly = Plotly;\n",
       "        });\n",
       "        }\n",
       "        </script>\n",
       "        "
      ]
     },
     "metadata": {},
     "output_type": "display_data"
    },
    {
     "data": {
      "application/vnd.plotly.v1+json": {
       "config": {
        "linkText": "Export to plot.ly",
        "plotlyServerURL": "https://plot.ly",
        "showLink": true
       },
       "data": [
        {
         "histfunc": "count",
         "histnorm": "",
         "marker": {
          "color": "rgba(255, 153, 51, 1.0)",
          "line": {
           "color": "#000000",
           "width": 1.3
          }
         },
         "name": "likes",
         "nbinsx": 1000,
         "opacity": 0.8,
         "orientation": "v",
         "type": "histogram",
         "x": [
          2,
          0,
          0,
          1,
          1,
          0,
          1,
          1,
          0,
          0,
          0,
          0,
          0,
          0,
          6,
          0,
          0,
          0,
          26,
          2,
          0,
          0,
          1,
          1,
          0,
          1,
          1,
          0,
          0,
          0,
          0,
          0,
          0,
          6,
          0,
          0,
          0,
          26,
          0,
          0,
          2,
          1,
          4,
          1,
          6,
          24,
          1,
          1,
          5,
          1,
          0,
          0,
          0,
          0,
          11,
          0,
          0,
          1,
          0,
          0,
          265,
          0,
          0,
          0,
          0,
          0,
          1,
          0,
          16,
          1,
          1,
          73,
          0,
          0,
          0,
          1,
          0,
          475,
          10,
          0,
          4,
          0,
          12,
          0,
          4,
          0,
          5,
          5,
          12,
          0,
          1,
          0,
          14,
          0,
          4,
          87,
          4,
          2,
          0,
          5,
          1,
          0,
          0,
          0,
          9,
          10,
          1,
          0,
          1,
          0,
          0,
          0,
          2,
          9,
          1,
          1,
          5,
          1,
          0,
          1,
          0,
          5,
          0,
          12,
          0,
          4,
          0,
          0,
          0,
          1,
          0,
          5,
          0,
          0,
          0,
          0,
          0,
          0,
          3,
          2,
          7,
          3,
          4,
          0,
          0,
          0,
          3,
          4,
          0,
          0,
          0,
          1,
          0,
          1,
          0,
          1,
          0,
          2,
          2,
          1,
          0,
          0,
          6,
          0,
          0,
          1,
          0,
          0,
          5,
          0,
          9,
          0,
          0,
          3,
          0,
          13,
          0,
          1,
          0,
          2,
          1,
          0,
          0,
          0,
          1,
          3,
          1,
          5,
          10,
          1,
          0,
          0,
          0,
          0,
          0,
          3,
          183,
          0,
          0,
          5,
          5,
          1,
          5,
          0,
          0,
          4,
          3,
          1,
          0,
          0,
          0,
          0,
          7,
          1,
          0,
          0,
          0,
          1,
          0,
          15,
          0,
          0,
          3,
          2,
          1,
          0,
          9,
          0,
          0,
          2,
          1,
          0,
          0,
          13,
          2,
          1,
          1,
          2,
          1,
          2,
          1,
          1,
          8,
          2,
          8,
          18,
          0,
          0,
          6,
          1,
          0,
          2,
          11,
          1,
          0,
          3,
          12,
          0,
          0,
          0,
          17,
          2,
          1,
          0,
          0,
          1,
          1,
          0,
          1,
          4,
          0,
          0,
          0,
          0,
          0,
          2,
          0,
          0,
          1,
          0,
          1,
          1,
          0,
          10,
          0,
          1,
          3,
          0,
          0,
          0,
          1,
          0,
          4,
          1,
          4,
          4,
          9,
          0,
          3,
          0,
          0,
          1,
          0,
          0,
          2,
          0,
          2,
          0,
          1,
          23,
          4,
          0,
          1,
          54,
          1,
          3,
          26,
          29,
          0,
          2,
          0,
          16,
          0,
          0,
          2,
          3,
          0,
          2,
          16,
          1,
          22,
          1,
          0,
          1,
          2,
          1,
          1,
          2,
          2,
          5,
          2,
          3,
          0,
          1,
          18,
          3,
          0,
          0,
          2,
          0,
          0,
          0,
          7,
          5,
          0,
          0,
          0,
          7,
          0,
          1,
          16,
          10,
          0,
          45,
          0,
          1,
          10,
          2,
          4,
          1,
          0,
          10,
          9,
          1,
          1,
          0,
          2,
          0,
          0,
          5,
          0,
          4,
          0,
          6,
          0,
          0,
          0,
          15,
          0,
          449,
          1,
          0,
          1,
          3,
          2,
          0,
          2,
          1,
          20,
          14,
          0,
          0,
          4,
          1,
          0,
          0,
          1,
          0,
          0,
          0,
          8,
          1,
          2,
          1,
          8,
          4,
          3,
          3,
          1,
          10,
          0,
          8,
          0,
          0,
          12,
          547,
          4,
          2,
          5,
          3,
          0,
          0,
          13,
          2,
          0,
          8,
          0,
          4,
          5,
          0,
          0,
          1,
          71,
          23,
          0,
          1,
          0,
          0,
          0,
          0,
          0,
          10,
          1,
          0,
          1,
          1,
          0,
          2,
          0,
          0,
          9,
          1,
          1,
          15,
          1,
          0,
          0,
          13,
          0,
          0,
          0,
          3,
          3,
          19,
          7,
          4,
          2,
          0,
          0,
          0,
          0,
          3,
          0,
          0,
          1,
          2,
          0,
          0,
          0,
          3,
          1,
          0,
          40,
          4,
          1,
          2,
          0,
          8,
          1,
          0,
          1,
          17,
          6,
          11,
          0,
          26,
          0,
          0,
          26,
          0,
          4,
          9,
          5,
          0,
          1,
          0,
          3,
          0,
          14,
          0,
          0,
          1,
          2,
          10,
          0,
          26,
          0,
          0,
          26,
          0,
          4,
          9,
          5,
          0,
          1,
          0,
          3,
          0,
          14,
          0,
          0,
          1,
          2,
          10,
          0,
          1,
          66,
          1,
          1,
          2,
          0,
          2,
          0,
          1,
          0,
          5,
          7,
          6,
          0,
          5,
          0,
          0,
          0,
          4,
          0,
          0,
          0,
          0,
          1,
          0,
          2,
          1,
          0,
          1,
          0,
          0,
          0,
          1,
          5,
          0,
          3,
          0,
          0,
          1,
          1,
          0,
          0,
          0,
          0,
          0,
          1,
          0,
          0,
          2,
          0,
          0,
          0,
          0,
          0,
          0,
          3,
          0,
          0,
          2,
          0,
          0,
          1,
          4,
          0,
          17,
          0,
          0,
          5,
          1,
          79,
          0,
          0,
          0,
          1,
          4,
          0,
          0,
          1,
          1,
          0,
          0,
          1,
          1,
          0,
          1,
          3,
          0,
          3,
          0,
          0,
          2,
          1,
          5,
          1,
          0,
          1,
          125,
          0,
          1,
          2,
          0,
          0,
          0,
          1,
          0,
          0,
          1,
          0,
          1,
          0,
          0,
          0,
          0,
          1,
          0,
          0,
          1,
          6,
          14,
          4,
          0,
          1,
          0,
          82,
          0,
          7,
          77,
          0,
          0,
          13,
          0,
          1,
          0,
          1,
          0,
          0,
          1,
          1,
          2,
          0,
          0,
          0,
          1,
          0,
          0,
          1,
          4,
          0,
          0,
          23,
          0,
          4,
          0,
          0,
          0,
          0,
          7,
          1,
          1,
          1,
          1,
          0,
          1,
          8,
          0,
          3,
          0,
          2,
          1,
          0,
          0,
          0,
          0,
          0,
          0,
          0,
          0,
          2,
          0,
          0,
          0,
          0,
          0,
          5,
          10,
          2,
          1,
          1,
          1,
          42,
          0,
          1,
          3,
          0,
          0,
          0,
          0,
          0,
          0,
          0,
          6,
          0,
          2,
          0,
          0,
          3,
          0,
          0,
          0,
          0,
          0,
          3,
          0,
          0,
          1,
          1,
          39,
          0,
          8,
          1,
          8,
          0,
          0,
          17,
          1,
          0,
          0,
          3,
          1,
          0,
          0,
          5,
          2,
          0,
          1,
          1,
          0,
          2,
          3,
          2,
          0,
          0,
          2,
          21,
          5,
          0,
          1,
          21,
          0,
          1,
          0,
          1,
          11,
          0,
          0,
          0,
          1,
          1,
          1,
          20,
          137,
          0,
          0,
          0,
          8,
          12,
          1,
          3,
          1,
          21,
          0,
          0,
          8,
          0,
          4,
          8,
          29,
          2,
          0,
          0,
          0,
          0,
          2,
          0,
          1,
          74,
          5,
          0,
          0,
          0,
          7,
          0,
          0,
          0,
          22,
          0,
          1,
          12,
          0,
          0,
          1,
          10,
          0,
          9,
          0,
          0,
          2,
          6,
          0,
          0,
          14,
          1,
          0,
          0,
          0,
          1,
          0,
          0,
          0,
          0,
          0,
          0,
          0,
          1,
          2,
          2,
          0,
          1,
          0,
          2,
          0,
          0,
          0,
          0,
          1,
          0,
          2,
          49,
          0,
          1,
          13,
          0,
          1,
          0,
          0,
          0,
          0,
          1,
          0,
          1,
          5,
          0,
          0,
          15,
          2,
          1,
          5,
          0,
          68,
          1,
          1,
          9,
          0,
          1,
          2,
          15,
          0,
          0,
          0,
          0,
          0,
          0,
          1,
          10,
          0,
          0,
          0,
          1,
          2,
          1,
          0,
          2,
          0,
          9,
          0,
          1,
          1,
          0,
          0,
          2,
          0,
          7,
          49,
          2,
          1,
          13,
          0,
          0,
          6,
          0,
          0,
          29,
          0,
          2,
          4,
          0,
          3,
          0,
          1,
          0,
          3,
          0,
          1,
          4,
          0,
          0,
          0,
          1,
          0,
          0,
          3,
          0,
          0,
          27,
          3,
          1,
          0,
          437,
          0,
          1,
          0,
          30,
          3,
          0,
          0,
          0,
          1,
          1,
          0,
          0,
          1,
          1,
          0,
          11,
          0,
          0,
          6,
          0,
          0,
          0,
          0,
          0,
          3,
          0,
          0,
          0,
          1,
          0,
          4,
          0,
          0,
          0,
          0,
          0,
          1,
          1,
          0,
          0,
          2,
          2,
          1,
          1,
          0,
          6,
          5,
          0,
          1,
          0
         ]
        }
       ],
       "layout": {
        "barmode": "overlay",
        "template": {
         "data": {
          "bar": [
           {
            "error_x": {
             "color": "#2a3f5f"
            },
            "error_y": {
             "color": "#2a3f5f"
            },
            "marker": {
             "line": {
              "color": "#E5ECF6",
              "width": 0.5
             }
            },
            "type": "bar"
           }
          ],
          "barpolar": [
           {
            "marker": {
             "line": {
              "color": "#E5ECF6",
              "width": 0.5
             }
            },
            "type": "barpolar"
           }
          ],
          "carpet": [
           {
            "aaxis": {
             "endlinecolor": "#2a3f5f",
             "gridcolor": "white",
             "linecolor": "white",
             "minorgridcolor": "white",
             "startlinecolor": "#2a3f5f"
            },
            "baxis": {
             "endlinecolor": "#2a3f5f",
             "gridcolor": "white",
             "linecolor": "white",
             "minorgridcolor": "white",
             "startlinecolor": "#2a3f5f"
            },
            "type": "carpet"
           }
          ],
          "choropleth": [
           {
            "colorbar": {
             "outlinewidth": 0,
             "ticks": ""
            },
            "type": "choropleth"
           }
          ],
          "contour": [
           {
            "colorbar": {
             "outlinewidth": 0,
             "ticks": ""
            },
            "colorscale": [
             [
              0,
              "#0d0887"
             ],
             [
              0.1111111111111111,
              "#46039f"
             ],
             [
              0.2222222222222222,
              "#7201a8"
             ],
             [
              0.3333333333333333,
              "#9c179e"
             ],
             [
              0.4444444444444444,
              "#bd3786"
             ],
             [
              0.5555555555555556,
              "#d8576b"
             ],
             [
              0.6666666666666666,
              "#ed7953"
             ],
             [
              0.7777777777777778,
              "#fb9f3a"
             ],
             [
              0.8888888888888888,
              "#fdca26"
             ],
             [
              1,
              "#f0f921"
             ]
            ],
            "type": "contour"
           }
          ],
          "contourcarpet": [
           {
            "colorbar": {
             "outlinewidth": 0,
             "ticks": ""
            },
            "type": "contourcarpet"
           }
          ],
          "heatmap": [
           {
            "colorbar": {
             "outlinewidth": 0,
             "ticks": ""
            },
            "colorscale": [
             [
              0,
              "#0d0887"
             ],
             [
              0.1111111111111111,
              "#46039f"
             ],
             [
              0.2222222222222222,
              "#7201a8"
             ],
             [
              0.3333333333333333,
              "#9c179e"
             ],
             [
              0.4444444444444444,
              "#bd3786"
             ],
             [
              0.5555555555555556,
              "#d8576b"
             ],
             [
              0.6666666666666666,
              "#ed7953"
             ],
             [
              0.7777777777777778,
              "#fb9f3a"
             ],
             [
              0.8888888888888888,
              "#fdca26"
             ],
             [
              1,
              "#f0f921"
             ]
            ],
            "type": "heatmap"
           }
          ],
          "heatmapgl": [
           {
            "colorbar": {
             "outlinewidth": 0,
             "ticks": ""
            },
            "colorscale": [
             [
              0,
              "#0d0887"
             ],
             [
              0.1111111111111111,
              "#46039f"
             ],
             [
              0.2222222222222222,
              "#7201a8"
             ],
             [
              0.3333333333333333,
              "#9c179e"
             ],
             [
              0.4444444444444444,
              "#bd3786"
             ],
             [
              0.5555555555555556,
              "#d8576b"
             ],
             [
              0.6666666666666666,
              "#ed7953"
             ],
             [
              0.7777777777777778,
              "#fb9f3a"
             ],
             [
              0.8888888888888888,
              "#fdca26"
             ],
             [
              1,
              "#f0f921"
             ]
            ],
            "type": "heatmapgl"
           }
          ],
          "histogram": [
           {
            "marker": {
             "colorbar": {
              "outlinewidth": 0,
              "ticks": ""
             }
            },
            "type": "histogram"
           }
          ],
          "histogram2d": [
           {
            "colorbar": {
             "outlinewidth": 0,
             "ticks": ""
            },
            "colorscale": [
             [
              0,
              "#0d0887"
             ],
             [
              0.1111111111111111,
              "#46039f"
             ],
             [
              0.2222222222222222,
              "#7201a8"
             ],
             [
              0.3333333333333333,
              "#9c179e"
             ],
             [
              0.4444444444444444,
              "#bd3786"
             ],
             [
              0.5555555555555556,
              "#d8576b"
             ],
             [
              0.6666666666666666,
              "#ed7953"
             ],
             [
              0.7777777777777778,
              "#fb9f3a"
             ],
             [
              0.8888888888888888,
              "#fdca26"
             ],
             [
              1,
              "#f0f921"
             ]
            ],
            "type": "histogram2d"
           }
          ],
          "histogram2dcontour": [
           {
            "colorbar": {
             "outlinewidth": 0,
             "ticks": ""
            },
            "colorscale": [
             [
              0,
              "#0d0887"
             ],
             [
              0.1111111111111111,
              "#46039f"
             ],
             [
              0.2222222222222222,
              "#7201a8"
             ],
             [
              0.3333333333333333,
              "#9c179e"
             ],
             [
              0.4444444444444444,
              "#bd3786"
             ],
             [
              0.5555555555555556,
              "#d8576b"
             ],
             [
              0.6666666666666666,
              "#ed7953"
             ],
             [
              0.7777777777777778,
              "#fb9f3a"
             ],
             [
              0.8888888888888888,
              "#fdca26"
             ],
             [
              1,
              "#f0f921"
             ]
            ],
            "type": "histogram2dcontour"
           }
          ],
          "mesh3d": [
           {
            "colorbar": {
             "outlinewidth": 0,
             "ticks": ""
            },
            "type": "mesh3d"
           }
          ],
          "parcoords": [
           {
            "line": {
             "colorbar": {
              "outlinewidth": 0,
              "ticks": ""
             }
            },
            "type": "parcoords"
           }
          ],
          "pie": [
           {
            "automargin": true,
            "type": "pie"
           }
          ],
          "scatter": [
           {
            "marker": {
             "colorbar": {
              "outlinewidth": 0,
              "ticks": ""
             }
            },
            "type": "scatter"
           }
          ],
          "scatter3d": [
           {
            "line": {
             "colorbar": {
              "outlinewidth": 0,
              "ticks": ""
             }
            },
            "marker": {
             "colorbar": {
              "outlinewidth": 0,
              "ticks": ""
             }
            },
            "type": "scatter3d"
           }
          ],
          "scattercarpet": [
           {
            "marker": {
             "colorbar": {
              "outlinewidth": 0,
              "ticks": ""
             }
            },
            "type": "scattercarpet"
           }
          ],
          "scattergeo": [
           {
            "marker": {
             "colorbar": {
              "outlinewidth": 0,
              "ticks": ""
             }
            },
            "type": "scattergeo"
           }
          ],
          "scattergl": [
           {
            "marker": {
             "colorbar": {
              "outlinewidth": 0,
              "ticks": ""
             }
            },
            "type": "scattergl"
           }
          ],
          "scattermapbox": [
           {
            "marker": {
             "colorbar": {
              "outlinewidth": 0,
              "ticks": ""
             }
            },
            "type": "scattermapbox"
           }
          ],
          "scatterpolar": [
           {
            "marker": {
             "colorbar": {
              "outlinewidth": 0,
              "ticks": ""
             }
            },
            "type": "scatterpolar"
           }
          ],
          "scatterpolargl": [
           {
            "marker": {
             "colorbar": {
              "outlinewidth": 0,
              "ticks": ""
             }
            },
            "type": "scatterpolargl"
           }
          ],
          "scatterternary": [
           {
            "marker": {
             "colorbar": {
              "outlinewidth": 0,
              "ticks": ""
             }
            },
            "type": "scatterternary"
           }
          ],
          "surface": [
           {
            "colorbar": {
             "outlinewidth": 0,
             "ticks": ""
            },
            "colorscale": [
             [
              0,
              "#0d0887"
             ],
             [
              0.1111111111111111,
              "#46039f"
             ],
             [
              0.2222222222222222,
              "#7201a8"
             ],
             [
              0.3333333333333333,
              "#9c179e"
             ],
             [
              0.4444444444444444,
              "#bd3786"
             ],
             [
              0.5555555555555556,
              "#d8576b"
             ],
             [
              0.6666666666666666,
              "#ed7953"
             ],
             [
              0.7777777777777778,
              "#fb9f3a"
             ],
             [
              0.8888888888888888,
              "#fdca26"
             ],
             [
              1,
              "#f0f921"
             ]
            ],
            "type": "surface"
           }
          ],
          "table": [
           {
            "cells": {
             "fill": {
              "color": "#EBF0F8"
             },
             "line": {
              "color": "white"
             }
            },
            "header": {
             "fill": {
              "color": "#C8D4E3"
             },
             "line": {
              "color": "white"
             }
            },
            "type": "table"
           }
          ]
         },
         "layout": {
          "annotationdefaults": {
           "arrowcolor": "#2a3f5f",
           "arrowhead": 0,
           "arrowwidth": 1
          },
          "coloraxis": {
           "colorbar": {
            "outlinewidth": 0,
            "ticks": ""
           }
          },
          "colorscale": {
           "diverging": [
            [
             0,
             "#8e0152"
            ],
            [
             0.1,
             "#c51b7d"
            ],
            [
             0.2,
             "#de77ae"
            ],
            [
             0.3,
             "#f1b6da"
            ],
            [
             0.4,
             "#fde0ef"
            ],
            [
             0.5,
             "#f7f7f7"
            ],
            [
             0.6,
             "#e6f5d0"
            ],
            [
             0.7,
             "#b8e186"
            ],
            [
             0.8,
             "#7fbc41"
            ],
            [
             0.9,
             "#4d9221"
            ],
            [
             1,
             "#276419"
            ]
           ],
           "sequential": [
            [
             0,
             "#0d0887"
            ],
            [
             0.1111111111111111,
             "#46039f"
            ],
            [
             0.2222222222222222,
             "#7201a8"
            ],
            [
             0.3333333333333333,
             "#9c179e"
            ],
            [
             0.4444444444444444,
             "#bd3786"
            ],
            [
             0.5555555555555556,
             "#d8576b"
            ],
            [
             0.6666666666666666,
             "#ed7953"
            ],
            [
             0.7777777777777778,
             "#fb9f3a"
            ],
            [
             0.8888888888888888,
             "#fdca26"
            ],
            [
             1,
             "#f0f921"
            ]
           ],
           "sequentialminus": [
            [
             0,
             "#0d0887"
            ],
            [
             0.1111111111111111,
             "#46039f"
            ],
            [
             0.2222222222222222,
             "#7201a8"
            ],
            [
             0.3333333333333333,
             "#9c179e"
            ],
            [
             0.4444444444444444,
             "#bd3786"
            ],
            [
             0.5555555555555556,
             "#d8576b"
            ],
            [
             0.6666666666666666,
             "#ed7953"
            ],
            [
             0.7777777777777778,
             "#fb9f3a"
            ],
            [
             0.8888888888888888,
             "#fdca26"
            ],
            [
             1,
             "#f0f921"
            ]
           ]
          },
          "colorway": [
           "#636efa",
           "#EF553B",
           "#00cc96",
           "#ab63fa",
           "#FFA15A",
           "#19d3f3",
           "#FF6692",
           "#B6E880",
           "#FF97FF",
           "#FECB52"
          ],
          "font": {
           "color": "#2a3f5f"
          },
          "geo": {
           "bgcolor": "white",
           "lakecolor": "white",
           "landcolor": "#E5ECF6",
           "showlakes": true,
           "showland": true,
           "subunitcolor": "white"
          },
          "hoverlabel": {
           "align": "left"
          },
          "hovermode": "closest",
          "mapbox": {
           "style": "light"
          },
          "paper_bgcolor": "white",
          "plot_bgcolor": "#E5ECF6",
          "polar": {
           "angularaxis": {
            "gridcolor": "white",
            "linecolor": "white",
            "ticks": ""
           },
           "bgcolor": "#E5ECF6",
           "radialaxis": {
            "gridcolor": "white",
            "linecolor": "white",
            "ticks": ""
           }
          },
          "scene": {
           "xaxis": {
            "backgroundcolor": "#E5ECF6",
            "gridcolor": "white",
            "gridwidth": 2,
            "linecolor": "white",
            "showbackground": true,
            "ticks": "",
            "zerolinecolor": "white"
           },
           "yaxis": {
            "backgroundcolor": "#E5ECF6",
            "gridcolor": "white",
            "gridwidth": 2,
            "linecolor": "white",
            "showbackground": true,
            "ticks": "",
            "zerolinecolor": "white"
           },
           "zaxis": {
            "backgroundcolor": "#E5ECF6",
            "gridcolor": "white",
            "gridwidth": 2,
            "linecolor": "white",
            "showbackground": true,
            "ticks": "",
            "zerolinecolor": "white"
           }
          },
          "shapedefaults": {
           "line": {
            "color": "#2a3f5f"
           }
          },
          "ternary": {
           "aaxis": {
            "gridcolor": "white",
            "linecolor": "white",
            "ticks": ""
           },
           "baxis": {
            "gridcolor": "white",
            "linecolor": "white",
            "ticks": ""
           },
           "bgcolor": "#E5ECF6",
           "caxis": {
            "gridcolor": "white",
            "linecolor": "white",
            "ticks": ""
           }
          },
          "title": {
           "x": 0.05
          },
          "xaxis": {
           "automargin": true,
           "gridcolor": "white",
           "linecolor": "white",
           "ticks": "",
           "title": {
            "standoff": 15
           },
           "zerolinecolor": "white",
           "zerolinewidth": 2
          },
          "yaxis": {
           "automargin": true,
           "gridcolor": "white",
           "linecolor": "white",
           "ticks": "",
           "title": {
            "standoff": 15
           },
           "zerolinecolor": "white",
           "zerolinewidth": 2
          }
         }
        },
        "title": {
         "text": "Tweet Like Distribution"
        },
        "xaxis": {
         "range": [
          0,
          20
         ]
        }
       }
      },
      "text/html": [
       "<div>\n",
       "        \n",
       "        \n",
       "            <div id=\"104f962b-ae6a-4d75-bda9-889cbc4d7346\" class=\"plotly-graph-div\" style=\"height:525px; width:100%;\"></div>\n",
       "            <script type=\"text/javascript\">\n",
       "                require([\"plotly\"], function(Plotly) {\n",
       "                    window.PLOTLYENV=window.PLOTLYENV || {};\n",
       "                    window.PLOTLYENV.BASE_URL='https://plot.ly';\n",
       "                    \n",
       "                if (document.getElementById(\"104f962b-ae6a-4d75-bda9-889cbc4d7346\")) {\n",
       "                    Plotly.newPlot(\n",
       "                        '104f962b-ae6a-4d75-bda9-889cbc4d7346',\n",
       "                        [{\"histfunc\": \"count\", \"histnorm\": \"\", \"marker\": {\"color\": \"rgba(255, 153, 51, 1.0)\", \"line\": {\"color\": \"#000000\", \"width\": 1.3}}, \"name\": \"likes\", \"nbinsx\": 1000, \"opacity\": 0.8, \"orientation\": \"v\", \"type\": \"histogram\", \"x\": [2, 0, 0, 1, 1, 0, 1, 1, 0, 0, 0, 0, 0, 0, 6, 0, 0, 0, 26, 2, 0, 0, 1, 1, 0, 1, 1, 0, 0, 0, 0, 0, 0, 6, 0, 0, 0, 26, 0, 0, 2, 1, 4, 1, 6, 24, 1, 1, 5, 1, 0, 0, 0, 0, 11, 0, 0, 1, 0, 0, 265, 0, 0, 0, 0, 0, 1, 0, 16, 1, 1, 73, 0, 0, 0, 1, 0, 475, 10, 0, 4, 0, 12, 0, 4, 0, 5, 5, 12, 0, 1, 0, 14, 0, 4, 87, 4, 2, 0, 5, 1, 0, 0, 0, 9, 10, 1, 0, 1, 0, 0, 0, 2, 9, 1, 1, 5, 1, 0, 1, 0, 5, 0, 12, 0, 4, 0, 0, 0, 1, 0, 5, 0, 0, 0, 0, 0, 0, 3, 2, 7, 3, 4, 0, 0, 0, 3, 4, 0, 0, 0, 1, 0, 1, 0, 1, 0, 2, 2, 1, 0, 0, 6, 0, 0, 1, 0, 0, 5, 0, 9, 0, 0, 3, 0, 13, 0, 1, 0, 2, 1, 0, 0, 0, 1, 3, 1, 5, 10, 1, 0, 0, 0, 0, 0, 3, 183, 0, 0, 5, 5, 1, 5, 0, 0, 4, 3, 1, 0, 0, 0, 0, 7, 1, 0, 0, 0, 1, 0, 15, 0, 0, 3, 2, 1, 0, 9, 0, 0, 2, 1, 0, 0, 13, 2, 1, 1, 2, 1, 2, 1, 1, 8, 2, 8, 18, 0, 0, 6, 1, 0, 2, 11, 1, 0, 3, 12, 0, 0, 0, 17, 2, 1, 0, 0, 1, 1, 0, 1, 4, 0, 0, 0, 0, 0, 2, 0, 0, 1, 0, 1, 1, 0, 10, 0, 1, 3, 0, 0, 0, 1, 0, 4, 1, 4, 4, 9, 0, 3, 0, 0, 1, 0, 0, 2, 0, 2, 0, 1, 23, 4, 0, 1, 54, 1, 3, 26, 29, 0, 2, 0, 16, 0, 0, 2, 3, 0, 2, 16, 1, 22, 1, 0, 1, 2, 1, 1, 2, 2, 5, 2, 3, 0, 1, 18, 3, 0, 0, 2, 0, 0, 0, 7, 5, 0, 0, 0, 7, 0, 1, 16, 10, 0, 45, 0, 1, 10, 2, 4, 1, 0, 10, 9, 1, 1, 0, 2, 0, 0, 5, 0, 4, 0, 6, 0, 0, 0, 15, 0, 449, 1, 0, 1, 3, 2, 0, 2, 1, 20, 14, 0, 0, 4, 1, 0, 0, 1, 0, 0, 0, 8, 1, 2, 1, 8, 4, 3, 3, 1, 10, 0, 8, 0, 0, 12, 547, 4, 2, 5, 3, 0, 0, 13, 2, 0, 8, 0, 4, 5, 0, 0, 1, 71, 23, 0, 1, 0, 0, 0, 0, 0, 10, 1, 0, 1, 1, 0, 2, 0, 0, 9, 1, 1, 15, 1, 0, 0, 13, 0, 0, 0, 3, 3, 19, 7, 4, 2, 0, 0, 0, 0, 3, 0, 0, 1, 2, 0, 0, 0, 3, 1, 0, 40, 4, 1, 2, 0, 8, 1, 0, 1, 17, 6, 11, 0, 26, 0, 0, 26, 0, 4, 9, 5, 0, 1, 0, 3, 0, 14, 0, 0, 1, 2, 10, 0, 26, 0, 0, 26, 0, 4, 9, 5, 0, 1, 0, 3, 0, 14, 0, 0, 1, 2, 10, 0, 1, 66, 1, 1, 2, 0, 2, 0, 1, 0, 5, 7, 6, 0, 5, 0, 0, 0, 4, 0, 0, 0, 0, 1, 0, 2, 1, 0, 1, 0, 0, 0, 1, 5, 0, 3, 0, 0, 1, 1, 0, 0, 0, 0, 0, 1, 0, 0, 2, 0, 0, 0, 0, 0, 0, 3, 0, 0, 2, 0, 0, 1, 4, 0, 17, 0, 0, 5, 1, 79, 0, 0, 0, 1, 4, 0, 0, 1, 1, 0, 0, 1, 1, 0, 1, 3, 0, 3, 0, 0, 2, 1, 5, 1, 0, 1, 125, 0, 1, 2, 0, 0, 0, 1, 0, 0, 1, 0, 1, 0, 0, 0, 0, 1, 0, 0, 1, 6, 14, 4, 0, 1, 0, 82, 0, 7, 77, 0, 0, 13, 0, 1, 0, 1, 0, 0, 1, 1, 2, 0, 0, 0, 1, 0, 0, 1, 4, 0, 0, 23, 0, 4, 0, 0, 0, 0, 7, 1, 1, 1, 1, 0, 1, 8, 0, 3, 0, 2, 1, 0, 0, 0, 0, 0, 0, 0, 0, 2, 0, 0, 0, 0, 0, 5, 10, 2, 1, 1, 1, 42, 0, 1, 3, 0, 0, 0, 0, 0, 0, 0, 6, 0, 2, 0, 0, 3, 0, 0, 0, 0, 0, 3, 0, 0, 1, 1, 39, 0, 8, 1, 8, 0, 0, 17, 1, 0, 0, 3, 1, 0, 0, 5, 2, 0, 1, 1, 0, 2, 3, 2, 0, 0, 2, 21, 5, 0, 1, 21, 0, 1, 0, 1, 11, 0, 0, 0, 1, 1, 1, 20, 137, 0, 0, 0, 8, 12, 1, 3, 1, 21, 0, 0, 8, 0, 4, 8, 29, 2, 0, 0, 0, 0, 2, 0, 1, 74, 5, 0, 0, 0, 7, 0, 0, 0, 22, 0, 1, 12, 0, 0, 1, 10, 0, 9, 0, 0, 2, 6, 0, 0, 14, 1, 0, 0, 0, 1, 0, 0, 0, 0, 0, 0, 0, 1, 2, 2, 0, 1, 0, 2, 0, 0, 0, 0, 1, 0, 2, 49, 0, 1, 13, 0, 1, 0, 0, 0, 0, 1, 0, 1, 5, 0, 0, 15, 2, 1, 5, 0, 68, 1, 1, 9, 0, 1, 2, 15, 0, 0, 0, 0, 0, 0, 1, 10, 0, 0, 0, 1, 2, 1, 0, 2, 0, 9, 0, 1, 1, 0, 0, 2, 0, 7, 49, 2, 1, 13, 0, 0, 6, 0, 0, 29, 0, 2, 4, 0, 3, 0, 1, 0, 3, 0, 1, 4, 0, 0, 0, 1, 0, 0, 3, 0, 0, 27, 3, 1, 0, 437, 0, 1, 0, 30, 3, 0, 0, 0, 1, 1, 0, 0, 1, 1, 0, 11, 0, 0, 6, 0, 0, 0, 0, 0, 3, 0, 0, 0, 1, 0, 4, 0, 0, 0, 0, 0, 1, 1, 0, 0, 2, 2, 1, 1, 0, 6, 5, 0, 1, 0]}],\n",
       "                        {\"barmode\": \"overlay\", \"template\": {\"data\": {\"bar\": [{\"error_x\": {\"color\": \"#2a3f5f\"}, \"error_y\": {\"color\": \"#2a3f5f\"}, \"marker\": {\"line\": {\"color\": \"#E5ECF6\", \"width\": 0.5}}, \"type\": \"bar\"}], \"barpolar\": [{\"marker\": {\"line\": {\"color\": \"#E5ECF6\", \"width\": 0.5}}, \"type\": \"barpolar\"}], \"carpet\": [{\"aaxis\": {\"endlinecolor\": \"#2a3f5f\", \"gridcolor\": \"white\", \"linecolor\": \"white\", \"minorgridcolor\": \"white\", \"startlinecolor\": \"#2a3f5f\"}, \"baxis\": {\"endlinecolor\": \"#2a3f5f\", \"gridcolor\": \"white\", \"linecolor\": \"white\", \"minorgridcolor\": \"white\", \"startlinecolor\": \"#2a3f5f\"}, \"type\": \"carpet\"}], \"choropleth\": [{\"colorbar\": {\"outlinewidth\": 0, \"ticks\": \"\"}, \"type\": \"choropleth\"}], \"contour\": [{\"colorbar\": {\"outlinewidth\": 0, \"ticks\": \"\"}, \"colorscale\": [[0.0, \"#0d0887\"], [0.1111111111111111, \"#46039f\"], [0.2222222222222222, \"#7201a8\"], [0.3333333333333333, \"#9c179e\"], [0.4444444444444444, \"#bd3786\"], [0.5555555555555556, \"#d8576b\"], [0.6666666666666666, \"#ed7953\"], [0.7777777777777778, \"#fb9f3a\"], [0.8888888888888888, \"#fdca26\"], [1.0, \"#f0f921\"]], \"type\": \"contour\"}], \"contourcarpet\": [{\"colorbar\": {\"outlinewidth\": 0, \"ticks\": \"\"}, \"type\": \"contourcarpet\"}], \"heatmap\": [{\"colorbar\": {\"outlinewidth\": 0, \"ticks\": \"\"}, \"colorscale\": [[0.0, \"#0d0887\"], [0.1111111111111111, \"#46039f\"], [0.2222222222222222, \"#7201a8\"], [0.3333333333333333, \"#9c179e\"], [0.4444444444444444, \"#bd3786\"], [0.5555555555555556, \"#d8576b\"], [0.6666666666666666, \"#ed7953\"], [0.7777777777777778, \"#fb9f3a\"], [0.8888888888888888, \"#fdca26\"], [1.0, \"#f0f921\"]], \"type\": \"heatmap\"}], \"heatmapgl\": [{\"colorbar\": {\"outlinewidth\": 0, \"ticks\": \"\"}, \"colorscale\": [[0.0, \"#0d0887\"], [0.1111111111111111, \"#46039f\"], [0.2222222222222222, \"#7201a8\"], [0.3333333333333333, \"#9c179e\"], [0.4444444444444444, \"#bd3786\"], [0.5555555555555556, \"#d8576b\"], [0.6666666666666666, \"#ed7953\"], [0.7777777777777778, \"#fb9f3a\"], [0.8888888888888888, \"#fdca26\"], [1.0, \"#f0f921\"]], \"type\": \"heatmapgl\"}], \"histogram\": [{\"marker\": {\"colorbar\": {\"outlinewidth\": 0, \"ticks\": \"\"}}, \"type\": \"histogram\"}], \"histogram2d\": [{\"colorbar\": {\"outlinewidth\": 0, \"ticks\": \"\"}, \"colorscale\": [[0.0, \"#0d0887\"], [0.1111111111111111, \"#46039f\"], [0.2222222222222222, \"#7201a8\"], [0.3333333333333333, \"#9c179e\"], [0.4444444444444444, \"#bd3786\"], [0.5555555555555556, \"#d8576b\"], [0.6666666666666666, \"#ed7953\"], [0.7777777777777778, \"#fb9f3a\"], [0.8888888888888888, \"#fdca26\"], [1.0, \"#f0f921\"]], \"type\": \"histogram2d\"}], \"histogram2dcontour\": [{\"colorbar\": {\"outlinewidth\": 0, \"ticks\": \"\"}, \"colorscale\": [[0.0, \"#0d0887\"], [0.1111111111111111, \"#46039f\"], [0.2222222222222222, \"#7201a8\"], [0.3333333333333333, \"#9c179e\"], [0.4444444444444444, \"#bd3786\"], [0.5555555555555556, \"#d8576b\"], [0.6666666666666666, \"#ed7953\"], [0.7777777777777778, \"#fb9f3a\"], [0.8888888888888888, \"#fdca26\"], [1.0, \"#f0f921\"]], \"type\": \"histogram2dcontour\"}], \"mesh3d\": [{\"colorbar\": {\"outlinewidth\": 0, \"ticks\": \"\"}, \"type\": \"mesh3d\"}], \"parcoords\": [{\"line\": {\"colorbar\": {\"outlinewidth\": 0, \"ticks\": \"\"}}, \"type\": \"parcoords\"}], \"pie\": [{\"automargin\": true, \"type\": \"pie\"}], \"scatter\": [{\"marker\": {\"colorbar\": {\"outlinewidth\": 0, \"ticks\": \"\"}}, \"type\": \"scatter\"}], \"scatter3d\": [{\"line\": {\"colorbar\": {\"outlinewidth\": 0, \"ticks\": \"\"}}, \"marker\": {\"colorbar\": {\"outlinewidth\": 0, \"ticks\": \"\"}}, \"type\": \"scatter3d\"}], \"scattercarpet\": [{\"marker\": {\"colorbar\": {\"outlinewidth\": 0, \"ticks\": \"\"}}, \"type\": \"scattercarpet\"}], \"scattergeo\": [{\"marker\": {\"colorbar\": {\"outlinewidth\": 0, \"ticks\": \"\"}}, \"type\": \"scattergeo\"}], \"scattergl\": [{\"marker\": {\"colorbar\": {\"outlinewidth\": 0, \"ticks\": \"\"}}, \"type\": \"scattergl\"}], \"scattermapbox\": [{\"marker\": {\"colorbar\": {\"outlinewidth\": 0, \"ticks\": \"\"}}, \"type\": \"scattermapbox\"}], \"scatterpolar\": [{\"marker\": {\"colorbar\": {\"outlinewidth\": 0, \"ticks\": \"\"}}, \"type\": \"scatterpolar\"}], \"scatterpolargl\": [{\"marker\": {\"colorbar\": {\"outlinewidth\": 0, \"ticks\": \"\"}}, \"type\": \"scatterpolargl\"}], \"scatterternary\": [{\"marker\": {\"colorbar\": {\"outlinewidth\": 0, \"ticks\": \"\"}}, \"type\": \"scatterternary\"}], \"surface\": [{\"colorbar\": {\"outlinewidth\": 0, \"ticks\": \"\"}, \"colorscale\": [[0.0, \"#0d0887\"], [0.1111111111111111, \"#46039f\"], [0.2222222222222222, \"#7201a8\"], [0.3333333333333333, \"#9c179e\"], [0.4444444444444444, \"#bd3786\"], [0.5555555555555556, \"#d8576b\"], [0.6666666666666666, \"#ed7953\"], [0.7777777777777778, \"#fb9f3a\"], [0.8888888888888888, \"#fdca26\"], [1.0, \"#f0f921\"]], \"type\": \"surface\"}], \"table\": [{\"cells\": {\"fill\": {\"color\": \"#EBF0F8\"}, \"line\": {\"color\": \"white\"}}, \"header\": {\"fill\": {\"color\": \"#C8D4E3\"}, \"line\": {\"color\": \"white\"}}, \"type\": \"table\"}]}, \"layout\": {\"annotationdefaults\": {\"arrowcolor\": \"#2a3f5f\", \"arrowhead\": 0, \"arrowwidth\": 1}, \"coloraxis\": {\"colorbar\": {\"outlinewidth\": 0, \"ticks\": \"\"}}, \"colorscale\": {\"diverging\": [[0, \"#8e0152\"], [0.1, \"#c51b7d\"], [0.2, \"#de77ae\"], [0.3, \"#f1b6da\"], [0.4, \"#fde0ef\"], [0.5, \"#f7f7f7\"], [0.6, \"#e6f5d0\"], [0.7, \"#b8e186\"], [0.8, \"#7fbc41\"], [0.9, \"#4d9221\"], [1, \"#276419\"]], \"sequential\": [[0.0, \"#0d0887\"], [0.1111111111111111, \"#46039f\"], [0.2222222222222222, \"#7201a8\"], [0.3333333333333333, \"#9c179e\"], [0.4444444444444444, \"#bd3786\"], [0.5555555555555556, \"#d8576b\"], [0.6666666666666666, \"#ed7953\"], [0.7777777777777778, \"#fb9f3a\"], [0.8888888888888888, \"#fdca26\"], [1.0, \"#f0f921\"]], \"sequentialminus\": [[0.0, \"#0d0887\"], [0.1111111111111111, \"#46039f\"], [0.2222222222222222, \"#7201a8\"], [0.3333333333333333, \"#9c179e\"], [0.4444444444444444, \"#bd3786\"], [0.5555555555555556, \"#d8576b\"], [0.6666666666666666, \"#ed7953\"], [0.7777777777777778, \"#fb9f3a\"], [0.8888888888888888, \"#fdca26\"], [1.0, \"#f0f921\"]]}, \"colorway\": [\"#636efa\", \"#EF553B\", \"#00cc96\", \"#ab63fa\", \"#FFA15A\", \"#19d3f3\", \"#FF6692\", \"#B6E880\", \"#FF97FF\", \"#FECB52\"], \"font\": {\"color\": \"#2a3f5f\"}, \"geo\": {\"bgcolor\": \"white\", \"lakecolor\": \"white\", \"landcolor\": \"#E5ECF6\", \"showlakes\": true, \"showland\": true, \"subunitcolor\": \"white\"}, \"hoverlabel\": {\"align\": \"left\"}, \"hovermode\": \"closest\", \"mapbox\": {\"style\": \"light\"}, \"paper_bgcolor\": \"white\", \"plot_bgcolor\": \"#E5ECF6\", \"polar\": {\"angularaxis\": {\"gridcolor\": \"white\", \"linecolor\": \"white\", \"ticks\": \"\"}, \"bgcolor\": \"#E5ECF6\", \"radialaxis\": {\"gridcolor\": \"white\", \"linecolor\": \"white\", \"ticks\": \"\"}}, \"scene\": {\"xaxis\": {\"backgroundcolor\": \"#E5ECF6\", \"gridcolor\": \"white\", \"gridwidth\": 2, \"linecolor\": \"white\", \"showbackground\": true, \"ticks\": \"\", \"zerolinecolor\": \"white\"}, \"yaxis\": {\"backgroundcolor\": \"#E5ECF6\", \"gridcolor\": \"white\", \"gridwidth\": 2, \"linecolor\": \"white\", \"showbackground\": true, \"ticks\": \"\", \"zerolinecolor\": \"white\"}, \"zaxis\": {\"backgroundcolor\": \"#E5ECF6\", \"gridcolor\": \"white\", \"gridwidth\": 2, \"linecolor\": \"white\", \"showbackground\": true, \"ticks\": \"\", \"zerolinecolor\": \"white\"}}, \"shapedefaults\": {\"line\": {\"color\": \"#2a3f5f\"}}, \"ternary\": {\"aaxis\": {\"gridcolor\": \"white\", \"linecolor\": \"white\", \"ticks\": \"\"}, \"baxis\": {\"gridcolor\": \"white\", \"linecolor\": \"white\", \"ticks\": \"\"}, \"bgcolor\": \"#E5ECF6\", \"caxis\": {\"gridcolor\": \"white\", \"linecolor\": \"white\", \"ticks\": \"\"}}, \"title\": {\"x\": 0.05}, \"xaxis\": {\"automargin\": true, \"gridcolor\": \"white\", \"linecolor\": \"white\", \"ticks\": \"\", \"title\": {\"standoff\": 15}, \"zerolinecolor\": \"white\", \"zerolinewidth\": 2}, \"yaxis\": {\"automargin\": true, \"gridcolor\": \"white\", \"linecolor\": \"white\", \"ticks\": \"\", \"title\": {\"standoff\": 15}, \"zerolinecolor\": \"white\", \"zerolinewidth\": 2}}}, \"title\": {\"text\": \"Tweet Like Distribution\"}, \"xaxis\": {\"range\": [0, 20]}},\n",
       "                        {\"showLink\": true, \"linkText\": \"Export to plot.ly\", \"plotlyServerURL\": \"https://plot.ly\", \"responsive\": true}\n",
       "                    ).then(function(){\n",
       "                            \n",
       "var gd = document.getElementById('104f962b-ae6a-4d75-bda9-889cbc4d7346');\n",
       "var x = new MutationObserver(function (mutations, observer) {{\n",
       "        var display = window.getComputedStyle(gd).display;\n",
       "        if (!display || display === 'none') {{\n",
       "            console.log([gd, 'removed!']);\n",
       "            Plotly.purge(gd);\n",
       "            observer.disconnect();\n",
       "        }}\n",
       "}});\n",
       "\n",
       "// Listen for the removal of the full notebook cells\n",
       "var notebookContainer = gd.closest('#notebook-container');\n",
       "if (notebookContainer) {{\n",
       "    x.observe(notebookContainer, {childList: true});\n",
       "}}\n",
       "\n",
       "// Listen for the clearing of the current output cell\n",
       "var outputEl = gd.closest('.output');\n",
       "if (outputEl) {{\n",
       "    x.observe(outputEl, {childList: true});\n",
       "}}\n",
       "\n",
       "                        })\n",
       "                };\n",
       "                });\n",
       "            </script>\n",
       "        </div>"
      ]
     },
     "metadata": {},
     "output_type": "display_data"
    },
    {
     "data": {
      "application/vnd.plotly.v1+json": {
       "config": {
        "linkText": "Export to plot.ly",
        "plotlyServerURL": "https://plot.ly",
        "showLink": true
       },
       "data": [
        {
         "histfunc": "count",
         "histnorm": "",
         "marker": {
          "color": "rgba(255, 153, 51, 1.0)",
          "line": {
           "color": "#000000",
           "width": 1.3
          }
         },
         "name": "likes",
         "nbinsx": 1000,
         "opacity": 0.8,
         "orientation": "v",
         "type": "histogram",
         "x": [
          1,
          1,
          0,
          2,
          243,
          0,
          5,
          0,
          3,
          0,
          0,
          2,
          3,
          0,
          3,
          3,
          203,
          1,
          1,
          1,
          0,
          2,
          243,
          0,
          5,
          0,
          3,
          0,
          0,
          2,
          3,
          0,
          3,
          3,
          203,
          1,
          0,
          0,
          1,
          1,
          1,
          0,
          2,
          0,
          1,
          0,
          0,
          0,
          0,
          2,
          0,
          0,
          0,
          1,
          2,
          3,
          11,
          3,
          1,
          4,
          6,
          0,
          0,
          0,
          5,
          0,
          0,
          9,
          0,
          0,
          1,
          0,
          2,
          6,
          3,
          0,
          0,
          1,
          1,
          2,
          0,
          2,
          7,
          0,
          0,
          0,
          1,
          5,
          3,
          0,
          10,
          0,
          1,
          2,
          0,
          1,
          0,
          0,
          11,
          3,
          0,
          0,
          0,
          0,
          2,
          0,
          0,
          8,
          0,
          0,
          0,
          0,
          0,
          3,
          0,
          0,
          2,
          0,
          1,
          1,
          0,
          0,
          0,
          0,
          5,
          0,
          0,
          0,
          0,
          1411,
          0,
          0,
          0,
          3,
          0,
          0,
          2,
          0,
          1,
          1,
          0,
          0,
          0,
          0,
          5,
          0,
          0,
          0,
          0,
          1411,
          0,
          1,
          0,
          0,
          0,
          0,
          0,
          6,
          0,
          1,
          1,
          1,
          160,
          1,
          0,
          0,
          0,
          0,
          210,
          0,
          0,
          2,
          0,
          1,
          5,
          2,
          0,
          7,
          0,
          2,
          0,
          0,
          0,
          37,
          0,
          0,
          1,
          0,
          0,
          1,
          0,
          1,
          0,
          0,
          1,
          0,
          0,
          0,
          0,
          0,
          0,
          0,
          0,
          0,
          0,
          2,
          1,
          1,
          0,
          1,
          0,
          0,
          0,
          8,
          0,
          2,
          1,
          3,
          0,
          1,
          1,
          57,
          3,
          0,
          2,
          2,
          0,
          0,
          1,
          0,
          1,
          1,
          0,
          0,
          1,
          1,
          0,
          0,
          4,
          3,
          3,
          0,
          0,
          1,
          0,
          0,
          0,
          1,
          0,
          1,
          1,
          0,
          0,
          1,
          1,
          0,
          0,
          4,
          3,
          3,
          0,
          0,
          1,
          0,
          0,
          2,
          0,
          0,
          1,
          1,
          0,
          0,
          0,
          0,
          0,
          0,
          1,
          0,
          0,
          0,
          0,
          0,
          2,
          0,
          2,
          0,
          0,
          0,
          1,
          1,
          0,
          0,
          1,
          0,
          0,
          0,
          0,
          0,
          1,
          0,
          4,
          5,
          1,
          0,
          0,
          3,
          1,
          4,
          0,
          0,
          0,
          0,
          0,
          0,
          0,
          0,
          0,
          0,
          11,
          0,
          2,
          0,
          0,
          0,
          0,
          43,
          2,
          0,
          0,
          0,
          0,
          1,
          0,
          1,
          1,
          0,
          9,
          0,
          1,
          0,
          0,
          1,
          85,
          0,
          0,
          0,
          0,
          15,
          1,
          0,
          359,
          0,
          0,
          0,
          0,
          1,
          0,
          0,
          0,
          1,
          85,
          0,
          0,
          0,
          0,
          15,
          1,
          0,
          359,
          0,
          0,
          0,
          0,
          1,
          0,
          0,
          0,
          2,
          0,
          0,
          0,
          8,
          1,
          5,
          0,
          0,
          6,
          3,
          1,
          4,
          0,
          0,
          1,
          1,
          35,
          2,
          0,
          18,
          3,
          0,
          2,
          0,
          0,
          2,
          0,
          4,
          1,
          338,
          5,
          0,
          4,
          0,
          0,
          1,
          0,
          0,
          1,
          0,
          0,
          3,
          21,
          8,
          0,
          35,
          0,
          3,
          1,
          4,
          306,
          0,
          0,
          0,
          0,
          0,
          0,
          33,
          0,
          0,
          12,
          0,
          1,
          0,
          0,
          0,
          0,
          2,
          0,
          6,
          0,
          0,
          1,
          0,
          0,
          24,
          0,
          4,
          9,
          5,
          0,
          1,
          0,
          3,
          0,
          14,
          0,
          1,
          1,
          2,
          10,
          0,
          1,
          0,
          0,
          24,
          0,
          4,
          9,
          5,
          0,
          1,
          0,
          3,
          0,
          14,
          0,
          1,
          1,
          2,
          10,
          0,
          1,
          68,
          1,
          1,
          2,
          0,
          4,
          1,
          1,
          0,
          5,
          7,
          6,
          0,
          6,
          0,
          0,
          0,
          1,
          4,
          0,
          0,
          0,
          1,
          0,
          2,
          1,
          0,
          1,
          0,
          0,
          5,
          0,
          3,
          0,
          0,
          1,
          0,
          0,
          0,
          0,
          1,
          0,
          0,
          2,
          0,
          0,
          0,
          0,
          4,
          0,
          0,
          2,
          0,
          0,
          4,
          0,
          17,
          0,
          0,
          6,
          1,
          81,
          0,
          0,
          0,
          1,
          0,
          0,
          1,
          0,
          0,
          1,
          0,
          1,
          3,
          0,
          3,
          0,
          13,
          0,
          27,
          0,
          0,
          0,
          1,
          0,
          1,
          19,
          0,
          1,
          2,
          1,
          0,
          24,
          0,
          13,
          0,
          27,
          0,
          0,
          0,
          1,
          0,
          1,
          19,
          0,
          1,
          2,
          1,
          0,
          24,
          1,
          2,
          0,
          0,
          0,
          0,
          1,
          8,
          10,
          0,
          0,
          3,
          0,
          0,
          2,
          2,
          0,
          0,
          0,
          1,
          1,
          1,
          0,
          1,
          1,
          7,
          1,
          1,
          2,
          202,
          0,
          0,
          0,
          0,
          0,
          1,
          1,
          4,
          37,
          3,
          0,
          1,
          0,
          1,
          0,
          12,
          1,
          1,
          0,
          1,
          0,
          1,
          0,
          0,
          2,
          2,
          5,
          2,
          1,
          0,
          0,
          0,
          0,
          4,
          0,
          0,
          0,
          1,
          3,
          0,
          1,
          45,
          1,
          0,
          0,
          43,
          4,
          0,
          0,
          0,
          1,
          2,
          0,
          0,
          0,
          1,
          88,
          4,
          3,
          0,
          0,
          0,
          1,
          0,
          0,
          43,
          4,
          0,
          0,
          0,
          1,
          2,
          0,
          0,
          0,
          1,
          88,
          4,
          3,
          0,
          0,
          0,
          0,
          0,
          0,
          0,
          1,
          3,
          0,
          117,
          1,
          0,
          0,
          0,
          0,
          63,
          0,
          0,
          0,
          0,
          0,
          0,
          0,
          1,
          1,
          1,
          1,
          3,
          0,
          1,
          0,
          0,
          1,
          0,
          0,
          79,
          0,
          9,
          0,
          0,
          951,
          0,
          0,
          3,
          0,
          0,
          2,
          1,
          1,
          8,
          4,
          1,
          0,
          8,
          30,
          52,
          0,
          0,
          17,
          4,
          0,
          0,
          0,
          0,
          0,
          1,
          3,
          0,
          0,
          0,
          3,
          10,
          0,
          1,
          1,
          0,
          1,
          0,
          0,
          3,
          2,
          0,
          0,
          6,
          0,
          0,
          1,
          0,
          0,
          0,
          0,
          5,
          0,
          1,
          0,
          0,
          3,
          0,
          0,
          3,
          2,
          0,
          0,
          6,
          0,
          0,
          1,
          0,
          0,
          0,
          0,
          5,
          0,
          1,
          0,
          0,
          3,
          0,
          0,
          0,
          0,
          1,
          1,
          0,
          0,
          0,
          0,
          0,
          1,
          0,
          3,
          0,
          0,
          1,
          1,
          0,
          0,
          0,
          0,
          1,
          1,
          0,
          0,
          0,
          0,
          0,
          2,
          0,
          0,
          3,
          0,
          1,
          4,
          1,
          1,
          10,
          0,
          0,
          2,
          6,
          0,
          0,
          1,
          0,
          2,
          0,
          1,
          6,
          0,
          1,
          0,
          1,
          0,
          2,
          2,
          0,
          0,
          0,
          0,
          0,
          0,
          0,
          1,
          1,
          2,
          19,
          1,
          0,
          1,
          7,
          0,
          2,
          5,
          0,
          0,
          0,
          5,
          1,
          0,
          0,
          0,
          0,
          1,
          0,
          0,
          1,
          1,
          0,
          0,
          0,
          0,
          0,
          0,
          5,
          1,
          0,
          0,
          0,
          0,
          1,
          0,
          0,
          1,
          1,
          0,
          0,
          0,
          0,
          0,
          0,
          0,
          0,
          0,
          0,
          0,
          1,
          8,
          6,
          1,
          0,
          1,
          7,
          0,
          2,
          0,
          0,
          0,
          3,
          0,
          1,
          0,
          0,
          1,
          2,
          1,
          0,
          0,
          0,
          1,
          4,
          0,
          0,
          0,
          0,
          0,
          1,
          0,
          1,
          1,
          0,
          3,
          1,
          0,
          0,
          0,
          0,
          0,
          6,
          1,
          1,
          1,
          0,
          0,
          0,
          0,
          0,
          2,
          2,
          1,
          1,
          0,
          7,
          0,
          2,
          0,
          0,
          0,
          0,
          1,
          0,
          0,
          0,
          0,
          3,
          11,
          0,
          1,
          1,
          0,
          88,
          0,
          0,
          0,
          0,
          0,
          0,
          0,
          0,
          1,
          0,
          1,
          0,
          0,
          1,
          1,
          0,
          88,
          0,
          0,
          0,
          0,
          0,
          0,
          0,
          0,
          1,
          0,
          1,
          0,
          0,
          8,
          3,
          9,
          1,
          1,
          0,
          1,
          0,
          0,
          0,
          9,
          3,
          0,
          1,
          0,
          0,
          0,
          0,
          1,
          2,
          0,
          3,
          0,
          11,
          0,
          6,
          1,
          1,
          0,
          0,
          0,
          0,
          0,
          0,
          0,
          0,
          0,
          1,
          4,
          8,
          1,
          0,
          0,
          1,
          0,
          3,
          6,
          0,
          0,
          1,
          0,
          16,
          0,
          3,
          1,
          0,
          2,
          1,
          0,
          0,
          0,
          1,
          1,
          1,
          0,
          0,
          0,
          1,
          3,
          1,
          0,
          0,
          0,
          0,
          0,
          1
         ]
        }
       ],
       "layout": {
        "barmode": "overlay",
        "template": {
         "data": {
          "bar": [
           {
            "error_x": {
             "color": "#2a3f5f"
            },
            "error_y": {
             "color": "#2a3f5f"
            },
            "marker": {
             "line": {
              "color": "#E5ECF6",
              "width": 0.5
             }
            },
            "type": "bar"
           }
          ],
          "barpolar": [
           {
            "marker": {
             "line": {
              "color": "#E5ECF6",
              "width": 0.5
             }
            },
            "type": "barpolar"
           }
          ],
          "carpet": [
           {
            "aaxis": {
             "endlinecolor": "#2a3f5f",
             "gridcolor": "white",
             "linecolor": "white",
             "minorgridcolor": "white",
             "startlinecolor": "#2a3f5f"
            },
            "baxis": {
             "endlinecolor": "#2a3f5f",
             "gridcolor": "white",
             "linecolor": "white",
             "minorgridcolor": "white",
             "startlinecolor": "#2a3f5f"
            },
            "type": "carpet"
           }
          ],
          "choropleth": [
           {
            "colorbar": {
             "outlinewidth": 0,
             "ticks": ""
            },
            "type": "choropleth"
           }
          ],
          "contour": [
           {
            "colorbar": {
             "outlinewidth": 0,
             "ticks": ""
            },
            "colorscale": [
             [
              0,
              "#0d0887"
             ],
             [
              0.1111111111111111,
              "#46039f"
             ],
             [
              0.2222222222222222,
              "#7201a8"
             ],
             [
              0.3333333333333333,
              "#9c179e"
             ],
             [
              0.4444444444444444,
              "#bd3786"
             ],
             [
              0.5555555555555556,
              "#d8576b"
             ],
             [
              0.6666666666666666,
              "#ed7953"
             ],
             [
              0.7777777777777778,
              "#fb9f3a"
             ],
             [
              0.8888888888888888,
              "#fdca26"
             ],
             [
              1,
              "#f0f921"
             ]
            ],
            "type": "contour"
           }
          ],
          "contourcarpet": [
           {
            "colorbar": {
             "outlinewidth": 0,
             "ticks": ""
            },
            "type": "contourcarpet"
           }
          ],
          "heatmap": [
           {
            "colorbar": {
             "outlinewidth": 0,
             "ticks": ""
            },
            "colorscale": [
             [
              0,
              "#0d0887"
             ],
             [
              0.1111111111111111,
              "#46039f"
             ],
             [
              0.2222222222222222,
              "#7201a8"
             ],
             [
              0.3333333333333333,
              "#9c179e"
             ],
             [
              0.4444444444444444,
              "#bd3786"
             ],
             [
              0.5555555555555556,
              "#d8576b"
             ],
             [
              0.6666666666666666,
              "#ed7953"
             ],
             [
              0.7777777777777778,
              "#fb9f3a"
             ],
             [
              0.8888888888888888,
              "#fdca26"
             ],
             [
              1,
              "#f0f921"
             ]
            ],
            "type": "heatmap"
           }
          ],
          "heatmapgl": [
           {
            "colorbar": {
             "outlinewidth": 0,
             "ticks": ""
            },
            "colorscale": [
             [
              0,
              "#0d0887"
             ],
             [
              0.1111111111111111,
              "#46039f"
             ],
             [
              0.2222222222222222,
              "#7201a8"
             ],
             [
              0.3333333333333333,
              "#9c179e"
             ],
             [
              0.4444444444444444,
              "#bd3786"
             ],
             [
              0.5555555555555556,
              "#d8576b"
             ],
             [
              0.6666666666666666,
              "#ed7953"
             ],
             [
              0.7777777777777778,
              "#fb9f3a"
             ],
             [
              0.8888888888888888,
              "#fdca26"
             ],
             [
              1,
              "#f0f921"
             ]
            ],
            "type": "heatmapgl"
           }
          ],
          "histogram": [
           {
            "marker": {
             "colorbar": {
              "outlinewidth": 0,
              "ticks": ""
             }
            },
            "type": "histogram"
           }
          ],
          "histogram2d": [
           {
            "colorbar": {
             "outlinewidth": 0,
             "ticks": ""
            },
            "colorscale": [
             [
              0,
              "#0d0887"
             ],
             [
              0.1111111111111111,
              "#46039f"
             ],
             [
              0.2222222222222222,
              "#7201a8"
             ],
             [
              0.3333333333333333,
              "#9c179e"
             ],
             [
              0.4444444444444444,
              "#bd3786"
             ],
             [
              0.5555555555555556,
              "#d8576b"
             ],
             [
              0.6666666666666666,
              "#ed7953"
             ],
             [
              0.7777777777777778,
              "#fb9f3a"
             ],
             [
              0.8888888888888888,
              "#fdca26"
             ],
             [
              1,
              "#f0f921"
             ]
            ],
            "type": "histogram2d"
           }
          ],
          "histogram2dcontour": [
           {
            "colorbar": {
             "outlinewidth": 0,
             "ticks": ""
            },
            "colorscale": [
             [
              0,
              "#0d0887"
             ],
             [
              0.1111111111111111,
              "#46039f"
             ],
             [
              0.2222222222222222,
              "#7201a8"
             ],
             [
              0.3333333333333333,
              "#9c179e"
             ],
             [
              0.4444444444444444,
              "#bd3786"
             ],
             [
              0.5555555555555556,
              "#d8576b"
             ],
             [
              0.6666666666666666,
              "#ed7953"
             ],
             [
              0.7777777777777778,
              "#fb9f3a"
             ],
             [
              0.8888888888888888,
              "#fdca26"
             ],
             [
              1,
              "#f0f921"
             ]
            ],
            "type": "histogram2dcontour"
           }
          ],
          "mesh3d": [
           {
            "colorbar": {
             "outlinewidth": 0,
             "ticks": ""
            },
            "type": "mesh3d"
           }
          ],
          "parcoords": [
           {
            "line": {
             "colorbar": {
              "outlinewidth": 0,
              "ticks": ""
             }
            },
            "type": "parcoords"
           }
          ],
          "pie": [
           {
            "automargin": true,
            "type": "pie"
           }
          ],
          "scatter": [
           {
            "marker": {
             "colorbar": {
              "outlinewidth": 0,
              "ticks": ""
             }
            },
            "type": "scatter"
           }
          ],
          "scatter3d": [
           {
            "line": {
             "colorbar": {
              "outlinewidth": 0,
              "ticks": ""
             }
            },
            "marker": {
             "colorbar": {
              "outlinewidth": 0,
              "ticks": ""
             }
            },
            "type": "scatter3d"
           }
          ],
          "scattercarpet": [
           {
            "marker": {
             "colorbar": {
              "outlinewidth": 0,
              "ticks": ""
             }
            },
            "type": "scattercarpet"
           }
          ],
          "scattergeo": [
           {
            "marker": {
             "colorbar": {
              "outlinewidth": 0,
              "ticks": ""
             }
            },
            "type": "scattergeo"
           }
          ],
          "scattergl": [
           {
            "marker": {
             "colorbar": {
              "outlinewidth": 0,
              "ticks": ""
             }
            },
            "type": "scattergl"
           }
          ],
          "scattermapbox": [
           {
            "marker": {
             "colorbar": {
              "outlinewidth": 0,
              "ticks": ""
             }
            },
            "type": "scattermapbox"
           }
          ],
          "scatterpolar": [
           {
            "marker": {
             "colorbar": {
              "outlinewidth": 0,
              "ticks": ""
             }
            },
            "type": "scatterpolar"
           }
          ],
          "scatterpolargl": [
           {
            "marker": {
             "colorbar": {
              "outlinewidth": 0,
              "ticks": ""
             }
            },
            "type": "scatterpolargl"
           }
          ],
          "scatterternary": [
           {
            "marker": {
             "colorbar": {
              "outlinewidth": 0,
              "ticks": ""
             }
            },
            "type": "scatterternary"
           }
          ],
          "surface": [
           {
            "colorbar": {
             "outlinewidth": 0,
             "ticks": ""
            },
            "colorscale": [
             [
              0,
              "#0d0887"
             ],
             [
              0.1111111111111111,
              "#46039f"
             ],
             [
              0.2222222222222222,
              "#7201a8"
             ],
             [
              0.3333333333333333,
              "#9c179e"
             ],
             [
              0.4444444444444444,
              "#bd3786"
             ],
             [
              0.5555555555555556,
              "#d8576b"
             ],
             [
              0.6666666666666666,
              "#ed7953"
             ],
             [
              0.7777777777777778,
              "#fb9f3a"
             ],
             [
              0.8888888888888888,
              "#fdca26"
             ],
             [
              1,
              "#f0f921"
             ]
            ],
            "type": "surface"
           }
          ],
          "table": [
           {
            "cells": {
             "fill": {
              "color": "#EBF0F8"
             },
             "line": {
              "color": "white"
             }
            },
            "header": {
             "fill": {
              "color": "#C8D4E3"
             },
             "line": {
              "color": "white"
             }
            },
            "type": "table"
           }
          ]
         },
         "layout": {
          "annotationdefaults": {
           "arrowcolor": "#2a3f5f",
           "arrowhead": 0,
           "arrowwidth": 1
          },
          "coloraxis": {
           "colorbar": {
            "outlinewidth": 0,
            "ticks": ""
           }
          },
          "colorscale": {
           "diverging": [
            [
             0,
             "#8e0152"
            ],
            [
             0.1,
             "#c51b7d"
            ],
            [
             0.2,
             "#de77ae"
            ],
            [
             0.3,
             "#f1b6da"
            ],
            [
             0.4,
             "#fde0ef"
            ],
            [
             0.5,
             "#f7f7f7"
            ],
            [
             0.6,
             "#e6f5d0"
            ],
            [
             0.7,
             "#b8e186"
            ],
            [
             0.8,
             "#7fbc41"
            ],
            [
             0.9,
             "#4d9221"
            ],
            [
             1,
             "#276419"
            ]
           ],
           "sequential": [
            [
             0,
             "#0d0887"
            ],
            [
             0.1111111111111111,
             "#46039f"
            ],
            [
             0.2222222222222222,
             "#7201a8"
            ],
            [
             0.3333333333333333,
             "#9c179e"
            ],
            [
             0.4444444444444444,
             "#bd3786"
            ],
            [
             0.5555555555555556,
             "#d8576b"
            ],
            [
             0.6666666666666666,
             "#ed7953"
            ],
            [
             0.7777777777777778,
             "#fb9f3a"
            ],
            [
             0.8888888888888888,
             "#fdca26"
            ],
            [
             1,
             "#f0f921"
            ]
           ],
           "sequentialminus": [
            [
             0,
             "#0d0887"
            ],
            [
             0.1111111111111111,
             "#46039f"
            ],
            [
             0.2222222222222222,
             "#7201a8"
            ],
            [
             0.3333333333333333,
             "#9c179e"
            ],
            [
             0.4444444444444444,
             "#bd3786"
            ],
            [
             0.5555555555555556,
             "#d8576b"
            ],
            [
             0.6666666666666666,
             "#ed7953"
            ],
            [
             0.7777777777777778,
             "#fb9f3a"
            ],
            [
             0.8888888888888888,
             "#fdca26"
            ],
            [
             1,
             "#f0f921"
            ]
           ]
          },
          "colorway": [
           "#636efa",
           "#EF553B",
           "#00cc96",
           "#ab63fa",
           "#FFA15A",
           "#19d3f3",
           "#FF6692",
           "#B6E880",
           "#FF97FF",
           "#FECB52"
          ],
          "font": {
           "color": "#2a3f5f"
          },
          "geo": {
           "bgcolor": "white",
           "lakecolor": "white",
           "landcolor": "#E5ECF6",
           "showlakes": true,
           "showland": true,
           "subunitcolor": "white"
          },
          "hoverlabel": {
           "align": "left"
          },
          "hovermode": "closest",
          "mapbox": {
           "style": "light"
          },
          "paper_bgcolor": "white",
          "plot_bgcolor": "#E5ECF6",
          "polar": {
           "angularaxis": {
            "gridcolor": "white",
            "linecolor": "white",
            "ticks": ""
           },
           "bgcolor": "#E5ECF6",
           "radialaxis": {
            "gridcolor": "white",
            "linecolor": "white",
            "ticks": ""
           }
          },
          "scene": {
           "xaxis": {
            "backgroundcolor": "#E5ECF6",
            "gridcolor": "white",
            "gridwidth": 2,
            "linecolor": "white",
            "showbackground": true,
            "ticks": "",
            "zerolinecolor": "white"
           },
           "yaxis": {
            "backgroundcolor": "#E5ECF6",
            "gridcolor": "white",
            "gridwidth": 2,
            "linecolor": "white",
            "showbackground": true,
            "ticks": "",
            "zerolinecolor": "white"
           },
           "zaxis": {
            "backgroundcolor": "#E5ECF6",
            "gridcolor": "white",
            "gridwidth": 2,
            "linecolor": "white",
            "showbackground": true,
            "ticks": "",
            "zerolinecolor": "white"
           }
          },
          "shapedefaults": {
           "line": {
            "color": "#2a3f5f"
           }
          },
          "ternary": {
           "aaxis": {
            "gridcolor": "white",
            "linecolor": "white",
            "ticks": ""
           },
           "baxis": {
            "gridcolor": "white",
            "linecolor": "white",
            "ticks": ""
           },
           "bgcolor": "#E5ECF6",
           "caxis": {
            "gridcolor": "white",
            "linecolor": "white",
            "ticks": ""
           }
          },
          "title": {
           "x": 0.05
          },
          "xaxis": {
           "automargin": true,
           "gridcolor": "white",
           "linecolor": "white",
           "ticks": "",
           "title": {
            "standoff": 15
           },
           "zerolinecolor": "white",
           "zerolinewidth": 2
          },
          "yaxis": {
           "automargin": true,
           "gridcolor": "white",
           "linecolor": "white",
           "ticks": "",
           "title": {
            "standoff": 15
           },
           "zerolinecolor": "white",
           "zerolinewidth": 2
          }
         }
        },
        "title": {
         "text": "Tweet Like Distribution, 2 days after"
        },
        "xaxis": {
         "range": [
          0,
          20
         ]
        }
       }
      },
      "text/html": [
       "<div>\n",
       "        \n",
       "        \n",
       "            <div id=\"6675e218-4371-45dc-aeee-ee375d9725c9\" class=\"plotly-graph-div\" style=\"height:525px; width:100%;\"></div>\n",
       "            <script type=\"text/javascript\">\n",
       "                require([\"plotly\"], function(Plotly) {\n",
       "                    window.PLOTLYENV=window.PLOTLYENV || {};\n",
       "                    window.PLOTLYENV.BASE_URL='https://plot.ly';\n",
       "                    \n",
       "                if (document.getElementById(\"6675e218-4371-45dc-aeee-ee375d9725c9\")) {\n",
       "                    Plotly.newPlot(\n",
       "                        '6675e218-4371-45dc-aeee-ee375d9725c9',\n",
       "                        [{\"histfunc\": \"count\", \"histnorm\": \"\", \"marker\": {\"color\": \"rgba(255, 153, 51, 1.0)\", \"line\": {\"color\": \"#000000\", \"width\": 1.3}}, \"name\": \"likes\", \"nbinsx\": 1000, \"opacity\": 0.8, \"orientation\": \"v\", \"type\": \"histogram\", \"x\": [1, 1, 0, 2, 243, 0, 5, 0, 3, 0, 0, 2, 3, 0, 3, 3, 203, 1, 1, 1, 0, 2, 243, 0, 5, 0, 3, 0, 0, 2, 3, 0, 3, 3, 203, 1, 0, 0, 1, 1, 1, 0, 2, 0, 1, 0, 0, 0, 0, 2, 0, 0, 0, 1, 2, 3, 11, 3, 1, 4, 6, 0, 0, 0, 5, 0, 0, 9, 0, 0, 1, 0, 2, 6, 3, 0, 0, 1, 1, 2, 0, 2, 7, 0, 0, 0, 1, 5, 3, 0, 10, 0, 1, 2, 0, 1, 0, 0, 11, 3, 0, 0, 0, 0, 2, 0, 0, 8, 0, 0, 0, 0, 0, 3, 0, 0, 2, 0, 1, 1, 0, 0, 0, 0, 5, 0, 0, 0, 0, 1411, 0, 0, 0, 3, 0, 0, 2, 0, 1, 1, 0, 0, 0, 0, 5, 0, 0, 0, 0, 1411, 0, 1, 0, 0, 0, 0, 0, 6, 0, 1, 1, 1, 160, 1, 0, 0, 0, 0, 210, 0, 0, 2, 0, 1, 5, 2, 0, 7, 0, 2, 0, 0, 0, 37, 0, 0, 1, 0, 0, 1, 0, 1, 0, 0, 1, 0, 0, 0, 0, 0, 0, 0, 0, 0, 0, 2, 1, 1, 0, 1, 0, 0, 0, 8, 0, 2, 1, 3, 0, 1, 1, 57, 3, 0, 2, 2, 0, 0, 1, 0, 1, 1, 0, 0, 1, 1, 0, 0, 4, 3, 3, 0, 0, 1, 0, 0, 0, 1, 0, 1, 1, 0, 0, 1, 1, 0, 0, 4, 3, 3, 0, 0, 1, 0, 0, 2, 0, 0, 1, 1, 0, 0, 0, 0, 0, 0, 1, 0, 0, 0, 0, 0, 2, 0, 2, 0, 0, 0, 1, 1, 0, 0, 1, 0, 0, 0, 0, 0, 1, 0, 4, 5, 1, 0, 0, 3, 1, 4, 0, 0, 0, 0, 0, 0, 0, 0, 0, 0, 11, 0, 2, 0, 0, 0, 0, 43, 2, 0, 0, 0, 0, 1, 0, 1, 1, 0, 9, 0, 1, 0, 0, 1, 85, 0, 0, 0, 0, 15, 1, 0, 359, 0, 0, 0, 0, 1, 0, 0, 0, 1, 85, 0, 0, 0, 0, 15, 1, 0, 359, 0, 0, 0, 0, 1, 0, 0, 0, 2, 0, 0, 0, 8, 1, 5, 0, 0, 6, 3, 1, 4, 0, 0, 1, 1, 35, 2, 0, 18, 3, 0, 2, 0, 0, 2, 0, 4, 1, 338, 5, 0, 4, 0, 0, 1, 0, 0, 1, 0, 0, 3, 21, 8, 0, 35, 0, 3, 1, 4, 306, 0, 0, 0, 0, 0, 0, 33, 0, 0, 12, 0, 1, 0, 0, 0, 0, 2, 0, 6, 0, 0, 1, 0, 0, 24, 0, 4, 9, 5, 0, 1, 0, 3, 0, 14, 0, 1, 1, 2, 10, 0, 1, 0, 0, 24, 0, 4, 9, 5, 0, 1, 0, 3, 0, 14, 0, 1, 1, 2, 10, 0, 1, 68, 1, 1, 2, 0, 4, 1, 1, 0, 5, 7, 6, 0, 6, 0, 0, 0, 1, 4, 0, 0, 0, 1, 0, 2, 1, 0, 1, 0, 0, 5, 0, 3, 0, 0, 1, 0, 0, 0, 0, 1, 0, 0, 2, 0, 0, 0, 0, 4, 0, 0, 2, 0, 0, 4, 0, 17, 0, 0, 6, 1, 81, 0, 0, 0, 1, 0, 0, 1, 0, 0, 1, 0, 1, 3, 0, 3, 0, 13, 0, 27, 0, 0, 0, 1, 0, 1, 19, 0, 1, 2, 1, 0, 24, 0, 13, 0, 27, 0, 0, 0, 1, 0, 1, 19, 0, 1, 2, 1, 0, 24, 1, 2, 0, 0, 0, 0, 1, 8, 10, 0, 0, 3, 0, 0, 2, 2, 0, 0, 0, 1, 1, 1, 0, 1, 1, 7, 1, 1, 2, 202, 0, 0, 0, 0, 0, 1, 1, 4, 37, 3, 0, 1, 0, 1, 0, 12, 1, 1, 0, 1, 0, 1, 0, 0, 2, 2, 5, 2, 1, 0, 0, 0, 0, 4, 0, 0, 0, 1, 3, 0, 1, 45, 1, 0, 0, 43, 4, 0, 0, 0, 1, 2, 0, 0, 0, 1, 88, 4, 3, 0, 0, 0, 1, 0, 0, 43, 4, 0, 0, 0, 1, 2, 0, 0, 0, 1, 88, 4, 3, 0, 0, 0, 0, 0, 0, 0, 1, 3, 0, 117, 1, 0, 0, 0, 0, 63, 0, 0, 0, 0, 0, 0, 0, 1, 1, 1, 1, 3, 0, 1, 0, 0, 1, 0, 0, 79, 0, 9, 0, 0, 951, 0, 0, 3, 0, 0, 2, 1, 1, 8, 4, 1, 0, 8, 30, 52, 0, 0, 17, 4, 0, 0, 0, 0, 0, 1, 3, 0, 0, 0, 3, 10, 0, 1, 1, 0, 1, 0, 0, 3, 2, 0, 0, 6, 0, 0, 1, 0, 0, 0, 0, 5, 0, 1, 0, 0, 3, 0, 0, 3, 2, 0, 0, 6, 0, 0, 1, 0, 0, 0, 0, 5, 0, 1, 0, 0, 3, 0, 0, 0, 0, 1, 1, 0, 0, 0, 0, 0, 1, 0, 3, 0, 0, 1, 1, 0, 0, 0, 0, 1, 1, 0, 0, 0, 0, 0, 2, 0, 0, 3, 0, 1, 4, 1, 1, 10, 0, 0, 2, 6, 0, 0, 1, 0, 2, 0, 1, 6, 0, 1, 0, 1, 0, 2, 2, 0, 0, 0, 0, 0, 0, 0, 1, 1, 2, 19, 1, 0, 1, 7, 0, 2, 5, 0, 0, 0, 5, 1, 0, 0, 0, 0, 1, 0, 0, 1, 1, 0, 0, 0, 0, 0, 0, 5, 1, 0, 0, 0, 0, 1, 0, 0, 1, 1, 0, 0, 0, 0, 0, 0, 0, 0, 0, 0, 0, 1, 8, 6, 1, 0, 1, 7, 0, 2, 0, 0, 0, 3, 0, 1, 0, 0, 1, 2, 1, 0, 0, 0, 1, 4, 0, 0, 0, 0, 0, 1, 0, 1, 1, 0, 3, 1, 0, 0, 0, 0, 0, 6, 1, 1, 1, 0, 0, 0, 0, 0, 2, 2, 1, 1, 0, 7, 0, 2, 0, 0, 0, 0, 1, 0, 0, 0, 0, 3, 11, 0, 1, 1, 0, 88, 0, 0, 0, 0, 0, 0, 0, 0, 1, 0, 1, 0, 0, 1, 1, 0, 88, 0, 0, 0, 0, 0, 0, 0, 0, 1, 0, 1, 0, 0, 8, 3, 9, 1, 1, 0, 1, 0, 0, 0, 9, 3, 0, 1, 0, 0, 0, 0, 1, 2, 0, 3, 0, 11, 0, 6, 1, 1, 0, 0, 0, 0, 0, 0, 0, 0, 0, 1, 4, 8, 1, 0, 0, 1, 0, 3, 6, 0, 0, 1, 0, 16, 0, 3, 1, 0, 2, 1, 0, 0, 0, 1, 1, 1, 0, 0, 0, 1, 3, 1, 0, 0, 0, 0, 0, 1]}],\n",
       "                        {\"barmode\": \"overlay\", \"template\": {\"data\": {\"bar\": [{\"error_x\": {\"color\": \"#2a3f5f\"}, \"error_y\": {\"color\": \"#2a3f5f\"}, \"marker\": {\"line\": {\"color\": \"#E5ECF6\", \"width\": 0.5}}, \"type\": \"bar\"}], \"barpolar\": [{\"marker\": {\"line\": {\"color\": \"#E5ECF6\", \"width\": 0.5}}, \"type\": \"barpolar\"}], \"carpet\": [{\"aaxis\": {\"endlinecolor\": \"#2a3f5f\", \"gridcolor\": \"white\", \"linecolor\": \"white\", \"minorgridcolor\": \"white\", \"startlinecolor\": \"#2a3f5f\"}, \"baxis\": {\"endlinecolor\": \"#2a3f5f\", \"gridcolor\": \"white\", \"linecolor\": \"white\", \"minorgridcolor\": \"white\", \"startlinecolor\": \"#2a3f5f\"}, \"type\": \"carpet\"}], \"choropleth\": [{\"colorbar\": {\"outlinewidth\": 0, \"ticks\": \"\"}, \"type\": \"choropleth\"}], \"contour\": [{\"colorbar\": {\"outlinewidth\": 0, \"ticks\": \"\"}, \"colorscale\": [[0.0, \"#0d0887\"], [0.1111111111111111, \"#46039f\"], [0.2222222222222222, \"#7201a8\"], [0.3333333333333333, \"#9c179e\"], [0.4444444444444444, \"#bd3786\"], [0.5555555555555556, \"#d8576b\"], [0.6666666666666666, \"#ed7953\"], [0.7777777777777778, \"#fb9f3a\"], [0.8888888888888888, \"#fdca26\"], [1.0, \"#f0f921\"]], \"type\": \"contour\"}], \"contourcarpet\": [{\"colorbar\": {\"outlinewidth\": 0, \"ticks\": \"\"}, \"type\": \"contourcarpet\"}], \"heatmap\": [{\"colorbar\": {\"outlinewidth\": 0, \"ticks\": \"\"}, \"colorscale\": [[0.0, \"#0d0887\"], [0.1111111111111111, \"#46039f\"], [0.2222222222222222, \"#7201a8\"], [0.3333333333333333, \"#9c179e\"], [0.4444444444444444, \"#bd3786\"], [0.5555555555555556, \"#d8576b\"], [0.6666666666666666, \"#ed7953\"], [0.7777777777777778, \"#fb9f3a\"], [0.8888888888888888, \"#fdca26\"], [1.0, \"#f0f921\"]], \"type\": \"heatmap\"}], \"heatmapgl\": [{\"colorbar\": {\"outlinewidth\": 0, \"ticks\": \"\"}, \"colorscale\": [[0.0, \"#0d0887\"], [0.1111111111111111, \"#46039f\"], [0.2222222222222222, \"#7201a8\"], [0.3333333333333333, \"#9c179e\"], [0.4444444444444444, \"#bd3786\"], [0.5555555555555556, \"#d8576b\"], [0.6666666666666666, \"#ed7953\"], [0.7777777777777778, \"#fb9f3a\"], [0.8888888888888888, \"#fdca26\"], [1.0, \"#f0f921\"]], \"type\": \"heatmapgl\"}], \"histogram\": [{\"marker\": {\"colorbar\": {\"outlinewidth\": 0, \"ticks\": \"\"}}, \"type\": \"histogram\"}], \"histogram2d\": [{\"colorbar\": {\"outlinewidth\": 0, \"ticks\": \"\"}, \"colorscale\": [[0.0, \"#0d0887\"], [0.1111111111111111, \"#46039f\"], [0.2222222222222222, \"#7201a8\"], [0.3333333333333333, \"#9c179e\"], [0.4444444444444444, \"#bd3786\"], [0.5555555555555556, \"#d8576b\"], [0.6666666666666666, \"#ed7953\"], [0.7777777777777778, \"#fb9f3a\"], [0.8888888888888888, \"#fdca26\"], [1.0, \"#f0f921\"]], \"type\": \"histogram2d\"}], \"histogram2dcontour\": [{\"colorbar\": {\"outlinewidth\": 0, \"ticks\": \"\"}, \"colorscale\": [[0.0, \"#0d0887\"], [0.1111111111111111, \"#46039f\"], [0.2222222222222222, \"#7201a8\"], [0.3333333333333333, \"#9c179e\"], [0.4444444444444444, \"#bd3786\"], [0.5555555555555556, \"#d8576b\"], [0.6666666666666666, \"#ed7953\"], [0.7777777777777778, \"#fb9f3a\"], [0.8888888888888888, \"#fdca26\"], [1.0, \"#f0f921\"]], \"type\": \"histogram2dcontour\"}], \"mesh3d\": [{\"colorbar\": {\"outlinewidth\": 0, \"ticks\": \"\"}, \"type\": \"mesh3d\"}], \"parcoords\": [{\"line\": {\"colorbar\": {\"outlinewidth\": 0, \"ticks\": \"\"}}, \"type\": \"parcoords\"}], \"pie\": [{\"automargin\": true, \"type\": \"pie\"}], \"scatter\": [{\"marker\": {\"colorbar\": {\"outlinewidth\": 0, \"ticks\": \"\"}}, \"type\": \"scatter\"}], \"scatter3d\": [{\"line\": {\"colorbar\": {\"outlinewidth\": 0, \"ticks\": \"\"}}, \"marker\": {\"colorbar\": {\"outlinewidth\": 0, \"ticks\": \"\"}}, \"type\": \"scatter3d\"}], \"scattercarpet\": [{\"marker\": {\"colorbar\": {\"outlinewidth\": 0, \"ticks\": \"\"}}, \"type\": \"scattercarpet\"}], \"scattergeo\": [{\"marker\": {\"colorbar\": {\"outlinewidth\": 0, \"ticks\": \"\"}}, \"type\": \"scattergeo\"}], \"scattergl\": [{\"marker\": {\"colorbar\": {\"outlinewidth\": 0, \"ticks\": \"\"}}, \"type\": \"scattergl\"}], \"scattermapbox\": [{\"marker\": {\"colorbar\": {\"outlinewidth\": 0, \"ticks\": \"\"}}, \"type\": \"scattermapbox\"}], \"scatterpolar\": [{\"marker\": {\"colorbar\": {\"outlinewidth\": 0, \"ticks\": \"\"}}, \"type\": \"scatterpolar\"}], \"scatterpolargl\": [{\"marker\": {\"colorbar\": {\"outlinewidth\": 0, \"ticks\": \"\"}}, \"type\": \"scatterpolargl\"}], \"scatterternary\": [{\"marker\": {\"colorbar\": {\"outlinewidth\": 0, \"ticks\": \"\"}}, \"type\": \"scatterternary\"}], \"surface\": [{\"colorbar\": {\"outlinewidth\": 0, \"ticks\": \"\"}, \"colorscale\": [[0.0, \"#0d0887\"], [0.1111111111111111, \"#46039f\"], [0.2222222222222222, \"#7201a8\"], [0.3333333333333333, \"#9c179e\"], [0.4444444444444444, \"#bd3786\"], [0.5555555555555556, \"#d8576b\"], [0.6666666666666666, \"#ed7953\"], [0.7777777777777778, \"#fb9f3a\"], [0.8888888888888888, \"#fdca26\"], [1.0, \"#f0f921\"]], \"type\": \"surface\"}], \"table\": [{\"cells\": {\"fill\": {\"color\": \"#EBF0F8\"}, \"line\": {\"color\": \"white\"}}, \"header\": {\"fill\": {\"color\": \"#C8D4E3\"}, \"line\": {\"color\": \"white\"}}, \"type\": \"table\"}]}, \"layout\": {\"annotationdefaults\": {\"arrowcolor\": \"#2a3f5f\", \"arrowhead\": 0, \"arrowwidth\": 1}, \"coloraxis\": {\"colorbar\": {\"outlinewidth\": 0, \"ticks\": \"\"}}, \"colorscale\": {\"diverging\": [[0, \"#8e0152\"], [0.1, \"#c51b7d\"], [0.2, \"#de77ae\"], [0.3, \"#f1b6da\"], [0.4, \"#fde0ef\"], [0.5, \"#f7f7f7\"], [0.6, \"#e6f5d0\"], [0.7, \"#b8e186\"], [0.8, \"#7fbc41\"], [0.9, \"#4d9221\"], [1, \"#276419\"]], \"sequential\": [[0.0, \"#0d0887\"], [0.1111111111111111, \"#46039f\"], [0.2222222222222222, \"#7201a8\"], [0.3333333333333333, \"#9c179e\"], [0.4444444444444444, \"#bd3786\"], [0.5555555555555556, \"#d8576b\"], [0.6666666666666666, \"#ed7953\"], [0.7777777777777778, \"#fb9f3a\"], [0.8888888888888888, \"#fdca26\"], [1.0, \"#f0f921\"]], \"sequentialminus\": [[0.0, \"#0d0887\"], [0.1111111111111111, \"#46039f\"], [0.2222222222222222, \"#7201a8\"], [0.3333333333333333, \"#9c179e\"], [0.4444444444444444, \"#bd3786\"], [0.5555555555555556, \"#d8576b\"], [0.6666666666666666, \"#ed7953\"], [0.7777777777777778, \"#fb9f3a\"], [0.8888888888888888, \"#fdca26\"], [1.0, \"#f0f921\"]]}, \"colorway\": [\"#636efa\", \"#EF553B\", \"#00cc96\", \"#ab63fa\", \"#FFA15A\", \"#19d3f3\", \"#FF6692\", \"#B6E880\", \"#FF97FF\", \"#FECB52\"], \"font\": {\"color\": \"#2a3f5f\"}, \"geo\": {\"bgcolor\": \"white\", \"lakecolor\": \"white\", \"landcolor\": \"#E5ECF6\", \"showlakes\": true, \"showland\": true, \"subunitcolor\": \"white\"}, \"hoverlabel\": {\"align\": \"left\"}, \"hovermode\": \"closest\", \"mapbox\": {\"style\": \"light\"}, \"paper_bgcolor\": \"white\", \"plot_bgcolor\": \"#E5ECF6\", \"polar\": {\"angularaxis\": {\"gridcolor\": \"white\", \"linecolor\": \"white\", \"ticks\": \"\"}, \"bgcolor\": \"#E5ECF6\", \"radialaxis\": {\"gridcolor\": \"white\", \"linecolor\": \"white\", \"ticks\": \"\"}}, \"scene\": {\"xaxis\": {\"backgroundcolor\": \"#E5ECF6\", \"gridcolor\": \"white\", \"gridwidth\": 2, \"linecolor\": \"white\", \"showbackground\": true, \"ticks\": \"\", \"zerolinecolor\": \"white\"}, \"yaxis\": {\"backgroundcolor\": \"#E5ECF6\", \"gridcolor\": \"white\", \"gridwidth\": 2, \"linecolor\": \"white\", \"showbackground\": true, \"ticks\": \"\", \"zerolinecolor\": \"white\"}, \"zaxis\": {\"backgroundcolor\": \"#E5ECF6\", \"gridcolor\": \"white\", \"gridwidth\": 2, \"linecolor\": \"white\", \"showbackground\": true, \"ticks\": \"\", \"zerolinecolor\": \"white\"}}, \"shapedefaults\": {\"line\": {\"color\": \"#2a3f5f\"}}, \"ternary\": {\"aaxis\": {\"gridcolor\": \"white\", \"linecolor\": \"white\", \"ticks\": \"\"}, \"baxis\": {\"gridcolor\": \"white\", \"linecolor\": \"white\", \"ticks\": \"\"}, \"bgcolor\": \"#E5ECF6\", \"caxis\": {\"gridcolor\": \"white\", \"linecolor\": \"white\", \"ticks\": \"\"}}, \"title\": {\"x\": 0.05}, \"xaxis\": {\"automargin\": true, \"gridcolor\": \"white\", \"linecolor\": \"white\", \"ticks\": \"\", \"title\": {\"standoff\": 15}, \"zerolinecolor\": \"white\", \"zerolinewidth\": 2}, \"yaxis\": {\"automargin\": true, \"gridcolor\": \"white\", \"linecolor\": \"white\", \"ticks\": \"\", \"title\": {\"standoff\": 15}, \"zerolinecolor\": \"white\", \"zerolinewidth\": 2}}}, \"title\": {\"text\": \"Tweet Like Distribution, 2 days after\"}, \"xaxis\": {\"range\": [0, 20]}},\n",
       "                        {\"showLink\": true, \"linkText\": \"Export to plot.ly\", \"plotlyServerURL\": \"https://plot.ly\", \"responsive\": true}\n",
       "                    ).then(function(){\n",
       "                            \n",
       "var gd = document.getElementById('6675e218-4371-45dc-aeee-ee375d9725c9');\n",
       "var x = new MutationObserver(function (mutations, observer) {{\n",
       "        var display = window.getComputedStyle(gd).display;\n",
       "        if (!display || display === 'none') {{\n",
       "            console.log([gd, 'removed!']);\n",
       "            Plotly.purge(gd);\n",
       "            observer.disconnect();\n",
       "        }}\n",
       "}});\n",
       "\n",
       "// Listen for the removal of the full notebook cells\n",
       "var notebookContainer = gd.closest('#notebook-container');\n",
       "if (notebookContainer) {{\n",
       "    x.observe(notebookContainer, {childList: true});\n",
       "}}\n",
       "\n",
       "// Listen for the clearing of the current output cell\n",
       "var outputEl = gd.closest('.output');\n",
       "if (outputEl) {{\n",
       "    x.observe(outputEl, {childList: true});\n",
       "}}\n",
       "\n",
       "                        })\n",
       "                };\n",
       "                });\n",
       "            </script>\n",
       "        </div>"
      ]
     },
     "metadata": {},
     "output_type": "display_data"
    }
   ],
   "source": [
    "import plotly \n",
    "import cufflinks as cf\n",
    "import plotly.graph_objs as go\n",
    "cf.go_offline()\n",
    "cf.set_config_file(offline=False, world_readable=True)\n",
    "#number of likes per tweet\n",
    "fig = df['likes'].iplot(\n",
    "    kind='hist',\n",
    "    bins=1000,\n",
    "    xTitle='likes',\n",
    "    linecolor='black',\n",
    "    yTitle='count',\n",
    "    layout = go.Layout(xaxis=dict(range=[0, 20]),\n",
    "    title='Tweet Like Distribution'))\n",
    "fignew = dfnew['likes'].iplot(\n",
    "    kind='hist',\n",
    "    bins=1000,\n",
    "    xTitle='likes',\n",
    "    linecolor='black',\n",
    "    yTitle='count',\n",
    "    layout = go.Layout(xaxis=dict(range=[0, 20]),\n",
    "    title='Tweet Like Distribution, 2 days after'))\n"
   ]
  },
  {
   "cell_type": "code",
   "execution_count": 11,
   "metadata": {},
   "outputs": [
    {
     "data": {
      "application/vnd.plotly.v1+json": {
       "config": {
        "linkText": "Export to plot.ly",
        "plotlyServerURL": "https://plot.ly",
        "showLink": true
       },
       "data": [
        {
         "histfunc": "count",
         "histnorm": "",
         "marker": {
          "color": "rgba(255, 153, 51, 1.0)",
          "line": {
           "color": "#000000",
           "width": 1.3
          }
         },
         "name": "word_count",
         "nbinsx": 100,
         "opacity": 0.8,
         "orientation": "v",
         "type": "histogram",
         "x": [
          7,
          8,
          14,
          13,
          33,
          5,
          8,
          6,
          6,
          18,
          16,
          4,
          4,
          8,
          29,
          12,
          6,
          5,
          18,
          11,
          null,
          null,
          null,
          null,
          null,
          null,
          null,
          null,
          null,
          null,
          null,
          null,
          null,
          null,
          null,
          null,
          null,
          null,
          8,
          12,
          11,
          18,
          33,
          47,
          20,
          27,
          7,
          29,
          19,
          28,
          9,
          38,
          13,
          46,
          34,
          11,
          4,
          27,
          5,
          9,
          16,
          17,
          31,
          61,
          8,
          18,
          16,
          33,
          6,
          17,
          9,
          21,
          24,
          47,
          23,
          38,
          10,
          51,
          2,
          6,
          23,
          10,
          26,
          58,
          16,
          42,
          30,
          8,
          46,
          14,
          14,
          3,
          29,
          2,
          8,
          27,
          6,
          13,
          19,
          8,
          42,
          27,
          6,
          5,
          55,
          17,
          10,
          4,
          14,
          14,
          31,
          8,
          18,
          17,
          9,
          9,
          48,
          16,
          9,
          26,
          28,
          38,
          26,
          40,
          15,
          60,
          31,
          21,
          10,
          26,
          18,
          18,
          6,
          54,
          6,
          10,
          6,
          41,
          15,
          8,
          16,
          8,
          36,
          18,
          31,
          14,
          25,
          8,
          6,
          61,
          15,
          22,
          13,
          16,
          9,
          11,
          24,
          47,
          7,
          9,
          19,
          17,
          39,
          10,
          33,
          14,
          6,
          9,
          8,
          13,
          4,
          48,
          5,
          23,
          3,
          46,
          8,
          8,
          37,
          54,
          17,
          15,
          3,
          32,
          5,
          17,
          12,
          5,
          29,
          44,
          14,
          30,
          20,
          10,
          5,
          8,
          17,
          7,
          25,
          28,
          24,
          10,
          26,
          47,
          24,
          42,
          19,
          27,
          15,
          8,
          5,
          9,
          43,
          47,
          13,
          5,
          17,
          38,
          9,
          43,
          6,
          5,
          48,
          14,
          38,
          23,
          27,
          6,
          28,
          7,
          22,
          32,
          13,
          17,
          16,
          6,
          11,
          21,
          24,
          14,
          4,
          7,
          12,
          57,
          16,
          41,
          null,
          21,
          35,
          35,
          39,
          38,
          47,
          41,
          7,
          41,
          13,
          10,
          51,
          13,
          43,
          48,
          12,
          22,
          10,
          16,
          8,
          16,
          17,
          11,
          4,
          17,
          34,
          19,
          31,
          20,
          18,
          47,
          31,
          15,
          4,
          12,
          16,
          21,
          53,
          27,
          19,
          20,
          4,
          2,
          17,
          25,
          5,
          25,
          37,
          11,
          34,
          9,
          27,
          31,
          17,
          28,
          23,
          17,
          37,
          16,
          20,
          41,
          59,
          27,
          21,
          10,
          46,
          28,
          9,
          28,
          15,
          56,
          33,
          48,
          19,
          29,
          26,
          24,
          11,
          32,
          48,
          5,
          37,
          7,
          47,
          19,
          51,
          46,
          16,
          26,
          26,
          31,
          33,
          49,
          17,
          52,
          18,
          39,
          23,
          15,
          20,
          17,
          15,
          48,
          9,
          11,
          17,
          32,
          5,
          23,
          20,
          52,
          17,
          15,
          52,
          12,
          24,
          17,
          23,
          10,
          24,
          16,
          52,
          32,
          17,
          15,
          9,
          5,
          40,
          17,
          41,
          8,
          36,
          31,
          29,
          11,
          8,
          8,
          27,
          12,
          7,
          5,
          40,
          46,
          6,
          5,
          50,
          46,
          13,
          7,
          48,
          17,
          6,
          38,
          3,
          47,
          15,
          13,
          6,
          7,
          56,
          17,
          9,
          10,
          15,
          10,
          25,
          14,
          45,
          37,
          13,
          4,
          33,
          53,
          31,
          43,
          12,
          14,
          14,
          8,
          15,
          7,
          22,
          44,
          22,
          14,
          38,
          10,
          11,
          26,
          7,
          8,
          44,
          22,
          13,
          null,
          41,
          42,
          31,
          11,
          3,
          30,
          11,
          23,
          19,
          33,
          8,
          33,
          20,
          3,
          41,
          36,
          18,
          4,
          43,
          7,
          4,
          19,
          10,
          30,
          20,
          36,
          13,
          9,
          16,
          5,
          45,
          24,
          26,
          13,
          10,
          4,
          12,
          17,
          5,
          29,
          3,
          17,
          19,
          5,
          13,
          28,
          11,
          36,
          12,
          11,
          32,
          15,
          12,
          14,
          8,
          7,
          52,
          21,
          4,
          10,
          26,
          27,
          13,
          12,
          22,
          42,
          16,
          23,
          26,
          12,
          11,
          8,
          15,
          17,
          33,
          24,
          8,
          38,
          27,
          8,
          48,
          17,
          50,
          null,
          null,
          null,
          null,
          null,
          null,
          null,
          null,
          null,
          null,
          null,
          null,
          null,
          null,
          null,
          null,
          null,
          null,
          null,
          null,
          17,
          14,
          9,
          51,
          55,
          4,
          8,
          50,
          54,
          28,
          43,
          13,
          30,
          14,
          28,
          6,
          9,
          20,
          20,
          4,
          17,
          7,
          19,
          47,
          11,
          12,
          38,
          5,
          31,
          12,
          18,
          22,
          4,
          51,
          17,
          23,
          20,
          13,
          9,
          10,
          51,
          10,
          4,
          13,
          5,
          6,
          17,
          17,
          6,
          12,
          1,
          15,
          4,
          38,
          49,
          11,
          51,
          10,
          32,
          19,
          8,
          6,
          null,
          55,
          57,
          5,
          25,
          15,
          23,
          37,
          17,
          15,
          17,
          4,
          4,
          19,
          22,
          3,
          17,
          17,
          39,
          51,
          51,
          12,
          12,
          36,
          35,
          17,
          17,
          29,
          24,
          15,
          4,
          52,
          36,
          8,
          50,
          17,
          10,
          30,
          6,
          10,
          16,
          12,
          22,
          15,
          14,
          7,
          42,
          54,
          32,
          3,
          17,
          15,
          17,
          31,
          16,
          8,
          45,
          6,
          20,
          10,
          17,
          14,
          4,
          9,
          42,
          24,
          17,
          22,
          60,
          3,
          12,
          17,
          17,
          5,
          23,
          17,
          49,
          17,
          6,
          10,
          23,
          10,
          20,
          26,
          20,
          13,
          7,
          12,
          24,
          14,
          11,
          52,
          11,
          36,
          12,
          12,
          3,
          11,
          10,
          4,
          36,
          13,
          7,
          23,
          17,
          5,
          9,
          19,
          19,
          9,
          13,
          16,
          34,
          17,
          39,
          36,
          7,
          20,
          9,
          17,
          47,
          4,
          27,
          23,
          3,
          3,
          33,
          18,
          11,
          44,
          41,
          15,
          21,
          17,
          12,
          9,
          22,
          14,
          13,
          45,
          58,
          21,
          11,
          44,
          9,
          18,
          16,
          12,
          13,
          8,
          10,
          40,
          9,
          10,
          11,
          7,
          46,
          11,
          7,
          23,
          17,
          47,
          40,
          16,
          4,
          16,
          18,
          12,
          24,
          15,
          5,
          13,
          51,
          5,
          6,
          11,
          34,
          15,
          20,
          41,
          8,
          51,
          28,
          15,
          18,
          51,
          13,
          51,
          53,
          32,
          32,
          17,
          40,
          4,
          20,
          20,
          52,
          19,
          18,
          30,
          16,
          11,
          28,
          44,
          29,
          16,
          34,
          12,
          50,
          13,
          9,
          12,
          17,
          51,
          26,
          26,
          17,
          25,
          11,
          20,
          44,
          17,
          8,
          50,
          41,
          23,
          15,
          21,
          26,
          44,
          12,
          8,
          13,
          22,
          17,
          18,
          41,
          4,
          34,
          10,
          17,
          15,
          6,
          8,
          35,
          48,
          4,
          9,
          15,
          17,
          22,
          12,
          11,
          23,
          17,
          38,
          3,
          13,
          5,
          15,
          19,
          49,
          9,
          15,
          3,
          13,
          31,
          12,
          23,
          30,
          17,
          6,
          9,
          17,
          6,
          24,
          17,
          7,
          8,
          20,
          13,
          21,
          29,
          13,
          24,
          14,
          13,
          22,
          55,
          17,
          53,
          43,
          10,
          50,
          40,
          45,
          11,
          38,
          26,
          55,
          12,
          35,
          9,
          10,
          6,
          17,
          8,
          28,
          16,
          17,
          43,
          47,
          8,
          16,
          12,
          12,
          43,
          17,
          12,
          14,
          12,
          16,
          5,
          5,
          13,
          35,
          null,
          14,
          17,
          14,
          3,
          4,
          12,
          31,
          15,
          15,
          18,
          7,
          8,
          27,
          39,
          15,
          22,
          19,
          34,
          14,
          17,
          27,
          20,
          11,
          14,
          25,
          25,
          31,
          17,
          14,
          15,
          10,
          17,
          17,
          16,
          15,
          14,
          20,
          17,
          22,
          4,
          4,
          10,
          null,
          9,
          17,
          17,
          38,
          10,
          36,
          4,
          17,
          4,
          18,
          48,
          5,
          4,
          8,
          16,
          33,
          47,
          6,
          17,
          17,
          8,
          31,
          32,
          14,
          26,
          21,
          17,
          14,
          17,
          15,
          43,
          22,
          18,
          10,
          17,
          32,
          18,
          22,
          9,
          15,
          53,
          11,
          10,
          33,
          3,
          17
         ]
        }
       ],
       "layout": {
        "barmode": "overlay",
        "template": {
         "data": {
          "bar": [
           {
            "error_x": {
             "color": "#2a3f5f"
            },
            "error_y": {
             "color": "#2a3f5f"
            },
            "marker": {
             "line": {
              "color": "#E5ECF6",
              "width": 0.5
             }
            },
            "type": "bar"
           }
          ],
          "barpolar": [
           {
            "marker": {
             "line": {
              "color": "#E5ECF6",
              "width": 0.5
             }
            },
            "type": "barpolar"
           }
          ],
          "carpet": [
           {
            "aaxis": {
             "endlinecolor": "#2a3f5f",
             "gridcolor": "white",
             "linecolor": "white",
             "minorgridcolor": "white",
             "startlinecolor": "#2a3f5f"
            },
            "baxis": {
             "endlinecolor": "#2a3f5f",
             "gridcolor": "white",
             "linecolor": "white",
             "minorgridcolor": "white",
             "startlinecolor": "#2a3f5f"
            },
            "type": "carpet"
           }
          ],
          "choropleth": [
           {
            "colorbar": {
             "outlinewidth": 0,
             "ticks": ""
            },
            "type": "choropleth"
           }
          ],
          "contour": [
           {
            "colorbar": {
             "outlinewidth": 0,
             "ticks": ""
            },
            "colorscale": [
             [
              0,
              "#0d0887"
             ],
             [
              0.1111111111111111,
              "#46039f"
             ],
             [
              0.2222222222222222,
              "#7201a8"
             ],
             [
              0.3333333333333333,
              "#9c179e"
             ],
             [
              0.4444444444444444,
              "#bd3786"
             ],
             [
              0.5555555555555556,
              "#d8576b"
             ],
             [
              0.6666666666666666,
              "#ed7953"
             ],
             [
              0.7777777777777778,
              "#fb9f3a"
             ],
             [
              0.8888888888888888,
              "#fdca26"
             ],
             [
              1,
              "#f0f921"
             ]
            ],
            "type": "contour"
           }
          ],
          "contourcarpet": [
           {
            "colorbar": {
             "outlinewidth": 0,
             "ticks": ""
            },
            "type": "contourcarpet"
           }
          ],
          "heatmap": [
           {
            "colorbar": {
             "outlinewidth": 0,
             "ticks": ""
            },
            "colorscale": [
             [
              0,
              "#0d0887"
             ],
             [
              0.1111111111111111,
              "#46039f"
             ],
             [
              0.2222222222222222,
              "#7201a8"
             ],
             [
              0.3333333333333333,
              "#9c179e"
             ],
             [
              0.4444444444444444,
              "#bd3786"
             ],
             [
              0.5555555555555556,
              "#d8576b"
             ],
             [
              0.6666666666666666,
              "#ed7953"
             ],
             [
              0.7777777777777778,
              "#fb9f3a"
             ],
             [
              0.8888888888888888,
              "#fdca26"
             ],
             [
              1,
              "#f0f921"
             ]
            ],
            "type": "heatmap"
           }
          ],
          "heatmapgl": [
           {
            "colorbar": {
             "outlinewidth": 0,
             "ticks": ""
            },
            "colorscale": [
             [
              0,
              "#0d0887"
             ],
             [
              0.1111111111111111,
              "#46039f"
             ],
             [
              0.2222222222222222,
              "#7201a8"
             ],
             [
              0.3333333333333333,
              "#9c179e"
             ],
             [
              0.4444444444444444,
              "#bd3786"
             ],
             [
              0.5555555555555556,
              "#d8576b"
             ],
             [
              0.6666666666666666,
              "#ed7953"
             ],
             [
              0.7777777777777778,
              "#fb9f3a"
             ],
             [
              0.8888888888888888,
              "#fdca26"
             ],
             [
              1,
              "#f0f921"
             ]
            ],
            "type": "heatmapgl"
           }
          ],
          "histogram": [
           {
            "marker": {
             "colorbar": {
              "outlinewidth": 0,
              "ticks": ""
             }
            },
            "type": "histogram"
           }
          ],
          "histogram2d": [
           {
            "colorbar": {
             "outlinewidth": 0,
             "ticks": ""
            },
            "colorscale": [
             [
              0,
              "#0d0887"
             ],
             [
              0.1111111111111111,
              "#46039f"
             ],
             [
              0.2222222222222222,
              "#7201a8"
             ],
             [
              0.3333333333333333,
              "#9c179e"
             ],
             [
              0.4444444444444444,
              "#bd3786"
             ],
             [
              0.5555555555555556,
              "#d8576b"
             ],
             [
              0.6666666666666666,
              "#ed7953"
             ],
             [
              0.7777777777777778,
              "#fb9f3a"
             ],
             [
              0.8888888888888888,
              "#fdca26"
             ],
             [
              1,
              "#f0f921"
             ]
            ],
            "type": "histogram2d"
           }
          ],
          "histogram2dcontour": [
           {
            "colorbar": {
             "outlinewidth": 0,
             "ticks": ""
            },
            "colorscale": [
             [
              0,
              "#0d0887"
             ],
             [
              0.1111111111111111,
              "#46039f"
             ],
             [
              0.2222222222222222,
              "#7201a8"
             ],
             [
              0.3333333333333333,
              "#9c179e"
             ],
             [
              0.4444444444444444,
              "#bd3786"
             ],
             [
              0.5555555555555556,
              "#d8576b"
             ],
             [
              0.6666666666666666,
              "#ed7953"
             ],
             [
              0.7777777777777778,
              "#fb9f3a"
             ],
             [
              0.8888888888888888,
              "#fdca26"
             ],
             [
              1,
              "#f0f921"
             ]
            ],
            "type": "histogram2dcontour"
           }
          ],
          "mesh3d": [
           {
            "colorbar": {
             "outlinewidth": 0,
             "ticks": ""
            },
            "type": "mesh3d"
           }
          ],
          "parcoords": [
           {
            "line": {
             "colorbar": {
              "outlinewidth": 0,
              "ticks": ""
             }
            },
            "type": "parcoords"
           }
          ],
          "pie": [
           {
            "automargin": true,
            "type": "pie"
           }
          ],
          "scatter": [
           {
            "marker": {
             "colorbar": {
              "outlinewidth": 0,
              "ticks": ""
             }
            },
            "type": "scatter"
           }
          ],
          "scatter3d": [
           {
            "line": {
             "colorbar": {
              "outlinewidth": 0,
              "ticks": ""
             }
            },
            "marker": {
             "colorbar": {
              "outlinewidth": 0,
              "ticks": ""
             }
            },
            "type": "scatter3d"
           }
          ],
          "scattercarpet": [
           {
            "marker": {
             "colorbar": {
              "outlinewidth": 0,
              "ticks": ""
             }
            },
            "type": "scattercarpet"
           }
          ],
          "scattergeo": [
           {
            "marker": {
             "colorbar": {
              "outlinewidth": 0,
              "ticks": ""
             }
            },
            "type": "scattergeo"
           }
          ],
          "scattergl": [
           {
            "marker": {
             "colorbar": {
              "outlinewidth": 0,
              "ticks": ""
             }
            },
            "type": "scattergl"
           }
          ],
          "scattermapbox": [
           {
            "marker": {
             "colorbar": {
              "outlinewidth": 0,
              "ticks": ""
             }
            },
            "type": "scattermapbox"
           }
          ],
          "scatterpolar": [
           {
            "marker": {
             "colorbar": {
              "outlinewidth": 0,
              "ticks": ""
             }
            },
            "type": "scatterpolar"
           }
          ],
          "scatterpolargl": [
           {
            "marker": {
             "colorbar": {
              "outlinewidth": 0,
              "ticks": ""
             }
            },
            "type": "scatterpolargl"
           }
          ],
          "scatterternary": [
           {
            "marker": {
             "colorbar": {
              "outlinewidth": 0,
              "ticks": ""
             }
            },
            "type": "scatterternary"
           }
          ],
          "surface": [
           {
            "colorbar": {
             "outlinewidth": 0,
             "ticks": ""
            },
            "colorscale": [
             [
              0,
              "#0d0887"
             ],
             [
              0.1111111111111111,
              "#46039f"
             ],
             [
              0.2222222222222222,
              "#7201a8"
             ],
             [
              0.3333333333333333,
              "#9c179e"
             ],
             [
              0.4444444444444444,
              "#bd3786"
             ],
             [
              0.5555555555555556,
              "#d8576b"
             ],
             [
              0.6666666666666666,
              "#ed7953"
             ],
             [
              0.7777777777777778,
              "#fb9f3a"
             ],
             [
              0.8888888888888888,
              "#fdca26"
             ],
             [
              1,
              "#f0f921"
             ]
            ],
            "type": "surface"
           }
          ],
          "table": [
           {
            "cells": {
             "fill": {
              "color": "#EBF0F8"
             },
             "line": {
              "color": "white"
             }
            },
            "header": {
             "fill": {
              "color": "#C8D4E3"
             },
             "line": {
              "color": "white"
             }
            },
            "type": "table"
           }
          ]
         },
         "layout": {
          "annotationdefaults": {
           "arrowcolor": "#2a3f5f",
           "arrowhead": 0,
           "arrowwidth": 1
          },
          "coloraxis": {
           "colorbar": {
            "outlinewidth": 0,
            "ticks": ""
           }
          },
          "colorscale": {
           "diverging": [
            [
             0,
             "#8e0152"
            ],
            [
             0.1,
             "#c51b7d"
            ],
            [
             0.2,
             "#de77ae"
            ],
            [
             0.3,
             "#f1b6da"
            ],
            [
             0.4,
             "#fde0ef"
            ],
            [
             0.5,
             "#f7f7f7"
            ],
            [
             0.6,
             "#e6f5d0"
            ],
            [
             0.7,
             "#b8e186"
            ],
            [
             0.8,
             "#7fbc41"
            ],
            [
             0.9,
             "#4d9221"
            ],
            [
             1,
             "#276419"
            ]
           ],
           "sequential": [
            [
             0,
             "#0d0887"
            ],
            [
             0.1111111111111111,
             "#46039f"
            ],
            [
             0.2222222222222222,
             "#7201a8"
            ],
            [
             0.3333333333333333,
             "#9c179e"
            ],
            [
             0.4444444444444444,
             "#bd3786"
            ],
            [
             0.5555555555555556,
             "#d8576b"
            ],
            [
             0.6666666666666666,
             "#ed7953"
            ],
            [
             0.7777777777777778,
             "#fb9f3a"
            ],
            [
             0.8888888888888888,
             "#fdca26"
            ],
            [
             1,
             "#f0f921"
            ]
           ],
           "sequentialminus": [
            [
             0,
             "#0d0887"
            ],
            [
             0.1111111111111111,
             "#46039f"
            ],
            [
             0.2222222222222222,
             "#7201a8"
            ],
            [
             0.3333333333333333,
             "#9c179e"
            ],
            [
             0.4444444444444444,
             "#bd3786"
            ],
            [
             0.5555555555555556,
             "#d8576b"
            ],
            [
             0.6666666666666666,
             "#ed7953"
            ],
            [
             0.7777777777777778,
             "#fb9f3a"
            ],
            [
             0.8888888888888888,
             "#fdca26"
            ],
            [
             1,
             "#f0f921"
            ]
           ]
          },
          "colorway": [
           "#636efa",
           "#EF553B",
           "#00cc96",
           "#ab63fa",
           "#FFA15A",
           "#19d3f3",
           "#FF6692",
           "#B6E880",
           "#FF97FF",
           "#FECB52"
          ],
          "font": {
           "color": "#2a3f5f"
          },
          "geo": {
           "bgcolor": "white",
           "lakecolor": "white",
           "landcolor": "#E5ECF6",
           "showlakes": true,
           "showland": true,
           "subunitcolor": "white"
          },
          "hoverlabel": {
           "align": "left"
          },
          "hovermode": "closest",
          "mapbox": {
           "style": "light"
          },
          "paper_bgcolor": "white",
          "plot_bgcolor": "#E5ECF6",
          "polar": {
           "angularaxis": {
            "gridcolor": "white",
            "linecolor": "white",
            "ticks": ""
           },
           "bgcolor": "#E5ECF6",
           "radialaxis": {
            "gridcolor": "white",
            "linecolor": "white",
            "ticks": ""
           }
          },
          "scene": {
           "xaxis": {
            "backgroundcolor": "#E5ECF6",
            "gridcolor": "white",
            "gridwidth": 2,
            "linecolor": "white",
            "showbackground": true,
            "ticks": "",
            "zerolinecolor": "white"
           },
           "yaxis": {
            "backgroundcolor": "#E5ECF6",
            "gridcolor": "white",
            "gridwidth": 2,
            "linecolor": "white",
            "showbackground": true,
            "ticks": "",
            "zerolinecolor": "white"
           },
           "zaxis": {
            "backgroundcolor": "#E5ECF6",
            "gridcolor": "white",
            "gridwidth": 2,
            "linecolor": "white",
            "showbackground": true,
            "ticks": "",
            "zerolinecolor": "white"
           }
          },
          "shapedefaults": {
           "line": {
            "color": "#2a3f5f"
           }
          },
          "ternary": {
           "aaxis": {
            "gridcolor": "white",
            "linecolor": "white",
            "ticks": ""
           },
           "baxis": {
            "gridcolor": "white",
            "linecolor": "white",
            "ticks": ""
           },
           "bgcolor": "#E5ECF6",
           "caxis": {
            "gridcolor": "white",
            "linecolor": "white",
            "ticks": ""
           }
          },
          "title": {
           "x": 0.05
          },
          "xaxis": {
           "automargin": true,
           "gridcolor": "white",
           "linecolor": "white",
           "ticks": "",
           "title": {
            "standoff": 15
           },
           "zerolinecolor": "white",
           "zerolinewidth": 2
          },
          "yaxis": {
           "automargin": true,
           "gridcolor": "white",
           "linecolor": "white",
           "ticks": "",
           "title": {
            "standoff": 15
           },
           "zerolinecolor": "white",
           "zerolinewidth": 2
          }
         }
        },
        "title": {
         "text": "Tweet Word Count Distribution"
        },
        "xaxis": {
         "range": [
          0,
          40
         ]
        }
       }
      },
      "text/html": [
       "<div>\n",
       "        \n",
       "        \n",
       "            <div id=\"d1fb9d98-70a7-4920-a678-050efe3cc9d5\" class=\"plotly-graph-div\" style=\"height:525px; width:100%;\"></div>\n",
       "            <script type=\"text/javascript\">\n",
       "                require([\"plotly\"], function(Plotly) {\n",
       "                    window.PLOTLYENV=window.PLOTLYENV || {};\n",
       "                    window.PLOTLYENV.BASE_URL='https://plot.ly';\n",
       "                    \n",
       "                if (document.getElementById(\"d1fb9d98-70a7-4920-a678-050efe3cc9d5\")) {\n",
       "                    Plotly.newPlot(\n",
       "                        'd1fb9d98-70a7-4920-a678-050efe3cc9d5',\n",
       "                        [{\"histfunc\": \"count\", \"histnorm\": \"\", \"marker\": {\"color\": \"rgba(255, 153, 51, 1.0)\", \"line\": {\"color\": \"#000000\", \"width\": 1.3}}, \"name\": \"word_count\", \"nbinsx\": 100, \"opacity\": 0.8, \"orientation\": \"v\", \"type\": \"histogram\", \"x\": [7.0, 8.0, 14.0, 13.0, 33.0, 5.0, 8.0, 6.0, 6.0, 18.0, 16.0, 4.0, 4.0, 8.0, 29.0, 12.0, 6.0, 5.0, 18.0, 11.0, null, null, null, null, null, null, null, null, null, null, null, null, null, null, null, null, null, null, 8.0, 12.0, 11.0, 18.0, 33.0, 47.0, 20.0, 27.0, 7.0, 29.0, 19.0, 28.0, 9.0, 38.0, 13.0, 46.0, 34.0, 11.0, 4.0, 27.0, 5.0, 9.0, 16.0, 17.0, 31.0, 61.0, 8.0, 18.0, 16.0, 33.0, 6.0, 17.0, 9.0, 21.0, 24.0, 47.0, 23.0, 38.0, 10.0, 51.0, 2.0, 6.0, 23.0, 10.0, 26.0, 58.0, 16.0, 42.0, 30.0, 8.0, 46.0, 14.0, 14.0, 3.0, 29.0, 2.0, 8.0, 27.0, 6.0, 13.0, 19.0, 8.0, 42.0, 27.0, 6.0, 5.0, 55.0, 17.0, 10.0, 4.0, 14.0, 14.0, 31.0, 8.0, 18.0, 17.0, 9.0, 9.0, 48.0, 16.0, 9.0, 26.0, 28.0, 38.0, 26.0, 40.0, 15.0, 60.0, 31.0, 21.0, 10.0, 26.0, 18.0, 18.0, 6.0, 54.0, 6.0, 10.0, 6.0, 41.0, 15.0, 8.0, 16.0, 8.0, 36.0, 18.0, 31.0, 14.0, 25.0, 8.0, 6.0, 61.0, 15.0, 22.0, 13.0, 16.0, 9.0, 11.0, 24.0, 47.0, 7.0, 9.0, 19.0, 17.0, 39.0, 10.0, 33.0, 14.0, 6.0, 9.0, 8.0, 13.0, 4.0, 48.0, 5.0, 23.0, 3.0, 46.0, 8.0, 8.0, 37.0, 54.0, 17.0, 15.0, 3.0, 32.0, 5.0, 17.0, 12.0, 5.0, 29.0, 44.0, 14.0, 30.0, 20.0, 10.0, 5.0, 8.0, 17.0, 7.0, 25.0, 28.0, 24.0, 10.0, 26.0, 47.0, 24.0, 42.0, 19.0, 27.0, 15.0, 8.0, 5.0, 9.0, 43.0, 47.0, 13.0, 5.0, 17.0, 38.0, 9.0, 43.0, 6.0, 5.0, 48.0, 14.0, 38.0, 23.0, 27.0, 6.0, 28.0, 7.0, 22.0, 32.0, 13.0, 17.0, 16.0, 6.0, 11.0, 21.0, 24.0, 14.0, 4.0, 7.0, 12.0, 57.0, 16.0, 41.0, null, 21.0, 35.0, 35.0, 39.0, 38.0, 47.0, 41.0, 7.0, 41.0, 13.0, 10.0, 51.0, 13.0, 43.0, 48.0, 12.0, 22.0, 10.0, 16.0, 8.0, 16.0, 17.0, 11.0, 4.0, 17.0, 34.0, 19.0, 31.0, 20.0, 18.0, 47.0, 31.0, 15.0, 4.0, 12.0, 16.0, 21.0, 53.0, 27.0, 19.0, 20.0, 4.0, 2.0, 17.0, 25.0, 5.0, 25.0, 37.0, 11.0, 34.0, 9.0, 27.0, 31.0, 17.0, 28.0, 23.0, 17.0, 37.0, 16.0, 20.0, 41.0, 59.0, 27.0, 21.0, 10.0, 46.0, 28.0, 9.0, 28.0, 15.0, 56.0, 33.0, 48.0, 19.0, 29.0, 26.0, 24.0, 11.0, 32.0, 48.0, 5.0, 37.0, 7.0, 47.0, 19.0, 51.0, 46.0, 16.0, 26.0, 26.0, 31.0, 33.0, 49.0, 17.0, 52.0, 18.0, 39.0, 23.0, 15.0, 20.0, 17.0, 15.0, 48.0, 9.0, 11.0, 17.0, 32.0, 5.0, 23.0, 20.0, 52.0, 17.0, 15.0, 52.0, 12.0, 24.0, 17.0, 23.0, 10.0, 24.0, 16.0, 52.0, 32.0, 17.0, 15.0, 9.0, 5.0, 40.0, 17.0, 41.0, 8.0, 36.0, 31.0, 29.0, 11.0, 8.0, 8.0, 27.0, 12.0, 7.0, 5.0, 40.0, 46.0, 6.0, 5.0, 50.0, 46.0, 13.0, 7.0, 48.0, 17.0, 6.0, 38.0, 3.0, 47.0, 15.0, 13.0, 6.0, 7.0, 56.0, 17.0, 9.0, 10.0, 15.0, 10.0, 25.0, 14.0, 45.0, 37.0, 13.0, 4.0, 33.0, 53.0, 31.0, 43.0, 12.0, 14.0, 14.0, 8.0, 15.0, 7.0, 22.0, 44.0, 22.0, 14.0, 38.0, 10.0, 11.0, 26.0, 7.0, 8.0, 44.0, 22.0, 13.0, null, 41.0, 42.0, 31.0, 11.0, 3.0, 30.0, 11.0, 23.0, 19.0, 33.0, 8.0, 33.0, 20.0, 3.0, 41.0, 36.0, 18.0, 4.0, 43.0, 7.0, 4.0, 19.0, 10.0, 30.0, 20.0, 36.0, 13.0, 9.0, 16.0, 5.0, 45.0, 24.0, 26.0, 13.0, 10.0, 4.0, 12.0, 17.0, 5.0, 29.0, 3.0, 17.0, 19.0, 5.0, 13.0, 28.0, 11.0, 36.0, 12.0, 11.0, 32.0, 15.0, 12.0, 14.0, 8.0, 7.0, 52.0, 21.0, 4.0, 10.0, 26.0, 27.0, 13.0, 12.0, 22.0, 42.0, 16.0, 23.0, 26.0, 12.0, 11.0, 8.0, 15.0, 17.0, 33.0, 24.0, 8.0, 38.0, 27.0, 8.0, 48.0, 17.0, 50.0, null, null, null, null, null, null, null, null, null, null, null, null, null, null, null, null, null, null, null, null, 17.0, 14.0, 9.0, 51.0, 55.0, 4.0, 8.0, 50.0, 54.0, 28.0, 43.0, 13.0, 30.0, 14.0, 28.0, 6.0, 9.0, 20.0, 20.0, 4.0, 17.0, 7.0, 19.0, 47.0, 11.0, 12.0, 38.0, 5.0, 31.0, 12.0, 18.0, 22.0, 4.0, 51.0, 17.0, 23.0, 20.0, 13.0, 9.0, 10.0, 51.0, 10.0, 4.0, 13.0, 5.0, 6.0, 17.0, 17.0, 6.0, 12.0, 1.0, 15.0, 4.0, 38.0, 49.0, 11.0, 51.0, 10.0, 32.0, 19.0, 8.0, 6.0, null, 55.0, 57.0, 5.0, 25.0, 15.0, 23.0, 37.0, 17.0, 15.0, 17.0, 4.0, 4.0, 19.0, 22.0, 3.0, 17.0, 17.0, 39.0, 51.0, 51.0, 12.0, 12.0, 36.0, 35.0, 17.0, 17.0, 29.0, 24.0, 15.0, 4.0, 52.0, 36.0, 8.0, 50.0, 17.0, 10.0, 30.0, 6.0, 10.0, 16.0, 12.0, 22.0, 15.0, 14.0, 7.0, 42.0, 54.0, 32.0, 3.0, 17.0, 15.0, 17.0, 31.0, 16.0, 8.0, 45.0, 6.0, 20.0, 10.0, 17.0, 14.0, 4.0, 9.0, 42.0, 24.0, 17.0, 22.0, 60.0, 3.0, 12.0, 17.0, 17.0, 5.0, 23.0, 17.0, 49.0, 17.0, 6.0, 10.0, 23.0, 10.0, 20.0, 26.0, 20.0, 13.0, 7.0, 12.0, 24.0, 14.0, 11.0, 52.0, 11.0, 36.0, 12.0, 12.0, 3.0, 11.0, 10.0, 4.0, 36.0, 13.0, 7.0, 23.0, 17.0, 5.0, 9.0, 19.0, 19.0, 9.0, 13.0, 16.0, 34.0, 17.0, 39.0, 36.0, 7.0, 20.0, 9.0, 17.0, 47.0, 4.0, 27.0, 23.0, 3.0, 3.0, 33.0, 18.0, 11.0, 44.0, 41.0, 15.0, 21.0, 17.0, 12.0, 9.0, 22.0, 14.0, 13.0, 45.0, 58.0, 21.0, 11.0, 44.0, 9.0, 18.0, 16.0, 12.0, 13.0, 8.0, 10.0, 40.0, 9.0, 10.0, 11.0, 7.0, 46.0, 11.0, 7.0, 23.0, 17.0, 47.0, 40.0, 16.0, 4.0, 16.0, 18.0, 12.0, 24.0, 15.0, 5.0, 13.0, 51.0, 5.0, 6.0, 11.0, 34.0, 15.0, 20.0, 41.0, 8.0, 51.0, 28.0, 15.0, 18.0, 51.0, 13.0, 51.0, 53.0, 32.0, 32.0, 17.0, 40.0, 4.0, 20.0, 20.0, 52.0, 19.0, 18.0, 30.0, 16.0, 11.0, 28.0, 44.0, 29.0, 16.0, 34.0, 12.0, 50.0, 13.0, 9.0, 12.0, 17.0, 51.0, 26.0, 26.0, 17.0, 25.0, 11.0, 20.0, 44.0, 17.0, 8.0, 50.0, 41.0, 23.0, 15.0, 21.0, 26.0, 44.0, 12.0, 8.0, 13.0, 22.0, 17.0, 18.0, 41.0, 4.0, 34.0, 10.0, 17.0, 15.0, 6.0, 8.0, 35.0, 48.0, 4.0, 9.0, 15.0, 17.0, 22.0, 12.0, 11.0, 23.0, 17.0, 38.0, 3.0, 13.0, 5.0, 15.0, 19.0, 49.0, 9.0, 15.0, 3.0, 13.0, 31.0, 12.0, 23.0, 30.0, 17.0, 6.0, 9.0, 17.0, 6.0, 24.0, 17.0, 7.0, 8.0, 20.0, 13.0, 21.0, 29.0, 13.0, 24.0, 14.0, 13.0, 22.0, 55.0, 17.0, 53.0, 43.0, 10.0, 50.0, 40.0, 45.0, 11.0, 38.0, 26.0, 55.0, 12.0, 35.0, 9.0, 10.0, 6.0, 17.0, 8.0, 28.0, 16.0, 17.0, 43.0, 47.0, 8.0, 16.0, 12.0, 12.0, 43.0, 17.0, 12.0, 14.0, 12.0, 16.0, 5.0, 5.0, 13.0, 35.0, null, 14.0, 17.0, 14.0, 3.0, 4.0, 12.0, 31.0, 15.0, 15.0, 18.0, 7.0, 8.0, 27.0, 39.0, 15.0, 22.0, 19.0, 34.0, 14.0, 17.0, 27.0, 20.0, 11.0, 14.0, 25.0, 25.0, 31.0, 17.0, 14.0, 15.0, 10.0, 17.0, 17.0, 16.0, 15.0, 14.0, 20.0, 17.0, 22.0, 4.0, 4.0, 10.0, null, 9.0, 17.0, 17.0, 38.0, 10.0, 36.0, 4.0, 17.0, 4.0, 18.0, 48.0, 5.0, 4.0, 8.0, 16.0, 33.0, 47.0, 6.0, 17.0, 17.0, 8.0, 31.0, 32.0, 14.0, 26.0, 21.0, 17.0, 14.0, 17.0, 15.0, 43.0, 22.0, 18.0, 10.0, 17.0, 32.0, 18.0, 22.0, 9.0, 15.0, 53.0, 11.0, 10.0, 33.0, 3.0, 17.0]}],\n",
       "                        {\"barmode\": \"overlay\", \"template\": {\"data\": {\"bar\": [{\"error_x\": {\"color\": \"#2a3f5f\"}, \"error_y\": {\"color\": \"#2a3f5f\"}, \"marker\": {\"line\": {\"color\": \"#E5ECF6\", \"width\": 0.5}}, \"type\": \"bar\"}], \"barpolar\": [{\"marker\": {\"line\": {\"color\": \"#E5ECF6\", \"width\": 0.5}}, \"type\": \"barpolar\"}], \"carpet\": [{\"aaxis\": {\"endlinecolor\": \"#2a3f5f\", \"gridcolor\": \"white\", \"linecolor\": \"white\", \"minorgridcolor\": \"white\", \"startlinecolor\": \"#2a3f5f\"}, \"baxis\": {\"endlinecolor\": \"#2a3f5f\", \"gridcolor\": \"white\", \"linecolor\": \"white\", \"minorgridcolor\": \"white\", \"startlinecolor\": \"#2a3f5f\"}, \"type\": \"carpet\"}], \"choropleth\": [{\"colorbar\": {\"outlinewidth\": 0, \"ticks\": \"\"}, \"type\": \"choropleth\"}], \"contour\": [{\"colorbar\": {\"outlinewidth\": 0, \"ticks\": \"\"}, \"colorscale\": [[0.0, \"#0d0887\"], [0.1111111111111111, \"#46039f\"], [0.2222222222222222, \"#7201a8\"], [0.3333333333333333, \"#9c179e\"], [0.4444444444444444, \"#bd3786\"], [0.5555555555555556, \"#d8576b\"], [0.6666666666666666, \"#ed7953\"], [0.7777777777777778, \"#fb9f3a\"], [0.8888888888888888, \"#fdca26\"], [1.0, \"#f0f921\"]], \"type\": \"contour\"}], \"contourcarpet\": [{\"colorbar\": {\"outlinewidth\": 0, \"ticks\": \"\"}, \"type\": \"contourcarpet\"}], \"heatmap\": [{\"colorbar\": {\"outlinewidth\": 0, \"ticks\": \"\"}, \"colorscale\": [[0.0, \"#0d0887\"], [0.1111111111111111, \"#46039f\"], [0.2222222222222222, \"#7201a8\"], [0.3333333333333333, \"#9c179e\"], [0.4444444444444444, \"#bd3786\"], [0.5555555555555556, \"#d8576b\"], [0.6666666666666666, \"#ed7953\"], [0.7777777777777778, \"#fb9f3a\"], [0.8888888888888888, \"#fdca26\"], [1.0, \"#f0f921\"]], \"type\": \"heatmap\"}], \"heatmapgl\": [{\"colorbar\": {\"outlinewidth\": 0, \"ticks\": \"\"}, \"colorscale\": [[0.0, \"#0d0887\"], [0.1111111111111111, \"#46039f\"], [0.2222222222222222, \"#7201a8\"], [0.3333333333333333, \"#9c179e\"], [0.4444444444444444, \"#bd3786\"], [0.5555555555555556, \"#d8576b\"], [0.6666666666666666, \"#ed7953\"], [0.7777777777777778, \"#fb9f3a\"], [0.8888888888888888, \"#fdca26\"], [1.0, \"#f0f921\"]], \"type\": \"heatmapgl\"}], \"histogram\": [{\"marker\": {\"colorbar\": {\"outlinewidth\": 0, \"ticks\": \"\"}}, \"type\": \"histogram\"}], \"histogram2d\": [{\"colorbar\": {\"outlinewidth\": 0, \"ticks\": \"\"}, \"colorscale\": [[0.0, \"#0d0887\"], [0.1111111111111111, \"#46039f\"], [0.2222222222222222, \"#7201a8\"], [0.3333333333333333, \"#9c179e\"], [0.4444444444444444, \"#bd3786\"], [0.5555555555555556, \"#d8576b\"], [0.6666666666666666, \"#ed7953\"], [0.7777777777777778, \"#fb9f3a\"], [0.8888888888888888, \"#fdca26\"], [1.0, \"#f0f921\"]], \"type\": \"histogram2d\"}], \"histogram2dcontour\": [{\"colorbar\": {\"outlinewidth\": 0, \"ticks\": \"\"}, \"colorscale\": [[0.0, \"#0d0887\"], [0.1111111111111111, \"#46039f\"], [0.2222222222222222, \"#7201a8\"], [0.3333333333333333, \"#9c179e\"], [0.4444444444444444, \"#bd3786\"], [0.5555555555555556, \"#d8576b\"], [0.6666666666666666, \"#ed7953\"], [0.7777777777777778, \"#fb9f3a\"], [0.8888888888888888, \"#fdca26\"], [1.0, \"#f0f921\"]], \"type\": \"histogram2dcontour\"}], \"mesh3d\": [{\"colorbar\": {\"outlinewidth\": 0, \"ticks\": \"\"}, \"type\": \"mesh3d\"}], \"parcoords\": [{\"line\": {\"colorbar\": {\"outlinewidth\": 0, \"ticks\": \"\"}}, \"type\": \"parcoords\"}], \"pie\": [{\"automargin\": true, \"type\": \"pie\"}], \"scatter\": [{\"marker\": {\"colorbar\": {\"outlinewidth\": 0, \"ticks\": \"\"}}, \"type\": \"scatter\"}], \"scatter3d\": [{\"line\": {\"colorbar\": {\"outlinewidth\": 0, \"ticks\": \"\"}}, \"marker\": {\"colorbar\": {\"outlinewidth\": 0, \"ticks\": \"\"}}, \"type\": \"scatter3d\"}], \"scattercarpet\": [{\"marker\": {\"colorbar\": {\"outlinewidth\": 0, \"ticks\": \"\"}}, \"type\": \"scattercarpet\"}], \"scattergeo\": [{\"marker\": {\"colorbar\": {\"outlinewidth\": 0, \"ticks\": \"\"}}, \"type\": \"scattergeo\"}], \"scattergl\": [{\"marker\": {\"colorbar\": {\"outlinewidth\": 0, \"ticks\": \"\"}}, \"type\": \"scattergl\"}], \"scattermapbox\": [{\"marker\": {\"colorbar\": {\"outlinewidth\": 0, \"ticks\": \"\"}}, \"type\": \"scattermapbox\"}], \"scatterpolar\": [{\"marker\": {\"colorbar\": {\"outlinewidth\": 0, \"ticks\": \"\"}}, \"type\": \"scatterpolar\"}], \"scatterpolargl\": [{\"marker\": {\"colorbar\": {\"outlinewidth\": 0, \"ticks\": \"\"}}, \"type\": \"scatterpolargl\"}], \"scatterternary\": [{\"marker\": {\"colorbar\": {\"outlinewidth\": 0, \"ticks\": \"\"}}, \"type\": \"scatterternary\"}], \"surface\": [{\"colorbar\": {\"outlinewidth\": 0, \"ticks\": \"\"}, \"colorscale\": [[0.0, \"#0d0887\"], [0.1111111111111111, \"#46039f\"], [0.2222222222222222, \"#7201a8\"], [0.3333333333333333, \"#9c179e\"], [0.4444444444444444, \"#bd3786\"], [0.5555555555555556, \"#d8576b\"], [0.6666666666666666, \"#ed7953\"], [0.7777777777777778, \"#fb9f3a\"], [0.8888888888888888, \"#fdca26\"], [1.0, \"#f0f921\"]], \"type\": \"surface\"}], \"table\": [{\"cells\": {\"fill\": {\"color\": \"#EBF0F8\"}, \"line\": {\"color\": \"white\"}}, \"header\": {\"fill\": {\"color\": \"#C8D4E3\"}, \"line\": {\"color\": \"white\"}}, \"type\": \"table\"}]}, \"layout\": {\"annotationdefaults\": {\"arrowcolor\": \"#2a3f5f\", \"arrowhead\": 0, \"arrowwidth\": 1}, \"coloraxis\": {\"colorbar\": {\"outlinewidth\": 0, \"ticks\": \"\"}}, \"colorscale\": {\"diverging\": [[0, \"#8e0152\"], [0.1, \"#c51b7d\"], [0.2, \"#de77ae\"], [0.3, \"#f1b6da\"], [0.4, \"#fde0ef\"], [0.5, \"#f7f7f7\"], [0.6, \"#e6f5d0\"], [0.7, \"#b8e186\"], [0.8, \"#7fbc41\"], [0.9, \"#4d9221\"], [1, \"#276419\"]], \"sequential\": [[0.0, \"#0d0887\"], [0.1111111111111111, \"#46039f\"], [0.2222222222222222, \"#7201a8\"], [0.3333333333333333, \"#9c179e\"], [0.4444444444444444, \"#bd3786\"], [0.5555555555555556, \"#d8576b\"], [0.6666666666666666, \"#ed7953\"], [0.7777777777777778, \"#fb9f3a\"], [0.8888888888888888, \"#fdca26\"], [1.0, \"#f0f921\"]], \"sequentialminus\": [[0.0, \"#0d0887\"], [0.1111111111111111, \"#46039f\"], [0.2222222222222222, \"#7201a8\"], [0.3333333333333333, \"#9c179e\"], [0.4444444444444444, \"#bd3786\"], [0.5555555555555556, \"#d8576b\"], [0.6666666666666666, \"#ed7953\"], [0.7777777777777778, \"#fb9f3a\"], [0.8888888888888888, \"#fdca26\"], [1.0, \"#f0f921\"]]}, \"colorway\": [\"#636efa\", \"#EF553B\", \"#00cc96\", \"#ab63fa\", \"#FFA15A\", \"#19d3f3\", \"#FF6692\", \"#B6E880\", \"#FF97FF\", \"#FECB52\"], \"font\": {\"color\": \"#2a3f5f\"}, \"geo\": {\"bgcolor\": \"white\", \"lakecolor\": \"white\", \"landcolor\": \"#E5ECF6\", \"showlakes\": true, \"showland\": true, \"subunitcolor\": \"white\"}, \"hoverlabel\": {\"align\": \"left\"}, \"hovermode\": \"closest\", \"mapbox\": {\"style\": \"light\"}, \"paper_bgcolor\": \"white\", \"plot_bgcolor\": \"#E5ECF6\", \"polar\": {\"angularaxis\": {\"gridcolor\": \"white\", \"linecolor\": \"white\", \"ticks\": \"\"}, \"bgcolor\": \"#E5ECF6\", \"radialaxis\": {\"gridcolor\": \"white\", \"linecolor\": \"white\", \"ticks\": \"\"}}, \"scene\": {\"xaxis\": {\"backgroundcolor\": \"#E5ECF6\", \"gridcolor\": \"white\", \"gridwidth\": 2, \"linecolor\": \"white\", \"showbackground\": true, \"ticks\": \"\", \"zerolinecolor\": \"white\"}, \"yaxis\": {\"backgroundcolor\": \"#E5ECF6\", \"gridcolor\": \"white\", \"gridwidth\": 2, \"linecolor\": \"white\", \"showbackground\": true, \"ticks\": \"\", \"zerolinecolor\": \"white\"}, \"zaxis\": {\"backgroundcolor\": \"#E5ECF6\", \"gridcolor\": \"white\", \"gridwidth\": 2, \"linecolor\": \"white\", \"showbackground\": true, \"ticks\": \"\", \"zerolinecolor\": \"white\"}}, \"shapedefaults\": {\"line\": {\"color\": \"#2a3f5f\"}}, \"ternary\": {\"aaxis\": {\"gridcolor\": \"white\", \"linecolor\": \"white\", \"ticks\": \"\"}, \"baxis\": {\"gridcolor\": \"white\", \"linecolor\": \"white\", \"ticks\": \"\"}, \"bgcolor\": \"#E5ECF6\", \"caxis\": {\"gridcolor\": \"white\", \"linecolor\": \"white\", \"ticks\": \"\"}}, \"title\": {\"x\": 0.05}, \"xaxis\": {\"automargin\": true, \"gridcolor\": \"white\", \"linecolor\": \"white\", \"ticks\": \"\", \"title\": {\"standoff\": 15}, \"zerolinecolor\": \"white\", \"zerolinewidth\": 2}, \"yaxis\": {\"automargin\": true, \"gridcolor\": \"white\", \"linecolor\": \"white\", \"ticks\": \"\", \"title\": {\"standoff\": 15}, \"zerolinecolor\": \"white\", \"zerolinewidth\": 2}}}, \"title\": {\"text\": \"Tweet Word Count Distribution\"}, \"xaxis\": {\"range\": [0, 40]}},\n",
       "                        {\"showLink\": true, \"linkText\": \"Export to plot.ly\", \"plotlyServerURL\": \"https://plot.ly\", \"responsive\": true}\n",
       "                    ).then(function(){\n",
       "                            \n",
       "var gd = document.getElementById('d1fb9d98-70a7-4920-a678-050efe3cc9d5');\n",
       "var x = new MutationObserver(function (mutations, observer) {{\n",
       "        var display = window.getComputedStyle(gd).display;\n",
       "        if (!display || display === 'none') {{\n",
       "            console.log([gd, 'removed!']);\n",
       "            Plotly.purge(gd);\n",
       "            observer.disconnect();\n",
       "        }}\n",
       "}});\n",
       "\n",
       "// Listen for the removal of the full notebook cells\n",
       "var notebookContainer = gd.closest('#notebook-container');\n",
       "if (notebookContainer) {{\n",
       "    x.observe(notebookContainer, {childList: true});\n",
       "}}\n",
       "\n",
       "// Listen for the clearing of the current output cell\n",
       "var outputEl = gd.closest('.output');\n",
       "if (outputEl) {{\n",
       "    x.observe(outputEl, {childList: true});\n",
       "}}\n",
       "\n",
       "                        })\n",
       "                };\n",
       "                });\n",
       "            </script>\n",
       "        </div>"
      ]
     },
     "metadata": {},
     "output_type": "display_data"
    }
   ],
   "source": [
    "df['word_count'] = d.apply(lambda x: len(str(x).split()))\n",
    "#Average word count of tweets\n",
    "df['word_count'].iplot(\n",
    "    kind='hist',\n",
    "    bins=100,\n",
    "    xTitle='word count',\n",
    "    linecolor='black',\n",
    "    yTitle='count',\n",
    "    layout = go.Layout(xaxis=dict(range=[0, 40]),\n",
    "    title='Tweet Word Count Distribution'))"
   ]
  },
  {
   "cell_type": "code",
   "execution_count": 12,
   "metadata": {},
   "outputs": [
    {
     "data": {
      "application/vnd.plotly.v1+json": {
       "config": {
        "linkText": "Export to plot.ly",
        "plotlyServerURL": "https://plot.ly",
        "showLink": true
       },
       "data": [
        {
         "histfunc": "count",
         "histnorm": "",
         "marker": {
          "color": "rgba(255, 153, 51, 1.0)",
          "line": {
           "color": "#000000",
           "width": 1.3
          }
         },
         "name": "tweetlen",
         "nbinsx": 500,
         "opacity": 0.8,
         "orientation": "v",
         "type": "histogram",
         "x": [
          39,
          61,
          191,
          74,
          239,
          38,
          88,
          55,
          33,
          77,
          110,
          17,
          18,
          43,
          158,
          85,
          48,
          30,
          167,
          53,
          null,
          null,
          null,
          null,
          null,
          null,
          null,
          null,
          null,
          null,
          null,
          null,
          null,
          null,
          null,
          null,
          null,
          null,
          92,
          119,
          61,
          119,
          181,
          279,
          175,
          194,
          30,
          164,
          131,
          147,
          136,
          187,
          67,
          263,
          172,
          106,
          19,
          142,
          77,
          92,
          144,
          107,
          272,
          274,
          45,
          99,
          83,
          174,
          32,
          108,
          50,
          102,
          123,
          273,
          132,
          286,
          51,
          300,
          13,
          36,
          286,
          93,
          131,
          327,
          103,
          245,
          142,
          43,
          267,
          76,
          124,
          13,
          169,
          8,
          46,
          192,
          31,
          73,
          123,
          41,
          245,
          141,
          80,
          25,
          339,
          171,
          101,
          76,
          145,
          75,
          207,
          93,
          98,
          87,
          41,
          103,
          269,
          170,
          78,
          128,
          147,
          245,
          164,
          231,
          91,
          266,
          251,
          108,
          79,
          211,
          114,
          93,
          34,
          341,
          29,
          116,
          84,
          272,
          70,
          80,
          94,
          89,
          201,
          95,
          213,
          80,
          116,
          55,
          81,
          342,
          74,
          112,
          76,
          73,
          50,
          122,
          118,
          214,
          42,
          45,
          147,
          108,
          272,
          37,
          162,
          62,
          70,
          60,
          91,
          104,
          55,
          236,
          48,
          116,
          10,
          261,
          47,
          51,
          192,
          278,
          88,
          165,
          18,
          169,
          26,
          122,
          68,
          84,
          142,
          240,
          70,
          178,
          98,
          65,
          24,
          74,
          290,
          33,
          127,
          158,
          165,
          66,
          144,
          277,
          139,
          235,
          145,
          148,
          123,
          40,
          25,
          69,
          304,
          275,
          76,
          57,
          238,
          221,
          45,
          257,
          34,
          26,
          300,
          72,
          212,
          133,
          188,
          34,
          152,
          52,
          121,
          200,
          139,
          98,
          126,
          51,
          70,
          119,
          112,
          127,
          30,
          54,
          62,
          278,
          74,
          240,
          null,
          125,
          173,
          167,
          230,
          210,
          297,
          253,
          76,
          254,
          121,
          38,
          255,
          88,
          256,
          258,
          51,
          170,
          52,
          69,
          42,
          78,
          108,
          83,
          21,
          108,
          219,
          98,
          180,
          122,
          90,
          262,
          177,
          76,
          19,
          55,
          74,
          115,
          263,
          160,
          99,
          89,
          24,
          8,
          111,
          140,
          79,
          146,
          218,
          63,
          209,
          43,
          146,
          176,
          95,
          206,
          131,
          108,
          204,
          87,
          96,
          211,
          278,
          190,
          123,
          49,
          269,
          141,
          80,
          139,
          77,
          302,
          160,
          338,
          91,
          147,
          145,
          150,
          59,
          156,
          280,
          34,
          224,
          41,
          230,
          158,
          265,
          279,
          95,
          130,
          138,
          220,
          225,
          268,
          85,
          278,
          78,
          219,
          111,
          85,
          126,
          96,
          79,
          276,
          42,
          65,
          108,
          179,
          28,
          112,
          291,
          277,
          108,
          99,
          280,
          62,
          121,
          121,
          128,
          207,
          123,
          90,
          256,
          180,
          110,
          98,
          40,
          86,
          284,
          117,
          228,
          54,
          258,
          150,
          175,
          94,
          46,
          41,
          139,
          82,
          48,
          47,
          217,
          299,
          32,
          33,
          330,
          287,
          70,
          43,
          270,
          111,
          27,
          220,
          14,
          270,
          113,
          80,
          35,
          67,
          278,
          134,
          100,
          71,
          76,
          83,
          115,
          63,
          249,
          222,
          118,
          18,
          199,
          272,
          211,
          261,
          52,
          117,
          124,
          82,
          91,
          29,
          166,
          228,
          113,
          196,
          211,
          48,
          67,
          176,
          27,
          62,
          240,
          116,
          68,
          null,
          250,
          274,
          185,
          47,
          15,
          174,
          47,
          179,
          147,
          176,
          37,
          183,
          112,
          18,
          269,
          171,
          100,
          24,
          258,
          36,
          17,
          126,
          95,
          154,
          101,
          299,
          67,
          43,
          108,
          87,
          222,
          144,
          141,
          61,
          51,
          24,
          166,
          108,
          27,
          211,
          16,
          91,
          159,
          30,
          76,
          152,
          55,
          231,
          80,
          93,
          157,
          79,
          53,
          71,
          72,
          30,
          313,
          116,
          44,
          78,
          211,
          153,
          117,
          110,
          119,
          209,
          88,
          176,
          200,
          92,
          60,
          36,
          81,
          108,
          172,
          113,
          87,
          236,
          169,
          85,
          297,
          126,
          275,
          null,
          null,
          null,
          null,
          null,
          null,
          null,
          null,
          null,
          null,
          null,
          null,
          null,
          null,
          null,
          null,
          null,
          null,
          null,
          null,
          108,
          68,
          77,
          243,
          274,
          26,
          58,
          258,
          280,
          160,
          262,
          108,
          153,
          76,
          165,
          34,
          91,
          235,
          108,
          74,
          108,
          39,
          133,
          241,
          56,
          55,
          178,
          32,
          164,
          44,
          95,
          108,
          15,
          360,
          63,
          141,
          101,
          94,
          43,
          50,
          278,
          37,
          35,
          113,
          35,
          34,
          226,
          108,
          35,
          75,
          5,
          97,
          18,
          298,
          276,
          56,
          277,
          102,
          203,
          103,
          39,
          40,
          null,
          269,
          280,
          28,
          135,
          69,
          125,
          217,
          108,
          98,
          96,
          22,
          94,
          230,
          217,
          12,
          108,
          187,
          275,
          278,
          245,
          52,
          98,
          188,
          186,
          80,
          108,
          249,
          126,
          109,
          15,
          275,
          183,
          41,
          307,
          145,
          90,
          204,
          40,
          118,
          89,
          65,
          166,
          90,
          71,
          40,
          229,
          271,
          235,
          20,
          108,
          66,
          108,
          182,
          91,
          113,
          253,
          79,
          160,
          40,
          108,
          77,
          42,
          49,
          235,
          188,
          108,
          121,
          260,
          11,
          74,
          108,
          108,
          106,
          100,
          108,
          280,
          108,
          28,
          42,
          134,
          41,
          93,
          184,
          103,
          87,
          46,
          88,
          109,
          90,
          44,
          277,
          57,
          251,
          82,
          68,
          13,
          42,
          53,
          21,
          253,
          65,
          44,
          104,
          108,
          30,
          48,
          127,
          97,
          90,
          109,
          96,
          323,
          128,
          220,
          220,
          72,
          136,
          59,
          128,
          244,
          34,
          142,
          127,
          70,
          68,
          206,
          122,
          104,
          278,
          274,
          86,
          151,
          111,
          100,
          42,
          154,
          144,
          125,
          328,
          280,
          116,
          76,
          241,
          66,
          106,
          88,
          62,
          124,
          57,
          68,
          226,
          93,
          57,
          147,
          163,
          269,
          86,
          53,
          166,
          108,
          275,
          301,
          142,
          79,
          95,
          88,
          64,
          150,
          104,
          24,
          157,
          278,
          31,
          80,
          102,
          211,
          122,
          189,
          236,
          38,
          256,
          155,
          115,
          91,
          257,
          123,
          280,
          269,
          172,
          162,
          108,
          262,
          16,
          159,
          126,
          267,
          115,
          106,
          301,
          78,
          112,
          172,
          251,
          158,
          88,
          331,
          113,
          243,
          137,
          42,
          155,
          108,
          277,
          210,
          148,
          108,
          126,
          59,
          127,
          307,
          108,
          96,
          254,
          211,
          111,
          77,
          165,
          146,
          340,
          142,
          91,
          79,
          117,
          108,
          90,
          338,
          19,
          215,
          54,
          98,
          112,
          35,
          88,
          201,
          268,
          18,
          63,
          199,
          108,
          239,
          158,
          102,
          112,
          108,
          217,
          70,
          86,
          21,
          97,
          155,
          258,
          102,
          114,
          15,
          68,
          258,
          64,
          121,
          286,
          108,
          69,
          59,
          108,
          51,
          173,
          108,
          36,
          40,
          120,
          63,
          173,
          160,
          173,
          135,
          117,
          107,
          166,
          275,
          108,
          279,
          286,
          44,
          259,
          280,
          252,
          80,
          182,
          157,
          295,
          200,
          203,
          37,
          46,
          54,
          230,
          39,
          151,
          112,
          108,
          249,
          256,
          35,
          77,
          63,
          54,
          206,
          224,
          53,
          89,
          61,
          123,
          24,
          23,
          68,
          186,
          null,
          124,
          108,
          128,
          18,
          19,
          99,
          172,
          128,
          71,
          141,
          36,
          43,
          172,
          222,
          133,
          115,
          147,
          179,
          79,
          108,
          141,
          106,
          66,
          95,
          171,
          142,
          154,
          108,
          70,
          97,
          103,
          115,
          108,
          128,
          316,
          200,
          111,
          108,
          158,
          22,
          71,
          96,
          null,
          43,
          108,
          108,
          206,
          56,
          176,
          18,
          108,
          31,
          90,
          240,
          32,
          46,
          40,
          109,
          174,
          238,
          32,
          202,
          108,
          45,
          161,
          244,
          101,
          141,
          173,
          83,
          84,
          108,
          78,
          253,
          112,
          97,
          110,
          108,
          240,
          94,
          131,
          77,
          129,
          278,
          44,
          96,
          147,
          20,
          108
         ]
        }
       ],
       "layout": {
        "barmode": "overlay",
        "template": {
         "data": {
          "bar": [
           {
            "error_x": {
             "color": "#2a3f5f"
            },
            "error_y": {
             "color": "#2a3f5f"
            },
            "marker": {
             "line": {
              "color": "#E5ECF6",
              "width": 0.5
             }
            },
            "type": "bar"
           }
          ],
          "barpolar": [
           {
            "marker": {
             "line": {
              "color": "#E5ECF6",
              "width": 0.5
             }
            },
            "type": "barpolar"
           }
          ],
          "carpet": [
           {
            "aaxis": {
             "endlinecolor": "#2a3f5f",
             "gridcolor": "white",
             "linecolor": "white",
             "minorgridcolor": "white",
             "startlinecolor": "#2a3f5f"
            },
            "baxis": {
             "endlinecolor": "#2a3f5f",
             "gridcolor": "white",
             "linecolor": "white",
             "minorgridcolor": "white",
             "startlinecolor": "#2a3f5f"
            },
            "type": "carpet"
           }
          ],
          "choropleth": [
           {
            "colorbar": {
             "outlinewidth": 0,
             "ticks": ""
            },
            "type": "choropleth"
           }
          ],
          "contour": [
           {
            "colorbar": {
             "outlinewidth": 0,
             "ticks": ""
            },
            "colorscale": [
             [
              0,
              "#0d0887"
             ],
             [
              0.1111111111111111,
              "#46039f"
             ],
             [
              0.2222222222222222,
              "#7201a8"
             ],
             [
              0.3333333333333333,
              "#9c179e"
             ],
             [
              0.4444444444444444,
              "#bd3786"
             ],
             [
              0.5555555555555556,
              "#d8576b"
             ],
             [
              0.6666666666666666,
              "#ed7953"
             ],
             [
              0.7777777777777778,
              "#fb9f3a"
             ],
             [
              0.8888888888888888,
              "#fdca26"
             ],
             [
              1,
              "#f0f921"
             ]
            ],
            "type": "contour"
           }
          ],
          "contourcarpet": [
           {
            "colorbar": {
             "outlinewidth": 0,
             "ticks": ""
            },
            "type": "contourcarpet"
           }
          ],
          "heatmap": [
           {
            "colorbar": {
             "outlinewidth": 0,
             "ticks": ""
            },
            "colorscale": [
             [
              0,
              "#0d0887"
             ],
             [
              0.1111111111111111,
              "#46039f"
             ],
             [
              0.2222222222222222,
              "#7201a8"
             ],
             [
              0.3333333333333333,
              "#9c179e"
             ],
             [
              0.4444444444444444,
              "#bd3786"
             ],
             [
              0.5555555555555556,
              "#d8576b"
             ],
             [
              0.6666666666666666,
              "#ed7953"
             ],
             [
              0.7777777777777778,
              "#fb9f3a"
             ],
             [
              0.8888888888888888,
              "#fdca26"
             ],
             [
              1,
              "#f0f921"
             ]
            ],
            "type": "heatmap"
           }
          ],
          "heatmapgl": [
           {
            "colorbar": {
             "outlinewidth": 0,
             "ticks": ""
            },
            "colorscale": [
             [
              0,
              "#0d0887"
             ],
             [
              0.1111111111111111,
              "#46039f"
             ],
             [
              0.2222222222222222,
              "#7201a8"
             ],
             [
              0.3333333333333333,
              "#9c179e"
             ],
             [
              0.4444444444444444,
              "#bd3786"
             ],
             [
              0.5555555555555556,
              "#d8576b"
             ],
             [
              0.6666666666666666,
              "#ed7953"
             ],
             [
              0.7777777777777778,
              "#fb9f3a"
             ],
             [
              0.8888888888888888,
              "#fdca26"
             ],
             [
              1,
              "#f0f921"
             ]
            ],
            "type": "heatmapgl"
           }
          ],
          "histogram": [
           {
            "marker": {
             "colorbar": {
              "outlinewidth": 0,
              "ticks": ""
             }
            },
            "type": "histogram"
           }
          ],
          "histogram2d": [
           {
            "colorbar": {
             "outlinewidth": 0,
             "ticks": ""
            },
            "colorscale": [
             [
              0,
              "#0d0887"
             ],
             [
              0.1111111111111111,
              "#46039f"
             ],
             [
              0.2222222222222222,
              "#7201a8"
             ],
             [
              0.3333333333333333,
              "#9c179e"
             ],
             [
              0.4444444444444444,
              "#bd3786"
             ],
             [
              0.5555555555555556,
              "#d8576b"
             ],
             [
              0.6666666666666666,
              "#ed7953"
             ],
             [
              0.7777777777777778,
              "#fb9f3a"
             ],
             [
              0.8888888888888888,
              "#fdca26"
             ],
             [
              1,
              "#f0f921"
             ]
            ],
            "type": "histogram2d"
           }
          ],
          "histogram2dcontour": [
           {
            "colorbar": {
             "outlinewidth": 0,
             "ticks": ""
            },
            "colorscale": [
             [
              0,
              "#0d0887"
             ],
             [
              0.1111111111111111,
              "#46039f"
             ],
             [
              0.2222222222222222,
              "#7201a8"
             ],
             [
              0.3333333333333333,
              "#9c179e"
             ],
             [
              0.4444444444444444,
              "#bd3786"
             ],
             [
              0.5555555555555556,
              "#d8576b"
             ],
             [
              0.6666666666666666,
              "#ed7953"
             ],
             [
              0.7777777777777778,
              "#fb9f3a"
             ],
             [
              0.8888888888888888,
              "#fdca26"
             ],
             [
              1,
              "#f0f921"
             ]
            ],
            "type": "histogram2dcontour"
           }
          ],
          "mesh3d": [
           {
            "colorbar": {
             "outlinewidth": 0,
             "ticks": ""
            },
            "type": "mesh3d"
           }
          ],
          "parcoords": [
           {
            "line": {
             "colorbar": {
              "outlinewidth": 0,
              "ticks": ""
             }
            },
            "type": "parcoords"
           }
          ],
          "pie": [
           {
            "automargin": true,
            "type": "pie"
           }
          ],
          "scatter": [
           {
            "marker": {
             "colorbar": {
              "outlinewidth": 0,
              "ticks": ""
             }
            },
            "type": "scatter"
           }
          ],
          "scatter3d": [
           {
            "line": {
             "colorbar": {
              "outlinewidth": 0,
              "ticks": ""
             }
            },
            "marker": {
             "colorbar": {
              "outlinewidth": 0,
              "ticks": ""
             }
            },
            "type": "scatter3d"
           }
          ],
          "scattercarpet": [
           {
            "marker": {
             "colorbar": {
              "outlinewidth": 0,
              "ticks": ""
             }
            },
            "type": "scattercarpet"
           }
          ],
          "scattergeo": [
           {
            "marker": {
             "colorbar": {
              "outlinewidth": 0,
              "ticks": ""
             }
            },
            "type": "scattergeo"
           }
          ],
          "scattergl": [
           {
            "marker": {
             "colorbar": {
              "outlinewidth": 0,
              "ticks": ""
             }
            },
            "type": "scattergl"
           }
          ],
          "scattermapbox": [
           {
            "marker": {
             "colorbar": {
              "outlinewidth": 0,
              "ticks": ""
             }
            },
            "type": "scattermapbox"
           }
          ],
          "scatterpolar": [
           {
            "marker": {
             "colorbar": {
              "outlinewidth": 0,
              "ticks": ""
             }
            },
            "type": "scatterpolar"
           }
          ],
          "scatterpolargl": [
           {
            "marker": {
             "colorbar": {
              "outlinewidth": 0,
              "ticks": ""
             }
            },
            "type": "scatterpolargl"
           }
          ],
          "scatterternary": [
           {
            "marker": {
             "colorbar": {
              "outlinewidth": 0,
              "ticks": ""
             }
            },
            "type": "scatterternary"
           }
          ],
          "surface": [
           {
            "colorbar": {
             "outlinewidth": 0,
             "ticks": ""
            },
            "colorscale": [
             [
              0,
              "#0d0887"
             ],
             [
              0.1111111111111111,
              "#46039f"
             ],
             [
              0.2222222222222222,
              "#7201a8"
             ],
             [
              0.3333333333333333,
              "#9c179e"
             ],
             [
              0.4444444444444444,
              "#bd3786"
             ],
             [
              0.5555555555555556,
              "#d8576b"
             ],
             [
              0.6666666666666666,
              "#ed7953"
             ],
             [
              0.7777777777777778,
              "#fb9f3a"
             ],
             [
              0.8888888888888888,
              "#fdca26"
             ],
             [
              1,
              "#f0f921"
             ]
            ],
            "type": "surface"
           }
          ],
          "table": [
           {
            "cells": {
             "fill": {
              "color": "#EBF0F8"
             },
             "line": {
              "color": "white"
             }
            },
            "header": {
             "fill": {
              "color": "#C8D4E3"
             },
             "line": {
              "color": "white"
             }
            },
            "type": "table"
           }
          ]
         },
         "layout": {
          "annotationdefaults": {
           "arrowcolor": "#2a3f5f",
           "arrowhead": 0,
           "arrowwidth": 1
          },
          "coloraxis": {
           "colorbar": {
            "outlinewidth": 0,
            "ticks": ""
           }
          },
          "colorscale": {
           "diverging": [
            [
             0,
             "#8e0152"
            ],
            [
             0.1,
             "#c51b7d"
            ],
            [
             0.2,
             "#de77ae"
            ],
            [
             0.3,
             "#f1b6da"
            ],
            [
             0.4,
             "#fde0ef"
            ],
            [
             0.5,
             "#f7f7f7"
            ],
            [
             0.6,
             "#e6f5d0"
            ],
            [
             0.7,
             "#b8e186"
            ],
            [
             0.8,
             "#7fbc41"
            ],
            [
             0.9,
             "#4d9221"
            ],
            [
             1,
             "#276419"
            ]
           ],
           "sequential": [
            [
             0,
             "#0d0887"
            ],
            [
             0.1111111111111111,
             "#46039f"
            ],
            [
             0.2222222222222222,
             "#7201a8"
            ],
            [
             0.3333333333333333,
             "#9c179e"
            ],
            [
             0.4444444444444444,
             "#bd3786"
            ],
            [
             0.5555555555555556,
             "#d8576b"
            ],
            [
             0.6666666666666666,
             "#ed7953"
            ],
            [
             0.7777777777777778,
             "#fb9f3a"
            ],
            [
             0.8888888888888888,
             "#fdca26"
            ],
            [
             1,
             "#f0f921"
            ]
           ],
           "sequentialminus": [
            [
             0,
             "#0d0887"
            ],
            [
             0.1111111111111111,
             "#46039f"
            ],
            [
             0.2222222222222222,
             "#7201a8"
            ],
            [
             0.3333333333333333,
             "#9c179e"
            ],
            [
             0.4444444444444444,
             "#bd3786"
            ],
            [
             0.5555555555555556,
             "#d8576b"
            ],
            [
             0.6666666666666666,
             "#ed7953"
            ],
            [
             0.7777777777777778,
             "#fb9f3a"
            ],
            [
             0.8888888888888888,
             "#fdca26"
            ],
            [
             1,
             "#f0f921"
            ]
           ]
          },
          "colorway": [
           "#636efa",
           "#EF553B",
           "#00cc96",
           "#ab63fa",
           "#FFA15A",
           "#19d3f3",
           "#FF6692",
           "#B6E880",
           "#FF97FF",
           "#FECB52"
          ],
          "font": {
           "color": "#2a3f5f"
          },
          "geo": {
           "bgcolor": "white",
           "lakecolor": "white",
           "landcolor": "#E5ECF6",
           "showlakes": true,
           "showland": true,
           "subunitcolor": "white"
          },
          "hoverlabel": {
           "align": "left"
          },
          "hovermode": "closest",
          "mapbox": {
           "style": "light"
          },
          "paper_bgcolor": "white",
          "plot_bgcolor": "#E5ECF6",
          "polar": {
           "angularaxis": {
            "gridcolor": "white",
            "linecolor": "white",
            "ticks": ""
           },
           "bgcolor": "#E5ECF6",
           "radialaxis": {
            "gridcolor": "white",
            "linecolor": "white",
            "ticks": ""
           }
          },
          "scene": {
           "xaxis": {
            "backgroundcolor": "#E5ECF6",
            "gridcolor": "white",
            "gridwidth": 2,
            "linecolor": "white",
            "showbackground": true,
            "ticks": "",
            "zerolinecolor": "white"
           },
           "yaxis": {
            "backgroundcolor": "#E5ECF6",
            "gridcolor": "white",
            "gridwidth": 2,
            "linecolor": "white",
            "showbackground": true,
            "ticks": "",
            "zerolinecolor": "white"
           },
           "zaxis": {
            "backgroundcolor": "#E5ECF6",
            "gridcolor": "white",
            "gridwidth": 2,
            "linecolor": "white",
            "showbackground": true,
            "ticks": "",
            "zerolinecolor": "white"
           }
          },
          "shapedefaults": {
           "line": {
            "color": "#2a3f5f"
           }
          },
          "ternary": {
           "aaxis": {
            "gridcolor": "white",
            "linecolor": "white",
            "ticks": ""
           },
           "baxis": {
            "gridcolor": "white",
            "linecolor": "white",
            "ticks": ""
           },
           "bgcolor": "#E5ECF6",
           "caxis": {
            "gridcolor": "white",
            "linecolor": "white",
            "ticks": ""
           }
          },
          "title": {
           "x": 0.05
          },
          "xaxis": {
           "automargin": true,
           "gridcolor": "white",
           "linecolor": "white",
           "ticks": "",
           "title": {
            "standoff": 15
           },
           "zerolinecolor": "white",
           "zerolinewidth": 2
          },
          "yaxis": {
           "automargin": true,
           "gridcolor": "white",
           "linecolor": "white",
           "ticks": "",
           "title": {
            "standoff": 15
           },
           "zerolinecolor": "white",
           "zerolinewidth": 2
          }
         }
        },
        "title": {
         "text": "Tweet Length Distribution"
        },
        "xaxis": {
         "range": [
          0,
          160
         ]
        }
       }
      },
      "text/html": [
       "<div>\n",
       "        \n",
       "        \n",
       "            <div id=\"8dc06ba9-f93d-46ba-845e-3d6638840c83\" class=\"plotly-graph-div\" style=\"height:525px; width:100%;\"></div>\n",
       "            <script type=\"text/javascript\">\n",
       "                require([\"plotly\"], function(Plotly) {\n",
       "                    window.PLOTLYENV=window.PLOTLYENV || {};\n",
       "                    window.PLOTLYENV.BASE_URL='https://plot.ly';\n",
       "                    \n",
       "                if (document.getElementById(\"8dc06ba9-f93d-46ba-845e-3d6638840c83\")) {\n",
       "                    Plotly.newPlot(\n",
       "                        '8dc06ba9-f93d-46ba-845e-3d6638840c83',\n",
       "                        [{\"histfunc\": \"count\", \"histnorm\": \"\", \"marker\": {\"color\": \"rgba(255, 153, 51, 1.0)\", \"line\": {\"color\": \"#000000\", \"width\": 1.3}}, \"name\": \"tweetlen\", \"nbinsx\": 500, \"opacity\": 0.8, \"orientation\": \"v\", \"type\": \"histogram\", \"x\": [39.0, 61.0, 191.0, 74.0, 239.0, 38.0, 88.0, 55.0, 33.0, 77.0, 110.0, 17.0, 18.0, 43.0, 158.0, 85.0, 48.0, 30.0, 167.0, 53.0, null, null, null, null, null, null, null, null, null, null, null, null, null, null, null, null, null, null, 92.0, 119.0, 61.0, 119.0, 181.0, 279.0, 175.0, 194.0, 30.0, 164.0, 131.0, 147.0, 136.0, 187.0, 67.0, 263.0, 172.0, 106.0, 19.0, 142.0, 77.0, 92.0, 144.0, 107.0, 272.0, 274.0, 45.0, 99.0, 83.0, 174.0, 32.0, 108.0, 50.0, 102.0, 123.0, 273.0, 132.0, 286.0, 51.0, 300.0, 13.0, 36.0, 286.0, 93.0, 131.0, 327.0, 103.0, 245.0, 142.0, 43.0, 267.0, 76.0, 124.0, 13.0, 169.0, 8.0, 46.0, 192.0, 31.0, 73.0, 123.0, 41.0, 245.0, 141.0, 80.0, 25.0, 339.0, 171.0, 101.0, 76.0, 145.0, 75.0, 207.0, 93.0, 98.0, 87.0, 41.0, 103.0, 269.0, 170.0, 78.0, 128.0, 147.0, 245.0, 164.0, 231.0, 91.0, 266.0, 251.0, 108.0, 79.0, 211.0, 114.0, 93.0, 34.0, 341.0, 29.0, 116.0, 84.0, 272.0, 70.0, 80.0, 94.0, 89.0, 201.0, 95.0, 213.0, 80.0, 116.0, 55.0, 81.0, 342.0, 74.0, 112.0, 76.0, 73.0, 50.0, 122.0, 118.0, 214.0, 42.0, 45.0, 147.0, 108.0, 272.0, 37.0, 162.0, 62.0, 70.0, 60.0, 91.0, 104.0, 55.0, 236.0, 48.0, 116.0, 10.0, 261.0, 47.0, 51.0, 192.0, 278.0, 88.0, 165.0, 18.0, 169.0, 26.0, 122.0, 68.0, 84.0, 142.0, 240.0, 70.0, 178.0, 98.0, 65.0, 24.0, 74.0, 290.0, 33.0, 127.0, 158.0, 165.0, 66.0, 144.0, 277.0, 139.0, 235.0, 145.0, 148.0, 123.0, 40.0, 25.0, 69.0, 304.0, 275.0, 76.0, 57.0, 238.0, 221.0, 45.0, 257.0, 34.0, 26.0, 300.0, 72.0, 212.0, 133.0, 188.0, 34.0, 152.0, 52.0, 121.0, 200.0, 139.0, 98.0, 126.0, 51.0, 70.0, 119.0, 112.0, 127.0, 30.0, 54.0, 62.0, 278.0, 74.0, 240.0, null, 125.0, 173.0, 167.0, 230.0, 210.0, 297.0, 253.0, 76.0, 254.0, 121.0, 38.0, 255.0, 88.0, 256.0, 258.0, 51.0, 170.0, 52.0, 69.0, 42.0, 78.0, 108.0, 83.0, 21.0, 108.0, 219.0, 98.0, 180.0, 122.0, 90.0, 262.0, 177.0, 76.0, 19.0, 55.0, 74.0, 115.0, 263.0, 160.0, 99.0, 89.0, 24.0, 8.0, 111.0, 140.0, 79.0, 146.0, 218.0, 63.0, 209.0, 43.0, 146.0, 176.0, 95.0, 206.0, 131.0, 108.0, 204.0, 87.0, 96.0, 211.0, 278.0, 190.0, 123.0, 49.0, 269.0, 141.0, 80.0, 139.0, 77.0, 302.0, 160.0, 338.0, 91.0, 147.0, 145.0, 150.0, 59.0, 156.0, 280.0, 34.0, 224.0, 41.0, 230.0, 158.0, 265.0, 279.0, 95.0, 130.0, 138.0, 220.0, 225.0, 268.0, 85.0, 278.0, 78.0, 219.0, 111.0, 85.0, 126.0, 96.0, 79.0, 276.0, 42.0, 65.0, 108.0, 179.0, 28.0, 112.0, 291.0, 277.0, 108.0, 99.0, 280.0, 62.0, 121.0, 121.0, 128.0, 207.0, 123.0, 90.0, 256.0, 180.0, 110.0, 98.0, 40.0, 86.0, 284.0, 117.0, 228.0, 54.0, 258.0, 150.0, 175.0, 94.0, 46.0, 41.0, 139.0, 82.0, 48.0, 47.0, 217.0, 299.0, 32.0, 33.0, 330.0, 287.0, 70.0, 43.0, 270.0, 111.0, 27.0, 220.0, 14.0, 270.0, 113.0, 80.0, 35.0, 67.0, 278.0, 134.0, 100.0, 71.0, 76.0, 83.0, 115.0, 63.0, 249.0, 222.0, 118.0, 18.0, 199.0, 272.0, 211.0, 261.0, 52.0, 117.0, 124.0, 82.0, 91.0, 29.0, 166.0, 228.0, 113.0, 196.0, 211.0, 48.0, 67.0, 176.0, 27.0, 62.0, 240.0, 116.0, 68.0, null, 250.0, 274.0, 185.0, 47.0, 15.0, 174.0, 47.0, 179.0, 147.0, 176.0, 37.0, 183.0, 112.0, 18.0, 269.0, 171.0, 100.0, 24.0, 258.0, 36.0, 17.0, 126.0, 95.0, 154.0, 101.0, 299.0, 67.0, 43.0, 108.0, 87.0, 222.0, 144.0, 141.0, 61.0, 51.0, 24.0, 166.0, 108.0, 27.0, 211.0, 16.0, 91.0, 159.0, 30.0, 76.0, 152.0, 55.0, 231.0, 80.0, 93.0, 157.0, 79.0, 53.0, 71.0, 72.0, 30.0, 313.0, 116.0, 44.0, 78.0, 211.0, 153.0, 117.0, 110.0, 119.0, 209.0, 88.0, 176.0, 200.0, 92.0, 60.0, 36.0, 81.0, 108.0, 172.0, 113.0, 87.0, 236.0, 169.0, 85.0, 297.0, 126.0, 275.0, null, null, null, null, null, null, null, null, null, null, null, null, null, null, null, null, null, null, null, null, 108.0, 68.0, 77.0, 243.0, 274.0, 26.0, 58.0, 258.0, 280.0, 160.0, 262.0, 108.0, 153.0, 76.0, 165.0, 34.0, 91.0, 235.0, 108.0, 74.0, 108.0, 39.0, 133.0, 241.0, 56.0, 55.0, 178.0, 32.0, 164.0, 44.0, 95.0, 108.0, 15.0, 360.0, 63.0, 141.0, 101.0, 94.0, 43.0, 50.0, 278.0, 37.0, 35.0, 113.0, 35.0, 34.0, 226.0, 108.0, 35.0, 75.0, 5.0, 97.0, 18.0, 298.0, 276.0, 56.0, 277.0, 102.0, 203.0, 103.0, 39.0, 40.0, null, 269.0, 280.0, 28.0, 135.0, 69.0, 125.0, 217.0, 108.0, 98.0, 96.0, 22.0, 94.0, 230.0, 217.0, 12.0, 108.0, 187.0, 275.0, 278.0, 245.0, 52.0, 98.0, 188.0, 186.0, 80.0, 108.0, 249.0, 126.0, 109.0, 15.0, 275.0, 183.0, 41.0, 307.0, 145.0, 90.0, 204.0, 40.0, 118.0, 89.0, 65.0, 166.0, 90.0, 71.0, 40.0, 229.0, 271.0, 235.0, 20.0, 108.0, 66.0, 108.0, 182.0, 91.0, 113.0, 253.0, 79.0, 160.0, 40.0, 108.0, 77.0, 42.0, 49.0, 235.0, 188.0, 108.0, 121.0, 260.0, 11.0, 74.0, 108.0, 108.0, 106.0, 100.0, 108.0, 280.0, 108.0, 28.0, 42.0, 134.0, 41.0, 93.0, 184.0, 103.0, 87.0, 46.0, 88.0, 109.0, 90.0, 44.0, 277.0, 57.0, 251.0, 82.0, 68.0, 13.0, 42.0, 53.0, 21.0, 253.0, 65.0, 44.0, 104.0, 108.0, 30.0, 48.0, 127.0, 97.0, 90.0, 109.0, 96.0, 323.0, 128.0, 220.0, 220.0, 72.0, 136.0, 59.0, 128.0, 244.0, 34.0, 142.0, 127.0, 70.0, 68.0, 206.0, 122.0, 104.0, 278.0, 274.0, 86.0, 151.0, 111.0, 100.0, 42.0, 154.0, 144.0, 125.0, 328.0, 280.0, 116.0, 76.0, 241.0, 66.0, 106.0, 88.0, 62.0, 124.0, 57.0, 68.0, 226.0, 93.0, 57.0, 147.0, 163.0, 269.0, 86.0, 53.0, 166.0, 108.0, 275.0, 301.0, 142.0, 79.0, 95.0, 88.0, 64.0, 150.0, 104.0, 24.0, 157.0, 278.0, 31.0, 80.0, 102.0, 211.0, 122.0, 189.0, 236.0, 38.0, 256.0, 155.0, 115.0, 91.0, 257.0, 123.0, 280.0, 269.0, 172.0, 162.0, 108.0, 262.0, 16.0, 159.0, 126.0, 267.0, 115.0, 106.0, 301.0, 78.0, 112.0, 172.0, 251.0, 158.0, 88.0, 331.0, 113.0, 243.0, 137.0, 42.0, 155.0, 108.0, 277.0, 210.0, 148.0, 108.0, 126.0, 59.0, 127.0, 307.0, 108.0, 96.0, 254.0, 211.0, 111.0, 77.0, 165.0, 146.0, 340.0, 142.0, 91.0, 79.0, 117.0, 108.0, 90.0, 338.0, 19.0, 215.0, 54.0, 98.0, 112.0, 35.0, 88.0, 201.0, 268.0, 18.0, 63.0, 199.0, 108.0, 239.0, 158.0, 102.0, 112.0, 108.0, 217.0, 70.0, 86.0, 21.0, 97.0, 155.0, 258.0, 102.0, 114.0, 15.0, 68.0, 258.0, 64.0, 121.0, 286.0, 108.0, 69.0, 59.0, 108.0, 51.0, 173.0, 108.0, 36.0, 40.0, 120.0, 63.0, 173.0, 160.0, 173.0, 135.0, 117.0, 107.0, 166.0, 275.0, 108.0, 279.0, 286.0, 44.0, 259.0, 280.0, 252.0, 80.0, 182.0, 157.0, 295.0, 200.0, 203.0, 37.0, 46.0, 54.0, 230.0, 39.0, 151.0, 112.0, 108.0, 249.0, 256.0, 35.0, 77.0, 63.0, 54.0, 206.0, 224.0, 53.0, 89.0, 61.0, 123.0, 24.0, 23.0, 68.0, 186.0, null, 124.0, 108.0, 128.0, 18.0, 19.0, 99.0, 172.0, 128.0, 71.0, 141.0, 36.0, 43.0, 172.0, 222.0, 133.0, 115.0, 147.0, 179.0, 79.0, 108.0, 141.0, 106.0, 66.0, 95.0, 171.0, 142.0, 154.0, 108.0, 70.0, 97.0, 103.0, 115.0, 108.0, 128.0, 316.0, 200.0, 111.0, 108.0, 158.0, 22.0, 71.0, 96.0, null, 43.0, 108.0, 108.0, 206.0, 56.0, 176.0, 18.0, 108.0, 31.0, 90.0, 240.0, 32.0, 46.0, 40.0, 109.0, 174.0, 238.0, 32.0, 202.0, 108.0, 45.0, 161.0, 244.0, 101.0, 141.0, 173.0, 83.0, 84.0, 108.0, 78.0, 253.0, 112.0, 97.0, 110.0, 108.0, 240.0, 94.0, 131.0, 77.0, 129.0, 278.0, 44.0, 96.0, 147.0, 20.0, 108.0]}],\n",
       "                        {\"barmode\": \"overlay\", \"template\": {\"data\": {\"bar\": [{\"error_x\": {\"color\": \"#2a3f5f\"}, \"error_y\": {\"color\": \"#2a3f5f\"}, \"marker\": {\"line\": {\"color\": \"#E5ECF6\", \"width\": 0.5}}, \"type\": \"bar\"}], \"barpolar\": [{\"marker\": {\"line\": {\"color\": \"#E5ECF6\", \"width\": 0.5}}, \"type\": \"barpolar\"}], \"carpet\": [{\"aaxis\": {\"endlinecolor\": \"#2a3f5f\", \"gridcolor\": \"white\", \"linecolor\": \"white\", \"minorgridcolor\": \"white\", \"startlinecolor\": \"#2a3f5f\"}, \"baxis\": {\"endlinecolor\": \"#2a3f5f\", \"gridcolor\": \"white\", \"linecolor\": \"white\", \"minorgridcolor\": \"white\", \"startlinecolor\": \"#2a3f5f\"}, \"type\": \"carpet\"}], \"choropleth\": [{\"colorbar\": {\"outlinewidth\": 0, \"ticks\": \"\"}, \"type\": \"choropleth\"}], \"contour\": [{\"colorbar\": {\"outlinewidth\": 0, \"ticks\": \"\"}, \"colorscale\": [[0.0, \"#0d0887\"], [0.1111111111111111, \"#46039f\"], [0.2222222222222222, \"#7201a8\"], [0.3333333333333333, \"#9c179e\"], [0.4444444444444444, \"#bd3786\"], [0.5555555555555556, \"#d8576b\"], [0.6666666666666666, \"#ed7953\"], [0.7777777777777778, \"#fb9f3a\"], [0.8888888888888888, \"#fdca26\"], [1.0, \"#f0f921\"]], \"type\": \"contour\"}], \"contourcarpet\": [{\"colorbar\": {\"outlinewidth\": 0, \"ticks\": \"\"}, \"type\": \"contourcarpet\"}], \"heatmap\": [{\"colorbar\": {\"outlinewidth\": 0, \"ticks\": \"\"}, \"colorscale\": [[0.0, \"#0d0887\"], [0.1111111111111111, \"#46039f\"], [0.2222222222222222, \"#7201a8\"], [0.3333333333333333, \"#9c179e\"], [0.4444444444444444, \"#bd3786\"], [0.5555555555555556, \"#d8576b\"], [0.6666666666666666, \"#ed7953\"], [0.7777777777777778, \"#fb9f3a\"], [0.8888888888888888, \"#fdca26\"], [1.0, \"#f0f921\"]], \"type\": \"heatmap\"}], \"heatmapgl\": [{\"colorbar\": {\"outlinewidth\": 0, \"ticks\": \"\"}, \"colorscale\": [[0.0, \"#0d0887\"], [0.1111111111111111, \"#46039f\"], [0.2222222222222222, \"#7201a8\"], [0.3333333333333333, \"#9c179e\"], [0.4444444444444444, \"#bd3786\"], [0.5555555555555556, \"#d8576b\"], [0.6666666666666666, \"#ed7953\"], [0.7777777777777778, \"#fb9f3a\"], [0.8888888888888888, \"#fdca26\"], [1.0, \"#f0f921\"]], \"type\": \"heatmapgl\"}], \"histogram\": [{\"marker\": {\"colorbar\": {\"outlinewidth\": 0, \"ticks\": \"\"}}, \"type\": \"histogram\"}], \"histogram2d\": [{\"colorbar\": {\"outlinewidth\": 0, \"ticks\": \"\"}, \"colorscale\": [[0.0, \"#0d0887\"], [0.1111111111111111, \"#46039f\"], [0.2222222222222222, \"#7201a8\"], [0.3333333333333333, \"#9c179e\"], [0.4444444444444444, \"#bd3786\"], [0.5555555555555556, \"#d8576b\"], [0.6666666666666666, \"#ed7953\"], [0.7777777777777778, \"#fb9f3a\"], [0.8888888888888888, \"#fdca26\"], [1.0, \"#f0f921\"]], \"type\": \"histogram2d\"}], \"histogram2dcontour\": [{\"colorbar\": {\"outlinewidth\": 0, \"ticks\": \"\"}, \"colorscale\": [[0.0, \"#0d0887\"], [0.1111111111111111, \"#46039f\"], [0.2222222222222222, \"#7201a8\"], [0.3333333333333333, \"#9c179e\"], [0.4444444444444444, \"#bd3786\"], [0.5555555555555556, \"#d8576b\"], [0.6666666666666666, \"#ed7953\"], [0.7777777777777778, \"#fb9f3a\"], [0.8888888888888888, \"#fdca26\"], [1.0, \"#f0f921\"]], \"type\": \"histogram2dcontour\"}], \"mesh3d\": [{\"colorbar\": {\"outlinewidth\": 0, \"ticks\": \"\"}, \"type\": \"mesh3d\"}], \"parcoords\": [{\"line\": {\"colorbar\": {\"outlinewidth\": 0, \"ticks\": \"\"}}, \"type\": \"parcoords\"}], \"pie\": [{\"automargin\": true, \"type\": \"pie\"}], \"scatter\": [{\"marker\": {\"colorbar\": {\"outlinewidth\": 0, \"ticks\": \"\"}}, \"type\": \"scatter\"}], \"scatter3d\": [{\"line\": {\"colorbar\": {\"outlinewidth\": 0, \"ticks\": \"\"}}, \"marker\": {\"colorbar\": {\"outlinewidth\": 0, \"ticks\": \"\"}}, \"type\": \"scatter3d\"}], \"scattercarpet\": [{\"marker\": {\"colorbar\": {\"outlinewidth\": 0, \"ticks\": \"\"}}, \"type\": \"scattercarpet\"}], \"scattergeo\": [{\"marker\": {\"colorbar\": {\"outlinewidth\": 0, \"ticks\": \"\"}}, \"type\": \"scattergeo\"}], \"scattergl\": [{\"marker\": {\"colorbar\": {\"outlinewidth\": 0, \"ticks\": \"\"}}, \"type\": \"scattergl\"}], \"scattermapbox\": [{\"marker\": {\"colorbar\": {\"outlinewidth\": 0, \"ticks\": \"\"}}, \"type\": \"scattermapbox\"}], \"scatterpolar\": [{\"marker\": {\"colorbar\": {\"outlinewidth\": 0, \"ticks\": \"\"}}, \"type\": \"scatterpolar\"}], \"scatterpolargl\": [{\"marker\": {\"colorbar\": {\"outlinewidth\": 0, \"ticks\": \"\"}}, \"type\": \"scatterpolargl\"}], \"scatterternary\": [{\"marker\": {\"colorbar\": {\"outlinewidth\": 0, \"ticks\": \"\"}}, \"type\": \"scatterternary\"}], \"surface\": [{\"colorbar\": {\"outlinewidth\": 0, \"ticks\": \"\"}, \"colorscale\": [[0.0, \"#0d0887\"], [0.1111111111111111, \"#46039f\"], [0.2222222222222222, \"#7201a8\"], [0.3333333333333333, \"#9c179e\"], [0.4444444444444444, \"#bd3786\"], [0.5555555555555556, \"#d8576b\"], [0.6666666666666666, \"#ed7953\"], [0.7777777777777778, \"#fb9f3a\"], [0.8888888888888888, \"#fdca26\"], [1.0, \"#f0f921\"]], \"type\": \"surface\"}], \"table\": [{\"cells\": {\"fill\": {\"color\": \"#EBF0F8\"}, \"line\": {\"color\": \"white\"}}, \"header\": {\"fill\": {\"color\": \"#C8D4E3\"}, \"line\": {\"color\": \"white\"}}, \"type\": \"table\"}]}, \"layout\": {\"annotationdefaults\": {\"arrowcolor\": \"#2a3f5f\", \"arrowhead\": 0, \"arrowwidth\": 1}, \"coloraxis\": {\"colorbar\": {\"outlinewidth\": 0, \"ticks\": \"\"}}, \"colorscale\": {\"diverging\": [[0, \"#8e0152\"], [0.1, \"#c51b7d\"], [0.2, \"#de77ae\"], [0.3, \"#f1b6da\"], [0.4, \"#fde0ef\"], [0.5, \"#f7f7f7\"], [0.6, \"#e6f5d0\"], [0.7, \"#b8e186\"], [0.8, \"#7fbc41\"], [0.9, \"#4d9221\"], [1, \"#276419\"]], \"sequential\": [[0.0, \"#0d0887\"], [0.1111111111111111, \"#46039f\"], [0.2222222222222222, \"#7201a8\"], [0.3333333333333333, \"#9c179e\"], [0.4444444444444444, \"#bd3786\"], [0.5555555555555556, \"#d8576b\"], [0.6666666666666666, \"#ed7953\"], [0.7777777777777778, \"#fb9f3a\"], [0.8888888888888888, \"#fdca26\"], [1.0, \"#f0f921\"]], \"sequentialminus\": [[0.0, \"#0d0887\"], [0.1111111111111111, \"#46039f\"], [0.2222222222222222, \"#7201a8\"], [0.3333333333333333, \"#9c179e\"], [0.4444444444444444, \"#bd3786\"], [0.5555555555555556, \"#d8576b\"], [0.6666666666666666, \"#ed7953\"], [0.7777777777777778, \"#fb9f3a\"], [0.8888888888888888, \"#fdca26\"], [1.0, \"#f0f921\"]]}, \"colorway\": [\"#636efa\", \"#EF553B\", \"#00cc96\", \"#ab63fa\", \"#FFA15A\", \"#19d3f3\", \"#FF6692\", \"#B6E880\", \"#FF97FF\", \"#FECB52\"], \"font\": {\"color\": \"#2a3f5f\"}, \"geo\": {\"bgcolor\": \"white\", \"lakecolor\": \"white\", \"landcolor\": \"#E5ECF6\", \"showlakes\": true, \"showland\": true, \"subunitcolor\": \"white\"}, \"hoverlabel\": {\"align\": \"left\"}, \"hovermode\": \"closest\", \"mapbox\": {\"style\": \"light\"}, \"paper_bgcolor\": \"white\", \"plot_bgcolor\": \"#E5ECF6\", \"polar\": {\"angularaxis\": {\"gridcolor\": \"white\", \"linecolor\": \"white\", \"ticks\": \"\"}, \"bgcolor\": \"#E5ECF6\", \"radialaxis\": {\"gridcolor\": \"white\", \"linecolor\": \"white\", \"ticks\": \"\"}}, \"scene\": {\"xaxis\": {\"backgroundcolor\": \"#E5ECF6\", \"gridcolor\": \"white\", \"gridwidth\": 2, \"linecolor\": \"white\", \"showbackground\": true, \"ticks\": \"\", \"zerolinecolor\": \"white\"}, \"yaxis\": {\"backgroundcolor\": \"#E5ECF6\", \"gridcolor\": \"white\", \"gridwidth\": 2, \"linecolor\": \"white\", \"showbackground\": true, \"ticks\": \"\", \"zerolinecolor\": \"white\"}, \"zaxis\": {\"backgroundcolor\": \"#E5ECF6\", \"gridcolor\": \"white\", \"gridwidth\": 2, \"linecolor\": \"white\", \"showbackground\": true, \"ticks\": \"\", \"zerolinecolor\": \"white\"}}, \"shapedefaults\": {\"line\": {\"color\": \"#2a3f5f\"}}, \"ternary\": {\"aaxis\": {\"gridcolor\": \"white\", \"linecolor\": \"white\", \"ticks\": \"\"}, \"baxis\": {\"gridcolor\": \"white\", \"linecolor\": \"white\", \"ticks\": \"\"}, \"bgcolor\": \"#E5ECF6\", \"caxis\": {\"gridcolor\": \"white\", \"linecolor\": \"white\", \"ticks\": \"\"}}, \"title\": {\"x\": 0.05}, \"xaxis\": {\"automargin\": true, \"gridcolor\": \"white\", \"linecolor\": \"white\", \"ticks\": \"\", \"title\": {\"standoff\": 15}, \"zerolinecolor\": \"white\", \"zerolinewidth\": 2}, \"yaxis\": {\"automargin\": true, \"gridcolor\": \"white\", \"linecolor\": \"white\", \"ticks\": \"\", \"title\": {\"standoff\": 15}, \"zerolinecolor\": \"white\", \"zerolinewidth\": 2}}}, \"title\": {\"text\": \"Tweet Length Distribution\"}, \"xaxis\": {\"range\": [0, 160]}},\n",
       "                        {\"showLink\": true, \"linkText\": \"Export to plot.ly\", \"plotlyServerURL\": \"https://plot.ly\", \"responsive\": true}\n",
       "                    ).then(function(){\n",
       "                            \n",
       "var gd = document.getElementById('8dc06ba9-f93d-46ba-845e-3d6638840c83');\n",
       "var x = new MutationObserver(function (mutations, observer) {{\n",
       "        var display = window.getComputedStyle(gd).display;\n",
       "        if (!display || display === 'none') {{\n",
       "            console.log([gd, 'removed!']);\n",
       "            Plotly.purge(gd);\n",
       "            observer.disconnect();\n",
       "        }}\n",
       "}});\n",
       "\n",
       "// Listen for the removal of the full notebook cells\n",
       "var notebookContainer = gd.closest('#notebook-container');\n",
       "if (notebookContainer) {{\n",
       "    x.observe(notebookContainer, {childList: true});\n",
       "}}\n",
       "\n",
       "// Listen for the clearing of the current output cell\n",
       "var outputEl = gd.closest('.output');\n",
       "if (outputEl) {{\n",
       "    x.observe(outputEl, {childList: true});\n",
       "}}\n",
       "\n",
       "                        })\n",
       "                };\n",
       "                });\n",
       "            </script>\n",
       "        </div>"
      ]
     },
     "metadata": {},
     "output_type": "display_data"
    },
    {
     "data": {
      "application/vnd.plotly.v1+json": {
       "config": {
        "linkText": "Export to plot.ly",
        "plotlyServerURL": "https://plot.ly",
        "showLink": true
       },
       "data": [
        {
         "histfunc": "count",
         "histnorm": "",
         "marker": {
          "color": "rgba(255, 153, 51, 1.0)",
          "line": {
           "color": "#000000",
           "width": 1.3
          }
         },
         "name": "tweetlennew",
         "nbinsx": 500,
         "opacity": 0.8,
         "orientation": "v",
         "type": "histogram",
         "x": [
          85,
          134,
          186,
          49,
          56,
          43,
          202,
          186,
          133,
          133,
          67,
          129,
          73,
          84,
          12,
          52,
          75,
          120,
          null,
          null,
          null,
          null,
          null,
          null,
          null,
          null,
          null,
          null,
          null,
          null,
          null,
          null,
          null,
          null,
          null,
          null,
          61,
          5,
          5,
          123,
          74,
          104,
          188,
          119,
          51,
          23,
          123,
          85,
          46,
          279,
          130,
          104,
          23,
          71,
          57,
          56,
          107,
          136,
          71,
          32,
          198,
          76,
          179,
          64,
          213,
          108,
          54,
          77,
          115,
          122,
          15,
          147,
          84,
          99,
          24,
          57,
          43,
          87,
          141,
          47,
          337,
          59,
          95,
          97,
          189,
          60,
          263,
          21,
          79,
          108,
          274,
          60,
          101,
          113,
          17,
          21,
          71,
          18,
          84,
          84,
          55,
          39,
          120,
          134,
          40,
          134,
          132,
          49,
          134,
          220,
          58,
          17,
          86,
          104,
          11,
          166,
          73,
          167,
          89,
          132,
          115,
          10,
          191,
          32,
          151,
          78,
          205,
          163,
          71,
          264,
          77,
          null,
          null,
          null,
          null,
          null,
          null,
          null,
          null,
          null,
          null,
          null,
          null,
          null,
          null,
          null,
          null,
          null,
          null,
          null,
          null,
          147,
          27,
          162,
          78,
          73,
          80,
          122,
          20,
          69,
          12,
          99,
          24,
          171,
          145,
          119,
          41,
          149,
          86,
          165,
          81,
          93,
          85,
          167,
          123,
          89,
          78,
          128,
          158,
          27,
          76,
          71,
          144,
          83,
          98,
          99,
          76,
          47,
          76,
          278,
          220,
          36,
          97,
          54,
          156,
          70,
          153,
          40,
          18,
          73,
          30,
          22,
          221,
          151,
          143,
          103,
          279,
          137,
          71,
          14,
          72,
          9,
          87,
          29,
          44,
          85,
          140,
          99,
          21,
          8,
          7,
          259,
          76,
          26,
          172,
          158,
          203,
          5,
          31,
          92,
          88,
          52,
          4,
          100,
          40,
          57,
          156,
          26,
          72,
          41,
          45,
          91,
          15,
          72,
          19,
          null,
          null,
          null,
          null,
          null,
          null,
          null,
          null,
          null,
          null,
          null,
          null,
          null,
          null,
          null,
          null,
          null,
          null,
          null,
          55,
          36,
          77,
          19,
          8,
          28,
          41,
          107,
          62,
          257,
          59,
          128,
          31,
          11,
          61,
          17,
          113,
          39,
          31,
          24,
          355,
          79,
          92,
          52,
          11,
          39,
          21,
          60,
          7,
          144,
          150,
          11,
          100,
          65,
          116,
          24,
          21,
          70,
          41,
          70,
          121,
          34,
          16,
          76,
          391,
          26,
          null,
          61,
          44,
          44,
          26,
          66,
          78,
          149,
          42,
          328,
          195,
          58,
          55,
          36,
          33,
          80,
          133,
          17,
          27,
          169,
          43,
          29,
          29,
          122,
          18,
          13,
          211,
          44,
          36,
          23,
          180,
          101,
          23,
          113,
          111,
          276,
          126,
          195,
          128,
          145,
          107,
          108,
          67,
          108,
          225,
          240,
          229,
          null,
          null,
          null,
          null,
          null,
          null,
          null,
          null,
          null,
          null,
          null,
          null,
          null,
          null,
          null,
          null,
          null,
          null,
          34,
          98,
          135,
          207,
          63,
          36,
          256,
          35,
          37,
          21,
          205,
          88,
          262,
          66,
          58,
          72,
          120,
          214,
          278,
          121,
          91,
          101,
          140,
          116,
          108,
          277,
          58,
          108,
          128,
          89,
          130,
          42,
          101,
          315,
          105,
          220,
          108,
          126,
          42,
          214,
          91,
          54,
          119,
          54,
          125,
          185,
          43,
          37,
          107,
          12,
          97,
          214,
          116,
          230,
          151,
          209,
          96,
          108,
          21,
          93,
          275,
          126,
          56,
          270,
          151,
          26,
          91,
          106,
          108,
          131,
          90,
          125,
          151,
          118,
          64,
          136,
          119,
          209,
          88,
          176,
          200,
          92,
          60,
          36,
          81,
          108,
          172,
          113,
          87,
          169,
          85,
          55,
          297,
          126,
          275,
          108,
          null,
          null,
          null,
          null,
          null,
          null,
          null,
          null,
          null,
          null,
          null,
          null,
          null,
          null,
          null,
          null,
          null,
          null,
          null,
          null,
          68,
          77,
          243,
          274,
          26,
          58,
          258,
          280,
          160,
          262,
          108,
          153,
          76,
          165,
          34,
          91,
          235,
          139,
          108,
          74,
          108,
          133,
          241,
          56,
          55,
          178,
          32,
          164,
          95,
          108,
          360,
          63,
          141,
          101,
          94,
          43,
          278,
          35,
          113,
          35,
          34,
          226,
          108,
          35,
          75,
          97,
          298,
          276,
          56,
          277,
          102,
          203,
          103,
          39,
          37,
          269,
          280,
          28,
          135,
          69,
          125,
          217,
          108,
          98,
          96,
          22,
          230,
          217,
          108,
          187,
          275,
          278,
          52,
          98,
          188,
          186,
          80,
          113,
          260,
          40,
          266,
          195,
          212,
          26,
          11,
          133,
          129,
          195,
          190,
          227,
          89,
          110,
          245,
          334,
          null,
          null,
          null,
          null,
          null,
          null,
          null,
          null,
          null,
          null,
          null,
          null,
          null,
          null,
          null,
          null,
          null,
          44,
          155,
          79,
          220,
          106,
          100,
          85,
          279,
          19,
          27,
          172,
          132,
          194,
          49,
          197,
          170,
          28,
          134,
          161,
          8,
          126,
          75,
          114,
          99,
          196,
          267,
          66,
          33,
          17,
          81,
          122,
          56,
          174,
          190,
          272,
          131,
          75,
          231,
          25,
          68,
          42,
          92,
          4,
          129,
          108,
          233,
          232,
          13,
          127,
          113,
          26,
          65,
          5,
          217,
          41,
          68,
          239,
          164,
          23,
          262,
          52,
          29,
          31,
          96,
          200,
          25,
          203,
          241,
          126,
          13,
          51,
          75,
          261,
          169,
          43,
          38,
          93,
          80,
          184,
          15,
          96,
          133,
          184,
          35,
          91,
          99,
          290,
          110,
          262,
          49,
          32,
          57,
          null,
          null,
          null,
          null,
          null,
          null,
          null,
          null,
          null,
          null,
          null,
          null,
          null,
          null,
          null,
          null,
          null,
          null,
          null,
          null,
          21,
          16,
          143,
          148,
          19,
          110,
          82,
          104,
          27,
          112,
          56,
          39,
          80,
          213,
          93,
          122,
          5,
          5,
          85,
          78,
          57,
          36,
          104,
          85,
          280,
          280,
          123,
          89,
          70,
          105,
          210,
          91,
          63,
          301,
          251,
          95,
          32,
          59,
          105,
          110,
          9,
          246,
          195,
          141,
          33,
          148,
          43,
          276,
          260,
          247,
          94,
          106,
          26,
          107,
          117,
          73,
          130,
          27,
          80,
          38,
          53,
          63,
          55,
          156,
          34,
          17,
          215,
          19,
          47,
          211,
          240,
          215,
          24,
          41,
          18,
          80,
          18,
          153,
          81,
          36,
          278,
          41,
          15,
          147,
          6,
          164,
          101,
          99,
          233,
          241,
          133,
          119,
          79,
          70,
          105,
          352,
          null,
          null,
          null,
          null,
          null,
          null,
          null,
          null,
          null,
          null,
          null,
          null,
          null,
          null,
          null,
          null,
          null,
          null,
          null,
          null,
          122,
          75,
          7,
          120,
          62,
          81,
          189,
          6,
          36,
          72,
          52,
          139,
          185,
          83,
          153,
          84,
          59,
          234,
          76,
          16,
          105,
          233,
          160,
          26,
          74,
          121,
          138,
          189,
          108,
          19,
          209,
          251,
          117,
          19,
          152,
          17,
          219,
          57,
          100,
          66,
          151,
          151,
          68,
          113,
          92,
          223,
          367,
          68,
          61,
          187,
          169,
          302,
          174,
          70,
          50,
          69,
          127,
          29,
          14,
          99,
          244,
          50,
          132,
          185,
          37,
          24,
          80,
          213,
          116,
          298,
          16,
          200,
          182,
          127,
          71,
          251,
          284,
          276,
          263,
          11,
          29,
          74,
          100,
          76,
          22,
          211,
          81,
          53,
          22,
          216,
          102,
          135,
          null,
          null,
          null,
          null,
          null,
          null,
          null,
          null,
          null,
          null,
          null,
          null,
          null,
          null,
          null,
          null,
          null,
          349,
          216,
          198,
          272,
          269,
          30,
          12,
          129,
          5,
          151,
          131,
          138,
          145,
          30,
          118,
          56,
          50,
          263,
          165,
          10,
          271,
          275,
          86,
          165,
          263,
          107,
          34,
          68,
          26,
          26,
          11,
          14,
          100,
          253,
          117,
          71,
          57,
          279,
          63,
          136,
          51,
          280,
          19,
          19,
          9,
          145,
          45,
          8,
          4,
          236,
          58,
          17,
          66,
          21,
          266,
          81,
          39,
          79,
          32,
          70,
          248,
          102,
          30,
          69,
          80,
          259,
          181,
          147,
          215,
          87,
          84,
          57,
          258,
          276,
          74,
          118,
          131,
          150,
          147,
          97,
          196,
          186,
          141,
          59
         ]
        }
       ],
       "layout": {
        "barmode": "overlay",
        "template": {
         "data": {
          "bar": [
           {
            "error_x": {
             "color": "#2a3f5f"
            },
            "error_y": {
             "color": "#2a3f5f"
            },
            "marker": {
             "line": {
              "color": "#E5ECF6",
              "width": 0.5
             }
            },
            "type": "bar"
           }
          ],
          "barpolar": [
           {
            "marker": {
             "line": {
              "color": "#E5ECF6",
              "width": 0.5
             }
            },
            "type": "barpolar"
           }
          ],
          "carpet": [
           {
            "aaxis": {
             "endlinecolor": "#2a3f5f",
             "gridcolor": "white",
             "linecolor": "white",
             "minorgridcolor": "white",
             "startlinecolor": "#2a3f5f"
            },
            "baxis": {
             "endlinecolor": "#2a3f5f",
             "gridcolor": "white",
             "linecolor": "white",
             "minorgridcolor": "white",
             "startlinecolor": "#2a3f5f"
            },
            "type": "carpet"
           }
          ],
          "choropleth": [
           {
            "colorbar": {
             "outlinewidth": 0,
             "ticks": ""
            },
            "type": "choropleth"
           }
          ],
          "contour": [
           {
            "colorbar": {
             "outlinewidth": 0,
             "ticks": ""
            },
            "colorscale": [
             [
              0,
              "#0d0887"
             ],
             [
              0.1111111111111111,
              "#46039f"
             ],
             [
              0.2222222222222222,
              "#7201a8"
             ],
             [
              0.3333333333333333,
              "#9c179e"
             ],
             [
              0.4444444444444444,
              "#bd3786"
             ],
             [
              0.5555555555555556,
              "#d8576b"
             ],
             [
              0.6666666666666666,
              "#ed7953"
             ],
             [
              0.7777777777777778,
              "#fb9f3a"
             ],
             [
              0.8888888888888888,
              "#fdca26"
             ],
             [
              1,
              "#f0f921"
             ]
            ],
            "type": "contour"
           }
          ],
          "contourcarpet": [
           {
            "colorbar": {
             "outlinewidth": 0,
             "ticks": ""
            },
            "type": "contourcarpet"
           }
          ],
          "heatmap": [
           {
            "colorbar": {
             "outlinewidth": 0,
             "ticks": ""
            },
            "colorscale": [
             [
              0,
              "#0d0887"
             ],
             [
              0.1111111111111111,
              "#46039f"
             ],
             [
              0.2222222222222222,
              "#7201a8"
             ],
             [
              0.3333333333333333,
              "#9c179e"
             ],
             [
              0.4444444444444444,
              "#bd3786"
             ],
             [
              0.5555555555555556,
              "#d8576b"
             ],
             [
              0.6666666666666666,
              "#ed7953"
             ],
             [
              0.7777777777777778,
              "#fb9f3a"
             ],
             [
              0.8888888888888888,
              "#fdca26"
             ],
             [
              1,
              "#f0f921"
             ]
            ],
            "type": "heatmap"
           }
          ],
          "heatmapgl": [
           {
            "colorbar": {
             "outlinewidth": 0,
             "ticks": ""
            },
            "colorscale": [
             [
              0,
              "#0d0887"
             ],
             [
              0.1111111111111111,
              "#46039f"
             ],
             [
              0.2222222222222222,
              "#7201a8"
             ],
             [
              0.3333333333333333,
              "#9c179e"
             ],
             [
              0.4444444444444444,
              "#bd3786"
             ],
             [
              0.5555555555555556,
              "#d8576b"
             ],
             [
              0.6666666666666666,
              "#ed7953"
             ],
             [
              0.7777777777777778,
              "#fb9f3a"
             ],
             [
              0.8888888888888888,
              "#fdca26"
             ],
             [
              1,
              "#f0f921"
             ]
            ],
            "type": "heatmapgl"
           }
          ],
          "histogram": [
           {
            "marker": {
             "colorbar": {
              "outlinewidth": 0,
              "ticks": ""
             }
            },
            "type": "histogram"
           }
          ],
          "histogram2d": [
           {
            "colorbar": {
             "outlinewidth": 0,
             "ticks": ""
            },
            "colorscale": [
             [
              0,
              "#0d0887"
             ],
             [
              0.1111111111111111,
              "#46039f"
             ],
             [
              0.2222222222222222,
              "#7201a8"
             ],
             [
              0.3333333333333333,
              "#9c179e"
             ],
             [
              0.4444444444444444,
              "#bd3786"
             ],
             [
              0.5555555555555556,
              "#d8576b"
             ],
             [
              0.6666666666666666,
              "#ed7953"
             ],
             [
              0.7777777777777778,
              "#fb9f3a"
             ],
             [
              0.8888888888888888,
              "#fdca26"
             ],
             [
              1,
              "#f0f921"
             ]
            ],
            "type": "histogram2d"
           }
          ],
          "histogram2dcontour": [
           {
            "colorbar": {
             "outlinewidth": 0,
             "ticks": ""
            },
            "colorscale": [
             [
              0,
              "#0d0887"
             ],
             [
              0.1111111111111111,
              "#46039f"
             ],
             [
              0.2222222222222222,
              "#7201a8"
             ],
             [
              0.3333333333333333,
              "#9c179e"
             ],
             [
              0.4444444444444444,
              "#bd3786"
             ],
             [
              0.5555555555555556,
              "#d8576b"
             ],
             [
              0.6666666666666666,
              "#ed7953"
             ],
             [
              0.7777777777777778,
              "#fb9f3a"
             ],
             [
              0.8888888888888888,
              "#fdca26"
             ],
             [
              1,
              "#f0f921"
             ]
            ],
            "type": "histogram2dcontour"
           }
          ],
          "mesh3d": [
           {
            "colorbar": {
             "outlinewidth": 0,
             "ticks": ""
            },
            "type": "mesh3d"
           }
          ],
          "parcoords": [
           {
            "line": {
             "colorbar": {
              "outlinewidth": 0,
              "ticks": ""
             }
            },
            "type": "parcoords"
           }
          ],
          "pie": [
           {
            "automargin": true,
            "type": "pie"
           }
          ],
          "scatter": [
           {
            "marker": {
             "colorbar": {
              "outlinewidth": 0,
              "ticks": ""
             }
            },
            "type": "scatter"
           }
          ],
          "scatter3d": [
           {
            "line": {
             "colorbar": {
              "outlinewidth": 0,
              "ticks": ""
             }
            },
            "marker": {
             "colorbar": {
              "outlinewidth": 0,
              "ticks": ""
             }
            },
            "type": "scatter3d"
           }
          ],
          "scattercarpet": [
           {
            "marker": {
             "colorbar": {
              "outlinewidth": 0,
              "ticks": ""
             }
            },
            "type": "scattercarpet"
           }
          ],
          "scattergeo": [
           {
            "marker": {
             "colorbar": {
              "outlinewidth": 0,
              "ticks": ""
             }
            },
            "type": "scattergeo"
           }
          ],
          "scattergl": [
           {
            "marker": {
             "colorbar": {
              "outlinewidth": 0,
              "ticks": ""
             }
            },
            "type": "scattergl"
           }
          ],
          "scattermapbox": [
           {
            "marker": {
             "colorbar": {
              "outlinewidth": 0,
              "ticks": ""
             }
            },
            "type": "scattermapbox"
           }
          ],
          "scatterpolar": [
           {
            "marker": {
             "colorbar": {
              "outlinewidth": 0,
              "ticks": ""
             }
            },
            "type": "scatterpolar"
           }
          ],
          "scatterpolargl": [
           {
            "marker": {
             "colorbar": {
              "outlinewidth": 0,
              "ticks": ""
             }
            },
            "type": "scatterpolargl"
           }
          ],
          "scatterternary": [
           {
            "marker": {
             "colorbar": {
              "outlinewidth": 0,
              "ticks": ""
             }
            },
            "type": "scatterternary"
           }
          ],
          "surface": [
           {
            "colorbar": {
             "outlinewidth": 0,
             "ticks": ""
            },
            "colorscale": [
             [
              0,
              "#0d0887"
             ],
             [
              0.1111111111111111,
              "#46039f"
             ],
             [
              0.2222222222222222,
              "#7201a8"
             ],
             [
              0.3333333333333333,
              "#9c179e"
             ],
             [
              0.4444444444444444,
              "#bd3786"
             ],
             [
              0.5555555555555556,
              "#d8576b"
             ],
             [
              0.6666666666666666,
              "#ed7953"
             ],
             [
              0.7777777777777778,
              "#fb9f3a"
             ],
             [
              0.8888888888888888,
              "#fdca26"
             ],
             [
              1,
              "#f0f921"
             ]
            ],
            "type": "surface"
           }
          ],
          "table": [
           {
            "cells": {
             "fill": {
              "color": "#EBF0F8"
             },
             "line": {
              "color": "white"
             }
            },
            "header": {
             "fill": {
              "color": "#C8D4E3"
             },
             "line": {
              "color": "white"
             }
            },
            "type": "table"
           }
          ]
         },
         "layout": {
          "annotationdefaults": {
           "arrowcolor": "#2a3f5f",
           "arrowhead": 0,
           "arrowwidth": 1
          },
          "coloraxis": {
           "colorbar": {
            "outlinewidth": 0,
            "ticks": ""
           }
          },
          "colorscale": {
           "diverging": [
            [
             0,
             "#8e0152"
            ],
            [
             0.1,
             "#c51b7d"
            ],
            [
             0.2,
             "#de77ae"
            ],
            [
             0.3,
             "#f1b6da"
            ],
            [
             0.4,
             "#fde0ef"
            ],
            [
             0.5,
             "#f7f7f7"
            ],
            [
             0.6,
             "#e6f5d0"
            ],
            [
             0.7,
             "#b8e186"
            ],
            [
             0.8,
             "#7fbc41"
            ],
            [
             0.9,
             "#4d9221"
            ],
            [
             1,
             "#276419"
            ]
           ],
           "sequential": [
            [
             0,
             "#0d0887"
            ],
            [
             0.1111111111111111,
             "#46039f"
            ],
            [
             0.2222222222222222,
             "#7201a8"
            ],
            [
             0.3333333333333333,
             "#9c179e"
            ],
            [
             0.4444444444444444,
             "#bd3786"
            ],
            [
             0.5555555555555556,
             "#d8576b"
            ],
            [
             0.6666666666666666,
             "#ed7953"
            ],
            [
             0.7777777777777778,
             "#fb9f3a"
            ],
            [
             0.8888888888888888,
             "#fdca26"
            ],
            [
             1,
             "#f0f921"
            ]
           ],
           "sequentialminus": [
            [
             0,
             "#0d0887"
            ],
            [
             0.1111111111111111,
             "#46039f"
            ],
            [
             0.2222222222222222,
             "#7201a8"
            ],
            [
             0.3333333333333333,
             "#9c179e"
            ],
            [
             0.4444444444444444,
             "#bd3786"
            ],
            [
             0.5555555555555556,
             "#d8576b"
            ],
            [
             0.6666666666666666,
             "#ed7953"
            ],
            [
             0.7777777777777778,
             "#fb9f3a"
            ],
            [
             0.8888888888888888,
             "#fdca26"
            ],
            [
             1,
             "#f0f921"
            ]
           ]
          },
          "colorway": [
           "#636efa",
           "#EF553B",
           "#00cc96",
           "#ab63fa",
           "#FFA15A",
           "#19d3f3",
           "#FF6692",
           "#B6E880",
           "#FF97FF",
           "#FECB52"
          ],
          "font": {
           "color": "#2a3f5f"
          },
          "geo": {
           "bgcolor": "white",
           "lakecolor": "white",
           "landcolor": "#E5ECF6",
           "showlakes": true,
           "showland": true,
           "subunitcolor": "white"
          },
          "hoverlabel": {
           "align": "left"
          },
          "hovermode": "closest",
          "mapbox": {
           "style": "light"
          },
          "paper_bgcolor": "white",
          "plot_bgcolor": "#E5ECF6",
          "polar": {
           "angularaxis": {
            "gridcolor": "white",
            "linecolor": "white",
            "ticks": ""
           },
           "bgcolor": "#E5ECF6",
           "radialaxis": {
            "gridcolor": "white",
            "linecolor": "white",
            "ticks": ""
           }
          },
          "scene": {
           "xaxis": {
            "backgroundcolor": "#E5ECF6",
            "gridcolor": "white",
            "gridwidth": 2,
            "linecolor": "white",
            "showbackground": true,
            "ticks": "",
            "zerolinecolor": "white"
           },
           "yaxis": {
            "backgroundcolor": "#E5ECF6",
            "gridcolor": "white",
            "gridwidth": 2,
            "linecolor": "white",
            "showbackground": true,
            "ticks": "",
            "zerolinecolor": "white"
           },
           "zaxis": {
            "backgroundcolor": "#E5ECF6",
            "gridcolor": "white",
            "gridwidth": 2,
            "linecolor": "white",
            "showbackground": true,
            "ticks": "",
            "zerolinecolor": "white"
           }
          },
          "shapedefaults": {
           "line": {
            "color": "#2a3f5f"
           }
          },
          "ternary": {
           "aaxis": {
            "gridcolor": "white",
            "linecolor": "white",
            "ticks": ""
           },
           "baxis": {
            "gridcolor": "white",
            "linecolor": "white",
            "ticks": ""
           },
           "bgcolor": "#E5ECF6",
           "caxis": {
            "gridcolor": "white",
            "linecolor": "white",
            "ticks": ""
           }
          },
          "title": {
           "x": 0.05
          },
          "xaxis": {
           "automargin": true,
           "gridcolor": "white",
           "linecolor": "white",
           "ticks": "",
           "title": {
            "standoff": 15
           },
           "zerolinecolor": "white",
           "zerolinewidth": 2
          },
          "yaxis": {
           "automargin": true,
           "gridcolor": "white",
           "linecolor": "white",
           "ticks": "",
           "title": {
            "standoff": 15
           },
           "zerolinecolor": "white",
           "zerolinewidth": 2
          }
         }
        },
        "title": {
         "text": "Tweet Length Distribution"
        },
        "xaxis": {
         "range": [
          0,
          160
         ]
        }
       }
      },
      "text/html": [
       "<div>\n",
       "        \n",
       "        \n",
       "            <div id=\"bb37889e-37fc-4705-be6d-1f803f7c5790\" class=\"plotly-graph-div\" style=\"height:525px; width:100%;\"></div>\n",
       "            <script type=\"text/javascript\">\n",
       "                require([\"plotly\"], function(Plotly) {\n",
       "                    window.PLOTLYENV=window.PLOTLYENV || {};\n",
       "                    window.PLOTLYENV.BASE_URL='https://plot.ly';\n",
       "                    \n",
       "                if (document.getElementById(\"bb37889e-37fc-4705-be6d-1f803f7c5790\")) {\n",
       "                    Plotly.newPlot(\n",
       "                        'bb37889e-37fc-4705-be6d-1f803f7c5790',\n",
       "                        [{\"histfunc\": \"count\", \"histnorm\": \"\", \"marker\": {\"color\": \"rgba(255, 153, 51, 1.0)\", \"line\": {\"color\": \"#000000\", \"width\": 1.3}}, \"name\": \"tweetlennew\", \"nbinsx\": 500, \"opacity\": 0.8, \"orientation\": \"v\", \"type\": \"histogram\", \"x\": [85.0, 134.0, 186.0, 49.0, 56.0, 43.0, 202.0, 186.0, 133.0, 133.0, 67.0, 129.0, 73.0, 84.0, 12.0, 52.0, 75.0, 120.0, null, null, null, null, null, null, null, null, null, null, null, null, null, null, null, null, null, null, 61.0, 5.0, 5.0, 123.0, 74.0, 104.0, 188.0, 119.0, 51.0, 23.0, 123.0, 85.0, 46.0, 279.0, 130.0, 104.0, 23.0, 71.0, 57.0, 56.0, 107.0, 136.0, 71.0, 32.0, 198.0, 76.0, 179.0, 64.0, 213.0, 108.0, 54.0, 77.0, 115.0, 122.0, 15.0, 147.0, 84.0, 99.0, 24.0, 57.0, 43.0, 87.0, 141.0, 47.0, 337.0, 59.0, 95.0, 97.0, 189.0, 60.0, 263.0, 21.0, 79.0, 108.0, 274.0, 60.0, 101.0, 113.0, 17.0, 21.0, 71.0, 18.0, 84.0, 84.0, 55.0, 39.0, 120.0, 134.0, 40.0, 134.0, 132.0, 49.0, 134.0, 220.0, 58.0, 17.0, 86.0, 104.0, 11.0, 166.0, 73.0, 167.0, 89.0, 132.0, 115.0, 10.0, 191.0, 32.0, 151.0, 78.0, 205.0, 163.0, 71.0, 264.0, 77.0, null, null, null, null, null, null, null, null, null, null, null, null, null, null, null, null, null, null, null, null, 147.0, 27.0, 162.0, 78.0, 73.0, 80.0, 122.0, 20.0, 69.0, 12.0, 99.0, 24.0, 171.0, 145.0, 119.0, 41.0, 149.0, 86.0, 165.0, 81.0, 93.0, 85.0, 167.0, 123.0, 89.0, 78.0, 128.0, 158.0, 27.0, 76.0, 71.0, 144.0, 83.0, 98.0, 99.0, 76.0, 47.0, 76.0, 278.0, 220.0, 36.0, 97.0, 54.0, 156.0, 70.0, 153.0, 40.0, 18.0, 73.0, 30.0, 22.0, 221.0, 151.0, 143.0, 103.0, 279.0, 137.0, 71.0, 14.0, 72.0, 9.0, 87.0, 29.0, 44.0, 85.0, 140.0, 99.0, 21.0, 8.0, 7.0, 259.0, 76.0, 26.0, 172.0, 158.0, 203.0, 5.0, 31.0, 92.0, 88.0, 52.0, 4.0, 100.0, 40.0, 57.0, 156.0, 26.0, 72.0, 41.0, 45.0, 91.0, 15.0, 72.0, 19.0, null, null, null, null, null, null, null, null, null, null, null, null, null, null, null, null, null, null, null, 55.0, 36.0, 77.0, 19.0, 8.0, 28.0, 41.0, 107.0, 62.0, 257.0, 59.0, 128.0, 31.0, 11.0, 61.0, 17.0, 113.0, 39.0, 31.0, 24.0, 355.0, 79.0, 92.0, 52.0, 11.0, 39.0, 21.0, 60.0, 7.0, 144.0, 150.0, 11.0, 100.0, 65.0, 116.0, 24.0, 21.0, 70.0, 41.0, 70.0, 121.0, 34.0, 16.0, 76.0, 391.0, 26.0, null, 61.0, 44.0, 44.0, 26.0, 66.0, 78.0, 149.0, 42.0, 328.0, 195.0, 58.0, 55.0, 36.0, 33.0, 80.0, 133.0, 17.0, 27.0, 169.0, 43.0, 29.0, 29.0, 122.0, 18.0, 13.0, 211.0, 44.0, 36.0, 23.0, 180.0, 101.0, 23.0, 113.0, 111.0, 276.0, 126.0, 195.0, 128.0, 145.0, 107.0, 108.0, 67.0, 108.0, 225.0, 240.0, 229.0, null, null, null, null, null, null, null, null, null, null, null, null, null, null, null, null, null, null, 34.0, 98.0, 135.0, 207.0, 63.0, 36.0, 256.0, 35.0, 37.0, 21.0, 205.0, 88.0, 262.0, 66.0, 58.0, 72.0, 120.0, 214.0, 278.0, 121.0, 91.0, 101.0, 140.0, 116.0, 108.0, 277.0, 58.0, 108.0, 128.0, 89.0, 130.0, 42.0, 101.0, 315.0, 105.0, 220.0, 108.0, 126.0, 42.0, 214.0, 91.0, 54.0, 119.0, 54.0, 125.0, 185.0, 43.0, 37.0, 107.0, 12.0, 97.0, 214.0, 116.0, 230.0, 151.0, 209.0, 96.0, 108.0, 21.0, 93.0, 275.0, 126.0, 56.0, 270.0, 151.0, 26.0, 91.0, 106.0, 108.0, 131.0, 90.0, 125.0, 151.0, 118.0, 64.0, 136.0, 119.0, 209.0, 88.0, 176.0, 200.0, 92.0, 60.0, 36.0, 81.0, 108.0, 172.0, 113.0, 87.0, 169.0, 85.0, 55.0, 297.0, 126.0, 275.0, 108.0, null, null, null, null, null, null, null, null, null, null, null, null, null, null, null, null, null, null, null, null, 68.0, 77.0, 243.0, 274.0, 26.0, 58.0, 258.0, 280.0, 160.0, 262.0, 108.0, 153.0, 76.0, 165.0, 34.0, 91.0, 235.0, 139.0, 108.0, 74.0, 108.0, 133.0, 241.0, 56.0, 55.0, 178.0, 32.0, 164.0, 95.0, 108.0, 360.0, 63.0, 141.0, 101.0, 94.0, 43.0, 278.0, 35.0, 113.0, 35.0, 34.0, 226.0, 108.0, 35.0, 75.0, 97.0, 298.0, 276.0, 56.0, 277.0, 102.0, 203.0, 103.0, 39.0, 37.0, 269.0, 280.0, 28.0, 135.0, 69.0, 125.0, 217.0, 108.0, 98.0, 96.0, 22.0, 230.0, 217.0, 108.0, 187.0, 275.0, 278.0, 52.0, 98.0, 188.0, 186.0, 80.0, 113.0, 260.0, 40.0, 266.0, 195.0, 212.0, 26.0, 11.0, 133.0, 129.0, 195.0, 190.0, 227.0, 89.0, 110.0, 245.0, 334.0, null, null, null, null, null, null, null, null, null, null, null, null, null, null, null, null, null, 44.0, 155.0, 79.0, 220.0, 106.0, 100.0, 85.0, 279.0, 19.0, 27.0, 172.0, 132.0, 194.0, 49.0, 197.0, 170.0, 28.0, 134.0, 161.0, 8.0, 126.0, 75.0, 114.0, 99.0, 196.0, 267.0, 66.0, 33.0, 17.0, 81.0, 122.0, 56.0, 174.0, 190.0, 272.0, 131.0, 75.0, 231.0, 25.0, 68.0, 42.0, 92.0, 4.0, 129.0, 108.0, 233.0, 232.0, 13.0, 127.0, 113.0, 26.0, 65.0, 5.0, 217.0, 41.0, 68.0, 239.0, 164.0, 23.0, 262.0, 52.0, 29.0, 31.0, 96.0, 200.0, 25.0, 203.0, 241.0, 126.0, 13.0, 51.0, 75.0, 261.0, 169.0, 43.0, 38.0, 93.0, 80.0, 184.0, 15.0, 96.0, 133.0, 184.0, 35.0, 91.0, 99.0, 290.0, 110.0, 262.0, 49.0, 32.0, 57.0, null, null, null, null, null, null, null, null, null, null, null, null, null, null, null, null, null, null, null, null, 21.0, 16.0, 143.0, 148.0, 19.0, 110.0, 82.0, 104.0, 27.0, 112.0, 56.0, 39.0, 80.0, 213.0, 93.0, 122.0, 5.0, 5.0, 85.0, 78.0, 57.0, 36.0, 104.0, 85.0, 280.0, 280.0, 123.0, 89.0, 70.0, 105.0, 210.0, 91.0, 63.0, 301.0, 251.0, 95.0, 32.0, 59.0, 105.0, 110.0, 9.0, 246.0, 195.0, 141.0, 33.0, 148.0, 43.0, 276.0, 260.0, 247.0, 94.0, 106.0, 26.0, 107.0, 117.0, 73.0, 130.0, 27.0, 80.0, 38.0, 53.0, 63.0, 55.0, 156.0, 34.0, 17.0, 215.0, 19.0, 47.0, 211.0, 240.0, 215.0, 24.0, 41.0, 18.0, 80.0, 18.0, 153.0, 81.0, 36.0, 278.0, 41.0, 15.0, 147.0, 6.0, 164.0, 101.0, 99.0, 233.0, 241.0, 133.0, 119.0, 79.0, 70.0, 105.0, 352.0, null, null, null, null, null, null, null, null, null, null, null, null, null, null, null, null, null, null, null, null, 122.0, 75.0, 7.0, 120.0, 62.0, 81.0, 189.0, 6.0, 36.0, 72.0, 52.0, 139.0, 185.0, 83.0, 153.0, 84.0, 59.0, 234.0, 76.0, 16.0, 105.0, 233.0, 160.0, 26.0, 74.0, 121.0, 138.0, 189.0, 108.0, 19.0, 209.0, 251.0, 117.0, 19.0, 152.0, 17.0, 219.0, 57.0, 100.0, 66.0, 151.0, 151.0, 68.0, 113.0, 92.0, 223.0, 367.0, 68.0, 61.0, 187.0, 169.0, 302.0, 174.0, 70.0, 50.0, 69.0, 127.0, 29.0, 14.0, 99.0, 244.0, 50.0, 132.0, 185.0, 37.0, 24.0, 80.0, 213.0, 116.0, 298.0, 16.0, 200.0, 182.0, 127.0, 71.0, 251.0, 284.0, 276.0, 263.0, 11.0, 29.0, 74.0, 100.0, 76.0, 22.0, 211.0, 81.0, 53.0, 22.0, 216.0, 102.0, 135.0, null, null, null, null, null, null, null, null, null, null, null, null, null, null, null, null, null, 349.0, 216.0, 198.0, 272.0, 269.0, 30.0, 12.0, 129.0, 5.0, 151.0, 131.0, 138.0, 145.0, 30.0, 118.0, 56.0, 50.0, 263.0, 165.0, 10.0, 271.0, 275.0, 86.0, 165.0, 263.0, 107.0, 34.0, 68.0, 26.0, 26.0, 11.0, 14.0, 100.0, 253.0, 117.0, 71.0, 57.0, 279.0, 63.0, 136.0, 51.0, 280.0, 19.0, 19.0, 9.0, 145.0, 45.0, 8.0, 4.0, 236.0, 58.0, 17.0, 66.0, 21.0, 266.0, 81.0, 39.0, 79.0, 32.0, 70.0, 248.0, 102.0, 30.0, 69.0, 80.0, 259.0, 181.0, 147.0, 215.0, 87.0, 84.0, 57.0, 258.0, 276.0, 74.0, 118.0, 131.0, 150.0, 147.0, 97.0, 196.0, 186.0, 141.0, 59.0]}],\n",
       "                        {\"barmode\": \"overlay\", \"template\": {\"data\": {\"bar\": [{\"error_x\": {\"color\": \"#2a3f5f\"}, \"error_y\": {\"color\": \"#2a3f5f\"}, \"marker\": {\"line\": {\"color\": \"#E5ECF6\", \"width\": 0.5}}, \"type\": \"bar\"}], \"barpolar\": [{\"marker\": {\"line\": {\"color\": \"#E5ECF6\", \"width\": 0.5}}, \"type\": \"barpolar\"}], \"carpet\": [{\"aaxis\": {\"endlinecolor\": \"#2a3f5f\", \"gridcolor\": \"white\", \"linecolor\": \"white\", \"minorgridcolor\": \"white\", \"startlinecolor\": \"#2a3f5f\"}, \"baxis\": {\"endlinecolor\": \"#2a3f5f\", \"gridcolor\": \"white\", \"linecolor\": \"white\", \"minorgridcolor\": \"white\", \"startlinecolor\": \"#2a3f5f\"}, \"type\": \"carpet\"}], \"choropleth\": [{\"colorbar\": {\"outlinewidth\": 0, \"ticks\": \"\"}, \"type\": \"choropleth\"}], \"contour\": [{\"colorbar\": {\"outlinewidth\": 0, \"ticks\": \"\"}, \"colorscale\": [[0.0, \"#0d0887\"], [0.1111111111111111, \"#46039f\"], [0.2222222222222222, \"#7201a8\"], [0.3333333333333333, \"#9c179e\"], [0.4444444444444444, \"#bd3786\"], [0.5555555555555556, \"#d8576b\"], [0.6666666666666666, \"#ed7953\"], [0.7777777777777778, \"#fb9f3a\"], [0.8888888888888888, \"#fdca26\"], [1.0, \"#f0f921\"]], \"type\": \"contour\"}], \"contourcarpet\": [{\"colorbar\": {\"outlinewidth\": 0, \"ticks\": \"\"}, \"type\": \"contourcarpet\"}], \"heatmap\": [{\"colorbar\": {\"outlinewidth\": 0, \"ticks\": \"\"}, \"colorscale\": [[0.0, \"#0d0887\"], [0.1111111111111111, \"#46039f\"], [0.2222222222222222, \"#7201a8\"], [0.3333333333333333, \"#9c179e\"], [0.4444444444444444, \"#bd3786\"], [0.5555555555555556, \"#d8576b\"], [0.6666666666666666, \"#ed7953\"], [0.7777777777777778, \"#fb9f3a\"], [0.8888888888888888, \"#fdca26\"], [1.0, \"#f0f921\"]], \"type\": \"heatmap\"}], \"heatmapgl\": [{\"colorbar\": {\"outlinewidth\": 0, \"ticks\": \"\"}, \"colorscale\": [[0.0, \"#0d0887\"], [0.1111111111111111, \"#46039f\"], [0.2222222222222222, \"#7201a8\"], [0.3333333333333333, \"#9c179e\"], [0.4444444444444444, \"#bd3786\"], [0.5555555555555556, \"#d8576b\"], [0.6666666666666666, \"#ed7953\"], [0.7777777777777778, \"#fb9f3a\"], [0.8888888888888888, \"#fdca26\"], [1.0, \"#f0f921\"]], \"type\": \"heatmapgl\"}], \"histogram\": [{\"marker\": {\"colorbar\": {\"outlinewidth\": 0, \"ticks\": \"\"}}, \"type\": \"histogram\"}], \"histogram2d\": [{\"colorbar\": {\"outlinewidth\": 0, \"ticks\": \"\"}, \"colorscale\": [[0.0, \"#0d0887\"], [0.1111111111111111, \"#46039f\"], [0.2222222222222222, \"#7201a8\"], [0.3333333333333333, \"#9c179e\"], [0.4444444444444444, \"#bd3786\"], [0.5555555555555556, \"#d8576b\"], [0.6666666666666666, \"#ed7953\"], [0.7777777777777778, \"#fb9f3a\"], [0.8888888888888888, \"#fdca26\"], [1.0, \"#f0f921\"]], \"type\": \"histogram2d\"}], \"histogram2dcontour\": [{\"colorbar\": {\"outlinewidth\": 0, \"ticks\": \"\"}, \"colorscale\": [[0.0, \"#0d0887\"], [0.1111111111111111, \"#46039f\"], [0.2222222222222222, \"#7201a8\"], [0.3333333333333333, \"#9c179e\"], [0.4444444444444444, \"#bd3786\"], [0.5555555555555556, \"#d8576b\"], [0.6666666666666666, \"#ed7953\"], [0.7777777777777778, \"#fb9f3a\"], [0.8888888888888888, \"#fdca26\"], [1.0, \"#f0f921\"]], \"type\": \"histogram2dcontour\"}], \"mesh3d\": [{\"colorbar\": {\"outlinewidth\": 0, \"ticks\": \"\"}, \"type\": \"mesh3d\"}], \"parcoords\": [{\"line\": {\"colorbar\": {\"outlinewidth\": 0, \"ticks\": \"\"}}, \"type\": \"parcoords\"}], \"pie\": [{\"automargin\": true, \"type\": \"pie\"}], \"scatter\": [{\"marker\": {\"colorbar\": {\"outlinewidth\": 0, \"ticks\": \"\"}}, \"type\": \"scatter\"}], \"scatter3d\": [{\"line\": {\"colorbar\": {\"outlinewidth\": 0, \"ticks\": \"\"}}, \"marker\": {\"colorbar\": {\"outlinewidth\": 0, \"ticks\": \"\"}}, \"type\": \"scatter3d\"}], \"scattercarpet\": [{\"marker\": {\"colorbar\": {\"outlinewidth\": 0, \"ticks\": \"\"}}, \"type\": \"scattercarpet\"}], \"scattergeo\": [{\"marker\": {\"colorbar\": {\"outlinewidth\": 0, \"ticks\": \"\"}}, \"type\": \"scattergeo\"}], \"scattergl\": [{\"marker\": {\"colorbar\": {\"outlinewidth\": 0, \"ticks\": \"\"}}, \"type\": \"scattergl\"}], \"scattermapbox\": [{\"marker\": {\"colorbar\": {\"outlinewidth\": 0, \"ticks\": \"\"}}, \"type\": \"scattermapbox\"}], \"scatterpolar\": [{\"marker\": {\"colorbar\": {\"outlinewidth\": 0, \"ticks\": \"\"}}, \"type\": \"scatterpolar\"}], \"scatterpolargl\": [{\"marker\": {\"colorbar\": {\"outlinewidth\": 0, \"ticks\": \"\"}}, \"type\": \"scatterpolargl\"}], \"scatterternary\": [{\"marker\": {\"colorbar\": {\"outlinewidth\": 0, \"ticks\": \"\"}}, \"type\": \"scatterternary\"}], \"surface\": [{\"colorbar\": {\"outlinewidth\": 0, \"ticks\": \"\"}, \"colorscale\": [[0.0, \"#0d0887\"], [0.1111111111111111, \"#46039f\"], [0.2222222222222222, \"#7201a8\"], [0.3333333333333333, \"#9c179e\"], [0.4444444444444444, \"#bd3786\"], [0.5555555555555556, \"#d8576b\"], [0.6666666666666666, \"#ed7953\"], [0.7777777777777778, \"#fb9f3a\"], [0.8888888888888888, \"#fdca26\"], [1.0, \"#f0f921\"]], \"type\": \"surface\"}], \"table\": [{\"cells\": {\"fill\": {\"color\": \"#EBF0F8\"}, \"line\": {\"color\": \"white\"}}, \"header\": {\"fill\": {\"color\": \"#C8D4E3\"}, \"line\": {\"color\": \"white\"}}, \"type\": \"table\"}]}, \"layout\": {\"annotationdefaults\": {\"arrowcolor\": \"#2a3f5f\", \"arrowhead\": 0, \"arrowwidth\": 1}, \"coloraxis\": {\"colorbar\": {\"outlinewidth\": 0, \"ticks\": \"\"}}, \"colorscale\": {\"diverging\": [[0, \"#8e0152\"], [0.1, \"#c51b7d\"], [0.2, \"#de77ae\"], [0.3, \"#f1b6da\"], [0.4, \"#fde0ef\"], [0.5, \"#f7f7f7\"], [0.6, \"#e6f5d0\"], [0.7, \"#b8e186\"], [0.8, \"#7fbc41\"], [0.9, \"#4d9221\"], [1, \"#276419\"]], \"sequential\": [[0.0, \"#0d0887\"], [0.1111111111111111, \"#46039f\"], [0.2222222222222222, \"#7201a8\"], [0.3333333333333333, \"#9c179e\"], [0.4444444444444444, \"#bd3786\"], [0.5555555555555556, \"#d8576b\"], [0.6666666666666666, \"#ed7953\"], [0.7777777777777778, \"#fb9f3a\"], [0.8888888888888888, \"#fdca26\"], [1.0, \"#f0f921\"]], \"sequentialminus\": [[0.0, \"#0d0887\"], [0.1111111111111111, \"#46039f\"], [0.2222222222222222, \"#7201a8\"], [0.3333333333333333, \"#9c179e\"], [0.4444444444444444, \"#bd3786\"], [0.5555555555555556, \"#d8576b\"], [0.6666666666666666, \"#ed7953\"], [0.7777777777777778, \"#fb9f3a\"], [0.8888888888888888, \"#fdca26\"], [1.0, \"#f0f921\"]]}, \"colorway\": [\"#636efa\", \"#EF553B\", \"#00cc96\", \"#ab63fa\", \"#FFA15A\", \"#19d3f3\", \"#FF6692\", \"#B6E880\", \"#FF97FF\", \"#FECB52\"], \"font\": {\"color\": \"#2a3f5f\"}, \"geo\": {\"bgcolor\": \"white\", \"lakecolor\": \"white\", \"landcolor\": \"#E5ECF6\", \"showlakes\": true, \"showland\": true, \"subunitcolor\": \"white\"}, \"hoverlabel\": {\"align\": \"left\"}, \"hovermode\": \"closest\", \"mapbox\": {\"style\": \"light\"}, \"paper_bgcolor\": \"white\", \"plot_bgcolor\": \"#E5ECF6\", \"polar\": {\"angularaxis\": {\"gridcolor\": \"white\", \"linecolor\": \"white\", \"ticks\": \"\"}, \"bgcolor\": \"#E5ECF6\", \"radialaxis\": {\"gridcolor\": \"white\", \"linecolor\": \"white\", \"ticks\": \"\"}}, \"scene\": {\"xaxis\": {\"backgroundcolor\": \"#E5ECF6\", \"gridcolor\": \"white\", \"gridwidth\": 2, \"linecolor\": \"white\", \"showbackground\": true, \"ticks\": \"\", \"zerolinecolor\": \"white\"}, \"yaxis\": {\"backgroundcolor\": \"#E5ECF6\", \"gridcolor\": \"white\", \"gridwidth\": 2, \"linecolor\": \"white\", \"showbackground\": true, \"ticks\": \"\", \"zerolinecolor\": \"white\"}, \"zaxis\": {\"backgroundcolor\": \"#E5ECF6\", \"gridcolor\": \"white\", \"gridwidth\": 2, \"linecolor\": \"white\", \"showbackground\": true, \"ticks\": \"\", \"zerolinecolor\": \"white\"}}, \"shapedefaults\": {\"line\": {\"color\": \"#2a3f5f\"}}, \"ternary\": {\"aaxis\": {\"gridcolor\": \"white\", \"linecolor\": \"white\", \"ticks\": \"\"}, \"baxis\": {\"gridcolor\": \"white\", \"linecolor\": \"white\", \"ticks\": \"\"}, \"bgcolor\": \"#E5ECF6\", \"caxis\": {\"gridcolor\": \"white\", \"linecolor\": \"white\", \"ticks\": \"\"}}, \"title\": {\"x\": 0.05}, \"xaxis\": {\"automargin\": true, \"gridcolor\": \"white\", \"linecolor\": \"white\", \"ticks\": \"\", \"title\": {\"standoff\": 15}, \"zerolinecolor\": \"white\", \"zerolinewidth\": 2}, \"yaxis\": {\"automargin\": true, \"gridcolor\": \"white\", \"linecolor\": \"white\", \"ticks\": \"\", \"title\": {\"standoff\": 15}, \"zerolinecolor\": \"white\", \"zerolinewidth\": 2}}}, \"title\": {\"text\": \"Tweet Length Distribution\"}, \"xaxis\": {\"range\": [0, 160]}},\n",
       "                        {\"showLink\": true, \"linkText\": \"Export to plot.ly\", \"plotlyServerURL\": \"https://plot.ly\", \"responsive\": true}\n",
       "                    ).then(function(){\n",
       "                            \n",
       "var gd = document.getElementById('bb37889e-37fc-4705-be6d-1f803f7c5790');\n",
       "var x = new MutationObserver(function (mutations, observer) {{\n",
       "        var display = window.getComputedStyle(gd).display;\n",
       "        if (!display || display === 'none') {{\n",
       "            console.log([gd, 'removed!']);\n",
       "            Plotly.purge(gd);\n",
       "            observer.disconnect();\n",
       "        }}\n",
       "}});\n",
       "\n",
       "// Listen for the removal of the full notebook cells\n",
       "var notebookContainer = gd.closest('#notebook-container');\n",
       "if (notebookContainer) {{\n",
       "    x.observe(notebookContainer, {childList: true});\n",
       "}}\n",
       "\n",
       "// Listen for the clearing of the current output cell\n",
       "var outputEl = gd.closest('.output');\n",
       "if (outputEl) {{\n",
       "    x.observe(outputEl, {childList: true});\n",
       "}}\n",
       "\n",
       "                        })\n",
       "                };\n",
       "                });\n",
       "            </script>\n",
       "        </div>"
      ]
     },
     "metadata": {},
     "output_type": "display_data"
    }
   ],
   "source": [
    "df['tweetlen'] = d.astype(str).apply(len)\n",
    "df['tweetlen'].iplot(\n",
    "    kind='hist',\n",
    "    bins=500,\n",
    "    xTitle='review length',\n",
    "    linecolor='black',\n",
    "    yTitle='count',\n",
    "     layout = go.Layout(xaxis=dict(range=[0, 160]),\n",
    "    title='Tweet Length Distribution'))\n",
    "\n",
    "df['tweetlennew'] = dnew.astype(str).apply(len)\n",
    "df['tweetlennew'].iplot(\n",
    "    kind='hist',\n",
    "    bins=500,\n",
    "    xTitle='review length',\n",
    "    linecolor='black',\n",
    "    yTitle='count',\n",
    "     layout = go.Layout(xaxis=dict(range=[0, 160]),\n",
    "    title='Tweet Length Distribution'))\n"
   ]
  },
  {
   "cell_type": "markdown",
   "metadata": {},
   "source": [
    "## By taking advantage of some built in methods, we can construct functions to find the most common 2 and 3 word phrases in order to notice trends in our corpus"
   ]
  },
  {
   "cell_type": "code",
   "execution_count": 13,
   "metadata": {},
   "outputs": [
    {
     "name": "stdout",
     "output_type": "stream",
     "text": [
      "kobe bryant 281\n",
      "nba logo 63\n",
      "make kobe 60\n",
      "petition chng 58\n",
      "nba petition 55\n",
      "petition make 55\n",
      "bryant new 55\n",
      "new nba 55\n",
      "via change 55\n",
      "logo petition 54\n",
      "rip kobe 50\n",
      "rest peace 37\n",
      "kobe gianna 27\n",
      "helicopter crash 24\n",
      "kobe gigi 24\n",
      "kobe daughter 21\n",
      "with kobe 21\n",
      "peace kobe 19\n",
      "bryant daughter 17\n",
      "this kobe 17\n"
     ]
    },
    {
     "data": {
      "application/vnd.plotly.v1+json": {
       "config": {
        "linkText": "Export to plot.ly",
        "plotlyServerURL": "https://plot.ly",
        "showLink": true
       },
       "data": [
        {
         "marker": {
          "color": "rgba(255, 153, 51, 0.6)",
          "line": {
           "color": "rgba(255, 153, 51, 1.0)",
           "width": 1
          }
         },
         "name": "count",
         "orientation": "v",
         "text": "",
         "type": "bar",
         "x": [
          "kobe bryant",
          "nba logo",
          "make kobe",
          "petition chng",
          "bryant new",
          "petition make",
          "new nba",
          "nba petition",
          "via change",
          "logo petition",
          "rip kobe",
          "rest peace",
          "kobe gianna",
          "helicopter crash",
          "kobe gigi",
          "with kobe",
          "kobe daughter",
          "peace kobe",
          "this kobe",
          "bryant daughter"
         ],
         "y": [
          281,
          63,
          60,
          58,
          55,
          55,
          55,
          55,
          55,
          54,
          50,
          37,
          27,
          24,
          24,
          21,
          21,
          19,
          17,
          17
         ]
        }
       ],
       "layout": {
        "legend": {
         "bgcolor": "#F5F6F9",
         "font": {
          "color": "#4D5663"
         }
        },
        "paper_bgcolor": "#F5F6F9",
        "plot_bgcolor": "#F5F6F9",
        "template": {
         "data": {
          "bar": [
           {
            "error_x": {
             "color": "#2a3f5f"
            },
            "error_y": {
             "color": "#2a3f5f"
            },
            "marker": {
             "line": {
              "color": "#E5ECF6",
              "width": 0.5
             }
            },
            "type": "bar"
           }
          ],
          "barpolar": [
           {
            "marker": {
             "line": {
              "color": "#E5ECF6",
              "width": 0.5
             }
            },
            "type": "barpolar"
           }
          ],
          "carpet": [
           {
            "aaxis": {
             "endlinecolor": "#2a3f5f",
             "gridcolor": "white",
             "linecolor": "white",
             "minorgridcolor": "white",
             "startlinecolor": "#2a3f5f"
            },
            "baxis": {
             "endlinecolor": "#2a3f5f",
             "gridcolor": "white",
             "linecolor": "white",
             "minorgridcolor": "white",
             "startlinecolor": "#2a3f5f"
            },
            "type": "carpet"
           }
          ],
          "choropleth": [
           {
            "colorbar": {
             "outlinewidth": 0,
             "ticks": ""
            },
            "type": "choropleth"
           }
          ],
          "contour": [
           {
            "colorbar": {
             "outlinewidth": 0,
             "ticks": ""
            },
            "colorscale": [
             [
              0,
              "#0d0887"
             ],
             [
              0.1111111111111111,
              "#46039f"
             ],
             [
              0.2222222222222222,
              "#7201a8"
             ],
             [
              0.3333333333333333,
              "#9c179e"
             ],
             [
              0.4444444444444444,
              "#bd3786"
             ],
             [
              0.5555555555555556,
              "#d8576b"
             ],
             [
              0.6666666666666666,
              "#ed7953"
             ],
             [
              0.7777777777777778,
              "#fb9f3a"
             ],
             [
              0.8888888888888888,
              "#fdca26"
             ],
             [
              1,
              "#f0f921"
             ]
            ],
            "type": "contour"
           }
          ],
          "contourcarpet": [
           {
            "colorbar": {
             "outlinewidth": 0,
             "ticks": ""
            },
            "type": "contourcarpet"
           }
          ],
          "heatmap": [
           {
            "colorbar": {
             "outlinewidth": 0,
             "ticks": ""
            },
            "colorscale": [
             [
              0,
              "#0d0887"
             ],
             [
              0.1111111111111111,
              "#46039f"
             ],
             [
              0.2222222222222222,
              "#7201a8"
             ],
             [
              0.3333333333333333,
              "#9c179e"
             ],
             [
              0.4444444444444444,
              "#bd3786"
             ],
             [
              0.5555555555555556,
              "#d8576b"
             ],
             [
              0.6666666666666666,
              "#ed7953"
             ],
             [
              0.7777777777777778,
              "#fb9f3a"
             ],
             [
              0.8888888888888888,
              "#fdca26"
             ],
             [
              1,
              "#f0f921"
             ]
            ],
            "type": "heatmap"
           }
          ],
          "heatmapgl": [
           {
            "colorbar": {
             "outlinewidth": 0,
             "ticks": ""
            },
            "colorscale": [
             [
              0,
              "#0d0887"
             ],
             [
              0.1111111111111111,
              "#46039f"
             ],
             [
              0.2222222222222222,
              "#7201a8"
             ],
             [
              0.3333333333333333,
              "#9c179e"
             ],
             [
              0.4444444444444444,
              "#bd3786"
             ],
             [
              0.5555555555555556,
              "#d8576b"
             ],
             [
              0.6666666666666666,
              "#ed7953"
             ],
             [
              0.7777777777777778,
              "#fb9f3a"
             ],
             [
              0.8888888888888888,
              "#fdca26"
             ],
             [
              1,
              "#f0f921"
             ]
            ],
            "type": "heatmapgl"
           }
          ],
          "histogram": [
           {
            "marker": {
             "colorbar": {
              "outlinewidth": 0,
              "ticks": ""
             }
            },
            "type": "histogram"
           }
          ],
          "histogram2d": [
           {
            "colorbar": {
             "outlinewidth": 0,
             "ticks": ""
            },
            "colorscale": [
             [
              0,
              "#0d0887"
             ],
             [
              0.1111111111111111,
              "#46039f"
             ],
             [
              0.2222222222222222,
              "#7201a8"
             ],
             [
              0.3333333333333333,
              "#9c179e"
             ],
             [
              0.4444444444444444,
              "#bd3786"
             ],
             [
              0.5555555555555556,
              "#d8576b"
             ],
             [
              0.6666666666666666,
              "#ed7953"
             ],
             [
              0.7777777777777778,
              "#fb9f3a"
             ],
             [
              0.8888888888888888,
              "#fdca26"
             ],
             [
              1,
              "#f0f921"
             ]
            ],
            "type": "histogram2d"
           }
          ],
          "histogram2dcontour": [
           {
            "colorbar": {
             "outlinewidth": 0,
             "ticks": ""
            },
            "colorscale": [
             [
              0,
              "#0d0887"
             ],
             [
              0.1111111111111111,
              "#46039f"
             ],
             [
              0.2222222222222222,
              "#7201a8"
             ],
             [
              0.3333333333333333,
              "#9c179e"
             ],
             [
              0.4444444444444444,
              "#bd3786"
             ],
             [
              0.5555555555555556,
              "#d8576b"
             ],
             [
              0.6666666666666666,
              "#ed7953"
             ],
             [
              0.7777777777777778,
              "#fb9f3a"
             ],
             [
              0.8888888888888888,
              "#fdca26"
             ],
             [
              1,
              "#f0f921"
             ]
            ],
            "type": "histogram2dcontour"
           }
          ],
          "mesh3d": [
           {
            "colorbar": {
             "outlinewidth": 0,
             "ticks": ""
            },
            "type": "mesh3d"
           }
          ],
          "parcoords": [
           {
            "line": {
             "colorbar": {
              "outlinewidth": 0,
              "ticks": ""
             }
            },
            "type": "parcoords"
           }
          ],
          "pie": [
           {
            "automargin": true,
            "type": "pie"
           }
          ],
          "scatter": [
           {
            "marker": {
             "colorbar": {
              "outlinewidth": 0,
              "ticks": ""
             }
            },
            "type": "scatter"
           }
          ],
          "scatter3d": [
           {
            "line": {
             "colorbar": {
              "outlinewidth": 0,
              "ticks": ""
             }
            },
            "marker": {
             "colorbar": {
              "outlinewidth": 0,
              "ticks": ""
             }
            },
            "type": "scatter3d"
           }
          ],
          "scattercarpet": [
           {
            "marker": {
             "colorbar": {
              "outlinewidth": 0,
              "ticks": ""
             }
            },
            "type": "scattercarpet"
           }
          ],
          "scattergeo": [
           {
            "marker": {
             "colorbar": {
              "outlinewidth": 0,
              "ticks": ""
             }
            },
            "type": "scattergeo"
           }
          ],
          "scattergl": [
           {
            "marker": {
             "colorbar": {
              "outlinewidth": 0,
              "ticks": ""
             }
            },
            "type": "scattergl"
           }
          ],
          "scattermapbox": [
           {
            "marker": {
             "colorbar": {
              "outlinewidth": 0,
              "ticks": ""
             }
            },
            "type": "scattermapbox"
           }
          ],
          "scatterpolar": [
           {
            "marker": {
             "colorbar": {
              "outlinewidth": 0,
              "ticks": ""
             }
            },
            "type": "scatterpolar"
           }
          ],
          "scatterpolargl": [
           {
            "marker": {
             "colorbar": {
              "outlinewidth": 0,
              "ticks": ""
             }
            },
            "type": "scatterpolargl"
           }
          ],
          "scatterternary": [
           {
            "marker": {
             "colorbar": {
              "outlinewidth": 0,
              "ticks": ""
             }
            },
            "type": "scatterternary"
           }
          ],
          "surface": [
           {
            "colorbar": {
             "outlinewidth": 0,
             "ticks": ""
            },
            "colorscale": [
             [
              0,
              "#0d0887"
             ],
             [
              0.1111111111111111,
              "#46039f"
             ],
             [
              0.2222222222222222,
              "#7201a8"
             ],
             [
              0.3333333333333333,
              "#9c179e"
             ],
             [
              0.4444444444444444,
              "#bd3786"
             ],
             [
              0.5555555555555556,
              "#d8576b"
             ],
             [
              0.6666666666666666,
              "#ed7953"
             ],
             [
              0.7777777777777778,
              "#fb9f3a"
             ],
             [
              0.8888888888888888,
              "#fdca26"
             ],
             [
              1,
              "#f0f921"
             ]
            ],
            "type": "surface"
           }
          ],
          "table": [
           {
            "cells": {
             "fill": {
              "color": "#EBF0F8"
             },
             "line": {
              "color": "white"
             }
            },
            "header": {
             "fill": {
              "color": "#C8D4E3"
             },
             "line": {
              "color": "white"
             }
            },
            "type": "table"
           }
          ]
         },
         "layout": {
          "annotationdefaults": {
           "arrowcolor": "#2a3f5f",
           "arrowhead": 0,
           "arrowwidth": 1
          },
          "coloraxis": {
           "colorbar": {
            "outlinewidth": 0,
            "ticks": ""
           }
          },
          "colorscale": {
           "diverging": [
            [
             0,
             "#8e0152"
            ],
            [
             0.1,
             "#c51b7d"
            ],
            [
             0.2,
             "#de77ae"
            ],
            [
             0.3,
             "#f1b6da"
            ],
            [
             0.4,
             "#fde0ef"
            ],
            [
             0.5,
             "#f7f7f7"
            ],
            [
             0.6,
             "#e6f5d0"
            ],
            [
             0.7,
             "#b8e186"
            ],
            [
             0.8,
             "#7fbc41"
            ],
            [
             0.9,
             "#4d9221"
            ],
            [
             1,
             "#276419"
            ]
           ],
           "sequential": [
            [
             0,
             "#0d0887"
            ],
            [
             0.1111111111111111,
             "#46039f"
            ],
            [
             0.2222222222222222,
             "#7201a8"
            ],
            [
             0.3333333333333333,
             "#9c179e"
            ],
            [
             0.4444444444444444,
             "#bd3786"
            ],
            [
             0.5555555555555556,
             "#d8576b"
            ],
            [
             0.6666666666666666,
             "#ed7953"
            ],
            [
             0.7777777777777778,
             "#fb9f3a"
            ],
            [
             0.8888888888888888,
             "#fdca26"
            ],
            [
             1,
             "#f0f921"
            ]
           ],
           "sequentialminus": [
            [
             0,
             "#0d0887"
            ],
            [
             0.1111111111111111,
             "#46039f"
            ],
            [
             0.2222222222222222,
             "#7201a8"
            ],
            [
             0.3333333333333333,
             "#9c179e"
            ],
            [
             0.4444444444444444,
             "#bd3786"
            ],
            [
             0.5555555555555556,
             "#d8576b"
            ],
            [
             0.6666666666666666,
             "#ed7953"
            ],
            [
             0.7777777777777778,
             "#fb9f3a"
            ],
            [
             0.8888888888888888,
             "#fdca26"
            ],
            [
             1,
             "#f0f921"
            ]
           ]
          },
          "colorway": [
           "#636efa",
           "#EF553B",
           "#00cc96",
           "#ab63fa",
           "#FFA15A",
           "#19d3f3",
           "#FF6692",
           "#B6E880",
           "#FF97FF",
           "#FECB52"
          ],
          "font": {
           "color": "#2a3f5f"
          },
          "geo": {
           "bgcolor": "white",
           "lakecolor": "white",
           "landcolor": "#E5ECF6",
           "showlakes": true,
           "showland": true,
           "subunitcolor": "white"
          },
          "hoverlabel": {
           "align": "left"
          },
          "hovermode": "closest",
          "mapbox": {
           "style": "light"
          },
          "paper_bgcolor": "white",
          "plot_bgcolor": "#E5ECF6",
          "polar": {
           "angularaxis": {
            "gridcolor": "white",
            "linecolor": "white",
            "ticks": ""
           },
           "bgcolor": "#E5ECF6",
           "radialaxis": {
            "gridcolor": "white",
            "linecolor": "white",
            "ticks": ""
           }
          },
          "scene": {
           "xaxis": {
            "backgroundcolor": "#E5ECF6",
            "gridcolor": "white",
            "gridwidth": 2,
            "linecolor": "white",
            "showbackground": true,
            "ticks": "",
            "zerolinecolor": "white"
           },
           "yaxis": {
            "backgroundcolor": "#E5ECF6",
            "gridcolor": "white",
            "gridwidth": 2,
            "linecolor": "white",
            "showbackground": true,
            "ticks": "",
            "zerolinecolor": "white"
           },
           "zaxis": {
            "backgroundcolor": "#E5ECF6",
            "gridcolor": "white",
            "gridwidth": 2,
            "linecolor": "white",
            "showbackground": true,
            "ticks": "",
            "zerolinecolor": "white"
           }
          },
          "shapedefaults": {
           "line": {
            "color": "#2a3f5f"
           }
          },
          "ternary": {
           "aaxis": {
            "gridcolor": "white",
            "linecolor": "white",
            "ticks": ""
           },
           "baxis": {
            "gridcolor": "white",
            "linecolor": "white",
            "ticks": ""
           },
           "bgcolor": "#E5ECF6",
           "caxis": {
            "gridcolor": "white",
            "linecolor": "white",
            "ticks": ""
           }
          },
          "title": {
           "x": 0.05
          },
          "xaxis": {
           "automargin": true,
           "gridcolor": "white",
           "linecolor": "white",
           "ticks": "",
           "title": {
            "standoff": 15
           },
           "zerolinecolor": "white",
           "zerolinewidth": 2
          },
          "yaxis": {
           "automargin": true,
           "gridcolor": "white",
           "linecolor": "white",
           "ticks": "",
           "title": {
            "standoff": 15
           },
           "zerolinecolor": "white",
           "zerolinewidth": 2
          }
         }
        },
        "title": {
         "font": {
          "color": "#4D5663"
         },
         "text": "Top 20 bigrams after removing stop words"
        },
        "xaxis": {
         "gridcolor": "#E1E5ED",
         "linecolor": "black",
         "showgrid": true,
         "tickfont": {
          "color": "#4D5663"
         },
         "title": {
          "font": {
           "color": "#4D5663"
          },
          "text": ""
         },
         "zerolinecolor": "#E1E5ED"
        },
        "yaxis": {
         "gridcolor": "#E1E5ED",
         "linecolor": "black",
         "showgrid": true,
         "tickfont": {
          "color": "#4D5663"
         },
         "title": {
          "font": {
           "color": "#4D5663"
          },
          "text": "Count"
         },
         "zerolinecolor": "#E1E5ED"
        }
       }
      },
      "text/html": [
       "<div>\n",
       "        \n",
       "        \n",
       "            <div id=\"1d4ad8c9-7777-4d20-bdbc-3c11942daf21\" class=\"plotly-graph-div\" style=\"height:525px; width:100%;\"></div>\n",
       "            <script type=\"text/javascript\">\n",
       "                require([\"plotly\"], function(Plotly) {\n",
       "                    window.PLOTLYENV=window.PLOTLYENV || {};\n",
       "                    window.PLOTLYENV.BASE_URL='https://plot.ly';\n",
       "                    \n",
       "                if (document.getElementById(\"1d4ad8c9-7777-4d20-bdbc-3c11942daf21\")) {\n",
       "                    Plotly.newPlot(\n",
       "                        '1d4ad8c9-7777-4d20-bdbc-3c11942daf21',\n",
       "                        [{\"marker\": {\"color\": \"rgba(255, 153, 51, 0.6)\", \"line\": {\"color\": \"rgba(255, 153, 51, 1.0)\", \"width\": 1}}, \"name\": \"count\", \"orientation\": \"v\", \"text\": \"\", \"type\": \"bar\", \"x\": [\"kobe bryant\", \"nba logo\", \"make kobe\", \"petition chng\", \"bryant new\", \"petition make\", \"new nba\", \"nba petition\", \"via change\", \"logo petition\", \"rip kobe\", \"rest peace\", \"kobe gianna\", \"helicopter crash\", \"kobe gigi\", \"with kobe\", \"kobe daughter\", \"peace kobe\", \"this kobe\", \"bryant daughter\"], \"y\": [281, 63, 60, 58, 55, 55, 55, 55, 55, 54, 50, 37, 27, 24, 24, 21, 21, 19, 17, 17]}],\n",
       "                        {\"legend\": {\"bgcolor\": \"#F5F6F9\", \"font\": {\"color\": \"#4D5663\"}}, \"paper_bgcolor\": \"#F5F6F9\", \"plot_bgcolor\": \"#F5F6F9\", \"template\": {\"data\": {\"bar\": [{\"error_x\": {\"color\": \"#2a3f5f\"}, \"error_y\": {\"color\": \"#2a3f5f\"}, \"marker\": {\"line\": {\"color\": \"#E5ECF6\", \"width\": 0.5}}, \"type\": \"bar\"}], \"barpolar\": [{\"marker\": {\"line\": {\"color\": \"#E5ECF6\", \"width\": 0.5}}, \"type\": \"barpolar\"}], \"carpet\": [{\"aaxis\": {\"endlinecolor\": \"#2a3f5f\", \"gridcolor\": \"white\", \"linecolor\": \"white\", \"minorgridcolor\": \"white\", \"startlinecolor\": \"#2a3f5f\"}, \"baxis\": {\"endlinecolor\": \"#2a3f5f\", \"gridcolor\": \"white\", \"linecolor\": \"white\", \"minorgridcolor\": \"white\", \"startlinecolor\": \"#2a3f5f\"}, \"type\": \"carpet\"}], \"choropleth\": [{\"colorbar\": {\"outlinewidth\": 0, \"ticks\": \"\"}, \"type\": \"choropleth\"}], \"contour\": [{\"colorbar\": {\"outlinewidth\": 0, \"ticks\": \"\"}, \"colorscale\": [[0.0, \"#0d0887\"], [0.1111111111111111, \"#46039f\"], [0.2222222222222222, \"#7201a8\"], [0.3333333333333333, \"#9c179e\"], [0.4444444444444444, \"#bd3786\"], [0.5555555555555556, \"#d8576b\"], [0.6666666666666666, \"#ed7953\"], [0.7777777777777778, \"#fb9f3a\"], [0.8888888888888888, \"#fdca26\"], [1.0, \"#f0f921\"]], \"type\": \"contour\"}], \"contourcarpet\": [{\"colorbar\": {\"outlinewidth\": 0, \"ticks\": \"\"}, \"type\": \"contourcarpet\"}], \"heatmap\": [{\"colorbar\": {\"outlinewidth\": 0, \"ticks\": \"\"}, \"colorscale\": [[0.0, \"#0d0887\"], [0.1111111111111111, \"#46039f\"], [0.2222222222222222, \"#7201a8\"], [0.3333333333333333, \"#9c179e\"], [0.4444444444444444, \"#bd3786\"], [0.5555555555555556, \"#d8576b\"], [0.6666666666666666, \"#ed7953\"], [0.7777777777777778, \"#fb9f3a\"], [0.8888888888888888, \"#fdca26\"], [1.0, \"#f0f921\"]], \"type\": \"heatmap\"}], \"heatmapgl\": [{\"colorbar\": {\"outlinewidth\": 0, \"ticks\": \"\"}, \"colorscale\": [[0.0, \"#0d0887\"], [0.1111111111111111, \"#46039f\"], [0.2222222222222222, \"#7201a8\"], [0.3333333333333333, \"#9c179e\"], [0.4444444444444444, \"#bd3786\"], [0.5555555555555556, \"#d8576b\"], [0.6666666666666666, \"#ed7953\"], [0.7777777777777778, \"#fb9f3a\"], [0.8888888888888888, \"#fdca26\"], [1.0, \"#f0f921\"]], \"type\": \"heatmapgl\"}], \"histogram\": [{\"marker\": {\"colorbar\": {\"outlinewidth\": 0, \"ticks\": \"\"}}, \"type\": \"histogram\"}], \"histogram2d\": [{\"colorbar\": {\"outlinewidth\": 0, \"ticks\": \"\"}, \"colorscale\": [[0.0, \"#0d0887\"], [0.1111111111111111, \"#46039f\"], [0.2222222222222222, \"#7201a8\"], [0.3333333333333333, \"#9c179e\"], [0.4444444444444444, \"#bd3786\"], [0.5555555555555556, \"#d8576b\"], [0.6666666666666666, \"#ed7953\"], [0.7777777777777778, \"#fb9f3a\"], [0.8888888888888888, \"#fdca26\"], [1.0, \"#f0f921\"]], \"type\": \"histogram2d\"}], \"histogram2dcontour\": [{\"colorbar\": {\"outlinewidth\": 0, \"ticks\": \"\"}, \"colorscale\": [[0.0, \"#0d0887\"], [0.1111111111111111, \"#46039f\"], [0.2222222222222222, \"#7201a8\"], [0.3333333333333333, \"#9c179e\"], [0.4444444444444444, \"#bd3786\"], [0.5555555555555556, \"#d8576b\"], [0.6666666666666666, \"#ed7953\"], [0.7777777777777778, \"#fb9f3a\"], [0.8888888888888888, \"#fdca26\"], [1.0, \"#f0f921\"]], \"type\": \"histogram2dcontour\"}], \"mesh3d\": [{\"colorbar\": {\"outlinewidth\": 0, \"ticks\": \"\"}, \"type\": \"mesh3d\"}], \"parcoords\": [{\"line\": {\"colorbar\": {\"outlinewidth\": 0, \"ticks\": \"\"}}, \"type\": \"parcoords\"}], \"pie\": [{\"automargin\": true, \"type\": \"pie\"}], \"scatter\": [{\"marker\": {\"colorbar\": {\"outlinewidth\": 0, \"ticks\": \"\"}}, \"type\": \"scatter\"}], \"scatter3d\": [{\"line\": {\"colorbar\": {\"outlinewidth\": 0, \"ticks\": \"\"}}, \"marker\": {\"colorbar\": {\"outlinewidth\": 0, \"ticks\": \"\"}}, \"type\": \"scatter3d\"}], \"scattercarpet\": [{\"marker\": {\"colorbar\": {\"outlinewidth\": 0, \"ticks\": \"\"}}, \"type\": \"scattercarpet\"}], \"scattergeo\": [{\"marker\": {\"colorbar\": {\"outlinewidth\": 0, \"ticks\": \"\"}}, \"type\": \"scattergeo\"}], \"scattergl\": [{\"marker\": {\"colorbar\": {\"outlinewidth\": 0, \"ticks\": \"\"}}, \"type\": \"scattergl\"}], \"scattermapbox\": [{\"marker\": {\"colorbar\": {\"outlinewidth\": 0, \"ticks\": \"\"}}, \"type\": \"scattermapbox\"}], \"scatterpolar\": [{\"marker\": {\"colorbar\": {\"outlinewidth\": 0, \"ticks\": \"\"}}, \"type\": \"scatterpolar\"}], \"scatterpolargl\": [{\"marker\": {\"colorbar\": {\"outlinewidth\": 0, \"ticks\": \"\"}}, \"type\": \"scatterpolargl\"}], \"scatterternary\": [{\"marker\": {\"colorbar\": {\"outlinewidth\": 0, \"ticks\": \"\"}}, \"type\": \"scatterternary\"}], \"surface\": [{\"colorbar\": {\"outlinewidth\": 0, \"ticks\": \"\"}, \"colorscale\": [[0.0, \"#0d0887\"], [0.1111111111111111, \"#46039f\"], [0.2222222222222222, \"#7201a8\"], [0.3333333333333333, \"#9c179e\"], [0.4444444444444444, \"#bd3786\"], [0.5555555555555556, \"#d8576b\"], [0.6666666666666666, \"#ed7953\"], [0.7777777777777778, \"#fb9f3a\"], [0.8888888888888888, \"#fdca26\"], [1.0, \"#f0f921\"]], \"type\": \"surface\"}], \"table\": [{\"cells\": {\"fill\": {\"color\": \"#EBF0F8\"}, \"line\": {\"color\": \"white\"}}, \"header\": {\"fill\": {\"color\": \"#C8D4E3\"}, \"line\": {\"color\": \"white\"}}, \"type\": \"table\"}]}, \"layout\": {\"annotationdefaults\": {\"arrowcolor\": \"#2a3f5f\", \"arrowhead\": 0, \"arrowwidth\": 1}, \"coloraxis\": {\"colorbar\": {\"outlinewidth\": 0, \"ticks\": \"\"}}, \"colorscale\": {\"diverging\": [[0, \"#8e0152\"], [0.1, \"#c51b7d\"], [0.2, \"#de77ae\"], [0.3, \"#f1b6da\"], [0.4, \"#fde0ef\"], [0.5, \"#f7f7f7\"], [0.6, \"#e6f5d0\"], [0.7, \"#b8e186\"], [0.8, \"#7fbc41\"], [0.9, \"#4d9221\"], [1, \"#276419\"]], \"sequential\": [[0.0, \"#0d0887\"], [0.1111111111111111, \"#46039f\"], [0.2222222222222222, \"#7201a8\"], [0.3333333333333333, \"#9c179e\"], [0.4444444444444444, \"#bd3786\"], [0.5555555555555556, \"#d8576b\"], [0.6666666666666666, \"#ed7953\"], [0.7777777777777778, \"#fb9f3a\"], [0.8888888888888888, \"#fdca26\"], [1.0, \"#f0f921\"]], \"sequentialminus\": [[0.0, \"#0d0887\"], [0.1111111111111111, \"#46039f\"], [0.2222222222222222, \"#7201a8\"], [0.3333333333333333, \"#9c179e\"], [0.4444444444444444, \"#bd3786\"], [0.5555555555555556, \"#d8576b\"], [0.6666666666666666, \"#ed7953\"], [0.7777777777777778, \"#fb9f3a\"], [0.8888888888888888, \"#fdca26\"], [1.0, \"#f0f921\"]]}, \"colorway\": [\"#636efa\", \"#EF553B\", \"#00cc96\", \"#ab63fa\", \"#FFA15A\", \"#19d3f3\", \"#FF6692\", \"#B6E880\", \"#FF97FF\", \"#FECB52\"], \"font\": {\"color\": \"#2a3f5f\"}, \"geo\": {\"bgcolor\": \"white\", \"lakecolor\": \"white\", \"landcolor\": \"#E5ECF6\", \"showlakes\": true, \"showland\": true, \"subunitcolor\": \"white\"}, \"hoverlabel\": {\"align\": \"left\"}, \"hovermode\": \"closest\", \"mapbox\": {\"style\": \"light\"}, \"paper_bgcolor\": \"white\", \"plot_bgcolor\": \"#E5ECF6\", \"polar\": {\"angularaxis\": {\"gridcolor\": \"white\", \"linecolor\": \"white\", \"ticks\": \"\"}, \"bgcolor\": \"#E5ECF6\", \"radialaxis\": {\"gridcolor\": \"white\", \"linecolor\": \"white\", \"ticks\": \"\"}}, \"scene\": {\"xaxis\": {\"backgroundcolor\": \"#E5ECF6\", \"gridcolor\": \"white\", \"gridwidth\": 2, \"linecolor\": \"white\", \"showbackground\": true, \"ticks\": \"\", \"zerolinecolor\": \"white\"}, \"yaxis\": {\"backgroundcolor\": \"#E5ECF6\", \"gridcolor\": \"white\", \"gridwidth\": 2, \"linecolor\": \"white\", \"showbackground\": true, \"ticks\": \"\", \"zerolinecolor\": \"white\"}, \"zaxis\": {\"backgroundcolor\": \"#E5ECF6\", \"gridcolor\": \"white\", \"gridwidth\": 2, \"linecolor\": \"white\", \"showbackground\": true, \"ticks\": \"\", \"zerolinecolor\": \"white\"}}, \"shapedefaults\": {\"line\": {\"color\": \"#2a3f5f\"}}, \"ternary\": {\"aaxis\": {\"gridcolor\": \"white\", \"linecolor\": \"white\", \"ticks\": \"\"}, \"baxis\": {\"gridcolor\": \"white\", \"linecolor\": \"white\", \"ticks\": \"\"}, \"bgcolor\": \"#E5ECF6\", \"caxis\": {\"gridcolor\": \"white\", \"linecolor\": \"white\", \"ticks\": \"\"}}, \"title\": {\"x\": 0.05}, \"xaxis\": {\"automargin\": true, \"gridcolor\": \"white\", \"linecolor\": \"white\", \"ticks\": \"\", \"title\": {\"standoff\": 15}, \"zerolinecolor\": \"white\", \"zerolinewidth\": 2}, \"yaxis\": {\"automargin\": true, \"gridcolor\": \"white\", \"linecolor\": \"white\", \"ticks\": \"\", \"title\": {\"standoff\": 15}, \"zerolinecolor\": \"white\", \"zerolinewidth\": 2}}}, \"title\": {\"font\": {\"color\": \"#4D5663\"}, \"text\": \"Top 20 bigrams after removing stop words\"}, \"xaxis\": {\"gridcolor\": \"#E1E5ED\", \"linecolor\": \"black\", \"showgrid\": true, \"tickfont\": {\"color\": \"#4D5663\"}, \"title\": {\"font\": {\"color\": \"#4D5663\"}, \"text\": \"\"}, \"zerolinecolor\": \"#E1E5ED\"}, \"yaxis\": {\"gridcolor\": \"#E1E5ED\", \"linecolor\": \"black\", \"showgrid\": true, \"tickfont\": {\"color\": \"#4D5663\"}, \"title\": {\"font\": {\"color\": \"#4D5663\"}, \"text\": \"Count\"}, \"zerolinecolor\": \"#E1E5ED\"}},\n",
       "                        {\"showLink\": true, \"linkText\": \"Export to plot.ly\", \"plotlyServerURL\": \"https://plot.ly\", \"responsive\": true}\n",
       "                    ).then(function(){\n",
       "                            \n",
       "var gd = document.getElementById('1d4ad8c9-7777-4d20-bdbc-3c11942daf21');\n",
       "var x = new MutationObserver(function (mutations, observer) {{\n",
       "        var display = window.getComputedStyle(gd).display;\n",
       "        if (!display || display === 'none') {{\n",
       "            console.log([gd, 'removed!']);\n",
       "            Plotly.purge(gd);\n",
       "            observer.disconnect();\n",
       "        }}\n",
       "}});\n",
       "\n",
       "// Listen for the removal of the full notebook cells\n",
       "var notebookContainer = gd.closest('#notebook-container');\n",
       "if (notebookContainer) {{\n",
       "    x.observe(notebookContainer, {childList: true});\n",
       "}}\n",
       "\n",
       "// Listen for the clearing of the current output cell\n",
       "var outputEl = gd.closest('.output');\n",
       "if (outputEl) {{\n",
       "    x.observe(outputEl, {childList: true});\n",
       "}}\n",
       "\n",
       "                        })\n",
       "                };\n",
       "                });\n",
       "            </script>\n",
       "        </div>"
      ]
     },
     "metadata": {},
     "output_type": "display_data"
    }
   ],
   "source": [
    "def get_top_n_bigram(corpus, n=None): #most common 2 word phrases\n",
    "    vec = CountVectorizer(ngram_range=(2, 2), stop_words=stop_words).fit(corpus)\n",
    "    bag_of_words = vec.transform(corpus)\n",
    "    sum_words = bag_of_words.sum(axis=0) \n",
    "    words_freq = [(word, sum_words[0, idx]) for word, idx in vec.vocabulary_.items()]\n",
    "    words_freq =sorted(words_freq, key = lambda x: x[1], reverse=True)\n",
    "    return words_freq[:n]\n",
    "common_words = get_top_n_bigram(d, 20)\n",
    "for word, freq in common_words:\n",
    "    print(word, freq)\n",
    "bi = pd.DataFrame(common_words, columns = ['text' , 'count'])\n",
    "bi.groupby('text').sum()['count'].sort_values(ascending=False).iplot(\n",
    "kind='bar', yTitle='Count', linecolor='black', title='Top 20 bigrams after removing stop words')\n"
   ]
  },
  {
   "cell_type": "code",
   "execution_count": 14,
   "metadata": {},
   "outputs": [
    {
     "name": "stdout",
     "output_type": "stream",
     "text": [
      "kobe bryant 161\n",
      "via change 24\n",
      "petition chng 23\n",
      "high school 20\n",
      "nba logo 19\n",
      "california high 18\n",
      "school basketball 18\n",
      "basketball live 18\n",
      "live stream 18\n",
      "honor kobe 16\n",
      "nba petition 16\n",
      "petition make 16\n",
      "make kobe 16\n",
      "bryant new 16\n",
      "new nba 16\n",
      "logo petition 16\n",
      "rip kobe 15\n",
      "with kobe 15\n",
      "via youtube 13\n",
      "kobe gigi 12\n"
     ]
    },
    {
     "data": {
      "application/vnd.plotly.v1+json": {
       "config": {
        "linkText": "Export to plot.ly",
        "plotlyServerURL": "https://plot.ly",
        "showLink": true
       },
       "data": [
        {
         "marker": {
          "color": "rgba(255, 153, 51, 0.6)",
          "line": {
           "color": "rgba(255, 153, 51, 1.0)",
           "width": 1
          }
         },
         "name": "count",
         "orientation": "v",
         "text": "",
         "type": "bar",
         "x": [
          "kobe bryant",
          "via change",
          "petition chng",
          "high school",
          "nba logo",
          "basketball live",
          "live stream",
          "school basketball",
          "california high",
          "bryant new",
          "honor kobe",
          "make kobe",
          "logo petition",
          "nba petition",
          "new nba",
          "petition make",
          "rip kobe",
          "with kobe",
          "via youtube",
          "kobe gigi"
         ],
         "y": [
          161,
          24,
          23,
          20,
          19,
          18,
          18,
          18,
          18,
          16,
          16,
          16,
          16,
          16,
          16,
          16,
          15,
          15,
          13,
          12
         ]
        }
       ],
       "layout": {
        "legend": {
         "bgcolor": "#F5F6F9",
         "font": {
          "color": "#4D5663"
         }
        },
        "paper_bgcolor": "#F5F6F9",
        "plot_bgcolor": "#F5F6F9",
        "template": {
         "data": {
          "bar": [
           {
            "error_x": {
             "color": "#2a3f5f"
            },
            "error_y": {
             "color": "#2a3f5f"
            },
            "marker": {
             "line": {
              "color": "#E5ECF6",
              "width": 0.5
             }
            },
            "type": "bar"
           }
          ],
          "barpolar": [
           {
            "marker": {
             "line": {
              "color": "#E5ECF6",
              "width": 0.5
             }
            },
            "type": "barpolar"
           }
          ],
          "carpet": [
           {
            "aaxis": {
             "endlinecolor": "#2a3f5f",
             "gridcolor": "white",
             "linecolor": "white",
             "minorgridcolor": "white",
             "startlinecolor": "#2a3f5f"
            },
            "baxis": {
             "endlinecolor": "#2a3f5f",
             "gridcolor": "white",
             "linecolor": "white",
             "minorgridcolor": "white",
             "startlinecolor": "#2a3f5f"
            },
            "type": "carpet"
           }
          ],
          "choropleth": [
           {
            "colorbar": {
             "outlinewidth": 0,
             "ticks": ""
            },
            "type": "choropleth"
           }
          ],
          "contour": [
           {
            "colorbar": {
             "outlinewidth": 0,
             "ticks": ""
            },
            "colorscale": [
             [
              0,
              "#0d0887"
             ],
             [
              0.1111111111111111,
              "#46039f"
             ],
             [
              0.2222222222222222,
              "#7201a8"
             ],
             [
              0.3333333333333333,
              "#9c179e"
             ],
             [
              0.4444444444444444,
              "#bd3786"
             ],
             [
              0.5555555555555556,
              "#d8576b"
             ],
             [
              0.6666666666666666,
              "#ed7953"
             ],
             [
              0.7777777777777778,
              "#fb9f3a"
             ],
             [
              0.8888888888888888,
              "#fdca26"
             ],
             [
              1,
              "#f0f921"
             ]
            ],
            "type": "contour"
           }
          ],
          "contourcarpet": [
           {
            "colorbar": {
             "outlinewidth": 0,
             "ticks": ""
            },
            "type": "contourcarpet"
           }
          ],
          "heatmap": [
           {
            "colorbar": {
             "outlinewidth": 0,
             "ticks": ""
            },
            "colorscale": [
             [
              0,
              "#0d0887"
             ],
             [
              0.1111111111111111,
              "#46039f"
             ],
             [
              0.2222222222222222,
              "#7201a8"
             ],
             [
              0.3333333333333333,
              "#9c179e"
             ],
             [
              0.4444444444444444,
              "#bd3786"
             ],
             [
              0.5555555555555556,
              "#d8576b"
             ],
             [
              0.6666666666666666,
              "#ed7953"
             ],
             [
              0.7777777777777778,
              "#fb9f3a"
             ],
             [
              0.8888888888888888,
              "#fdca26"
             ],
             [
              1,
              "#f0f921"
             ]
            ],
            "type": "heatmap"
           }
          ],
          "heatmapgl": [
           {
            "colorbar": {
             "outlinewidth": 0,
             "ticks": ""
            },
            "colorscale": [
             [
              0,
              "#0d0887"
             ],
             [
              0.1111111111111111,
              "#46039f"
             ],
             [
              0.2222222222222222,
              "#7201a8"
             ],
             [
              0.3333333333333333,
              "#9c179e"
             ],
             [
              0.4444444444444444,
              "#bd3786"
             ],
             [
              0.5555555555555556,
              "#d8576b"
             ],
             [
              0.6666666666666666,
              "#ed7953"
             ],
             [
              0.7777777777777778,
              "#fb9f3a"
             ],
             [
              0.8888888888888888,
              "#fdca26"
             ],
             [
              1,
              "#f0f921"
             ]
            ],
            "type": "heatmapgl"
           }
          ],
          "histogram": [
           {
            "marker": {
             "colorbar": {
              "outlinewidth": 0,
              "ticks": ""
             }
            },
            "type": "histogram"
           }
          ],
          "histogram2d": [
           {
            "colorbar": {
             "outlinewidth": 0,
             "ticks": ""
            },
            "colorscale": [
             [
              0,
              "#0d0887"
             ],
             [
              0.1111111111111111,
              "#46039f"
             ],
             [
              0.2222222222222222,
              "#7201a8"
             ],
             [
              0.3333333333333333,
              "#9c179e"
             ],
             [
              0.4444444444444444,
              "#bd3786"
             ],
             [
              0.5555555555555556,
              "#d8576b"
             ],
             [
              0.6666666666666666,
              "#ed7953"
             ],
             [
              0.7777777777777778,
              "#fb9f3a"
             ],
             [
              0.8888888888888888,
              "#fdca26"
             ],
             [
              1,
              "#f0f921"
             ]
            ],
            "type": "histogram2d"
           }
          ],
          "histogram2dcontour": [
           {
            "colorbar": {
             "outlinewidth": 0,
             "ticks": ""
            },
            "colorscale": [
             [
              0,
              "#0d0887"
             ],
             [
              0.1111111111111111,
              "#46039f"
             ],
             [
              0.2222222222222222,
              "#7201a8"
             ],
             [
              0.3333333333333333,
              "#9c179e"
             ],
             [
              0.4444444444444444,
              "#bd3786"
             ],
             [
              0.5555555555555556,
              "#d8576b"
             ],
             [
              0.6666666666666666,
              "#ed7953"
             ],
             [
              0.7777777777777778,
              "#fb9f3a"
             ],
             [
              0.8888888888888888,
              "#fdca26"
             ],
             [
              1,
              "#f0f921"
             ]
            ],
            "type": "histogram2dcontour"
           }
          ],
          "mesh3d": [
           {
            "colorbar": {
             "outlinewidth": 0,
             "ticks": ""
            },
            "type": "mesh3d"
           }
          ],
          "parcoords": [
           {
            "line": {
             "colorbar": {
              "outlinewidth": 0,
              "ticks": ""
             }
            },
            "type": "parcoords"
           }
          ],
          "pie": [
           {
            "automargin": true,
            "type": "pie"
           }
          ],
          "scatter": [
           {
            "marker": {
             "colorbar": {
              "outlinewidth": 0,
              "ticks": ""
             }
            },
            "type": "scatter"
           }
          ],
          "scatter3d": [
           {
            "line": {
             "colorbar": {
              "outlinewidth": 0,
              "ticks": ""
             }
            },
            "marker": {
             "colorbar": {
              "outlinewidth": 0,
              "ticks": ""
             }
            },
            "type": "scatter3d"
           }
          ],
          "scattercarpet": [
           {
            "marker": {
             "colorbar": {
              "outlinewidth": 0,
              "ticks": ""
             }
            },
            "type": "scattercarpet"
           }
          ],
          "scattergeo": [
           {
            "marker": {
             "colorbar": {
              "outlinewidth": 0,
              "ticks": ""
             }
            },
            "type": "scattergeo"
           }
          ],
          "scattergl": [
           {
            "marker": {
             "colorbar": {
              "outlinewidth": 0,
              "ticks": ""
             }
            },
            "type": "scattergl"
           }
          ],
          "scattermapbox": [
           {
            "marker": {
             "colorbar": {
              "outlinewidth": 0,
              "ticks": ""
             }
            },
            "type": "scattermapbox"
           }
          ],
          "scatterpolar": [
           {
            "marker": {
             "colorbar": {
              "outlinewidth": 0,
              "ticks": ""
             }
            },
            "type": "scatterpolar"
           }
          ],
          "scatterpolargl": [
           {
            "marker": {
             "colorbar": {
              "outlinewidth": 0,
              "ticks": ""
             }
            },
            "type": "scatterpolargl"
           }
          ],
          "scatterternary": [
           {
            "marker": {
             "colorbar": {
              "outlinewidth": 0,
              "ticks": ""
             }
            },
            "type": "scatterternary"
           }
          ],
          "surface": [
           {
            "colorbar": {
             "outlinewidth": 0,
             "ticks": ""
            },
            "colorscale": [
             [
              0,
              "#0d0887"
             ],
             [
              0.1111111111111111,
              "#46039f"
             ],
             [
              0.2222222222222222,
              "#7201a8"
             ],
             [
              0.3333333333333333,
              "#9c179e"
             ],
             [
              0.4444444444444444,
              "#bd3786"
             ],
             [
              0.5555555555555556,
              "#d8576b"
             ],
             [
              0.6666666666666666,
              "#ed7953"
             ],
             [
              0.7777777777777778,
              "#fb9f3a"
             ],
             [
              0.8888888888888888,
              "#fdca26"
             ],
             [
              1,
              "#f0f921"
             ]
            ],
            "type": "surface"
           }
          ],
          "table": [
           {
            "cells": {
             "fill": {
              "color": "#EBF0F8"
             },
             "line": {
              "color": "white"
             }
            },
            "header": {
             "fill": {
              "color": "#C8D4E3"
             },
             "line": {
              "color": "white"
             }
            },
            "type": "table"
           }
          ]
         },
         "layout": {
          "annotationdefaults": {
           "arrowcolor": "#2a3f5f",
           "arrowhead": 0,
           "arrowwidth": 1
          },
          "coloraxis": {
           "colorbar": {
            "outlinewidth": 0,
            "ticks": ""
           }
          },
          "colorscale": {
           "diverging": [
            [
             0,
             "#8e0152"
            ],
            [
             0.1,
             "#c51b7d"
            ],
            [
             0.2,
             "#de77ae"
            ],
            [
             0.3,
             "#f1b6da"
            ],
            [
             0.4,
             "#fde0ef"
            ],
            [
             0.5,
             "#f7f7f7"
            ],
            [
             0.6,
             "#e6f5d0"
            ],
            [
             0.7,
             "#b8e186"
            ],
            [
             0.8,
             "#7fbc41"
            ],
            [
             0.9,
             "#4d9221"
            ],
            [
             1,
             "#276419"
            ]
           ],
           "sequential": [
            [
             0,
             "#0d0887"
            ],
            [
             0.1111111111111111,
             "#46039f"
            ],
            [
             0.2222222222222222,
             "#7201a8"
            ],
            [
             0.3333333333333333,
             "#9c179e"
            ],
            [
             0.4444444444444444,
             "#bd3786"
            ],
            [
             0.5555555555555556,
             "#d8576b"
            ],
            [
             0.6666666666666666,
             "#ed7953"
            ],
            [
             0.7777777777777778,
             "#fb9f3a"
            ],
            [
             0.8888888888888888,
             "#fdca26"
            ],
            [
             1,
             "#f0f921"
            ]
           ],
           "sequentialminus": [
            [
             0,
             "#0d0887"
            ],
            [
             0.1111111111111111,
             "#46039f"
            ],
            [
             0.2222222222222222,
             "#7201a8"
            ],
            [
             0.3333333333333333,
             "#9c179e"
            ],
            [
             0.4444444444444444,
             "#bd3786"
            ],
            [
             0.5555555555555556,
             "#d8576b"
            ],
            [
             0.6666666666666666,
             "#ed7953"
            ],
            [
             0.7777777777777778,
             "#fb9f3a"
            ],
            [
             0.8888888888888888,
             "#fdca26"
            ],
            [
             1,
             "#f0f921"
            ]
           ]
          },
          "colorway": [
           "#636efa",
           "#EF553B",
           "#00cc96",
           "#ab63fa",
           "#FFA15A",
           "#19d3f3",
           "#FF6692",
           "#B6E880",
           "#FF97FF",
           "#FECB52"
          ],
          "font": {
           "color": "#2a3f5f"
          },
          "geo": {
           "bgcolor": "white",
           "lakecolor": "white",
           "landcolor": "#E5ECF6",
           "showlakes": true,
           "showland": true,
           "subunitcolor": "white"
          },
          "hoverlabel": {
           "align": "left"
          },
          "hovermode": "closest",
          "mapbox": {
           "style": "light"
          },
          "paper_bgcolor": "white",
          "plot_bgcolor": "#E5ECF6",
          "polar": {
           "angularaxis": {
            "gridcolor": "white",
            "linecolor": "white",
            "ticks": ""
           },
           "bgcolor": "#E5ECF6",
           "radialaxis": {
            "gridcolor": "white",
            "linecolor": "white",
            "ticks": ""
           }
          },
          "scene": {
           "xaxis": {
            "backgroundcolor": "#E5ECF6",
            "gridcolor": "white",
            "gridwidth": 2,
            "linecolor": "white",
            "showbackground": true,
            "ticks": "",
            "zerolinecolor": "white"
           },
           "yaxis": {
            "backgroundcolor": "#E5ECF6",
            "gridcolor": "white",
            "gridwidth": 2,
            "linecolor": "white",
            "showbackground": true,
            "ticks": "",
            "zerolinecolor": "white"
           },
           "zaxis": {
            "backgroundcolor": "#E5ECF6",
            "gridcolor": "white",
            "gridwidth": 2,
            "linecolor": "white",
            "showbackground": true,
            "ticks": "",
            "zerolinecolor": "white"
           }
          },
          "shapedefaults": {
           "line": {
            "color": "#2a3f5f"
           }
          },
          "ternary": {
           "aaxis": {
            "gridcolor": "white",
            "linecolor": "white",
            "ticks": ""
           },
           "baxis": {
            "gridcolor": "white",
            "linecolor": "white",
            "ticks": ""
           },
           "bgcolor": "#E5ECF6",
           "caxis": {
            "gridcolor": "white",
            "linecolor": "white",
            "ticks": ""
           }
          },
          "title": {
           "x": 0.05
          },
          "xaxis": {
           "automargin": true,
           "gridcolor": "white",
           "linecolor": "white",
           "ticks": "",
           "title": {
            "standoff": 15
           },
           "zerolinecolor": "white",
           "zerolinewidth": 2
          },
          "yaxis": {
           "automargin": true,
           "gridcolor": "white",
           "linecolor": "white",
           "ticks": "",
           "title": {
            "standoff": 15
           },
           "zerolinecolor": "white",
           "zerolinewidth": 2
          }
         }
        },
        "title": {
         "font": {
          "color": "#4D5663"
         },
         "text": "Top 20 bigrams after removing stop words, 2 days after"
        },
        "xaxis": {
         "gridcolor": "#E1E5ED",
         "linecolor": "black",
         "showgrid": true,
         "tickfont": {
          "color": "#4D5663"
         },
         "title": {
          "font": {
           "color": "#4D5663"
          },
          "text": ""
         },
         "zerolinecolor": "#E1E5ED"
        },
        "yaxis": {
         "gridcolor": "#E1E5ED",
         "linecolor": "black",
         "showgrid": true,
         "tickfont": {
          "color": "#4D5663"
         },
         "title": {
          "font": {
           "color": "#4D5663"
          },
          "text": "Count"
         },
         "zerolinecolor": "#E1E5ED"
        }
       }
      },
      "text/html": [
       "<div>\n",
       "        \n",
       "        \n",
       "            <div id=\"b2901c74-9f7d-43be-8236-617dc01600ce\" class=\"plotly-graph-div\" style=\"height:525px; width:100%;\"></div>\n",
       "            <script type=\"text/javascript\">\n",
       "                require([\"plotly\"], function(Plotly) {\n",
       "                    window.PLOTLYENV=window.PLOTLYENV || {};\n",
       "                    window.PLOTLYENV.BASE_URL='https://plot.ly';\n",
       "                    \n",
       "                if (document.getElementById(\"b2901c74-9f7d-43be-8236-617dc01600ce\")) {\n",
       "                    Plotly.newPlot(\n",
       "                        'b2901c74-9f7d-43be-8236-617dc01600ce',\n",
       "                        [{\"marker\": {\"color\": \"rgba(255, 153, 51, 0.6)\", \"line\": {\"color\": \"rgba(255, 153, 51, 1.0)\", \"width\": 1}}, \"name\": \"count\", \"orientation\": \"v\", \"text\": \"\", \"type\": \"bar\", \"x\": [\"kobe bryant\", \"via change\", \"petition chng\", \"high school\", \"nba logo\", \"basketball live\", \"live stream\", \"school basketball\", \"california high\", \"bryant new\", \"honor kobe\", \"make kobe\", \"logo petition\", \"nba petition\", \"new nba\", \"petition make\", \"rip kobe\", \"with kobe\", \"via youtube\", \"kobe gigi\"], \"y\": [161, 24, 23, 20, 19, 18, 18, 18, 18, 16, 16, 16, 16, 16, 16, 16, 15, 15, 13, 12]}],\n",
       "                        {\"legend\": {\"bgcolor\": \"#F5F6F9\", \"font\": {\"color\": \"#4D5663\"}}, \"paper_bgcolor\": \"#F5F6F9\", \"plot_bgcolor\": \"#F5F6F9\", \"template\": {\"data\": {\"bar\": [{\"error_x\": {\"color\": \"#2a3f5f\"}, \"error_y\": {\"color\": \"#2a3f5f\"}, \"marker\": {\"line\": {\"color\": \"#E5ECF6\", \"width\": 0.5}}, \"type\": \"bar\"}], \"barpolar\": [{\"marker\": {\"line\": {\"color\": \"#E5ECF6\", \"width\": 0.5}}, \"type\": \"barpolar\"}], \"carpet\": [{\"aaxis\": {\"endlinecolor\": \"#2a3f5f\", \"gridcolor\": \"white\", \"linecolor\": \"white\", \"minorgridcolor\": \"white\", \"startlinecolor\": \"#2a3f5f\"}, \"baxis\": {\"endlinecolor\": \"#2a3f5f\", \"gridcolor\": \"white\", \"linecolor\": \"white\", \"minorgridcolor\": \"white\", \"startlinecolor\": \"#2a3f5f\"}, \"type\": \"carpet\"}], \"choropleth\": [{\"colorbar\": {\"outlinewidth\": 0, \"ticks\": \"\"}, \"type\": \"choropleth\"}], \"contour\": [{\"colorbar\": {\"outlinewidth\": 0, \"ticks\": \"\"}, \"colorscale\": [[0.0, \"#0d0887\"], [0.1111111111111111, \"#46039f\"], [0.2222222222222222, \"#7201a8\"], [0.3333333333333333, \"#9c179e\"], [0.4444444444444444, \"#bd3786\"], [0.5555555555555556, \"#d8576b\"], [0.6666666666666666, \"#ed7953\"], [0.7777777777777778, \"#fb9f3a\"], [0.8888888888888888, \"#fdca26\"], [1.0, \"#f0f921\"]], \"type\": \"contour\"}], \"contourcarpet\": [{\"colorbar\": {\"outlinewidth\": 0, \"ticks\": \"\"}, \"type\": \"contourcarpet\"}], \"heatmap\": [{\"colorbar\": {\"outlinewidth\": 0, \"ticks\": \"\"}, \"colorscale\": [[0.0, \"#0d0887\"], [0.1111111111111111, \"#46039f\"], [0.2222222222222222, \"#7201a8\"], [0.3333333333333333, \"#9c179e\"], [0.4444444444444444, \"#bd3786\"], [0.5555555555555556, \"#d8576b\"], [0.6666666666666666, \"#ed7953\"], [0.7777777777777778, \"#fb9f3a\"], [0.8888888888888888, \"#fdca26\"], [1.0, \"#f0f921\"]], \"type\": \"heatmap\"}], \"heatmapgl\": [{\"colorbar\": {\"outlinewidth\": 0, \"ticks\": \"\"}, \"colorscale\": [[0.0, \"#0d0887\"], [0.1111111111111111, \"#46039f\"], [0.2222222222222222, \"#7201a8\"], [0.3333333333333333, \"#9c179e\"], [0.4444444444444444, \"#bd3786\"], [0.5555555555555556, \"#d8576b\"], [0.6666666666666666, \"#ed7953\"], [0.7777777777777778, \"#fb9f3a\"], [0.8888888888888888, \"#fdca26\"], [1.0, \"#f0f921\"]], \"type\": \"heatmapgl\"}], \"histogram\": [{\"marker\": {\"colorbar\": {\"outlinewidth\": 0, \"ticks\": \"\"}}, \"type\": \"histogram\"}], \"histogram2d\": [{\"colorbar\": {\"outlinewidth\": 0, \"ticks\": \"\"}, \"colorscale\": [[0.0, \"#0d0887\"], [0.1111111111111111, \"#46039f\"], [0.2222222222222222, \"#7201a8\"], [0.3333333333333333, \"#9c179e\"], [0.4444444444444444, \"#bd3786\"], [0.5555555555555556, \"#d8576b\"], [0.6666666666666666, \"#ed7953\"], [0.7777777777777778, \"#fb9f3a\"], [0.8888888888888888, \"#fdca26\"], [1.0, \"#f0f921\"]], \"type\": \"histogram2d\"}], \"histogram2dcontour\": [{\"colorbar\": {\"outlinewidth\": 0, \"ticks\": \"\"}, \"colorscale\": [[0.0, \"#0d0887\"], [0.1111111111111111, \"#46039f\"], [0.2222222222222222, \"#7201a8\"], [0.3333333333333333, \"#9c179e\"], [0.4444444444444444, \"#bd3786\"], [0.5555555555555556, \"#d8576b\"], [0.6666666666666666, \"#ed7953\"], [0.7777777777777778, \"#fb9f3a\"], [0.8888888888888888, \"#fdca26\"], [1.0, \"#f0f921\"]], \"type\": \"histogram2dcontour\"}], \"mesh3d\": [{\"colorbar\": {\"outlinewidth\": 0, \"ticks\": \"\"}, \"type\": \"mesh3d\"}], \"parcoords\": [{\"line\": {\"colorbar\": {\"outlinewidth\": 0, \"ticks\": \"\"}}, \"type\": \"parcoords\"}], \"pie\": [{\"automargin\": true, \"type\": \"pie\"}], \"scatter\": [{\"marker\": {\"colorbar\": {\"outlinewidth\": 0, \"ticks\": \"\"}}, \"type\": \"scatter\"}], \"scatter3d\": [{\"line\": {\"colorbar\": {\"outlinewidth\": 0, \"ticks\": \"\"}}, \"marker\": {\"colorbar\": {\"outlinewidth\": 0, \"ticks\": \"\"}}, \"type\": \"scatter3d\"}], \"scattercarpet\": [{\"marker\": {\"colorbar\": {\"outlinewidth\": 0, \"ticks\": \"\"}}, \"type\": \"scattercarpet\"}], \"scattergeo\": [{\"marker\": {\"colorbar\": {\"outlinewidth\": 0, \"ticks\": \"\"}}, \"type\": \"scattergeo\"}], \"scattergl\": [{\"marker\": {\"colorbar\": {\"outlinewidth\": 0, \"ticks\": \"\"}}, \"type\": \"scattergl\"}], \"scattermapbox\": [{\"marker\": {\"colorbar\": {\"outlinewidth\": 0, \"ticks\": \"\"}}, \"type\": \"scattermapbox\"}], \"scatterpolar\": [{\"marker\": {\"colorbar\": {\"outlinewidth\": 0, \"ticks\": \"\"}}, \"type\": \"scatterpolar\"}], \"scatterpolargl\": [{\"marker\": {\"colorbar\": {\"outlinewidth\": 0, \"ticks\": \"\"}}, \"type\": \"scatterpolargl\"}], \"scatterternary\": [{\"marker\": {\"colorbar\": {\"outlinewidth\": 0, \"ticks\": \"\"}}, \"type\": \"scatterternary\"}], \"surface\": [{\"colorbar\": {\"outlinewidth\": 0, \"ticks\": \"\"}, \"colorscale\": [[0.0, \"#0d0887\"], [0.1111111111111111, \"#46039f\"], [0.2222222222222222, \"#7201a8\"], [0.3333333333333333, \"#9c179e\"], [0.4444444444444444, \"#bd3786\"], [0.5555555555555556, \"#d8576b\"], [0.6666666666666666, \"#ed7953\"], [0.7777777777777778, \"#fb9f3a\"], [0.8888888888888888, \"#fdca26\"], [1.0, \"#f0f921\"]], \"type\": \"surface\"}], \"table\": [{\"cells\": {\"fill\": {\"color\": \"#EBF0F8\"}, \"line\": {\"color\": \"white\"}}, \"header\": {\"fill\": {\"color\": \"#C8D4E3\"}, \"line\": {\"color\": \"white\"}}, \"type\": \"table\"}]}, \"layout\": {\"annotationdefaults\": {\"arrowcolor\": \"#2a3f5f\", \"arrowhead\": 0, \"arrowwidth\": 1}, \"coloraxis\": {\"colorbar\": {\"outlinewidth\": 0, \"ticks\": \"\"}}, \"colorscale\": {\"diverging\": [[0, \"#8e0152\"], [0.1, \"#c51b7d\"], [0.2, \"#de77ae\"], [0.3, \"#f1b6da\"], [0.4, \"#fde0ef\"], [0.5, \"#f7f7f7\"], [0.6, \"#e6f5d0\"], [0.7, \"#b8e186\"], [0.8, \"#7fbc41\"], [0.9, \"#4d9221\"], [1, \"#276419\"]], \"sequential\": [[0.0, \"#0d0887\"], [0.1111111111111111, \"#46039f\"], [0.2222222222222222, \"#7201a8\"], [0.3333333333333333, \"#9c179e\"], [0.4444444444444444, \"#bd3786\"], [0.5555555555555556, \"#d8576b\"], [0.6666666666666666, \"#ed7953\"], [0.7777777777777778, \"#fb9f3a\"], [0.8888888888888888, \"#fdca26\"], [1.0, \"#f0f921\"]], \"sequentialminus\": [[0.0, \"#0d0887\"], [0.1111111111111111, \"#46039f\"], [0.2222222222222222, \"#7201a8\"], [0.3333333333333333, \"#9c179e\"], [0.4444444444444444, \"#bd3786\"], [0.5555555555555556, \"#d8576b\"], [0.6666666666666666, \"#ed7953\"], [0.7777777777777778, \"#fb9f3a\"], [0.8888888888888888, \"#fdca26\"], [1.0, \"#f0f921\"]]}, \"colorway\": [\"#636efa\", \"#EF553B\", \"#00cc96\", \"#ab63fa\", \"#FFA15A\", \"#19d3f3\", \"#FF6692\", \"#B6E880\", \"#FF97FF\", \"#FECB52\"], \"font\": {\"color\": \"#2a3f5f\"}, \"geo\": {\"bgcolor\": \"white\", \"lakecolor\": \"white\", \"landcolor\": \"#E5ECF6\", \"showlakes\": true, \"showland\": true, \"subunitcolor\": \"white\"}, \"hoverlabel\": {\"align\": \"left\"}, \"hovermode\": \"closest\", \"mapbox\": {\"style\": \"light\"}, \"paper_bgcolor\": \"white\", \"plot_bgcolor\": \"#E5ECF6\", \"polar\": {\"angularaxis\": {\"gridcolor\": \"white\", \"linecolor\": \"white\", \"ticks\": \"\"}, \"bgcolor\": \"#E5ECF6\", \"radialaxis\": {\"gridcolor\": \"white\", \"linecolor\": \"white\", \"ticks\": \"\"}}, \"scene\": {\"xaxis\": {\"backgroundcolor\": \"#E5ECF6\", \"gridcolor\": \"white\", \"gridwidth\": 2, \"linecolor\": \"white\", \"showbackground\": true, \"ticks\": \"\", \"zerolinecolor\": \"white\"}, \"yaxis\": {\"backgroundcolor\": \"#E5ECF6\", \"gridcolor\": \"white\", \"gridwidth\": 2, \"linecolor\": \"white\", \"showbackground\": true, \"ticks\": \"\", \"zerolinecolor\": \"white\"}, \"zaxis\": {\"backgroundcolor\": \"#E5ECF6\", \"gridcolor\": \"white\", \"gridwidth\": 2, \"linecolor\": \"white\", \"showbackground\": true, \"ticks\": \"\", \"zerolinecolor\": \"white\"}}, \"shapedefaults\": {\"line\": {\"color\": \"#2a3f5f\"}}, \"ternary\": {\"aaxis\": {\"gridcolor\": \"white\", \"linecolor\": \"white\", \"ticks\": \"\"}, \"baxis\": {\"gridcolor\": \"white\", \"linecolor\": \"white\", \"ticks\": \"\"}, \"bgcolor\": \"#E5ECF6\", \"caxis\": {\"gridcolor\": \"white\", \"linecolor\": \"white\", \"ticks\": \"\"}}, \"title\": {\"x\": 0.05}, \"xaxis\": {\"automargin\": true, \"gridcolor\": \"white\", \"linecolor\": \"white\", \"ticks\": \"\", \"title\": {\"standoff\": 15}, \"zerolinecolor\": \"white\", \"zerolinewidth\": 2}, \"yaxis\": {\"automargin\": true, \"gridcolor\": \"white\", \"linecolor\": \"white\", \"ticks\": \"\", \"title\": {\"standoff\": 15}, \"zerolinecolor\": \"white\", \"zerolinewidth\": 2}}}, \"title\": {\"font\": {\"color\": \"#4D5663\"}, \"text\": \"Top 20 bigrams after removing stop words, 2 days after\"}, \"xaxis\": {\"gridcolor\": \"#E1E5ED\", \"linecolor\": \"black\", \"showgrid\": true, \"tickfont\": {\"color\": \"#4D5663\"}, \"title\": {\"font\": {\"color\": \"#4D5663\"}, \"text\": \"\"}, \"zerolinecolor\": \"#E1E5ED\"}, \"yaxis\": {\"gridcolor\": \"#E1E5ED\", \"linecolor\": \"black\", \"showgrid\": true, \"tickfont\": {\"color\": \"#4D5663\"}, \"title\": {\"font\": {\"color\": \"#4D5663\"}, \"text\": \"Count\"}, \"zerolinecolor\": \"#E1E5ED\"}},\n",
       "                        {\"showLink\": true, \"linkText\": \"Export to plot.ly\", \"plotlyServerURL\": \"https://plot.ly\", \"responsive\": true}\n",
       "                    ).then(function(){\n",
       "                            \n",
       "var gd = document.getElementById('b2901c74-9f7d-43be-8236-617dc01600ce');\n",
       "var x = new MutationObserver(function (mutations, observer) {{\n",
       "        var display = window.getComputedStyle(gd).display;\n",
       "        if (!display || display === 'none') {{\n",
       "            console.log([gd, 'removed!']);\n",
       "            Plotly.purge(gd);\n",
       "            observer.disconnect();\n",
       "        }}\n",
       "}});\n",
       "\n",
       "// Listen for the removal of the full notebook cells\n",
       "var notebookContainer = gd.closest('#notebook-container');\n",
       "if (notebookContainer) {{\n",
       "    x.observe(notebookContainer, {childList: true});\n",
       "}}\n",
       "\n",
       "// Listen for the clearing of the current output cell\n",
       "var outputEl = gd.closest('.output');\n",
       "if (outputEl) {{\n",
       "    x.observe(outputEl, {childList: true});\n",
       "}}\n",
       "\n",
       "                        })\n",
       "                };\n",
       "                });\n",
       "            </script>\n",
       "        </div>"
      ]
     },
     "metadata": {},
     "output_type": "display_data"
    }
   ],
   "source": [
    "common_words2 = get_top_n_bigram(dnew, 20)\n",
    "for word, freq in common_words2:\n",
    "    print(word, freq)\n",
    "bi2 = pd.DataFrame(common_words2, columns = ['text' , 'count'])\n",
    "bi2.groupby('text').sum()['count'].sort_values(ascending=False).iplot(\n",
    "kind='bar', yTitle='Count', linecolor='black', title='Top 20 bigrams after removing stop words, 2 days after')"
   ]
  },
  {
   "cell_type": "code",
   "execution_count": 15,
   "metadata": {},
   "outputs": [
    {
     "name": "stdout",
     "output_type": "stream",
     "text": [
      "kobe bryant 122\n",
      "kobe beef 16\n",
      "nike kobe 13\n",
      "dunk contest 12\n",
      "pau gasol 11\n",
      "with kobe 11\n",
      "kobe lebron 11\n",
      "ift tt 11\n",
      "bit ly 10\n",
      "lebron james 10\n",
      "lebron kobe 10\n",
      "owned kobe 10\n",
      "kobe gasol 9\n",
      "gasol loses 9\n",
      "loses nose 9\n",
      "horse co 9\n",
      "co owned 9\n",
      "bryant pau 9\n",
      "kobe pic 9\n",
      "aston martin 8\n"
     ]
    },
    {
     "data": {
      "application/vnd.plotly.v1+json": {
       "config": {
        "linkText": "Export to plot.ly",
        "plotlyServerURL": "https://plot.ly",
        "showLink": true
       },
       "data": [
        {
         "marker": {
          "color": "rgba(255, 153, 51, 0.6)",
          "line": {
           "color": "rgba(255, 153, 51, 1.0)",
           "width": 1
          }
         },
         "name": "count",
         "orientation": "v",
         "text": "",
         "type": "bar",
         "x": [
          "kobe bryant",
          "kobe beef",
          "nike kobe",
          "dunk contest",
          "kobe lebron",
          "ift tt",
          "pau gasol",
          "with kobe",
          "lebron james",
          "lebron kobe",
          "owned kobe",
          "bit ly",
          "kobe pic",
          "kobe gasol",
          "loses nose",
          "horse co",
          "gasol loses",
          "co owned",
          "bryant pau",
          "aston martin"
         ],
         "y": [
          122,
          16,
          13,
          12,
          11,
          11,
          11,
          11,
          10,
          10,
          10,
          10,
          9,
          9,
          9,
          9,
          9,
          9,
          9,
          8
         ]
        }
       ],
       "layout": {
        "legend": {
         "bgcolor": "#F5F6F9",
         "font": {
          "color": "#4D5663"
         }
        },
        "paper_bgcolor": "#F5F6F9",
        "plot_bgcolor": "#F5F6F9",
        "template": {
         "data": {
          "bar": [
           {
            "error_x": {
             "color": "#2a3f5f"
            },
            "error_y": {
             "color": "#2a3f5f"
            },
            "marker": {
             "line": {
              "color": "#E5ECF6",
              "width": 0.5
             }
            },
            "type": "bar"
           }
          ],
          "barpolar": [
           {
            "marker": {
             "line": {
              "color": "#E5ECF6",
              "width": 0.5
             }
            },
            "type": "barpolar"
           }
          ],
          "carpet": [
           {
            "aaxis": {
             "endlinecolor": "#2a3f5f",
             "gridcolor": "white",
             "linecolor": "white",
             "minorgridcolor": "white",
             "startlinecolor": "#2a3f5f"
            },
            "baxis": {
             "endlinecolor": "#2a3f5f",
             "gridcolor": "white",
             "linecolor": "white",
             "minorgridcolor": "white",
             "startlinecolor": "#2a3f5f"
            },
            "type": "carpet"
           }
          ],
          "choropleth": [
           {
            "colorbar": {
             "outlinewidth": 0,
             "ticks": ""
            },
            "type": "choropleth"
           }
          ],
          "contour": [
           {
            "colorbar": {
             "outlinewidth": 0,
             "ticks": ""
            },
            "colorscale": [
             [
              0,
              "#0d0887"
             ],
             [
              0.1111111111111111,
              "#46039f"
             ],
             [
              0.2222222222222222,
              "#7201a8"
             ],
             [
              0.3333333333333333,
              "#9c179e"
             ],
             [
              0.4444444444444444,
              "#bd3786"
             ],
             [
              0.5555555555555556,
              "#d8576b"
             ],
             [
              0.6666666666666666,
              "#ed7953"
             ],
             [
              0.7777777777777778,
              "#fb9f3a"
             ],
             [
              0.8888888888888888,
              "#fdca26"
             ],
             [
              1,
              "#f0f921"
             ]
            ],
            "type": "contour"
           }
          ],
          "contourcarpet": [
           {
            "colorbar": {
             "outlinewidth": 0,
             "ticks": ""
            },
            "type": "contourcarpet"
           }
          ],
          "heatmap": [
           {
            "colorbar": {
             "outlinewidth": 0,
             "ticks": ""
            },
            "colorscale": [
             [
              0,
              "#0d0887"
             ],
             [
              0.1111111111111111,
              "#46039f"
             ],
             [
              0.2222222222222222,
              "#7201a8"
             ],
             [
              0.3333333333333333,
              "#9c179e"
             ],
             [
              0.4444444444444444,
              "#bd3786"
             ],
             [
              0.5555555555555556,
              "#d8576b"
             ],
             [
              0.6666666666666666,
              "#ed7953"
             ],
             [
              0.7777777777777778,
              "#fb9f3a"
             ],
             [
              0.8888888888888888,
              "#fdca26"
             ],
             [
              1,
              "#f0f921"
             ]
            ],
            "type": "heatmap"
           }
          ],
          "heatmapgl": [
           {
            "colorbar": {
             "outlinewidth": 0,
             "ticks": ""
            },
            "colorscale": [
             [
              0,
              "#0d0887"
             ],
             [
              0.1111111111111111,
              "#46039f"
             ],
             [
              0.2222222222222222,
              "#7201a8"
             ],
             [
              0.3333333333333333,
              "#9c179e"
             ],
             [
              0.4444444444444444,
              "#bd3786"
             ],
             [
              0.5555555555555556,
              "#d8576b"
             ],
             [
              0.6666666666666666,
              "#ed7953"
             ],
             [
              0.7777777777777778,
              "#fb9f3a"
             ],
             [
              0.8888888888888888,
              "#fdca26"
             ],
             [
              1,
              "#f0f921"
             ]
            ],
            "type": "heatmapgl"
           }
          ],
          "histogram": [
           {
            "marker": {
             "colorbar": {
              "outlinewidth": 0,
              "ticks": ""
             }
            },
            "type": "histogram"
           }
          ],
          "histogram2d": [
           {
            "colorbar": {
             "outlinewidth": 0,
             "ticks": ""
            },
            "colorscale": [
             [
              0,
              "#0d0887"
             ],
             [
              0.1111111111111111,
              "#46039f"
             ],
             [
              0.2222222222222222,
              "#7201a8"
             ],
             [
              0.3333333333333333,
              "#9c179e"
             ],
             [
              0.4444444444444444,
              "#bd3786"
             ],
             [
              0.5555555555555556,
              "#d8576b"
             ],
             [
              0.6666666666666666,
              "#ed7953"
             ],
             [
              0.7777777777777778,
              "#fb9f3a"
             ],
             [
              0.8888888888888888,
              "#fdca26"
             ],
             [
              1,
              "#f0f921"
             ]
            ],
            "type": "histogram2d"
           }
          ],
          "histogram2dcontour": [
           {
            "colorbar": {
             "outlinewidth": 0,
             "ticks": ""
            },
            "colorscale": [
             [
              0,
              "#0d0887"
             ],
             [
              0.1111111111111111,
              "#46039f"
             ],
             [
              0.2222222222222222,
              "#7201a8"
             ],
             [
              0.3333333333333333,
              "#9c179e"
             ],
             [
              0.4444444444444444,
              "#bd3786"
             ],
             [
              0.5555555555555556,
              "#d8576b"
             ],
             [
              0.6666666666666666,
              "#ed7953"
             ],
             [
              0.7777777777777778,
              "#fb9f3a"
             ],
             [
              0.8888888888888888,
              "#fdca26"
             ],
             [
              1,
              "#f0f921"
             ]
            ],
            "type": "histogram2dcontour"
           }
          ],
          "mesh3d": [
           {
            "colorbar": {
             "outlinewidth": 0,
             "ticks": ""
            },
            "type": "mesh3d"
           }
          ],
          "parcoords": [
           {
            "line": {
             "colorbar": {
              "outlinewidth": 0,
              "ticks": ""
             }
            },
            "type": "parcoords"
           }
          ],
          "pie": [
           {
            "automargin": true,
            "type": "pie"
           }
          ],
          "scatter": [
           {
            "marker": {
             "colorbar": {
              "outlinewidth": 0,
              "ticks": ""
             }
            },
            "type": "scatter"
           }
          ],
          "scatter3d": [
           {
            "line": {
             "colorbar": {
              "outlinewidth": 0,
              "ticks": ""
             }
            },
            "marker": {
             "colorbar": {
              "outlinewidth": 0,
              "ticks": ""
             }
            },
            "type": "scatter3d"
           }
          ],
          "scattercarpet": [
           {
            "marker": {
             "colorbar": {
              "outlinewidth": 0,
              "ticks": ""
             }
            },
            "type": "scattercarpet"
           }
          ],
          "scattergeo": [
           {
            "marker": {
             "colorbar": {
              "outlinewidth": 0,
              "ticks": ""
             }
            },
            "type": "scattergeo"
           }
          ],
          "scattergl": [
           {
            "marker": {
             "colorbar": {
              "outlinewidth": 0,
              "ticks": ""
             }
            },
            "type": "scattergl"
           }
          ],
          "scattermapbox": [
           {
            "marker": {
             "colorbar": {
              "outlinewidth": 0,
              "ticks": ""
             }
            },
            "type": "scattermapbox"
           }
          ],
          "scatterpolar": [
           {
            "marker": {
             "colorbar": {
              "outlinewidth": 0,
              "ticks": ""
             }
            },
            "type": "scatterpolar"
           }
          ],
          "scatterpolargl": [
           {
            "marker": {
             "colorbar": {
              "outlinewidth": 0,
              "ticks": ""
             }
            },
            "type": "scatterpolargl"
           }
          ],
          "scatterternary": [
           {
            "marker": {
             "colorbar": {
              "outlinewidth": 0,
              "ticks": ""
             }
            },
            "type": "scatterternary"
           }
          ],
          "surface": [
           {
            "colorbar": {
             "outlinewidth": 0,
             "ticks": ""
            },
            "colorscale": [
             [
              0,
              "#0d0887"
             ],
             [
              0.1111111111111111,
              "#46039f"
             ],
             [
              0.2222222222222222,
              "#7201a8"
             ],
             [
              0.3333333333333333,
              "#9c179e"
             ],
             [
              0.4444444444444444,
              "#bd3786"
             ],
             [
              0.5555555555555556,
              "#d8576b"
             ],
             [
              0.6666666666666666,
              "#ed7953"
             ],
             [
              0.7777777777777778,
              "#fb9f3a"
             ],
             [
              0.8888888888888888,
              "#fdca26"
             ],
             [
              1,
              "#f0f921"
             ]
            ],
            "type": "surface"
           }
          ],
          "table": [
           {
            "cells": {
             "fill": {
              "color": "#EBF0F8"
             },
             "line": {
              "color": "white"
             }
            },
            "header": {
             "fill": {
              "color": "#C8D4E3"
             },
             "line": {
              "color": "white"
             }
            },
            "type": "table"
           }
          ]
         },
         "layout": {
          "annotationdefaults": {
           "arrowcolor": "#2a3f5f",
           "arrowhead": 0,
           "arrowwidth": 1
          },
          "coloraxis": {
           "colorbar": {
            "outlinewidth": 0,
            "ticks": ""
           }
          },
          "colorscale": {
           "diverging": [
            [
             0,
             "#8e0152"
            ],
            [
             0.1,
             "#c51b7d"
            ],
            [
             0.2,
             "#de77ae"
            ],
            [
             0.3,
             "#f1b6da"
            ],
            [
             0.4,
             "#fde0ef"
            ],
            [
             0.5,
             "#f7f7f7"
            ],
            [
             0.6,
             "#e6f5d0"
            ],
            [
             0.7,
             "#b8e186"
            ],
            [
             0.8,
             "#7fbc41"
            ],
            [
             0.9,
             "#4d9221"
            ],
            [
             1,
             "#276419"
            ]
           ],
           "sequential": [
            [
             0,
             "#0d0887"
            ],
            [
             0.1111111111111111,
             "#46039f"
            ],
            [
             0.2222222222222222,
             "#7201a8"
            ],
            [
             0.3333333333333333,
             "#9c179e"
            ],
            [
             0.4444444444444444,
             "#bd3786"
            ],
            [
             0.5555555555555556,
             "#d8576b"
            ],
            [
             0.6666666666666666,
             "#ed7953"
            ],
            [
             0.7777777777777778,
             "#fb9f3a"
            ],
            [
             0.8888888888888888,
             "#fdca26"
            ],
            [
             1,
             "#f0f921"
            ]
           ],
           "sequentialminus": [
            [
             0,
             "#0d0887"
            ],
            [
             0.1111111111111111,
             "#46039f"
            ],
            [
             0.2222222222222222,
             "#7201a8"
            ],
            [
             0.3333333333333333,
             "#9c179e"
            ],
            [
             0.4444444444444444,
             "#bd3786"
            ],
            [
             0.5555555555555556,
             "#d8576b"
            ],
            [
             0.6666666666666666,
             "#ed7953"
            ],
            [
             0.7777777777777778,
             "#fb9f3a"
            ],
            [
             0.8888888888888888,
             "#fdca26"
            ],
            [
             1,
             "#f0f921"
            ]
           ]
          },
          "colorway": [
           "#636efa",
           "#EF553B",
           "#00cc96",
           "#ab63fa",
           "#FFA15A",
           "#19d3f3",
           "#FF6692",
           "#B6E880",
           "#FF97FF",
           "#FECB52"
          ],
          "font": {
           "color": "#2a3f5f"
          },
          "geo": {
           "bgcolor": "white",
           "lakecolor": "white",
           "landcolor": "#E5ECF6",
           "showlakes": true,
           "showland": true,
           "subunitcolor": "white"
          },
          "hoverlabel": {
           "align": "left"
          },
          "hovermode": "closest",
          "mapbox": {
           "style": "light"
          },
          "paper_bgcolor": "white",
          "plot_bgcolor": "#E5ECF6",
          "polar": {
           "angularaxis": {
            "gridcolor": "white",
            "linecolor": "white",
            "ticks": ""
           },
           "bgcolor": "#E5ECF6",
           "radialaxis": {
            "gridcolor": "white",
            "linecolor": "white",
            "ticks": ""
           }
          },
          "scene": {
           "xaxis": {
            "backgroundcolor": "#E5ECF6",
            "gridcolor": "white",
            "gridwidth": 2,
            "linecolor": "white",
            "showbackground": true,
            "ticks": "",
            "zerolinecolor": "white"
           },
           "yaxis": {
            "backgroundcolor": "#E5ECF6",
            "gridcolor": "white",
            "gridwidth": 2,
            "linecolor": "white",
            "showbackground": true,
            "ticks": "",
            "zerolinecolor": "white"
           },
           "zaxis": {
            "backgroundcolor": "#E5ECF6",
            "gridcolor": "white",
            "gridwidth": 2,
            "linecolor": "white",
            "showbackground": true,
            "ticks": "",
            "zerolinecolor": "white"
           }
          },
          "shapedefaults": {
           "line": {
            "color": "#2a3f5f"
           }
          },
          "ternary": {
           "aaxis": {
            "gridcolor": "white",
            "linecolor": "white",
            "ticks": ""
           },
           "baxis": {
            "gridcolor": "white",
            "linecolor": "white",
            "ticks": ""
           },
           "bgcolor": "#E5ECF6",
           "caxis": {
            "gridcolor": "white",
            "linecolor": "white",
            "ticks": ""
           }
          },
          "title": {
           "x": 0.05
          },
          "xaxis": {
           "automargin": true,
           "gridcolor": "white",
           "linecolor": "white",
           "ticks": "",
           "title": {
            "standoff": 15
           },
           "zerolinecolor": "white",
           "zerolinewidth": 2
          },
          "yaxis": {
           "automargin": true,
           "gridcolor": "white",
           "linecolor": "white",
           "ticks": "",
           "title": {
            "standoff": 15
           },
           "zerolinecolor": "white",
           "zerolinewidth": 2
          }
         }
        },
        "title": {
         "font": {
          "color": "#4D5663"
         },
         "text": "Top 20 bigrams after removing stop words, present"
        },
        "xaxis": {
         "gridcolor": "#E1E5ED",
         "linecolor": "black",
         "showgrid": true,
         "tickfont": {
          "color": "#4D5663"
         },
         "title": {
          "font": {
           "color": "#4D5663"
          },
          "text": ""
         },
         "zerolinecolor": "#E1E5ED"
        },
        "yaxis": {
         "gridcolor": "#E1E5ED",
         "linecolor": "black",
         "showgrid": true,
         "tickfont": {
          "color": "#4D5663"
         },
         "title": {
          "font": {
           "color": "#4D5663"
          },
          "text": "Count"
         },
         "zerolinecolor": "#E1E5ED"
        }
       }
      },
      "text/html": [
       "<div>\n",
       "        \n",
       "        \n",
       "            <div id=\"71a5fd80-2eb0-4791-8d0b-2c5ea03c4dc7\" class=\"plotly-graph-div\" style=\"height:525px; width:100%;\"></div>\n",
       "            <script type=\"text/javascript\">\n",
       "                require([\"plotly\"], function(Plotly) {\n",
       "                    window.PLOTLYENV=window.PLOTLYENV || {};\n",
       "                    window.PLOTLYENV.BASE_URL='https://plot.ly';\n",
       "                    \n",
       "                if (document.getElementById(\"71a5fd80-2eb0-4791-8d0b-2c5ea03c4dc7\")) {\n",
       "                    Plotly.newPlot(\n",
       "                        '71a5fd80-2eb0-4791-8d0b-2c5ea03c4dc7',\n",
       "                        [{\"marker\": {\"color\": \"rgba(255, 153, 51, 0.6)\", \"line\": {\"color\": \"rgba(255, 153, 51, 1.0)\", \"width\": 1}}, \"name\": \"count\", \"orientation\": \"v\", \"text\": \"\", \"type\": \"bar\", \"x\": [\"kobe bryant\", \"kobe beef\", \"nike kobe\", \"dunk contest\", \"kobe lebron\", \"ift tt\", \"pau gasol\", \"with kobe\", \"lebron james\", \"lebron kobe\", \"owned kobe\", \"bit ly\", \"kobe pic\", \"kobe gasol\", \"loses nose\", \"horse co\", \"gasol loses\", \"co owned\", \"bryant pau\", \"aston martin\"], \"y\": [122, 16, 13, 12, 11, 11, 11, 11, 10, 10, 10, 10, 9, 9, 9, 9, 9, 9, 9, 8]}],\n",
       "                        {\"legend\": {\"bgcolor\": \"#F5F6F9\", \"font\": {\"color\": \"#4D5663\"}}, \"paper_bgcolor\": \"#F5F6F9\", \"plot_bgcolor\": \"#F5F6F9\", \"template\": {\"data\": {\"bar\": [{\"error_x\": {\"color\": \"#2a3f5f\"}, \"error_y\": {\"color\": \"#2a3f5f\"}, \"marker\": {\"line\": {\"color\": \"#E5ECF6\", \"width\": 0.5}}, \"type\": \"bar\"}], \"barpolar\": [{\"marker\": {\"line\": {\"color\": \"#E5ECF6\", \"width\": 0.5}}, \"type\": \"barpolar\"}], \"carpet\": [{\"aaxis\": {\"endlinecolor\": \"#2a3f5f\", \"gridcolor\": \"white\", \"linecolor\": \"white\", \"minorgridcolor\": \"white\", \"startlinecolor\": \"#2a3f5f\"}, \"baxis\": {\"endlinecolor\": \"#2a3f5f\", \"gridcolor\": \"white\", \"linecolor\": \"white\", \"minorgridcolor\": \"white\", \"startlinecolor\": \"#2a3f5f\"}, \"type\": \"carpet\"}], \"choropleth\": [{\"colorbar\": {\"outlinewidth\": 0, \"ticks\": \"\"}, \"type\": \"choropleth\"}], \"contour\": [{\"colorbar\": {\"outlinewidth\": 0, \"ticks\": \"\"}, \"colorscale\": [[0.0, \"#0d0887\"], [0.1111111111111111, \"#46039f\"], [0.2222222222222222, \"#7201a8\"], [0.3333333333333333, \"#9c179e\"], [0.4444444444444444, \"#bd3786\"], [0.5555555555555556, \"#d8576b\"], [0.6666666666666666, \"#ed7953\"], [0.7777777777777778, \"#fb9f3a\"], [0.8888888888888888, \"#fdca26\"], [1.0, \"#f0f921\"]], \"type\": \"contour\"}], \"contourcarpet\": [{\"colorbar\": {\"outlinewidth\": 0, \"ticks\": \"\"}, \"type\": \"contourcarpet\"}], \"heatmap\": [{\"colorbar\": {\"outlinewidth\": 0, \"ticks\": \"\"}, \"colorscale\": [[0.0, \"#0d0887\"], [0.1111111111111111, \"#46039f\"], [0.2222222222222222, \"#7201a8\"], [0.3333333333333333, \"#9c179e\"], [0.4444444444444444, \"#bd3786\"], [0.5555555555555556, \"#d8576b\"], [0.6666666666666666, \"#ed7953\"], [0.7777777777777778, \"#fb9f3a\"], [0.8888888888888888, \"#fdca26\"], [1.0, \"#f0f921\"]], \"type\": \"heatmap\"}], \"heatmapgl\": [{\"colorbar\": {\"outlinewidth\": 0, \"ticks\": \"\"}, \"colorscale\": [[0.0, \"#0d0887\"], [0.1111111111111111, \"#46039f\"], [0.2222222222222222, \"#7201a8\"], [0.3333333333333333, \"#9c179e\"], [0.4444444444444444, \"#bd3786\"], [0.5555555555555556, \"#d8576b\"], [0.6666666666666666, \"#ed7953\"], [0.7777777777777778, \"#fb9f3a\"], [0.8888888888888888, \"#fdca26\"], [1.0, \"#f0f921\"]], \"type\": \"heatmapgl\"}], \"histogram\": [{\"marker\": {\"colorbar\": {\"outlinewidth\": 0, \"ticks\": \"\"}}, \"type\": \"histogram\"}], \"histogram2d\": [{\"colorbar\": {\"outlinewidth\": 0, \"ticks\": \"\"}, \"colorscale\": [[0.0, \"#0d0887\"], [0.1111111111111111, \"#46039f\"], [0.2222222222222222, \"#7201a8\"], [0.3333333333333333, \"#9c179e\"], [0.4444444444444444, \"#bd3786\"], [0.5555555555555556, \"#d8576b\"], [0.6666666666666666, \"#ed7953\"], [0.7777777777777778, \"#fb9f3a\"], [0.8888888888888888, \"#fdca26\"], [1.0, \"#f0f921\"]], \"type\": \"histogram2d\"}], \"histogram2dcontour\": [{\"colorbar\": {\"outlinewidth\": 0, \"ticks\": \"\"}, \"colorscale\": [[0.0, \"#0d0887\"], [0.1111111111111111, \"#46039f\"], [0.2222222222222222, \"#7201a8\"], [0.3333333333333333, \"#9c179e\"], [0.4444444444444444, \"#bd3786\"], [0.5555555555555556, \"#d8576b\"], [0.6666666666666666, \"#ed7953\"], [0.7777777777777778, \"#fb9f3a\"], [0.8888888888888888, \"#fdca26\"], [1.0, \"#f0f921\"]], \"type\": \"histogram2dcontour\"}], \"mesh3d\": [{\"colorbar\": {\"outlinewidth\": 0, \"ticks\": \"\"}, \"type\": \"mesh3d\"}], \"parcoords\": [{\"line\": {\"colorbar\": {\"outlinewidth\": 0, \"ticks\": \"\"}}, \"type\": \"parcoords\"}], \"pie\": [{\"automargin\": true, \"type\": \"pie\"}], \"scatter\": [{\"marker\": {\"colorbar\": {\"outlinewidth\": 0, \"ticks\": \"\"}}, \"type\": \"scatter\"}], \"scatter3d\": [{\"line\": {\"colorbar\": {\"outlinewidth\": 0, \"ticks\": \"\"}}, \"marker\": {\"colorbar\": {\"outlinewidth\": 0, \"ticks\": \"\"}}, \"type\": \"scatter3d\"}], \"scattercarpet\": [{\"marker\": {\"colorbar\": {\"outlinewidth\": 0, \"ticks\": \"\"}}, \"type\": \"scattercarpet\"}], \"scattergeo\": [{\"marker\": {\"colorbar\": {\"outlinewidth\": 0, \"ticks\": \"\"}}, \"type\": \"scattergeo\"}], \"scattergl\": [{\"marker\": {\"colorbar\": {\"outlinewidth\": 0, \"ticks\": \"\"}}, \"type\": \"scattergl\"}], \"scattermapbox\": [{\"marker\": {\"colorbar\": {\"outlinewidth\": 0, \"ticks\": \"\"}}, \"type\": \"scattermapbox\"}], \"scatterpolar\": [{\"marker\": {\"colorbar\": {\"outlinewidth\": 0, \"ticks\": \"\"}}, \"type\": \"scatterpolar\"}], \"scatterpolargl\": [{\"marker\": {\"colorbar\": {\"outlinewidth\": 0, \"ticks\": \"\"}}, \"type\": \"scatterpolargl\"}], \"scatterternary\": [{\"marker\": {\"colorbar\": {\"outlinewidth\": 0, \"ticks\": \"\"}}, \"type\": \"scatterternary\"}], \"surface\": [{\"colorbar\": {\"outlinewidth\": 0, \"ticks\": \"\"}, \"colorscale\": [[0.0, \"#0d0887\"], [0.1111111111111111, \"#46039f\"], [0.2222222222222222, \"#7201a8\"], [0.3333333333333333, \"#9c179e\"], [0.4444444444444444, \"#bd3786\"], [0.5555555555555556, \"#d8576b\"], [0.6666666666666666, \"#ed7953\"], [0.7777777777777778, \"#fb9f3a\"], [0.8888888888888888, \"#fdca26\"], [1.0, \"#f0f921\"]], \"type\": \"surface\"}], \"table\": [{\"cells\": {\"fill\": {\"color\": \"#EBF0F8\"}, \"line\": {\"color\": \"white\"}}, \"header\": {\"fill\": {\"color\": \"#C8D4E3\"}, \"line\": {\"color\": \"white\"}}, \"type\": \"table\"}]}, \"layout\": {\"annotationdefaults\": {\"arrowcolor\": \"#2a3f5f\", \"arrowhead\": 0, \"arrowwidth\": 1}, \"coloraxis\": {\"colorbar\": {\"outlinewidth\": 0, \"ticks\": \"\"}}, \"colorscale\": {\"diverging\": [[0, \"#8e0152\"], [0.1, \"#c51b7d\"], [0.2, \"#de77ae\"], [0.3, \"#f1b6da\"], [0.4, \"#fde0ef\"], [0.5, \"#f7f7f7\"], [0.6, \"#e6f5d0\"], [0.7, \"#b8e186\"], [0.8, \"#7fbc41\"], [0.9, \"#4d9221\"], [1, \"#276419\"]], \"sequential\": [[0.0, \"#0d0887\"], [0.1111111111111111, \"#46039f\"], [0.2222222222222222, \"#7201a8\"], [0.3333333333333333, \"#9c179e\"], [0.4444444444444444, \"#bd3786\"], [0.5555555555555556, \"#d8576b\"], [0.6666666666666666, \"#ed7953\"], [0.7777777777777778, \"#fb9f3a\"], [0.8888888888888888, \"#fdca26\"], [1.0, \"#f0f921\"]], \"sequentialminus\": [[0.0, \"#0d0887\"], [0.1111111111111111, \"#46039f\"], [0.2222222222222222, \"#7201a8\"], [0.3333333333333333, \"#9c179e\"], [0.4444444444444444, \"#bd3786\"], [0.5555555555555556, \"#d8576b\"], [0.6666666666666666, \"#ed7953\"], [0.7777777777777778, \"#fb9f3a\"], [0.8888888888888888, \"#fdca26\"], [1.0, \"#f0f921\"]]}, \"colorway\": [\"#636efa\", \"#EF553B\", \"#00cc96\", \"#ab63fa\", \"#FFA15A\", \"#19d3f3\", \"#FF6692\", \"#B6E880\", \"#FF97FF\", \"#FECB52\"], \"font\": {\"color\": \"#2a3f5f\"}, \"geo\": {\"bgcolor\": \"white\", \"lakecolor\": \"white\", \"landcolor\": \"#E5ECF6\", \"showlakes\": true, \"showland\": true, \"subunitcolor\": \"white\"}, \"hoverlabel\": {\"align\": \"left\"}, \"hovermode\": \"closest\", \"mapbox\": {\"style\": \"light\"}, \"paper_bgcolor\": \"white\", \"plot_bgcolor\": \"#E5ECF6\", \"polar\": {\"angularaxis\": {\"gridcolor\": \"white\", \"linecolor\": \"white\", \"ticks\": \"\"}, \"bgcolor\": \"#E5ECF6\", \"radialaxis\": {\"gridcolor\": \"white\", \"linecolor\": \"white\", \"ticks\": \"\"}}, \"scene\": {\"xaxis\": {\"backgroundcolor\": \"#E5ECF6\", \"gridcolor\": \"white\", \"gridwidth\": 2, \"linecolor\": \"white\", \"showbackground\": true, \"ticks\": \"\", \"zerolinecolor\": \"white\"}, \"yaxis\": {\"backgroundcolor\": \"#E5ECF6\", \"gridcolor\": \"white\", \"gridwidth\": 2, \"linecolor\": \"white\", \"showbackground\": true, \"ticks\": \"\", \"zerolinecolor\": \"white\"}, \"zaxis\": {\"backgroundcolor\": \"#E5ECF6\", \"gridcolor\": \"white\", \"gridwidth\": 2, \"linecolor\": \"white\", \"showbackground\": true, \"ticks\": \"\", \"zerolinecolor\": \"white\"}}, \"shapedefaults\": {\"line\": {\"color\": \"#2a3f5f\"}}, \"ternary\": {\"aaxis\": {\"gridcolor\": \"white\", \"linecolor\": \"white\", \"ticks\": \"\"}, \"baxis\": {\"gridcolor\": \"white\", \"linecolor\": \"white\", \"ticks\": \"\"}, \"bgcolor\": \"#E5ECF6\", \"caxis\": {\"gridcolor\": \"white\", \"linecolor\": \"white\", \"ticks\": \"\"}}, \"title\": {\"x\": 0.05}, \"xaxis\": {\"automargin\": true, \"gridcolor\": \"white\", \"linecolor\": \"white\", \"ticks\": \"\", \"title\": {\"standoff\": 15}, \"zerolinecolor\": \"white\", \"zerolinewidth\": 2}, \"yaxis\": {\"automargin\": true, \"gridcolor\": \"white\", \"linecolor\": \"white\", \"ticks\": \"\", \"title\": {\"standoff\": 15}, \"zerolinecolor\": \"white\", \"zerolinewidth\": 2}}}, \"title\": {\"font\": {\"color\": \"#4D5663\"}, \"text\": \"Top 20 bigrams after removing stop words, present\"}, \"xaxis\": {\"gridcolor\": \"#E1E5ED\", \"linecolor\": \"black\", \"showgrid\": true, \"tickfont\": {\"color\": \"#4D5663\"}, \"title\": {\"font\": {\"color\": \"#4D5663\"}, \"text\": \"\"}, \"zerolinecolor\": \"#E1E5ED\"}, \"yaxis\": {\"gridcolor\": \"#E1E5ED\", \"linecolor\": \"black\", \"showgrid\": true, \"tickfont\": {\"color\": \"#4D5663\"}, \"title\": {\"font\": {\"color\": \"#4D5663\"}, \"text\": \"Count\"}, \"zerolinecolor\": \"#E1E5ED\"}},\n",
       "                        {\"showLink\": true, \"linkText\": \"Export to plot.ly\", \"plotlyServerURL\": \"https://plot.ly\", \"responsive\": true}\n",
       "                    ).then(function(){\n",
       "                            \n",
       "var gd = document.getElementById('71a5fd80-2eb0-4791-8d0b-2c5ea03c4dc7');\n",
       "var x = new MutationObserver(function (mutations, observer) {{\n",
       "        var display = window.getComputedStyle(gd).display;\n",
       "        if (!display || display === 'none') {{\n",
       "            console.log([gd, 'removed!']);\n",
       "            Plotly.purge(gd);\n",
       "            observer.disconnect();\n",
       "        }}\n",
       "}});\n",
       "\n",
       "// Listen for the removal of the full notebook cells\n",
       "var notebookContainer = gd.closest('#notebook-container');\n",
       "if (notebookContainer) {{\n",
       "    x.observe(notebookContainer, {childList: true});\n",
       "}}\n",
       "\n",
       "// Listen for the clearing of the current output cell\n",
       "var outputEl = gd.closest('.output');\n",
       "if (outputEl) {{\n",
       "    x.observe(outputEl, {childList: true});\n",
       "}}\n",
       "\n",
       "                        })\n",
       "                };\n",
       "                });\n",
       "            </script>\n",
       "        </div>"
      ]
     },
     "metadata": {},
     "output_type": "display_data"
    }
   ],
   "source": [
    "common_words3 = get_top_n_bigram(dpresent, 20)\n",
    "for word, freq in common_words3:\n",
    "    print(word, freq)\n",
    "bi3 = pd.DataFrame(common_words3, columns = ['text' , 'count'])\n",
    "bi3.groupby('text').sum()['count'].sort_values(ascending=False).iplot(\n",
    "kind='bar', yTitle='Count', linecolor='black', title='Top 20 bigrams after removing stop words, present')"
   ]
  },
  {
   "cell_type": "code",
   "execution_count": 16,
   "metadata": {},
   "outputs": [
    {
     "name": "stdout",
     "output_type": "stream",
     "text": [
      "nba petition make 55\n",
      "petition make kobe 55\n",
      "make kobe bryant 55\n",
      "kobe bryant new 55\n",
      "bryant new nba 55\n",
      "new nba logo 55\n",
      "nba logo petition 54\n",
      "logo petition chng 54\n",
      "rest peace kobe 18\n",
      "kobe bryant daughter 17\n",
      "kobe bryant death 16\n",
      "kobe bryant helicopter 11\n",
      "rip kobe gianna 9\n",
      "legend kobe bryant 8\n",
      "bryant helicopter crash 8\n",
      "rip kobe bryant 7\n",
      "lost their lives 7\n",
      "helicopter crash killed 6\n",
      "crash killed kobe 6\n",
      "killed kobe bryant 6\n"
     ]
    },
    {
     "data": {
      "application/vnd.plotly.v1+json": {
       "config": {
        "linkText": "Export to plot.ly",
        "plotlyServerURL": "https://plot.ly",
        "showLink": true
       },
       "data": [
        {
         "marker": {
          "color": "rgba(255, 153, 51, 0.6)",
          "line": {
           "color": "rgba(255, 153, 51, 1.0)",
           "width": 1
          }
         },
         "name": "count",
         "orientation": "v",
         "text": "",
         "type": "bar",
         "x": [
          "petition make kobe",
          "new nba logo",
          "nba petition make",
          "make kobe bryant",
          "bryant new nba",
          "kobe bryant new",
          "nba logo petition",
          "logo petition chng",
          "rest peace kobe",
          "kobe bryant daughter",
          "kobe bryant death",
          "kobe bryant helicopter",
          "rip kobe gianna",
          "legend kobe bryant",
          "bryant helicopter crash",
          "rip kobe bryant",
          "lost their lives",
          "killed kobe bryant",
          "helicopter crash killed",
          "crash killed kobe"
         ],
         "y": [
          55,
          55,
          55,
          55,
          55,
          55,
          54,
          54,
          18,
          17,
          16,
          11,
          9,
          8,
          8,
          7,
          7,
          6,
          6,
          6
         ]
        }
       ],
       "layout": {
        "legend": {
         "bgcolor": "#F5F6F9",
         "font": {
          "color": "#4D5663"
         }
        },
        "paper_bgcolor": "#F5F6F9",
        "plot_bgcolor": "#F5F6F9",
        "template": {
         "data": {
          "bar": [
           {
            "error_x": {
             "color": "#2a3f5f"
            },
            "error_y": {
             "color": "#2a3f5f"
            },
            "marker": {
             "line": {
              "color": "#E5ECF6",
              "width": 0.5
             }
            },
            "type": "bar"
           }
          ],
          "barpolar": [
           {
            "marker": {
             "line": {
              "color": "#E5ECF6",
              "width": 0.5
             }
            },
            "type": "barpolar"
           }
          ],
          "carpet": [
           {
            "aaxis": {
             "endlinecolor": "#2a3f5f",
             "gridcolor": "white",
             "linecolor": "white",
             "minorgridcolor": "white",
             "startlinecolor": "#2a3f5f"
            },
            "baxis": {
             "endlinecolor": "#2a3f5f",
             "gridcolor": "white",
             "linecolor": "white",
             "minorgridcolor": "white",
             "startlinecolor": "#2a3f5f"
            },
            "type": "carpet"
           }
          ],
          "choropleth": [
           {
            "colorbar": {
             "outlinewidth": 0,
             "ticks": ""
            },
            "type": "choropleth"
           }
          ],
          "contour": [
           {
            "colorbar": {
             "outlinewidth": 0,
             "ticks": ""
            },
            "colorscale": [
             [
              0,
              "#0d0887"
             ],
             [
              0.1111111111111111,
              "#46039f"
             ],
             [
              0.2222222222222222,
              "#7201a8"
             ],
             [
              0.3333333333333333,
              "#9c179e"
             ],
             [
              0.4444444444444444,
              "#bd3786"
             ],
             [
              0.5555555555555556,
              "#d8576b"
             ],
             [
              0.6666666666666666,
              "#ed7953"
             ],
             [
              0.7777777777777778,
              "#fb9f3a"
             ],
             [
              0.8888888888888888,
              "#fdca26"
             ],
             [
              1,
              "#f0f921"
             ]
            ],
            "type": "contour"
           }
          ],
          "contourcarpet": [
           {
            "colorbar": {
             "outlinewidth": 0,
             "ticks": ""
            },
            "type": "contourcarpet"
           }
          ],
          "heatmap": [
           {
            "colorbar": {
             "outlinewidth": 0,
             "ticks": ""
            },
            "colorscale": [
             [
              0,
              "#0d0887"
             ],
             [
              0.1111111111111111,
              "#46039f"
             ],
             [
              0.2222222222222222,
              "#7201a8"
             ],
             [
              0.3333333333333333,
              "#9c179e"
             ],
             [
              0.4444444444444444,
              "#bd3786"
             ],
             [
              0.5555555555555556,
              "#d8576b"
             ],
             [
              0.6666666666666666,
              "#ed7953"
             ],
             [
              0.7777777777777778,
              "#fb9f3a"
             ],
             [
              0.8888888888888888,
              "#fdca26"
             ],
             [
              1,
              "#f0f921"
             ]
            ],
            "type": "heatmap"
           }
          ],
          "heatmapgl": [
           {
            "colorbar": {
             "outlinewidth": 0,
             "ticks": ""
            },
            "colorscale": [
             [
              0,
              "#0d0887"
             ],
             [
              0.1111111111111111,
              "#46039f"
             ],
             [
              0.2222222222222222,
              "#7201a8"
             ],
             [
              0.3333333333333333,
              "#9c179e"
             ],
             [
              0.4444444444444444,
              "#bd3786"
             ],
             [
              0.5555555555555556,
              "#d8576b"
             ],
             [
              0.6666666666666666,
              "#ed7953"
             ],
             [
              0.7777777777777778,
              "#fb9f3a"
             ],
             [
              0.8888888888888888,
              "#fdca26"
             ],
             [
              1,
              "#f0f921"
             ]
            ],
            "type": "heatmapgl"
           }
          ],
          "histogram": [
           {
            "marker": {
             "colorbar": {
              "outlinewidth": 0,
              "ticks": ""
             }
            },
            "type": "histogram"
           }
          ],
          "histogram2d": [
           {
            "colorbar": {
             "outlinewidth": 0,
             "ticks": ""
            },
            "colorscale": [
             [
              0,
              "#0d0887"
             ],
             [
              0.1111111111111111,
              "#46039f"
             ],
             [
              0.2222222222222222,
              "#7201a8"
             ],
             [
              0.3333333333333333,
              "#9c179e"
             ],
             [
              0.4444444444444444,
              "#bd3786"
             ],
             [
              0.5555555555555556,
              "#d8576b"
             ],
             [
              0.6666666666666666,
              "#ed7953"
             ],
             [
              0.7777777777777778,
              "#fb9f3a"
             ],
             [
              0.8888888888888888,
              "#fdca26"
             ],
             [
              1,
              "#f0f921"
             ]
            ],
            "type": "histogram2d"
           }
          ],
          "histogram2dcontour": [
           {
            "colorbar": {
             "outlinewidth": 0,
             "ticks": ""
            },
            "colorscale": [
             [
              0,
              "#0d0887"
             ],
             [
              0.1111111111111111,
              "#46039f"
             ],
             [
              0.2222222222222222,
              "#7201a8"
             ],
             [
              0.3333333333333333,
              "#9c179e"
             ],
             [
              0.4444444444444444,
              "#bd3786"
             ],
             [
              0.5555555555555556,
              "#d8576b"
             ],
             [
              0.6666666666666666,
              "#ed7953"
             ],
             [
              0.7777777777777778,
              "#fb9f3a"
             ],
             [
              0.8888888888888888,
              "#fdca26"
             ],
             [
              1,
              "#f0f921"
             ]
            ],
            "type": "histogram2dcontour"
           }
          ],
          "mesh3d": [
           {
            "colorbar": {
             "outlinewidth": 0,
             "ticks": ""
            },
            "type": "mesh3d"
           }
          ],
          "parcoords": [
           {
            "line": {
             "colorbar": {
              "outlinewidth": 0,
              "ticks": ""
             }
            },
            "type": "parcoords"
           }
          ],
          "pie": [
           {
            "automargin": true,
            "type": "pie"
           }
          ],
          "scatter": [
           {
            "marker": {
             "colorbar": {
              "outlinewidth": 0,
              "ticks": ""
             }
            },
            "type": "scatter"
           }
          ],
          "scatter3d": [
           {
            "line": {
             "colorbar": {
              "outlinewidth": 0,
              "ticks": ""
             }
            },
            "marker": {
             "colorbar": {
              "outlinewidth": 0,
              "ticks": ""
             }
            },
            "type": "scatter3d"
           }
          ],
          "scattercarpet": [
           {
            "marker": {
             "colorbar": {
              "outlinewidth": 0,
              "ticks": ""
             }
            },
            "type": "scattercarpet"
           }
          ],
          "scattergeo": [
           {
            "marker": {
             "colorbar": {
              "outlinewidth": 0,
              "ticks": ""
             }
            },
            "type": "scattergeo"
           }
          ],
          "scattergl": [
           {
            "marker": {
             "colorbar": {
              "outlinewidth": 0,
              "ticks": ""
             }
            },
            "type": "scattergl"
           }
          ],
          "scattermapbox": [
           {
            "marker": {
             "colorbar": {
              "outlinewidth": 0,
              "ticks": ""
             }
            },
            "type": "scattermapbox"
           }
          ],
          "scatterpolar": [
           {
            "marker": {
             "colorbar": {
              "outlinewidth": 0,
              "ticks": ""
             }
            },
            "type": "scatterpolar"
           }
          ],
          "scatterpolargl": [
           {
            "marker": {
             "colorbar": {
              "outlinewidth": 0,
              "ticks": ""
             }
            },
            "type": "scatterpolargl"
           }
          ],
          "scatterternary": [
           {
            "marker": {
             "colorbar": {
              "outlinewidth": 0,
              "ticks": ""
             }
            },
            "type": "scatterternary"
           }
          ],
          "surface": [
           {
            "colorbar": {
             "outlinewidth": 0,
             "ticks": ""
            },
            "colorscale": [
             [
              0,
              "#0d0887"
             ],
             [
              0.1111111111111111,
              "#46039f"
             ],
             [
              0.2222222222222222,
              "#7201a8"
             ],
             [
              0.3333333333333333,
              "#9c179e"
             ],
             [
              0.4444444444444444,
              "#bd3786"
             ],
             [
              0.5555555555555556,
              "#d8576b"
             ],
             [
              0.6666666666666666,
              "#ed7953"
             ],
             [
              0.7777777777777778,
              "#fb9f3a"
             ],
             [
              0.8888888888888888,
              "#fdca26"
             ],
             [
              1,
              "#f0f921"
             ]
            ],
            "type": "surface"
           }
          ],
          "table": [
           {
            "cells": {
             "fill": {
              "color": "#EBF0F8"
             },
             "line": {
              "color": "white"
             }
            },
            "header": {
             "fill": {
              "color": "#C8D4E3"
             },
             "line": {
              "color": "white"
             }
            },
            "type": "table"
           }
          ]
         },
         "layout": {
          "annotationdefaults": {
           "arrowcolor": "#2a3f5f",
           "arrowhead": 0,
           "arrowwidth": 1
          },
          "coloraxis": {
           "colorbar": {
            "outlinewidth": 0,
            "ticks": ""
           }
          },
          "colorscale": {
           "diverging": [
            [
             0,
             "#8e0152"
            ],
            [
             0.1,
             "#c51b7d"
            ],
            [
             0.2,
             "#de77ae"
            ],
            [
             0.3,
             "#f1b6da"
            ],
            [
             0.4,
             "#fde0ef"
            ],
            [
             0.5,
             "#f7f7f7"
            ],
            [
             0.6,
             "#e6f5d0"
            ],
            [
             0.7,
             "#b8e186"
            ],
            [
             0.8,
             "#7fbc41"
            ],
            [
             0.9,
             "#4d9221"
            ],
            [
             1,
             "#276419"
            ]
           ],
           "sequential": [
            [
             0,
             "#0d0887"
            ],
            [
             0.1111111111111111,
             "#46039f"
            ],
            [
             0.2222222222222222,
             "#7201a8"
            ],
            [
             0.3333333333333333,
             "#9c179e"
            ],
            [
             0.4444444444444444,
             "#bd3786"
            ],
            [
             0.5555555555555556,
             "#d8576b"
            ],
            [
             0.6666666666666666,
             "#ed7953"
            ],
            [
             0.7777777777777778,
             "#fb9f3a"
            ],
            [
             0.8888888888888888,
             "#fdca26"
            ],
            [
             1,
             "#f0f921"
            ]
           ],
           "sequentialminus": [
            [
             0,
             "#0d0887"
            ],
            [
             0.1111111111111111,
             "#46039f"
            ],
            [
             0.2222222222222222,
             "#7201a8"
            ],
            [
             0.3333333333333333,
             "#9c179e"
            ],
            [
             0.4444444444444444,
             "#bd3786"
            ],
            [
             0.5555555555555556,
             "#d8576b"
            ],
            [
             0.6666666666666666,
             "#ed7953"
            ],
            [
             0.7777777777777778,
             "#fb9f3a"
            ],
            [
             0.8888888888888888,
             "#fdca26"
            ],
            [
             1,
             "#f0f921"
            ]
           ]
          },
          "colorway": [
           "#636efa",
           "#EF553B",
           "#00cc96",
           "#ab63fa",
           "#FFA15A",
           "#19d3f3",
           "#FF6692",
           "#B6E880",
           "#FF97FF",
           "#FECB52"
          ],
          "font": {
           "color": "#2a3f5f"
          },
          "geo": {
           "bgcolor": "white",
           "lakecolor": "white",
           "landcolor": "#E5ECF6",
           "showlakes": true,
           "showland": true,
           "subunitcolor": "white"
          },
          "hoverlabel": {
           "align": "left"
          },
          "hovermode": "closest",
          "mapbox": {
           "style": "light"
          },
          "paper_bgcolor": "white",
          "plot_bgcolor": "#E5ECF6",
          "polar": {
           "angularaxis": {
            "gridcolor": "white",
            "linecolor": "white",
            "ticks": ""
           },
           "bgcolor": "#E5ECF6",
           "radialaxis": {
            "gridcolor": "white",
            "linecolor": "white",
            "ticks": ""
           }
          },
          "scene": {
           "xaxis": {
            "backgroundcolor": "#E5ECF6",
            "gridcolor": "white",
            "gridwidth": 2,
            "linecolor": "white",
            "showbackground": true,
            "ticks": "",
            "zerolinecolor": "white"
           },
           "yaxis": {
            "backgroundcolor": "#E5ECF6",
            "gridcolor": "white",
            "gridwidth": 2,
            "linecolor": "white",
            "showbackground": true,
            "ticks": "",
            "zerolinecolor": "white"
           },
           "zaxis": {
            "backgroundcolor": "#E5ECF6",
            "gridcolor": "white",
            "gridwidth": 2,
            "linecolor": "white",
            "showbackground": true,
            "ticks": "",
            "zerolinecolor": "white"
           }
          },
          "shapedefaults": {
           "line": {
            "color": "#2a3f5f"
           }
          },
          "ternary": {
           "aaxis": {
            "gridcolor": "white",
            "linecolor": "white",
            "ticks": ""
           },
           "baxis": {
            "gridcolor": "white",
            "linecolor": "white",
            "ticks": ""
           },
           "bgcolor": "#E5ECF6",
           "caxis": {
            "gridcolor": "white",
            "linecolor": "white",
            "ticks": ""
           }
          },
          "title": {
           "x": 0.05
          },
          "xaxis": {
           "automargin": true,
           "gridcolor": "white",
           "linecolor": "white",
           "ticks": "",
           "title": {
            "standoff": 15
           },
           "zerolinecolor": "white",
           "zerolinewidth": 2
          },
          "yaxis": {
           "automargin": true,
           "gridcolor": "white",
           "linecolor": "white",
           "ticks": "",
           "title": {
            "standoff": 15
           },
           "zerolinecolor": "white",
           "zerolinewidth": 2
          }
         }
        },
        "title": {
         "font": {
          "color": "#4D5663"
         },
         "text": "Top 20 trigrams after removing stop words"
        },
        "xaxis": {
         "gridcolor": "#E1E5ED",
         "linecolor": "black",
         "showgrid": true,
         "tickfont": {
          "color": "#4D5663"
         },
         "title": {
          "font": {
           "color": "#4D5663"
          },
          "text": ""
         },
         "zerolinecolor": "#E1E5ED"
        },
        "yaxis": {
         "gridcolor": "#E1E5ED",
         "linecolor": "black",
         "showgrid": true,
         "tickfont": {
          "color": "#4D5663"
         },
         "title": {
          "font": {
           "color": "#4D5663"
          },
          "text": "Count"
         },
         "zerolinecolor": "#E1E5ED"
        }
       }
      },
      "text/html": [
       "<div>\n",
       "        \n",
       "        \n",
       "            <div id=\"9ff2b360-9d1a-43d7-9fcf-9dfa33cd82a0\" class=\"plotly-graph-div\" style=\"height:525px; width:100%;\"></div>\n",
       "            <script type=\"text/javascript\">\n",
       "                require([\"plotly\"], function(Plotly) {\n",
       "                    window.PLOTLYENV=window.PLOTLYENV || {};\n",
       "                    window.PLOTLYENV.BASE_URL='https://plot.ly';\n",
       "                    \n",
       "                if (document.getElementById(\"9ff2b360-9d1a-43d7-9fcf-9dfa33cd82a0\")) {\n",
       "                    Plotly.newPlot(\n",
       "                        '9ff2b360-9d1a-43d7-9fcf-9dfa33cd82a0',\n",
       "                        [{\"marker\": {\"color\": \"rgba(255, 153, 51, 0.6)\", \"line\": {\"color\": \"rgba(255, 153, 51, 1.0)\", \"width\": 1}}, \"name\": \"count\", \"orientation\": \"v\", \"text\": \"\", \"type\": \"bar\", \"x\": [\"petition make kobe\", \"new nba logo\", \"nba petition make\", \"make kobe bryant\", \"bryant new nba\", \"kobe bryant new\", \"nba logo petition\", \"logo petition chng\", \"rest peace kobe\", \"kobe bryant daughter\", \"kobe bryant death\", \"kobe bryant helicopter\", \"rip kobe gianna\", \"legend kobe bryant\", \"bryant helicopter crash\", \"rip kobe bryant\", \"lost their lives\", \"killed kobe bryant\", \"helicopter crash killed\", \"crash killed kobe\"], \"y\": [55, 55, 55, 55, 55, 55, 54, 54, 18, 17, 16, 11, 9, 8, 8, 7, 7, 6, 6, 6]}],\n",
       "                        {\"legend\": {\"bgcolor\": \"#F5F6F9\", \"font\": {\"color\": \"#4D5663\"}}, \"paper_bgcolor\": \"#F5F6F9\", \"plot_bgcolor\": \"#F5F6F9\", \"template\": {\"data\": {\"bar\": [{\"error_x\": {\"color\": \"#2a3f5f\"}, \"error_y\": {\"color\": \"#2a3f5f\"}, \"marker\": {\"line\": {\"color\": \"#E5ECF6\", \"width\": 0.5}}, \"type\": \"bar\"}], \"barpolar\": [{\"marker\": {\"line\": {\"color\": \"#E5ECF6\", \"width\": 0.5}}, \"type\": \"barpolar\"}], \"carpet\": [{\"aaxis\": {\"endlinecolor\": \"#2a3f5f\", \"gridcolor\": \"white\", \"linecolor\": \"white\", \"minorgridcolor\": \"white\", \"startlinecolor\": \"#2a3f5f\"}, \"baxis\": {\"endlinecolor\": \"#2a3f5f\", \"gridcolor\": \"white\", \"linecolor\": \"white\", \"minorgridcolor\": \"white\", \"startlinecolor\": \"#2a3f5f\"}, \"type\": \"carpet\"}], \"choropleth\": [{\"colorbar\": {\"outlinewidth\": 0, \"ticks\": \"\"}, \"type\": \"choropleth\"}], \"contour\": [{\"colorbar\": {\"outlinewidth\": 0, \"ticks\": \"\"}, \"colorscale\": [[0.0, \"#0d0887\"], [0.1111111111111111, \"#46039f\"], [0.2222222222222222, \"#7201a8\"], [0.3333333333333333, \"#9c179e\"], [0.4444444444444444, \"#bd3786\"], [0.5555555555555556, \"#d8576b\"], [0.6666666666666666, \"#ed7953\"], [0.7777777777777778, \"#fb9f3a\"], [0.8888888888888888, \"#fdca26\"], [1.0, \"#f0f921\"]], \"type\": \"contour\"}], \"contourcarpet\": [{\"colorbar\": {\"outlinewidth\": 0, \"ticks\": \"\"}, \"type\": \"contourcarpet\"}], \"heatmap\": [{\"colorbar\": {\"outlinewidth\": 0, \"ticks\": \"\"}, \"colorscale\": [[0.0, \"#0d0887\"], [0.1111111111111111, \"#46039f\"], [0.2222222222222222, \"#7201a8\"], [0.3333333333333333, \"#9c179e\"], [0.4444444444444444, \"#bd3786\"], [0.5555555555555556, \"#d8576b\"], [0.6666666666666666, \"#ed7953\"], [0.7777777777777778, \"#fb9f3a\"], [0.8888888888888888, \"#fdca26\"], [1.0, \"#f0f921\"]], \"type\": \"heatmap\"}], \"heatmapgl\": [{\"colorbar\": {\"outlinewidth\": 0, \"ticks\": \"\"}, \"colorscale\": [[0.0, \"#0d0887\"], [0.1111111111111111, \"#46039f\"], [0.2222222222222222, \"#7201a8\"], [0.3333333333333333, \"#9c179e\"], [0.4444444444444444, \"#bd3786\"], [0.5555555555555556, \"#d8576b\"], [0.6666666666666666, \"#ed7953\"], [0.7777777777777778, \"#fb9f3a\"], [0.8888888888888888, \"#fdca26\"], [1.0, \"#f0f921\"]], \"type\": \"heatmapgl\"}], \"histogram\": [{\"marker\": {\"colorbar\": {\"outlinewidth\": 0, \"ticks\": \"\"}}, \"type\": \"histogram\"}], \"histogram2d\": [{\"colorbar\": {\"outlinewidth\": 0, \"ticks\": \"\"}, \"colorscale\": [[0.0, \"#0d0887\"], [0.1111111111111111, \"#46039f\"], [0.2222222222222222, \"#7201a8\"], [0.3333333333333333, \"#9c179e\"], [0.4444444444444444, \"#bd3786\"], [0.5555555555555556, \"#d8576b\"], [0.6666666666666666, \"#ed7953\"], [0.7777777777777778, \"#fb9f3a\"], [0.8888888888888888, \"#fdca26\"], [1.0, \"#f0f921\"]], \"type\": \"histogram2d\"}], \"histogram2dcontour\": [{\"colorbar\": {\"outlinewidth\": 0, \"ticks\": \"\"}, \"colorscale\": [[0.0, \"#0d0887\"], [0.1111111111111111, \"#46039f\"], [0.2222222222222222, \"#7201a8\"], [0.3333333333333333, \"#9c179e\"], [0.4444444444444444, \"#bd3786\"], [0.5555555555555556, \"#d8576b\"], [0.6666666666666666, \"#ed7953\"], [0.7777777777777778, \"#fb9f3a\"], [0.8888888888888888, \"#fdca26\"], [1.0, \"#f0f921\"]], \"type\": \"histogram2dcontour\"}], \"mesh3d\": [{\"colorbar\": {\"outlinewidth\": 0, \"ticks\": \"\"}, \"type\": \"mesh3d\"}], \"parcoords\": [{\"line\": {\"colorbar\": {\"outlinewidth\": 0, \"ticks\": \"\"}}, \"type\": \"parcoords\"}], \"pie\": [{\"automargin\": true, \"type\": \"pie\"}], \"scatter\": [{\"marker\": {\"colorbar\": {\"outlinewidth\": 0, \"ticks\": \"\"}}, \"type\": \"scatter\"}], \"scatter3d\": [{\"line\": {\"colorbar\": {\"outlinewidth\": 0, \"ticks\": \"\"}}, \"marker\": {\"colorbar\": {\"outlinewidth\": 0, \"ticks\": \"\"}}, \"type\": \"scatter3d\"}], \"scattercarpet\": [{\"marker\": {\"colorbar\": {\"outlinewidth\": 0, \"ticks\": \"\"}}, \"type\": \"scattercarpet\"}], \"scattergeo\": [{\"marker\": {\"colorbar\": {\"outlinewidth\": 0, \"ticks\": \"\"}}, \"type\": \"scattergeo\"}], \"scattergl\": [{\"marker\": {\"colorbar\": {\"outlinewidth\": 0, \"ticks\": \"\"}}, \"type\": \"scattergl\"}], \"scattermapbox\": [{\"marker\": {\"colorbar\": {\"outlinewidth\": 0, \"ticks\": \"\"}}, \"type\": \"scattermapbox\"}], \"scatterpolar\": [{\"marker\": {\"colorbar\": {\"outlinewidth\": 0, \"ticks\": \"\"}}, \"type\": \"scatterpolar\"}], \"scatterpolargl\": [{\"marker\": {\"colorbar\": {\"outlinewidth\": 0, \"ticks\": \"\"}}, \"type\": \"scatterpolargl\"}], \"scatterternary\": [{\"marker\": {\"colorbar\": {\"outlinewidth\": 0, \"ticks\": \"\"}}, \"type\": \"scatterternary\"}], \"surface\": [{\"colorbar\": {\"outlinewidth\": 0, \"ticks\": \"\"}, \"colorscale\": [[0.0, \"#0d0887\"], [0.1111111111111111, \"#46039f\"], [0.2222222222222222, \"#7201a8\"], [0.3333333333333333, \"#9c179e\"], [0.4444444444444444, \"#bd3786\"], [0.5555555555555556, \"#d8576b\"], [0.6666666666666666, \"#ed7953\"], [0.7777777777777778, \"#fb9f3a\"], [0.8888888888888888, \"#fdca26\"], [1.0, \"#f0f921\"]], \"type\": \"surface\"}], \"table\": [{\"cells\": {\"fill\": {\"color\": \"#EBF0F8\"}, \"line\": {\"color\": \"white\"}}, \"header\": {\"fill\": {\"color\": \"#C8D4E3\"}, \"line\": {\"color\": \"white\"}}, \"type\": \"table\"}]}, \"layout\": {\"annotationdefaults\": {\"arrowcolor\": \"#2a3f5f\", \"arrowhead\": 0, \"arrowwidth\": 1}, \"coloraxis\": {\"colorbar\": {\"outlinewidth\": 0, \"ticks\": \"\"}}, \"colorscale\": {\"diverging\": [[0, \"#8e0152\"], [0.1, \"#c51b7d\"], [0.2, \"#de77ae\"], [0.3, \"#f1b6da\"], [0.4, \"#fde0ef\"], [0.5, \"#f7f7f7\"], [0.6, \"#e6f5d0\"], [0.7, \"#b8e186\"], [0.8, \"#7fbc41\"], [0.9, \"#4d9221\"], [1, \"#276419\"]], \"sequential\": [[0.0, \"#0d0887\"], [0.1111111111111111, \"#46039f\"], [0.2222222222222222, \"#7201a8\"], [0.3333333333333333, \"#9c179e\"], [0.4444444444444444, \"#bd3786\"], [0.5555555555555556, \"#d8576b\"], [0.6666666666666666, \"#ed7953\"], [0.7777777777777778, \"#fb9f3a\"], [0.8888888888888888, \"#fdca26\"], [1.0, \"#f0f921\"]], \"sequentialminus\": [[0.0, \"#0d0887\"], [0.1111111111111111, \"#46039f\"], [0.2222222222222222, \"#7201a8\"], [0.3333333333333333, \"#9c179e\"], [0.4444444444444444, \"#bd3786\"], [0.5555555555555556, \"#d8576b\"], [0.6666666666666666, \"#ed7953\"], [0.7777777777777778, \"#fb9f3a\"], [0.8888888888888888, \"#fdca26\"], [1.0, \"#f0f921\"]]}, \"colorway\": [\"#636efa\", \"#EF553B\", \"#00cc96\", \"#ab63fa\", \"#FFA15A\", \"#19d3f3\", \"#FF6692\", \"#B6E880\", \"#FF97FF\", \"#FECB52\"], \"font\": {\"color\": \"#2a3f5f\"}, \"geo\": {\"bgcolor\": \"white\", \"lakecolor\": \"white\", \"landcolor\": \"#E5ECF6\", \"showlakes\": true, \"showland\": true, \"subunitcolor\": \"white\"}, \"hoverlabel\": {\"align\": \"left\"}, \"hovermode\": \"closest\", \"mapbox\": {\"style\": \"light\"}, \"paper_bgcolor\": \"white\", \"plot_bgcolor\": \"#E5ECF6\", \"polar\": {\"angularaxis\": {\"gridcolor\": \"white\", \"linecolor\": \"white\", \"ticks\": \"\"}, \"bgcolor\": \"#E5ECF6\", \"radialaxis\": {\"gridcolor\": \"white\", \"linecolor\": \"white\", \"ticks\": \"\"}}, \"scene\": {\"xaxis\": {\"backgroundcolor\": \"#E5ECF6\", \"gridcolor\": \"white\", \"gridwidth\": 2, \"linecolor\": \"white\", \"showbackground\": true, \"ticks\": \"\", \"zerolinecolor\": \"white\"}, \"yaxis\": {\"backgroundcolor\": \"#E5ECF6\", \"gridcolor\": \"white\", \"gridwidth\": 2, \"linecolor\": \"white\", \"showbackground\": true, \"ticks\": \"\", \"zerolinecolor\": \"white\"}, \"zaxis\": {\"backgroundcolor\": \"#E5ECF6\", \"gridcolor\": \"white\", \"gridwidth\": 2, \"linecolor\": \"white\", \"showbackground\": true, \"ticks\": \"\", \"zerolinecolor\": \"white\"}}, \"shapedefaults\": {\"line\": {\"color\": \"#2a3f5f\"}}, \"ternary\": {\"aaxis\": {\"gridcolor\": \"white\", \"linecolor\": \"white\", \"ticks\": \"\"}, \"baxis\": {\"gridcolor\": \"white\", \"linecolor\": \"white\", \"ticks\": \"\"}, \"bgcolor\": \"#E5ECF6\", \"caxis\": {\"gridcolor\": \"white\", \"linecolor\": \"white\", \"ticks\": \"\"}}, \"title\": {\"x\": 0.05}, \"xaxis\": {\"automargin\": true, \"gridcolor\": \"white\", \"linecolor\": \"white\", \"ticks\": \"\", \"title\": {\"standoff\": 15}, \"zerolinecolor\": \"white\", \"zerolinewidth\": 2}, \"yaxis\": {\"automargin\": true, \"gridcolor\": \"white\", \"linecolor\": \"white\", \"ticks\": \"\", \"title\": {\"standoff\": 15}, \"zerolinecolor\": \"white\", \"zerolinewidth\": 2}}}, \"title\": {\"font\": {\"color\": \"#4D5663\"}, \"text\": \"Top 20 trigrams after removing stop words\"}, \"xaxis\": {\"gridcolor\": \"#E1E5ED\", \"linecolor\": \"black\", \"showgrid\": true, \"tickfont\": {\"color\": \"#4D5663\"}, \"title\": {\"font\": {\"color\": \"#4D5663\"}, \"text\": \"\"}, \"zerolinecolor\": \"#E1E5ED\"}, \"yaxis\": {\"gridcolor\": \"#E1E5ED\", \"linecolor\": \"black\", \"showgrid\": true, \"tickfont\": {\"color\": \"#4D5663\"}, \"title\": {\"font\": {\"color\": \"#4D5663\"}, \"text\": \"Count\"}, \"zerolinecolor\": \"#E1E5ED\"}},\n",
       "                        {\"showLink\": true, \"linkText\": \"Export to plot.ly\", \"plotlyServerURL\": \"https://plot.ly\", \"responsive\": true}\n",
       "                    ).then(function(){\n",
       "                            \n",
       "var gd = document.getElementById('9ff2b360-9d1a-43d7-9fcf-9dfa33cd82a0');\n",
       "var x = new MutationObserver(function (mutations, observer) {{\n",
       "        var display = window.getComputedStyle(gd).display;\n",
       "        if (!display || display === 'none') {{\n",
       "            console.log([gd, 'removed!']);\n",
       "            Plotly.purge(gd);\n",
       "            observer.disconnect();\n",
       "        }}\n",
       "}});\n",
       "\n",
       "// Listen for the removal of the full notebook cells\n",
       "var notebookContainer = gd.closest('#notebook-container');\n",
       "if (notebookContainer) {{\n",
       "    x.observe(notebookContainer, {childList: true});\n",
       "}}\n",
       "\n",
       "// Listen for the clearing of the current output cell\n",
       "var outputEl = gd.closest('.output');\n",
       "if (outputEl) {{\n",
       "    x.observe(outputEl, {childList: true});\n",
       "}}\n",
       "\n",
       "                        })\n",
       "                };\n",
       "                });\n",
       "            </script>\n",
       "        </div>"
      ]
     },
     "metadata": {},
     "output_type": "display_data"
    }
   ],
   "source": [
    "def get_top_n_trigram(corpus, n=None): #most common 3 word phrases\n",
    "    vec = CountVectorizer(ngram_range=(3, 3), stop_words=stop_words).fit(corpus)\n",
    "    bag_of_words = vec.transform(corpus)\n",
    "    sum_words = bag_of_words.sum(axis=0) \n",
    "    words_freq = [(word, sum_words[0, idx]) for word, idx in vec.vocabulary_.items()]\n",
    "    words_freq =sorted(words_freq, key = lambda x: x[1], reverse=True)\n",
    "    return words_freq[:n]\n",
    "common_words = get_top_n_trigram(d, 20)\n",
    "for word, freq in common_words:\n",
    "    print(word, freq)\n",
    "df6 = pd.DataFrame(common_words, columns = ['text' , 'count'])\n",
    "df6.groupby('text').sum()['count'].sort_values(ascending=False).iplot(\n",
    "kind='bar', yTitle='Count', linecolor='black', title='Top 20 trigrams after removing stop words')\n"
   ]
  },
  {
   "cell_type": "code",
   "execution_count": 17,
   "metadata": {},
   "outputs": [
    {
     "name": "stdout",
     "output_type": "stream",
     "text": [
      "california high school 18\n",
      "high school basketball 18\n",
      "school basketball live 18\n",
      "basketball live stream 18\n",
      "nba petition make 16\n",
      "petition make kobe 16\n",
      "make kobe bryant 16\n",
      "kobe bryant new 16\n",
      "bryant new nba 16\n",
      "new nba logo 16\n",
      "nba logo petition 16\n",
      "logo petition chng 16\n",
      "kobe bryants death 9\n",
      "kobe bryant death 8\n",
      "national basketball association 8\n",
      "basketball association news 8\n",
      "time fox cancel 7\n",
      "fox cancel tmz 7\n",
      "cancel tmz after 7\n",
      "honor kobe bryant 6\n"
     ]
    },
    {
     "data": {
      "application/vnd.plotly.v1+json": {
       "config": {
        "linkText": "Export to plot.ly",
        "plotlyServerURL": "https://plot.ly",
        "showLink": true
       },
       "data": [
        {
         "marker": {
          "color": "rgba(255, 153, 51, 0.6)",
          "line": {
           "color": "rgba(255, 153, 51, 1.0)",
           "width": 1
          }
         },
         "name": "count",
         "orientation": "v",
         "text": "",
         "type": "bar",
         "x": [
          "high school basketball",
          "basketball live stream",
          "school basketball live",
          "california high school",
          "kobe bryant new",
          "petition make kobe",
          "new nba logo",
          "nba petition make",
          "nba logo petition",
          "make kobe bryant",
          "logo petition chng",
          "bryant new nba",
          "kobe bryants death",
          "basketball association news",
          "kobe bryant death",
          "national basketball association",
          "fox cancel tmz",
          "cancel tmz after",
          "time fox cancel",
          "honor kobe bryant"
         ],
         "y": [
          18,
          18,
          18,
          18,
          16,
          16,
          16,
          16,
          16,
          16,
          16,
          16,
          9,
          8,
          8,
          8,
          7,
          7,
          7,
          6
         ]
        }
       ],
       "layout": {
        "legend": {
         "bgcolor": "#F5F6F9",
         "font": {
          "color": "#4D5663"
         }
        },
        "paper_bgcolor": "#F5F6F9",
        "plot_bgcolor": "#F5F6F9",
        "template": {
         "data": {
          "bar": [
           {
            "error_x": {
             "color": "#2a3f5f"
            },
            "error_y": {
             "color": "#2a3f5f"
            },
            "marker": {
             "line": {
              "color": "#E5ECF6",
              "width": 0.5
             }
            },
            "type": "bar"
           }
          ],
          "barpolar": [
           {
            "marker": {
             "line": {
              "color": "#E5ECF6",
              "width": 0.5
             }
            },
            "type": "barpolar"
           }
          ],
          "carpet": [
           {
            "aaxis": {
             "endlinecolor": "#2a3f5f",
             "gridcolor": "white",
             "linecolor": "white",
             "minorgridcolor": "white",
             "startlinecolor": "#2a3f5f"
            },
            "baxis": {
             "endlinecolor": "#2a3f5f",
             "gridcolor": "white",
             "linecolor": "white",
             "minorgridcolor": "white",
             "startlinecolor": "#2a3f5f"
            },
            "type": "carpet"
           }
          ],
          "choropleth": [
           {
            "colorbar": {
             "outlinewidth": 0,
             "ticks": ""
            },
            "type": "choropleth"
           }
          ],
          "contour": [
           {
            "colorbar": {
             "outlinewidth": 0,
             "ticks": ""
            },
            "colorscale": [
             [
              0,
              "#0d0887"
             ],
             [
              0.1111111111111111,
              "#46039f"
             ],
             [
              0.2222222222222222,
              "#7201a8"
             ],
             [
              0.3333333333333333,
              "#9c179e"
             ],
             [
              0.4444444444444444,
              "#bd3786"
             ],
             [
              0.5555555555555556,
              "#d8576b"
             ],
             [
              0.6666666666666666,
              "#ed7953"
             ],
             [
              0.7777777777777778,
              "#fb9f3a"
             ],
             [
              0.8888888888888888,
              "#fdca26"
             ],
             [
              1,
              "#f0f921"
             ]
            ],
            "type": "contour"
           }
          ],
          "contourcarpet": [
           {
            "colorbar": {
             "outlinewidth": 0,
             "ticks": ""
            },
            "type": "contourcarpet"
           }
          ],
          "heatmap": [
           {
            "colorbar": {
             "outlinewidth": 0,
             "ticks": ""
            },
            "colorscale": [
             [
              0,
              "#0d0887"
             ],
             [
              0.1111111111111111,
              "#46039f"
             ],
             [
              0.2222222222222222,
              "#7201a8"
             ],
             [
              0.3333333333333333,
              "#9c179e"
             ],
             [
              0.4444444444444444,
              "#bd3786"
             ],
             [
              0.5555555555555556,
              "#d8576b"
             ],
             [
              0.6666666666666666,
              "#ed7953"
             ],
             [
              0.7777777777777778,
              "#fb9f3a"
             ],
             [
              0.8888888888888888,
              "#fdca26"
             ],
             [
              1,
              "#f0f921"
             ]
            ],
            "type": "heatmap"
           }
          ],
          "heatmapgl": [
           {
            "colorbar": {
             "outlinewidth": 0,
             "ticks": ""
            },
            "colorscale": [
             [
              0,
              "#0d0887"
             ],
             [
              0.1111111111111111,
              "#46039f"
             ],
             [
              0.2222222222222222,
              "#7201a8"
             ],
             [
              0.3333333333333333,
              "#9c179e"
             ],
             [
              0.4444444444444444,
              "#bd3786"
             ],
             [
              0.5555555555555556,
              "#d8576b"
             ],
             [
              0.6666666666666666,
              "#ed7953"
             ],
             [
              0.7777777777777778,
              "#fb9f3a"
             ],
             [
              0.8888888888888888,
              "#fdca26"
             ],
             [
              1,
              "#f0f921"
             ]
            ],
            "type": "heatmapgl"
           }
          ],
          "histogram": [
           {
            "marker": {
             "colorbar": {
              "outlinewidth": 0,
              "ticks": ""
             }
            },
            "type": "histogram"
           }
          ],
          "histogram2d": [
           {
            "colorbar": {
             "outlinewidth": 0,
             "ticks": ""
            },
            "colorscale": [
             [
              0,
              "#0d0887"
             ],
             [
              0.1111111111111111,
              "#46039f"
             ],
             [
              0.2222222222222222,
              "#7201a8"
             ],
             [
              0.3333333333333333,
              "#9c179e"
             ],
             [
              0.4444444444444444,
              "#bd3786"
             ],
             [
              0.5555555555555556,
              "#d8576b"
             ],
             [
              0.6666666666666666,
              "#ed7953"
             ],
             [
              0.7777777777777778,
              "#fb9f3a"
             ],
             [
              0.8888888888888888,
              "#fdca26"
             ],
             [
              1,
              "#f0f921"
             ]
            ],
            "type": "histogram2d"
           }
          ],
          "histogram2dcontour": [
           {
            "colorbar": {
             "outlinewidth": 0,
             "ticks": ""
            },
            "colorscale": [
             [
              0,
              "#0d0887"
             ],
             [
              0.1111111111111111,
              "#46039f"
             ],
             [
              0.2222222222222222,
              "#7201a8"
             ],
             [
              0.3333333333333333,
              "#9c179e"
             ],
             [
              0.4444444444444444,
              "#bd3786"
             ],
             [
              0.5555555555555556,
              "#d8576b"
             ],
             [
              0.6666666666666666,
              "#ed7953"
             ],
             [
              0.7777777777777778,
              "#fb9f3a"
             ],
             [
              0.8888888888888888,
              "#fdca26"
             ],
             [
              1,
              "#f0f921"
             ]
            ],
            "type": "histogram2dcontour"
           }
          ],
          "mesh3d": [
           {
            "colorbar": {
             "outlinewidth": 0,
             "ticks": ""
            },
            "type": "mesh3d"
           }
          ],
          "parcoords": [
           {
            "line": {
             "colorbar": {
              "outlinewidth": 0,
              "ticks": ""
             }
            },
            "type": "parcoords"
           }
          ],
          "pie": [
           {
            "automargin": true,
            "type": "pie"
           }
          ],
          "scatter": [
           {
            "marker": {
             "colorbar": {
              "outlinewidth": 0,
              "ticks": ""
             }
            },
            "type": "scatter"
           }
          ],
          "scatter3d": [
           {
            "line": {
             "colorbar": {
              "outlinewidth": 0,
              "ticks": ""
             }
            },
            "marker": {
             "colorbar": {
              "outlinewidth": 0,
              "ticks": ""
             }
            },
            "type": "scatter3d"
           }
          ],
          "scattercarpet": [
           {
            "marker": {
             "colorbar": {
              "outlinewidth": 0,
              "ticks": ""
             }
            },
            "type": "scattercarpet"
           }
          ],
          "scattergeo": [
           {
            "marker": {
             "colorbar": {
              "outlinewidth": 0,
              "ticks": ""
             }
            },
            "type": "scattergeo"
           }
          ],
          "scattergl": [
           {
            "marker": {
             "colorbar": {
              "outlinewidth": 0,
              "ticks": ""
             }
            },
            "type": "scattergl"
           }
          ],
          "scattermapbox": [
           {
            "marker": {
             "colorbar": {
              "outlinewidth": 0,
              "ticks": ""
             }
            },
            "type": "scattermapbox"
           }
          ],
          "scatterpolar": [
           {
            "marker": {
             "colorbar": {
              "outlinewidth": 0,
              "ticks": ""
             }
            },
            "type": "scatterpolar"
           }
          ],
          "scatterpolargl": [
           {
            "marker": {
             "colorbar": {
              "outlinewidth": 0,
              "ticks": ""
             }
            },
            "type": "scatterpolargl"
           }
          ],
          "scatterternary": [
           {
            "marker": {
             "colorbar": {
              "outlinewidth": 0,
              "ticks": ""
             }
            },
            "type": "scatterternary"
           }
          ],
          "surface": [
           {
            "colorbar": {
             "outlinewidth": 0,
             "ticks": ""
            },
            "colorscale": [
             [
              0,
              "#0d0887"
             ],
             [
              0.1111111111111111,
              "#46039f"
             ],
             [
              0.2222222222222222,
              "#7201a8"
             ],
             [
              0.3333333333333333,
              "#9c179e"
             ],
             [
              0.4444444444444444,
              "#bd3786"
             ],
             [
              0.5555555555555556,
              "#d8576b"
             ],
             [
              0.6666666666666666,
              "#ed7953"
             ],
             [
              0.7777777777777778,
              "#fb9f3a"
             ],
             [
              0.8888888888888888,
              "#fdca26"
             ],
             [
              1,
              "#f0f921"
             ]
            ],
            "type": "surface"
           }
          ],
          "table": [
           {
            "cells": {
             "fill": {
              "color": "#EBF0F8"
             },
             "line": {
              "color": "white"
             }
            },
            "header": {
             "fill": {
              "color": "#C8D4E3"
             },
             "line": {
              "color": "white"
             }
            },
            "type": "table"
           }
          ]
         },
         "layout": {
          "annotationdefaults": {
           "arrowcolor": "#2a3f5f",
           "arrowhead": 0,
           "arrowwidth": 1
          },
          "coloraxis": {
           "colorbar": {
            "outlinewidth": 0,
            "ticks": ""
           }
          },
          "colorscale": {
           "diverging": [
            [
             0,
             "#8e0152"
            ],
            [
             0.1,
             "#c51b7d"
            ],
            [
             0.2,
             "#de77ae"
            ],
            [
             0.3,
             "#f1b6da"
            ],
            [
             0.4,
             "#fde0ef"
            ],
            [
             0.5,
             "#f7f7f7"
            ],
            [
             0.6,
             "#e6f5d0"
            ],
            [
             0.7,
             "#b8e186"
            ],
            [
             0.8,
             "#7fbc41"
            ],
            [
             0.9,
             "#4d9221"
            ],
            [
             1,
             "#276419"
            ]
           ],
           "sequential": [
            [
             0,
             "#0d0887"
            ],
            [
             0.1111111111111111,
             "#46039f"
            ],
            [
             0.2222222222222222,
             "#7201a8"
            ],
            [
             0.3333333333333333,
             "#9c179e"
            ],
            [
             0.4444444444444444,
             "#bd3786"
            ],
            [
             0.5555555555555556,
             "#d8576b"
            ],
            [
             0.6666666666666666,
             "#ed7953"
            ],
            [
             0.7777777777777778,
             "#fb9f3a"
            ],
            [
             0.8888888888888888,
             "#fdca26"
            ],
            [
             1,
             "#f0f921"
            ]
           ],
           "sequentialminus": [
            [
             0,
             "#0d0887"
            ],
            [
             0.1111111111111111,
             "#46039f"
            ],
            [
             0.2222222222222222,
             "#7201a8"
            ],
            [
             0.3333333333333333,
             "#9c179e"
            ],
            [
             0.4444444444444444,
             "#bd3786"
            ],
            [
             0.5555555555555556,
             "#d8576b"
            ],
            [
             0.6666666666666666,
             "#ed7953"
            ],
            [
             0.7777777777777778,
             "#fb9f3a"
            ],
            [
             0.8888888888888888,
             "#fdca26"
            ],
            [
             1,
             "#f0f921"
            ]
           ]
          },
          "colorway": [
           "#636efa",
           "#EF553B",
           "#00cc96",
           "#ab63fa",
           "#FFA15A",
           "#19d3f3",
           "#FF6692",
           "#B6E880",
           "#FF97FF",
           "#FECB52"
          ],
          "font": {
           "color": "#2a3f5f"
          },
          "geo": {
           "bgcolor": "white",
           "lakecolor": "white",
           "landcolor": "#E5ECF6",
           "showlakes": true,
           "showland": true,
           "subunitcolor": "white"
          },
          "hoverlabel": {
           "align": "left"
          },
          "hovermode": "closest",
          "mapbox": {
           "style": "light"
          },
          "paper_bgcolor": "white",
          "plot_bgcolor": "#E5ECF6",
          "polar": {
           "angularaxis": {
            "gridcolor": "white",
            "linecolor": "white",
            "ticks": ""
           },
           "bgcolor": "#E5ECF6",
           "radialaxis": {
            "gridcolor": "white",
            "linecolor": "white",
            "ticks": ""
           }
          },
          "scene": {
           "xaxis": {
            "backgroundcolor": "#E5ECF6",
            "gridcolor": "white",
            "gridwidth": 2,
            "linecolor": "white",
            "showbackground": true,
            "ticks": "",
            "zerolinecolor": "white"
           },
           "yaxis": {
            "backgroundcolor": "#E5ECF6",
            "gridcolor": "white",
            "gridwidth": 2,
            "linecolor": "white",
            "showbackground": true,
            "ticks": "",
            "zerolinecolor": "white"
           },
           "zaxis": {
            "backgroundcolor": "#E5ECF6",
            "gridcolor": "white",
            "gridwidth": 2,
            "linecolor": "white",
            "showbackground": true,
            "ticks": "",
            "zerolinecolor": "white"
           }
          },
          "shapedefaults": {
           "line": {
            "color": "#2a3f5f"
           }
          },
          "ternary": {
           "aaxis": {
            "gridcolor": "white",
            "linecolor": "white",
            "ticks": ""
           },
           "baxis": {
            "gridcolor": "white",
            "linecolor": "white",
            "ticks": ""
           },
           "bgcolor": "#E5ECF6",
           "caxis": {
            "gridcolor": "white",
            "linecolor": "white",
            "ticks": ""
           }
          },
          "title": {
           "x": 0.05
          },
          "xaxis": {
           "automargin": true,
           "gridcolor": "white",
           "linecolor": "white",
           "ticks": "",
           "title": {
            "standoff": 15
           },
           "zerolinecolor": "white",
           "zerolinewidth": 2
          },
          "yaxis": {
           "automargin": true,
           "gridcolor": "white",
           "linecolor": "white",
           "ticks": "",
           "title": {
            "standoff": 15
           },
           "zerolinecolor": "white",
           "zerolinewidth": 2
          }
         }
        },
        "title": {
         "font": {
          "color": "#4D5663"
         },
         "text": "Top 20 trigrams after removing stop words, UPDATED 2 days after"
        },
        "xaxis": {
         "gridcolor": "#E1E5ED",
         "linecolor": "black",
         "showgrid": true,
         "tickfont": {
          "color": "#4D5663"
         },
         "title": {
          "font": {
           "color": "#4D5663"
          },
          "text": ""
         },
         "zerolinecolor": "#E1E5ED"
        },
        "yaxis": {
         "gridcolor": "#E1E5ED",
         "linecolor": "black",
         "showgrid": true,
         "tickfont": {
          "color": "#4D5663"
         },
         "title": {
          "font": {
           "color": "#4D5663"
          },
          "text": "Count"
         },
         "zerolinecolor": "#E1E5ED"
        }
       }
      },
      "text/html": [
       "<div>\n",
       "        \n",
       "        \n",
       "            <div id=\"5ac70bc3-d9a1-424c-a434-b8747935c1bf\" class=\"plotly-graph-div\" style=\"height:525px; width:100%;\"></div>\n",
       "            <script type=\"text/javascript\">\n",
       "                require([\"plotly\"], function(Plotly) {\n",
       "                    window.PLOTLYENV=window.PLOTLYENV || {};\n",
       "                    window.PLOTLYENV.BASE_URL='https://plot.ly';\n",
       "                    \n",
       "                if (document.getElementById(\"5ac70bc3-d9a1-424c-a434-b8747935c1bf\")) {\n",
       "                    Plotly.newPlot(\n",
       "                        '5ac70bc3-d9a1-424c-a434-b8747935c1bf',\n",
       "                        [{\"marker\": {\"color\": \"rgba(255, 153, 51, 0.6)\", \"line\": {\"color\": \"rgba(255, 153, 51, 1.0)\", \"width\": 1}}, \"name\": \"count\", \"orientation\": \"v\", \"text\": \"\", \"type\": \"bar\", \"x\": [\"high school basketball\", \"basketball live stream\", \"school basketball live\", \"california high school\", \"kobe bryant new\", \"petition make kobe\", \"new nba logo\", \"nba petition make\", \"nba logo petition\", \"make kobe bryant\", \"logo petition chng\", \"bryant new nba\", \"kobe bryants death\", \"basketball association news\", \"kobe bryant death\", \"national basketball association\", \"fox cancel tmz\", \"cancel tmz after\", \"time fox cancel\", \"honor kobe bryant\"], \"y\": [18, 18, 18, 18, 16, 16, 16, 16, 16, 16, 16, 16, 9, 8, 8, 8, 7, 7, 7, 6]}],\n",
       "                        {\"legend\": {\"bgcolor\": \"#F5F6F9\", \"font\": {\"color\": \"#4D5663\"}}, \"paper_bgcolor\": \"#F5F6F9\", \"plot_bgcolor\": \"#F5F6F9\", \"template\": {\"data\": {\"bar\": [{\"error_x\": {\"color\": \"#2a3f5f\"}, \"error_y\": {\"color\": \"#2a3f5f\"}, \"marker\": {\"line\": {\"color\": \"#E5ECF6\", \"width\": 0.5}}, \"type\": \"bar\"}], \"barpolar\": [{\"marker\": {\"line\": {\"color\": \"#E5ECF6\", \"width\": 0.5}}, \"type\": \"barpolar\"}], \"carpet\": [{\"aaxis\": {\"endlinecolor\": \"#2a3f5f\", \"gridcolor\": \"white\", \"linecolor\": \"white\", \"minorgridcolor\": \"white\", \"startlinecolor\": \"#2a3f5f\"}, \"baxis\": {\"endlinecolor\": \"#2a3f5f\", \"gridcolor\": \"white\", \"linecolor\": \"white\", \"minorgridcolor\": \"white\", \"startlinecolor\": \"#2a3f5f\"}, \"type\": \"carpet\"}], \"choropleth\": [{\"colorbar\": {\"outlinewidth\": 0, \"ticks\": \"\"}, \"type\": \"choropleth\"}], \"contour\": [{\"colorbar\": {\"outlinewidth\": 0, \"ticks\": \"\"}, \"colorscale\": [[0.0, \"#0d0887\"], [0.1111111111111111, \"#46039f\"], [0.2222222222222222, \"#7201a8\"], [0.3333333333333333, \"#9c179e\"], [0.4444444444444444, \"#bd3786\"], [0.5555555555555556, \"#d8576b\"], [0.6666666666666666, \"#ed7953\"], [0.7777777777777778, \"#fb9f3a\"], [0.8888888888888888, \"#fdca26\"], [1.0, \"#f0f921\"]], \"type\": \"contour\"}], \"contourcarpet\": [{\"colorbar\": {\"outlinewidth\": 0, \"ticks\": \"\"}, \"type\": \"contourcarpet\"}], \"heatmap\": [{\"colorbar\": {\"outlinewidth\": 0, \"ticks\": \"\"}, \"colorscale\": [[0.0, \"#0d0887\"], [0.1111111111111111, \"#46039f\"], [0.2222222222222222, \"#7201a8\"], [0.3333333333333333, \"#9c179e\"], [0.4444444444444444, \"#bd3786\"], [0.5555555555555556, \"#d8576b\"], [0.6666666666666666, \"#ed7953\"], [0.7777777777777778, \"#fb9f3a\"], [0.8888888888888888, \"#fdca26\"], [1.0, \"#f0f921\"]], \"type\": \"heatmap\"}], \"heatmapgl\": [{\"colorbar\": {\"outlinewidth\": 0, \"ticks\": \"\"}, \"colorscale\": [[0.0, \"#0d0887\"], [0.1111111111111111, \"#46039f\"], [0.2222222222222222, \"#7201a8\"], [0.3333333333333333, \"#9c179e\"], [0.4444444444444444, \"#bd3786\"], [0.5555555555555556, \"#d8576b\"], [0.6666666666666666, \"#ed7953\"], [0.7777777777777778, \"#fb9f3a\"], [0.8888888888888888, \"#fdca26\"], [1.0, \"#f0f921\"]], \"type\": \"heatmapgl\"}], \"histogram\": [{\"marker\": {\"colorbar\": {\"outlinewidth\": 0, \"ticks\": \"\"}}, \"type\": \"histogram\"}], \"histogram2d\": [{\"colorbar\": {\"outlinewidth\": 0, \"ticks\": \"\"}, \"colorscale\": [[0.0, \"#0d0887\"], [0.1111111111111111, \"#46039f\"], [0.2222222222222222, \"#7201a8\"], [0.3333333333333333, \"#9c179e\"], [0.4444444444444444, \"#bd3786\"], [0.5555555555555556, \"#d8576b\"], [0.6666666666666666, \"#ed7953\"], [0.7777777777777778, \"#fb9f3a\"], [0.8888888888888888, \"#fdca26\"], [1.0, \"#f0f921\"]], \"type\": \"histogram2d\"}], \"histogram2dcontour\": [{\"colorbar\": {\"outlinewidth\": 0, \"ticks\": \"\"}, \"colorscale\": [[0.0, \"#0d0887\"], [0.1111111111111111, \"#46039f\"], [0.2222222222222222, \"#7201a8\"], [0.3333333333333333, \"#9c179e\"], [0.4444444444444444, \"#bd3786\"], [0.5555555555555556, \"#d8576b\"], [0.6666666666666666, \"#ed7953\"], [0.7777777777777778, \"#fb9f3a\"], [0.8888888888888888, \"#fdca26\"], [1.0, \"#f0f921\"]], \"type\": \"histogram2dcontour\"}], \"mesh3d\": [{\"colorbar\": {\"outlinewidth\": 0, \"ticks\": \"\"}, \"type\": \"mesh3d\"}], \"parcoords\": [{\"line\": {\"colorbar\": {\"outlinewidth\": 0, \"ticks\": \"\"}}, \"type\": \"parcoords\"}], \"pie\": [{\"automargin\": true, \"type\": \"pie\"}], \"scatter\": [{\"marker\": {\"colorbar\": {\"outlinewidth\": 0, \"ticks\": \"\"}}, \"type\": \"scatter\"}], \"scatter3d\": [{\"line\": {\"colorbar\": {\"outlinewidth\": 0, \"ticks\": \"\"}}, \"marker\": {\"colorbar\": {\"outlinewidth\": 0, \"ticks\": \"\"}}, \"type\": \"scatter3d\"}], \"scattercarpet\": [{\"marker\": {\"colorbar\": {\"outlinewidth\": 0, \"ticks\": \"\"}}, \"type\": \"scattercarpet\"}], \"scattergeo\": [{\"marker\": {\"colorbar\": {\"outlinewidth\": 0, \"ticks\": \"\"}}, \"type\": \"scattergeo\"}], \"scattergl\": [{\"marker\": {\"colorbar\": {\"outlinewidth\": 0, \"ticks\": \"\"}}, \"type\": \"scattergl\"}], \"scattermapbox\": [{\"marker\": {\"colorbar\": {\"outlinewidth\": 0, \"ticks\": \"\"}}, \"type\": \"scattermapbox\"}], \"scatterpolar\": [{\"marker\": {\"colorbar\": {\"outlinewidth\": 0, \"ticks\": \"\"}}, \"type\": \"scatterpolar\"}], \"scatterpolargl\": [{\"marker\": {\"colorbar\": {\"outlinewidth\": 0, \"ticks\": \"\"}}, \"type\": \"scatterpolargl\"}], \"scatterternary\": [{\"marker\": {\"colorbar\": {\"outlinewidth\": 0, \"ticks\": \"\"}}, \"type\": \"scatterternary\"}], \"surface\": [{\"colorbar\": {\"outlinewidth\": 0, \"ticks\": \"\"}, \"colorscale\": [[0.0, \"#0d0887\"], [0.1111111111111111, \"#46039f\"], [0.2222222222222222, \"#7201a8\"], [0.3333333333333333, \"#9c179e\"], [0.4444444444444444, \"#bd3786\"], [0.5555555555555556, \"#d8576b\"], [0.6666666666666666, \"#ed7953\"], [0.7777777777777778, \"#fb9f3a\"], [0.8888888888888888, \"#fdca26\"], [1.0, \"#f0f921\"]], \"type\": \"surface\"}], \"table\": [{\"cells\": {\"fill\": {\"color\": \"#EBF0F8\"}, \"line\": {\"color\": \"white\"}}, \"header\": {\"fill\": {\"color\": \"#C8D4E3\"}, \"line\": {\"color\": \"white\"}}, \"type\": \"table\"}]}, \"layout\": {\"annotationdefaults\": {\"arrowcolor\": \"#2a3f5f\", \"arrowhead\": 0, \"arrowwidth\": 1}, \"coloraxis\": {\"colorbar\": {\"outlinewidth\": 0, \"ticks\": \"\"}}, \"colorscale\": {\"diverging\": [[0, \"#8e0152\"], [0.1, \"#c51b7d\"], [0.2, \"#de77ae\"], [0.3, \"#f1b6da\"], [0.4, \"#fde0ef\"], [0.5, \"#f7f7f7\"], [0.6, \"#e6f5d0\"], [0.7, \"#b8e186\"], [0.8, \"#7fbc41\"], [0.9, \"#4d9221\"], [1, \"#276419\"]], \"sequential\": [[0.0, \"#0d0887\"], [0.1111111111111111, \"#46039f\"], [0.2222222222222222, \"#7201a8\"], [0.3333333333333333, \"#9c179e\"], [0.4444444444444444, \"#bd3786\"], [0.5555555555555556, \"#d8576b\"], [0.6666666666666666, \"#ed7953\"], [0.7777777777777778, \"#fb9f3a\"], [0.8888888888888888, \"#fdca26\"], [1.0, \"#f0f921\"]], \"sequentialminus\": [[0.0, \"#0d0887\"], [0.1111111111111111, \"#46039f\"], [0.2222222222222222, \"#7201a8\"], [0.3333333333333333, \"#9c179e\"], [0.4444444444444444, \"#bd3786\"], [0.5555555555555556, \"#d8576b\"], [0.6666666666666666, \"#ed7953\"], [0.7777777777777778, \"#fb9f3a\"], [0.8888888888888888, \"#fdca26\"], [1.0, \"#f0f921\"]]}, \"colorway\": [\"#636efa\", \"#EF553B\", \"#00cc96\", \"#ab63fa\", \"#FFA15A\", \"#19d3f3\", \"#FF6692\", \"#B6E880\", \"#FF97FF\", \"#FECB52\"], \"font\": {\"color\": \"#2a3f5f\"}, \"geo\": {\"bgcolor\": \"white\", \"lakecolor\": \"white\", \"landcolor\": \"#E5ECF6\", \"showlakes\": true, \"showland\": true, \"subunitcolor\": \"white\"}, \"hoverlabel\": {\"align\": \"left\"}, \"hovermode\": \"closest\", \"mapbox\": {\"style\": \"light\"}, \"paper_bgcolor\": \"white\", \"plot_bgcolor\": \"#E5ECF6\", \"polar\": {\"angularaxis\": {\"gridcolor\": \"white\", \"linecolor\": \"white\", \"ticks\": \"\"}, \"bgcolor\": \"#E5ECF6\", \"radialaxis\": {\"gridcolor\": \"white\", \"linecolor\": \"white\", \"ticks\": \"\"}}, \"scene\": {\"xaxis\": {\"backgroundcolor\": \"#E5ECF6\", \"gridcolor\": \"white\", \"gridwidth\": 2, \"linecolor\": \"white\", \"showbackground\": true, \"ticks\": \"\", \"zerolinecolor\": \"white\"}, \"yaxis\": {\"backgroundcolor\": \"#E5ECF6\", \"gridcolor\": \"white\", \"gridwidth\": 2, \"linecolor\": \"white\", \"showbackground\": true, \"ticks\": \"\", \"zerolinecolor\": \"white\"}, \"zaxis\": {\"backgroundcolor\": \"#E5ECF6\", \"gridcolor\": \"white\", \"gridwidth\": 2, \"linecolor\": \"white\", \"showbackground\": true, \"ticks\": \"\", \"zerolinecolor\": \"white\"}}, \"shapedefaults\": {\"line\": {\"color\": \"#2a3f5f\"}}, \"ternary\": {\"aaxis\": {\"gridcolor\": \"white\", \"linecolor\": \"white\", \"ticks\": \"\"}, \"baxis\": {\"gridcolor\": \"white\", \"linecolor\": \"white\", \"ticks\": \"\"}, \"bgcolor\": \"#E5ECF6\", \"caxis\": {\"gridcolor\": \"white\", \"linecolor\": \"white\", \"ticks\": \"\"}}, \"title\": {\"x\": 0.05}, \"xaxis\": {\"automargin\": true, \"gridcolor\": \"white\", \"linecolor\": \"white\", \"ticks\": \"\", \"title\": {\"standoff\": 15}, \"zerolinecolor\": \"white\", \"zerolinewidth\": 2}, \"yaxis\": {\"automargin\": true, \"gridcolor\": \"white\", \"linecolor\": \"white\", \"ticks\": \"\", \"title\": {\"standoff\": 15}, \"zerolinecolor\": \"white\", \"zerolinewidth\": 2}}}, \"title\": {\"font\": {\"color\": \"#4D5663\"}, \"text\": \"Top 20 trigrams after removing stop words, UPDATED 2 days after\"}, \"xaxis\": {\"gridcolor\": \"#E1E5ED\", \"linecolor\": \"black\", \"showgrid\": true, \"tickfont\": {\"color\": \"#4D5663\"}, \"title\": {\"font\": {\"color\": \"#4D5663\"}, \"text\": \"\"}, \"zerolinecolor\": \"#E1E5ED\"}, \"yaxis\": {\"gridcolor\": \"#E1E5ED\", \"linecolor\": \"black\", \"showgrid\": true, \"tickfont\": {\"color\": \"#4D5663\"}, \"title\": {\"font\": {\"color\": \"#4D5663\"}, \"text\": \"Count\"}, \"zerolinecolor\": \"#E1E5ED\"}},\n",
       "                        {\"showLink\": true, \"linkText\": \"Export to plot.ly\", \"plotlyServerURL\": \"https://plot.ly\", \"responsive\": true}\n",
       "                    ).then(function(){\n",
       "                            \n",
       "var gd = document.getElementById('5ac70bc3-d9a1-424c-a434-b8747935c1bf');\n",
       "var x = new MutationObserver(function (mutations, observer) {{\n",
       "        var display = window.getComputedStyle(gd).display;\n",
       "        if (!display || display === 'none') {{\n",
       "            console.log([gd, 'removed!']);\n",
       "            Plotly.purge(gd);\n",
       "            observer.disconnect();\n",
       "        }}\n",
       "}});\n",
       "\n",
       "// Listen for the removal of the full notebook cells\n",
       "var notebookContainer = gd.closest('#notebook-container');\n",
       "if (notebookContainer) {{\n",
       "    x.observe(notebookContainer, {childList: true});\n",
       "}}\n",
       "\n",
       "// Listen for the clearing of the current output cell\n",
       "var outputEl = gd.closest('.output');\n",
       "if (outputEl) {{\n",
       "    x.observe(outputEl, {childList: true});\n",
       "}}\n",
       "\n",
       "                        })\n",
       "                };\n",
       "                });\n",
       "            </script>\n",
       "        </div>"
      ]
     },
     "metadata": {},
     "output_type": "display_data"
    }
   ],
   "source": [
    "common_words2 = get_top_n_trigram(dnew, 20)\n",
    "for word, freq in common_words2:\n",
    "    print(word, freq)\n",
    "dfnew2 = pd.DataFrame(common_words2, columns = ['text' , 'count'])\n",
    "dfnew2.groupby('text').sum()['count'].sort_values(ascending=False).iplot(\n",
    "kind='bar', yTitle='Count', linecolor='black', title='Top 20 trigrams after removing stop words, UPDATED 2 days after')"
   ]
  },
  {
   "cell_type": "code",
   "execution_count": 18,
   "metadata": {},
   "outputs": [
    {
     "name": "stdout",
     "output_type": "stream",
     "text": [
      "owned kobe gasol 9\n",
      "kobe gasol loses 9\n",
      "gasol loses nose 9\n",
      "horse co owned 9\n",
      "co owned kobe 9\n",
      "kobe bryant pau 9\n",
      "bryant pau gasol 9\n",
      "loses nose kobe 8\n",
      "nose kobe bryant 8\n",
      "pau gasol came 8\n",
      "gasol came out 8\n",
      "came out losing 7\n",
      "out losing end 6\n",
      "california high school 6\n",
      "high school basketball 6\n",
      "school basketball live 6\n",
      "basketball live stream 6\n",
      "liked youtube video 5\n",
      "lebron james kobe 5\n",
      "james kobe bryant 5\n"
     ]
    },
    {
     "data": {
      "application/vnd.plotly.v1+json": {
       "config": {
        "linkText": "Export to plot.ly",
        "plotlyServerURL": "https://plot.ly",
        "showLink": true
       },
       "data": [
        {
         "marker": {
          "color": "rgba(255, 153, 51, 0.6)",
          "line": {
           "color": "rgba(255, 153, 51, 1.0)",
           "width": 1
          }
         },
         "name": "count",
         "orientation": "v",
         "text": "",
         "type": "bar",
         "x": [
          "owned kobe gasol",
          "bryant pau gasol",
          "kobe gasol loses",
          "kobe bryant pau",
          "horse co owned",
          "co owned kobe",
          "gasol loses nose",
          "gasol came out",
          "nose kobe bryant",
          "loses nose kobe",
          "pau gasol came",
          "came out losing",
          "school basketball live",
          "california high school",
          "basketball live stream",
          "high school basketball",
          "out losing end",
          "lebron james kobe",
          "liked youtube video",
          "james kobe bryant"
         ],
         "y": [
          9,
          9,
          9,
          9,
          9,
          9,
          9,
          8,
          8,
          8,
          8,
          7,
          6,
          6,
          6,
          6,
          6,
          5,
          5,
          5
         ]
        }
       ],
       "layout": {
        "legend": {
         "bgcolor": "#F5F6F9",
         "font": {
          "color": "#4D5663"
         }
        },
        "paper_bgcolor": "#F5F6F9",
        "plot_bgcolor": "#F5F6F9",
        "template": {
         "data": {
          "bar": [
           {
            "error_x": {
             "color": "#2a3f5f"
            },
            "error_y": {
             "color": "#2a3f5f"
            },
            "marker": {
             "line": {
              "color": "#E5ECF6",
              "width": 0.5
             }
            },
            "type": "bar"
           }
          ],
          "barpolar": [
           {
            "marker": {
             "line": {
              "color": "#E5ECF6",
              "width": 0.5
             }
            },
            "type": "barpolar"
           }
          ],
          "carpet": [
           {
            "aaxis": {
             "endlinecolor": "#2a3f5f",
             "gridcolor": "white",
             "linecolor": "white",
             "minorgridcolor": "white",
             "startlinecolor": "#2a3f5f"
            },
            "baxis": {
             "endlinecolor": "#2a3f5f",
             "gridcolor": "white",
             "linecolor": "white",
             "minorgridcolor": "white",
             "startlinecolor": "#2a3f5f"
            },
            "type": "carpet"
           }
          ],
          "choropleth": [
           {
            "colorbar": {
             "outlinewidth": 0,
             "ticks": ""
            },
            "type": "choropleth"
           }
          ],
          "contour": [
           {
            "colorbar": {
             "outlinewidth": 0,
             "ticks": ""
            },
            "colorscale": [
             [
              0,
              "#0d0887"
             ],
             [
              0.1111111111111111,
              "#46039f"
             ],
             [
              0.2222222222222222,
              "#7201a8"
             ],
             [
              0.3333333333333333,
              "#9c179e"
             ],
             [
              0.4444444444444444,
              "#bd3786"
             ],
             [
              0.5555555555555556,
              "#d8576b"
             ],
             [
              0.6666666666666666,
              "#ed7953"
             ],
             [
              0.7777777777777778,
              "#fb9f3a"
             ],
             [
              0.8888888888888888,
              "#fdca26"
             ],
             [
              1,
              "#f0f921"
             ]
            ],
            "type": "contour"
           }
          ],
          "contourcarpet": [
           {
            "colorbar": {
             "outlinewidth": 0,
             "ticks": ""
            },
            "type": "contourcarpet"
           }
          ],
          "heatmap": [
           {
            "colorbar": {
             "outlinewidth": 0,
             "ticks": ""
            },
            "colorscale": [
             [
              0,
              "#0d0887"
             ],
             [
              0.1111111111111111,
              "#46039f"
             ],
             [
              0.2222222222222222,
              "#7201a8"
             ],
             [
              0.3333333333333333,
              "#9c179e"
             ],
             [
              0.4444444444444444,
              "#bd3786"
             ],
             [
              0.5555555555555556,
              "#d8576b"
             ],
             [
              0.6666666666666666,
              "#ed7953"
             ],
             [
              0.7777777777777778,
              "#fb9f3a"
             ],
             [
              0.8888888888888888,
              "#fdca26"
             ],
             [
              1,
              "#f0f921"
             ]
            ],
            "type": "heatmap"
           }
          ],
          "heatmapgl": [
           {
            "colorbar": {
             "outlinewidth": 0,
             "ticks": ""
            },
            "colorscale": [
             [
              0,
              "#0d0887"
             ],
             [
              0.1111111111111111,
              "#46039f"
             ],
             [
              0.2222222222222222,
              "#7201a8"
             ],
             [
              0.3333333333333333,
              "#9c179e"
             ],
             [
              0.4444444444444444,
              "#bd3786"
             ],
             [
              0.5555555555555556,
              "#d8576b"
             ],
             [
              0.6666666666666666,
              "#ed7953"
             ],
             [
              0.7777777777777778,
              "#fb9f3a"
             ],
             [
              0.8888888888888888,
              "#fdca26"
             ],
             [
              1,
              "#f0f921"
             ]
            ],
            "type": "heatmapgl"
           }
          ],
          "histogram": [
           {
            "marker": {
             "colorbar": {
              "outlinewidth": 0,
              "ticks": ""
             }
            },
            "type": "histogram"
           }
          ],
          "histogram2d": [
           {
            "colorbar": {
             "outlinewidth": 0,
             "ticks": ""
            },
            "colorscale": [
             [
              0,
              "#0d0887"
             ],
             [
              0.1111111111111111,
              "#46039f"
             ],
             [
              0.2222222222222222,
              "#7201a8"
             ],
             [
              0.3333333333333333,
              "#9c179e"
             ],
             [
              0.4444444444444444,
              "#bd3786"
             ],
             [
              0.5555555555555556,
              "#d8576b"
             ],
             [
              0.6666666666666666,
              "#ed7953"
             ],
             [
              0.7777777777777778,
              "#fb9f3a"
             ],
             [
              0.8888888888888888,
              "#fdca26"
             ],
             [
              1,
              "#f0f921"
             ]
            ],
            "type": "histogram2d"
           }
          ],
          "histogram2dcontour": [
           {
            "colorbar": {
             "outlinewidth": 0,
             "ticks": ""
            },
            "colorscale": [
             [
              0,
              "#0d0887"
             ],
             [
              0.1111111111111111,
              "#46039f"
             ],
             [
              0.2222222222222222,
              "#7201a8"
             ],
             [
              0.3333333333333333,
              "#9c179e"
             ],
             [
              0.4444444444444444,
              "#bd3786"
             ],
             [
              0.5555555555555556,
              "#d8576b"
             ],
             [
              0.6666666666666666,
              "#ed7953"
             ],
             [
              0.7777777777777778,
              "#fb9f3a"
             ],
             [
              0.8888888888888888,
              "#fdca26"
             ],
             [
              1,
              "#f0f921"
             ]
            ],
            "type": "histogram2dcontour"
           }
          ],
          "mesh3d": [
           {
            "colorbar": {
             "outlinewidth": 0,
             "ticks": ""
            },
            "type": "mesh3d"
           }
          ],
          "parcoords": [
           {
            "line": {
             "colorbar": {
              "outlinewidth": 0,
              "ticks": ""
             }
            },
            "type": "parcoords"
           }
          ],
          "pie": [
           {
            "automargin": true,
            "type": "pie"
           }
          ],
          "scatter": [
           {
            "marker": {
             "colorbar": {
              "outlinewidth": 0,
              "ticks": ""
             }
            },
            "type": "scatter"
           }
          ],
          "scatter3d": [
           {
            "line": {
             "colorbar": {
              "outlinewidth": 0,
              "ticks": ""
             }
            },
            "marker": {
             "colorbar": {
              "outlinewidth": 0,
              "ticks": ""
             }
            },
            "type": "scatter3d"
           }
          ],
          "scattercarpet": [
           {
            "marker": {
             "colorbar": {
              "outlinewidth": 0,
              "ticks": ""
             }
            },
            "type": "scattercarpet"
           }
          ],
          "scattergeo": [
           {
            "marker": {
             "colorbar": {
              "outlinewidth": 0,
              "ticks": ""
             }
            },
            "type": "scattergeo"
           }
          ],
          "scattergl": [
           {
            "marker": {
             "colorbar": {
              "outlinewidth": 0,
              "ticks": ""
             }
            },
            "type": "scattergl"
           }
          ],
          "scattermapbox": [
           {
            "marker": {
             "colorbar": {
              "outlinewidth": 0,
              "ticks": ""
             }
            },
            "type": "scattermapbox"
           }
          ],
          "scatterpolar": [
           {
            "marker": {
             "colorbar": {
              "outlinewidth": 0,
              "ticks": ""
             }
            },
            "type": "scatterpolar"
           }
          ],
          "scatterpolargl": [
           {
            "marker": {
             "colorbar": {
              "outlinewidth": 0,
              "ticks": ""
             }
            },
            "type": "scatterpolargl"
           }
          ],
          "scatterternary": [
           {
            "marker": {
             "colorbar": {
              "outlinewidth": 0,
              "ticks": ""
             }
            },
            "type": "scatterternary"
           }
          ],
          "surface": [
           {
            "colorbar": {
             "outlinewidth": 0,
             "ticks": ""
            },
            "colorscale": [
             [
              0,
              "#0d0887"
             ],
             [
              0.1111111111111111,
              "#46039f"
             ],
             [
              0.2222222222222222,
              "#7201a8"
             ],
             [
              0.3333333333333333,
              "#9c179e"
             ],
             [
              0.4444444444444444,
              "#bd3786"
             ],
             [
              0.5555555555555556,
              "#d8576b"
             ],
             [
              0.6666666666666666,
              "#ed7953"
             ],
             [
              0.7777777777777778,
              "#fb9f3a"
             ],
             [
              0.8888888888888888,
              "#fdca26"
             ],
             [
              1,
              "#f0f921"
             ]
            ],
            "type": "surface"
           }
          ],
          "table": [
           {
            "cells": {
             "fill": {
              "color": "#EBF0F8"
             },
             "line": {
              "color": "white"
             }
            },
            "header": {
             "fill": {
              "color": "#C8D4E3"
             },
             "line": {
              "color": "white"
             }
            },
            "type": "table"
           }
          ]
         },
         "layout": {
          "annotationdefaults": {
           "arrowcolor": "#2a3f5f",
           "arrowhead": 0,
           "arrowwidth": 1
          },
          "coloraxis": {
           "colorbar": {
            "outlinewidth": 0,
            "ticks": ""
           }
          },
          "colorscale": {
           "diverging": [
            [
             0,
             "#8e0152"
            ],
            [
             0.1,
             "#c51b7d"
            ],
            [
             0.2,
             "#de77ae"
            ],
            [
             0.3,
             "#f1b6da"
            ],
            [
             0.4,
             "#fde0ef"
            ],
            [
             0.5,
             "#f7f7f7"
            ],
            [
             0.6,
             "#e6f5d0"
            ],
            [
             0.7,
             "#b8e186"
            ],
            [
             0.8,
             "#7fbc41"
            ],
            [
             0.9,
             "#4d9221"
            ],
            [
             1,
             "#276419"
            ]
           ],
           "sequential": [
            [
             0,
             "#0d0887"
            ],
            [
             0.1111111111111111,
             "#46039f"
            ],
            [
             0.2222222222222222,
             "#7201a8"
            ],
            [
             0.3333333333333333,
             "#9c179e"
            ],
            [
             0.4444444444444444,
             "#bd3786"
            ],
            [
             0.5555555555555556,
             "#d8576b"
            ],
            [
             0.6666666666666666,
             "#ed7953"
            ],
            [
             0.7777777777777778,
             "#fb9f3a"
            ],
            [
             0.8888888888888888,
             "#fdca26"
            ],
            [
             1,
             "#f0f921"
            ]
           ],
           "sequentialminus": [
            [
             0,
             "#0d0887"
            ],
            [
             0.1111111111111111,
             "#46039f"
            ],
            [
             0.2222222222222222,
             "#7201a8"
            ],
            [
             0.3333333333333333,
             "#9c179e"
            ],
            [
             0.4444444444444444,
             "#bd3786"
            ],
            [
             0.5555555555555556,
             "#d8576b"
            ],
            [
             0.6666666666666666,
             "#ed7953"
            ],
            [
             0.7777777777777778,
             "#fb9f3a"
            ],
            [
             0.8888888888888888,
             "#fdca26"
            ],
            [
             1,
             "#f0f921"
            ]
           ]
          },
          "colorway": [
           "#636efa",
           "#EF553B",
           "#00cc96",
           "#ab63fa",
           "#FFA15A",
           "#19d3f3",
           "#FF6692",
           "#B6E880",
           "#FF97FF",
           "#FECB52"
          ],
          "font": {
           "color": "#2a3f5f"
          },
          "geo": {
           "bgcolor": "white",
           "lakecolor": "white",
           "landcolor": "#E5ECF6",
           "showlakes": true,
           "showland": true,
           "subunitcolor": "white"
          },
          "hoverlabel": {
           "align": "left"
          },
          "hovermode": "closest",
          "mapbox": {
           "style": "light"
          },
          "paper_bgcolor": "white",
          "plot_bgcolor": "#E5ECF6",
          "polar": {
           "angularaxis": {
            "gridcolor": "white",
            "linecolor": "white",
            "ticks": ""
           },
           "bgcolor": "#E5ECF6",
           "radialaxis": {
            "gridcolor": "white",
            "linecolor": "white",
            "ticks": ""
           }
          },
          "scene": {
           "xaxis": {
            "backgroundcolor": "#E5ECF6",
            "gridcolor": "white",
            "gridwidth": 2,
            "linecolor": "white",
            "showbackground": true,
            "ticks": "",
            "zerolinecolor": "white"
           },
           "yaxis": {
            "backgroundcolor": "#E5ECF6",
            "gridcolor": "white",
            "gridwidth": 2,
            "linecolor": "white",
            "showbackground": true,
            "ticks": "",
            "zerolinecolor": "white"
           },
           "zaxis": {
            "backgroundcolor": "#E5ECF6",
            "gridcolor": "white",
            "gridwidth": 2,
            "linecolor": "white",
            "showbackground": true,
            "ticks": "",
            "zerolinecolor": "white"
           }
          },
          "shapedefaults": {
           "line": {
            "color": "#2a3f5f"
           }
          },
          "ternary": {
           "aaxis": {
            "gridcolor": "white",
            "linecolor": "white",
            "ticks": ""
           },
           "baxis": {
            "gridcolor": "white",
            "linecolor": "white",
            "ticks": ""
           },
           "bgcolor": "#E5ECF6",
           "caxis": {
            "gridcolor": "white",
            "linecolor": "white",
            "ticks": ""
           }
          },
          "title": {
           "x": 0.05
          },
          "xaxis": {
           "automargin": true,
           "gridcolor": "white",
           "linecolor": "white",
           "ticks": "",
           "title": {
            "standoff": 15
           },
           "zerolinecolor": "white",
           "zerolinewidth": 2
          },
          "yaxis": {
           "automargin": true,
           "gridcolor": "white",
           "linecolor": "white",
           "ticks": "",
           "title": {
            "standoff": 15
           },
           "zerolinecolor": "white",
           "zerolinewidth": 2
          }
         }
        },
        "title": {
         "font": {
          "color": "#4D5663"
         },
         "text": "Top 20 trigrams after removing stop words, UPDATED present"
        },
        "xaxis": {
         "gridcolor": "#E1E5ED",
         "linecolor": "black",
         "showgrid": true,
         "tickfont": {
          "color": "#4D5663"
         },
         "title": {
          "font": {
           "color": "#4D5663"
          },
          "text": ""
         },
         "zerolinecolor": "#E1E5ED"
        },
        "yaxis": {
         "gridcolor": "#E1E5ED",
         "linecolor": "black",
         "showgrid": true,
         "tickfont": {
          "color": "#4D5663"
         },
         "title": {
          "font": {
           "color": "#4D5663"
          },
          "text": "Count"
         },
         "zerolinecolor": "#E1E5ED"
        }
       }
      },
      "text/html": [
       "<div>\n",
       "        \n",
       "        \n",
       "            <div id=\"5127328b-6b0f-4683-9383-57c698608717\" class=\"plotly-graph-div\" style=\"height:525px; width:100%;\"></div>\n",
       "            <script type=\"text/javascript\">\n",
       "                require([\"plotly\"], function(Plotly) {\n",
       "                    window.PLOTLYENV=window.PLOTLYENV || {};\n",
       "                    window.PLOTLYENV.BASE_URL='https://plot.ly';\n",
       "                    \n",
       "                if (document.getElementById(\"5127328b-6b0f-4683-9383-57c698608717\")) {\n",
       "                    Plotly.newPlot(\n",
       "                        '5127328b-6b0f-4683-9383-57c698608717',\n",
       "                        [{\"marker\": {\"color\": \"rgba(255, 153, 51, 0.6)\", \"line\": {\"color\": \"rgba(255, 153, 51, 1.0)\", \"width\": 1}}, \"name\": \"count\", \"orientation\": \"v\", \"text\": \"\", \"type\": \"bar\", \"x\": [\"owned kobe gasol\", \"bryant pau gasol\", \"kobe gasol loses\", \"kobe bryant pau\", \"horse co owned\", \"co owned kobe\", \"gasol loses nose\", \"gasol came out\", \"nose kobe bryant\", \"loses nose kobe\", \"pau gasol came\", \"came out losing\", \"school basketball live\", \"california high school\", \"basketball live stream\", \"high school basketball\", \"out losing end\", \"lebron james kobe\", \"liked youtube video\", \"james kobe bryant\"], \"y\": [9, 9, 9, 9, 9, 9, 9, 8, 8, 8, 8, 7, 6, 6, 6, 6, 6, 5, 5, 5]}],\n",
       "                        {\"legend\": {\"bgcolor\": \"#F5F6F9\", \"font\": {\"color\": \"#4D5663\"}}, \"paper_bgcolor\": \"#F5F6F9\", \"plot_bgcolor\": \"#F5F6F9\", \"template\": {\"data\": {\"bar\": [{\"error_x\": {\"color\": \"#2a3f5f\"}, \"error_y\": {\"color\": \"#2a3f5f\"}, \"marker\": {\"line\": {\"color\": \"#E5ECF6\", \"width\": 0.5}}, \"type\": \"bar\"}], \"barpolar\": [{\"marker\": {\"line\": {\"color\": \"#E5ECF6\", \"width\": 0.5}}, \"type\": \"barpolar\"}], \"carpet\": [{\"aaxis\": {\"endlinecolor\": \"#2a3f5f\", \"gridcolor\": \"white\", \"linecolor\": \"white\", \"minorgridcolor\": \"white\", \"startlinecolor\": \"#2a3f5f\"}, \"baxis\": {\"endlinecolor\": \"#2a3f5f\", \"gridcolor\": \"white\", \"linecolor\": \"white\", \"minorgridcolor\": \"white\", \"startlinecolor\": \"#2a3f5f\"}, \"type\": \"carpet\"}], \"choropleth\": [{\"colorbar\": {\"outlinewidth\": 0, \"ticks\": \"\"}, \"type\": \"choropleth\"}], \"contour\": [{\"colorbar\": {\"outlinewidth\": 0, \"ticks\": \"\"}, \"colorscale\": [[0.0, \"#0d0887\"], [0.1111111111111111, \"#46039f\"], [0.2222222222222222, \"#7201a8\"], [0.3333333333333333, \"#9c179e\"], [0.4444444444444444, \"#bd3786\"], [0.5555555555555556, \"#d8576b\"], [0.6666666666666666, \"#ed7953\"], [0.7777777777777778, \"#fb9f3a\"], [0.8888888888888888, \"#fdca26\"], [1.0, \"#f0f921\"]], \"type\": \"contour\"}], \"contourcarpet\": [{\"colorbar\": {\"outlinewidth\": 0, \"ticks\": \"\"}, \"type\": \"contourcarpet\"}], \"heatmap\": [{\"colorbar\": {\"outlinewidth\": 0, \"ticks\": \"\"}, \"colorscale\": [[0.0, \"#0d0887\"], [0.1111111111111111, \"#46039f\"], [0.2222222222222222, \"#7201a8\"], [0.3333333333333333, \"#9c179e\"], [0.4444444444444444, \"#bd3786\"], [0.5555555555555556, \"#d8576b\"], [0.6666666666666666, \"#ed7953\"], [0.7777777777777778, \"#fb9f3a\"], [0.8888888888888888, \"#fdca26\"], [1.0, \"#f0f921\"]], \"type\": \"heatmap\"}], \"heatmapgl\": [{\"colorbar\": {\"outlinewidth\": 0, \"ticks\": \"\"}, \"colorscale\": [[0.0, \"#0d0887\"], [0.1111111111111111, \"#46039f\"], [0.2222222222222222, \"#7201a8\"], [0.3333333333333333, \"#9c179e\"], [0.4444444444444444, \"#bd3786\"], [0.5555555555555556, \"#d8576b\"], [0.6666666666666666, \"#ed7953\"], [0.7777777777777778, \"#fb9f3a\"], [0.8888888888888888, \"#fdca26\"], [1.0, \"#f0f921\"]], \"type\": \"heatmapgl\"}], \"histogram\": [{\"marker\": {\"colorbar\": {\"outlinewidth\": 0, \"ticks\": \"\"}}, \"type\": \"histogram\"}], \"histogram2d\": [{\"colorbar\": {\"outlinewidth\": 0, \"ticks\": \"\"}, \"colorscale\": [[0.0, \"#0d0887\"], [0.1111111111111111, \"#46039f\"], [0.2222222222222222, \"#7201a8\"], [0.3333333333333333, \"#9c179e\"], [0.4444444444444444, \"#bd3786\"], [0.5555555555555556, \"#d8576b\"], [0.6666666666666666, \"#ed7953\"], [0.7777777777777778, \"#fb9f3a\"], [0.8888888888888888, \"#fdca26\"], [1.0, \"#f0f921\"]], \"type\": \"histogram2d\"}], \"histogram2dcontour\": [{\"colorbar\": {\"outlinewidth\": 0, \"ticks\": \"\"}, \"colorscale\": [[0.0, \"#0d0887\"], [0.1111111111111111, \"#46039f\"], [0.2222222222222222, \"#7201a8\"], [0.3333333333333333, \"#9c179e\"], [0.4444444444444444, \"#bd3786\"], [0.5555555555555556, \"#d8576b\"], [0.6666666666666666, \"#ed7953\"], [0.7777777777777778, \"#fb9f3a\"], [0.8888888888888888, \"#fdca26\"], [1.0, \"#f0f921\"]], \"type\": \"histogram2dcontour\"}], \"mesh3d\": [{\"colorbar\": {\"outlinewidth\": 0, \"ticks\": \"\"}, \"type\": \"mesh3d\"}], \"parcoords\": [{\"line\": {\"colorbar\": {\"outlinewidth\": 0, \"ticks\": \"\"}}, \"type\": \"parcoords\"}], \"pie\": [{\"automargin\": true, \"type\": \"pie\"}], \"scatter\": [{\"marker\": {\"colorbar\": {\"outlinewidth\": 0, \"ticks\": \"\"}}, \"type\": \"scatter\"}], \"scatter3d\": [{\"line\": {\"colorbar\": {\"outlinewidth\": 0, \"ticks\": \"\"}}, \"marker\": {\"colorbar\": {\"outlinewidth\": 0, \"ticks\": \"\"}}, \"type\": \"scatter3d\"}], \"scattercarpet\": [{\"marker\": {\"colorbar\": {\"outlinewidth\": 0, \"ticks\": \"\"}}, \"type\": \"scattercarpet\"}], \"scattergeo\": [{\"marker\": {\"colorbar\": {\"outlinewidth\": 0, \"ticks\": \"\"}}, \"type\": \"scattergeo\"}], \"scattergl\": [{\"marker\": {\"colorbar\": {\"outlinewidth\": 0, \"ticks\": \"\"}}, \"type\": \"scattergl\"}], \"scattermapbox\": [{\"marker\": {\"colorbar\": {\"outlinewidth\": 0, \"ticks\": \"\"}}, \"type\": \"scattermapbox\"}], \"scatterpolar\": [{\"marker\": {\"colorbar\": {\"outlinewidth\": 0, \"ticks\": \"\"}}, \"type\": \"scatterpolar\"}], \"scatterpolargl\": [{\"marker\": {\"colorbar\": {\"outlinewidth\": 0, \"ticks\": \"\"}}, \"type\": \"scatterpolargl\"}], \"scatterternary\": [{\"marker\": {\"colorbar\": {\"outlinewidth\": 0, \"ticks\": \"\"}}, \"type\": \"scatterternary\"}], \"surface\": [{\"colorbar\": {\"outlinewidth\": 0, \"ticks\": \"\"}, \"colorscale\": [[0.0, \"#0d0887\"], [0.1111111111111111, \"#46039f\"], [0.2222222222222222, \"#7201a8\"], [0.3333333333333333, \"#9c179e\"], [0.4444444444444444, \"#bd3786\"], [0.5555555555555556, \"#d8576b\"], [0.6666666666666666, \"#ed7953\"], [0.7777777777777778, \"#fb9f3a\"], [0.8888888888888888, \"#fdca26\"], [1.0, \"#f0f921\"]], \"type\": \"surface\"}], \"table\": [{\"cells\": {\"fill\": {\"color\": \"#EBF0F8\"}, \"line\": {\"color\": \"white\"}}, \"header\": {\"fill\": {\"color\": \"#C8D4E3\"}, \"line\": {\"color\": \"white\"}}, \"type\": \"table\"}]}, \"layout\": {\"annotationdefaults\": {\"arrowcolor\": \"#2a3f5f\", \"arrowhead\": 0, \"arrowwidth\": 1}, \"coloraxis\": {\"colorbar\": {\"outlinewidth\": 0, \"ticks\": \"\"}}, \"colorscale\": {\"diverging\": [[0, \"#8e0152\"], [0.1, \"#c51b7d\"], [0.2, \"#de77ae\"], [0.3, \"#f1b6da\"], [0.4, \"#fde0ef\"], [0.5, \"#f7f7f7\"], [0.6, \"#e6f5d0\"], [0.7, \"#b8e186\"], [0.8, \"#7fbc41\"], [0.9, \"#4d9221\"], [1, \"#276419\"]], \"sequential\": [[0.0, \"#0d0887\"], [0.1111111111111111, \"#46039f\"], [0.2222222222222222, \"#7201a8\"], [0.3333333333333333, \"#9c179e\"], [0.4444444444444444, \"#bd3786\"], [0.5555555555555556, \"#d8576b\"], [0.6666666666666666, \"#ed7953\"], [0.7777777777777778, \"#fb9f3a\"], [0.8888888888888888, \"#fdca26\"], [1.0, \"#f0f921\"]], \"sequentialminus\": [[0.0, \"#0d0887\"], [0.1111111111111111, \"#46039f\"], [0.2222222222222222, \"#7201a8\"], [0.3333333333333333, \"#9c179e\"], [0.4444444444444444, \"#bd3786\"], [0.5555555555555556, \"#d8576b\"], [0.6666666666666666, \"#ed7953\"], [0.7777777777777778, \"#fb9f3a\"], [0.8888888888888888, \"#fdca26\"], [1.0, \"#f0f921\"]]}, \"colorway\": [\"#636efa\", \"#EF553B\", \"#00cc96\", \"#ab63fa\", \"#FFA15A\", \"#19d3f3\", \"#FF6692\", \"#B6E880\", \"#FF97FF\", \"#FECB52\"], \"font\": {\"color\": \"#2a3f5f\"}, \"geo\": {\"bgcolor\": \"white\", \"lakecolor\": \"white\", \"landcolor\": \"#E5ECF6\", \"showlakes\": true, \"showland\": true, \"subunitcolor\": \"white\"}, \"hoverlabel\": {\"align\": \"left\"}, \"hovermode\": \"closest\", \"mapbox\": {\"style\": \"light\"}, \"paper_bgcolor\": \"white\", \"plot_bgcolor\": \"#E5ECF6\", \"polar\": {\"angularaxis\": {\"gridcolor\": \"white\", \"linecolor\": \"white\", \"ticks\": \"\"}, \"bgcolor\": \"#E5ECF6\", \"radialaxis\": {\"gridcolor\": \"white\", \"linecolor\": \"white\", \"ticks\": \"\"}}, \"scene\": {\"xaxis\": {\"backgroundcolor\": \"#E5ECF6\", \"gridcolor\": \"white\", \"gridwidth\": 2, \"linecolor\": \"white\", \"showbackground\": true, \"ticks\": \"\", \"zerolinecolor\": \"white\"}, \"yaxis\": {\"backgroundcolor\": \"#E5ECF6\", \"gridcolor\": \"white\", \"gridwidth\": 2, \"linecolor\": \"white\", \"showbackground\": true, \"ticks\": \"\", \"zerolinecolor\": \"white\"}, \"zaxis\": {\"backgroundcolor\": \"#E5ECF6\", \"gridcolor\": \"white\", \"gridwidth\": 2, \"linecolor\": \"white\", \"showbackground\": true, \"ticks\": \"\", \"zerolinecolor\": \"white\"}}, \"shapedefaults\": {\"line\": {\"color\": \"#2a3f5f\"}}, \"ternary\": {\"aaxis\": {\"gridcolor\": \"white\", \"linecolor\": \"white\", \"ticks\": \"\"}, \"baxis\": {\"gridcolor\": \"white\", \"linecolor\": \"white\", \"ticks\": \"\"}, \"bgcolor\": \"#E5ECF6\", \"caxis\": {\"gridcolor\": \"white\", \"linecolor\": \"white\", \"ticks\": \"\"}}, \"title\": {\"x\": 0.05}, \"xaxis\": {\"automargin\": true, \"gridcolor\": \"white\", \"linecolor\": \"white\", \"ticks\": \"\", \"title\": {\"standoff\": 15}, \"zerolinecolor\": \"white\", \"zerolinewidth\": 2}, \"yaxis\": {\"automargin\": true, \"gridcolor\": \"white\", \"linecolor\": \"white\", \"ticks\": \"\", \"title\": {\"standoff\": 15}, \"zerolinecolor\": \"white\", \"zerolinewidth\": 2}}}, \"title\": {\"font\": {\"color\": \"#4D5663\"}, \"text\": \"Top 20 trigrams after removing stop words, UPDATED present\"}, \"xaxis\": {\"gridcolor\": \"#E1E5ED\", \"linecolor\": \"black\", \"showgrid\": true, \"tickfont\": {\"color\": \"#4D5663\"}, \"title\": {\"font\": {\"color\": \"#4D5663\"}, \"text\": \"\"}, \"zerolinecolor\": \"#E1E5ED\"}, \"yaxis\": {\"gridcolor\": \"#E1E5ED\", \"linecolor\": \"black\", \"showgrid\": true, \"tickfont\": {\"color\": \"#4D5663\"}, \"title\": {\"font\": {\"color\": \"#4D5663\"}, \"text\": \"Count\"}, \"zerolinecolor\": \"#E1E5ED\"}},\n",
       "                        {\"showLink\": true, \"linkText\": \"Export to plot.ly\", \"plotlyServerURL\": \"https://plot.ly\", \"responsive\": true}\n",
       "                    ).then(function(){\n",
       "                            \n",
       "var gd = document.getElementById('5127328b-6b0f-4683-9383-57c698608717');\n",
       "var x = new MutationObserver(function (mutations, observer) {{\n",
       "        var display = window.getComputedStyle(gd).display;\n",
       "        if (!display || display === 'none') {{\n",
       "            console.log([gd, 'removed!']);\n",
       "            Plotly.purge(gd);\n",
       "            observer.disconnect();\n",
       "        }}\n",
       "}});\n",
       "\n",
       "// Listen for the removal of the full notebook cells\n",
       "var notebookContainer = gd.closest('#notebook-container');\n",
       "if (notebookContainer) {{\n",
       "    x.observe(notebookContainer, {childList: true});\n",
       "}}\n",
       "\n",
       "// Listen for the clearing of the current output cell\n",
       "var outputEl = gd.closest('.output');\n",
       "if (outputEl) {{\n",
       "    x.observe(outputEl, {childList: true});\n",
       "}}\n",
       "\n",
       "                        })\n",
       "                };\n",
       "                });\n",
       "            </script>\n",
       "        </div>"
      ]
     },
     "metadata": {},
     "output_type": "display_data"
    }
   ],
   "source": [
    "common_words3 = get_top_n_trigram(dpresent, 20)\n",
    "for word, freq in common_words3:\n",
    "    print(word, freq)\n",
    "dfnew3 = pd.DataFrame(common_words3, columns = ['text' , 'count'])\n",
    "dfnew3.groupby('text').sum()['count'].sort_values(ascending=False).iplot(\n",
    "kind='bar', yTitle='Count', linecolor='black', title='Top 20 trigrams after removing stop words, UPDATED present')"
   ]
  },
  {
   "cell_type": "code",
   "execution_count": 19,
   "metadata": {},
   "outputs": [
    {
     "data": {
      "text/html": [
       "<div>\n",
       "<style scoped>\n",
       "    .dataframe tbody tr th:only-of-type {\n",
       "        vertical-align: middle;\n",
       "    }\n",
       "\n",
       "    .dataframe tbody tr th {\n",
       "        vertical-align: top;\n",
       "    }\n",
       "\n",
       "    .dataframe thead th {\n",
       "        text-align: right;\n",
       "    }\n",
       "</style>\n",
       "<table border=\"1\" class=\"dataframe\">\n",
       "  <thead>\n",
       "    <tr style=\"text-align: right;\">\n",
       "      <th></th>\n",
       "      <th>2020</th>\n",
       "      <th>24</th>\n",
       "      <th>after</th>\n",
       "      <th>always</th>\n",
       "      <th>around</th>\n",
       "      <th>away</th>\n",
       "      <th>back</th>\n",
       "      <th>basketball</th>\n",
       "      <th>beautiful</th>\n",
       "      <th>been</th>\n",
       "      <th>...</th>\n",
       "      <th>with</th>\n",
       "      <th>work</th>\n",
       "      <th>world</th>\n",
       "      <th>would</th>\n",
       "      <th>year</th>\n",
       "      <th>years</th>\n",
       "      <th>yesterday</th>\n",
       "      <th>your</th>\n",
       "      <th>youtu</th>\n",
       "      <th>youtube</th>\n",
       "    </tr>\n",
       "  </thead>\n",
       "  <tbody>\n",
       "    <tr>\n",
       "      <td>component_1</td>\n",
       "      <td>0.024673</td>\n",
       "      <td>0.020349</td>\n",
       "      <td>0.027728</td>\n",
       "      <td>0.019858</td>\n",
       "      <td>0.012213</td>\n",
       "      <td>0.012585</td>\n",
       "      <td>0.011559</td>\n",
       "      <td>0.057124</td>\n",
       "      <td>0.010548</td>\n",
       "      <td>0.017236</td>\n",
       "      <td>...</td>\n",
       "      <td>0.073745</td>\n",
       "      <td>0.010016</td>\n",
       "      <td>0.013692</td>\n",
       "      <td>0.020160</td>\n",
       "      <td>0.012413</td>\n",
       "      <td>0.012896</td>\n",
       "      <td>0.009631</td>\n",
       "      <td>0.029776</td>\n",
       "      <td>0.022243</td>\n",
       "      <td>0.020673</td>\n",
       "    </tr>\n",
       "    <tr>\n",
       "      <td>component_2</td>\n",
       "      <td>0.023478</td>\n",
       "      <td>0.040922</td>\n",
       "      <td>0.063211</td>\n",
       "      <td>0.050321</td>\n",
       "      <td>0.023320</td>\n",
       "      <td>0.028959</td>\n",
       "      <td>0.029918</td>\n",
       "      <td>0.142374</td>\n",
       "      <td>0.024576</td>\n",
       "      <td>0.055914</td>\n",
       "      <td>...</td>\n",
       "      <td>0.185603</td>\n",
       "      <td>0.033316</td>\n",
       "      <td>0.026552</td>\n",
       "      <td>0.053633</td>\n",
       "      <td>0.024557</td>\n",
       "      <td>0.030441</td>\n",
       "      <td>0.018434</td>\n",
       "      <td>0.077035</td>\n",
       "      <td>0.009424</td>\n",
       "      <td>0.009362</td>\n",
       "    </tr>\n",
       "    <tr>\n",
       "      <td>component_3</td>\n",
       "      <td>0.069347</td>\n",
       "      <td>0.006801</td>\n",
       "      <td>0.007162</td>\n",
       "      <td>-0.026808</td>\n",
       "      <td>0.010222</td>\n",
       "      <td>-0.013494</td>\n",
       "      <td>-0.010255</td>\n",
       "      <td>-0.059895</td>\n",
       "      <td>-0.004938</td>\n",
       "      <td>-0.042570</td>\n",
       "      <td>...</td>\n",
       "      <td>-0.001771</td>\n",
       "      <td>-0.017231</td>\n",
       "      <td>0.005752</td>\n",
       "      <td>-0.051753</td>\n",
       "      <td>0.008422</td>\n",
       "      <td>-0.009161</td>\n",
       "      <td>0.012067</td>\n",
       "      <td>0.000026</td>\n",
       "      <td>0.047674</td>\n",
       "      <td>0.040805</td>\n",
       "    </tr>\n",
       "    <tr>\n",
       "      <td>component_4</td>\n",
       "      <td>-0.023345</td>\n",
       "      <td>0.032196</td>\n",
       "      <td>0.012390</td>\n",
       "      <td>0.029014</td>\n",
       "      <td>0.001781</td>\n",
       "      <td>-0.014173</td>\n",
       "      <td>0.011098</td>\n",
       "      <td>0.060633</td>\n",
       "      <td>-0.000317</td>\n",
       "      <td>0.064164</td>\n",
       "      <td>...</td>\n",
       "      <td>0.226443</td>\n",
       "      <td>0.051555</td>\n",
       "      <td>-0.008816</td>\n",
       "      <td>0.012272</td>\n",
       "      <td>0.009587</td>\n",
       "      <td>0.012242</td>\n",
       "      <td>-0.008866</td>\n",
       "      <td>0.099260</td>\n",
       "      <td>-0.016288</td>\n",
       "      <td>-0.019701</td>\n",
       "    </tr>\n",
       "  </tbody>\n",
       "</table>\n",
       "<p>4 rows × 200 columns</p>\n",
       "</div>"
      ],
      "text/plain": [
       "                 2020        24     after    always    around      away  \\\n",
       "component_1  0.024673  0.020349  0.027728  0.019858  0.012213  0.012585   \n",
       "component_2  0.023478  0.040922  0.063211  0.050321  0.023320  0.028959   \n",
       "component_3  0.069347  0.006801  0.007162 -0.026808  0.010222 -0.013494   \n",
       "component_4 -0.023345  0.032196  0.012390  0.029014  0.001781 -0.014173   \n",
       "\n",
       "                 back  basketball  beautiful      been  ...      with  \\\n",
       "component_1  0.011559    0.057124   0.010548  0.017236  ...  0.073745   \n",
       "component_2  0.029918    0.142374   0.024576  0.055914  ...  0.185603   \n",
       "component_3 -0.010255   -0.059895  -0.004938 -0.042570  ... -0.001771   \n",
       "component_4  0.011098    0.060633  -0.000317  0.064164  ...  0.226443   \n",
       "\n",
       "                 work     world     would      year     years  yesterday  \\\n",
       "component_1  0.010016  0.013692  0.020160  0.012413  0.012896   0.009631   \n",
       "component_2  0.033316  0.026552  0.053633  0.024557  0.030441   0.018434   \n",
       "component_3 -0.017231  0.005752 -0.051753  0.008422 -0.009161   0.012067   \n",
       "component_4  0.051555 -0.008816  0.012272  0.009587  0.012242  -0.008866   \n",
       "\n",
       "                 your     youtu   youtube  \n",
       "component_1  0.029776  0.022243  0.020673  \n",
       "component_2  0.077035  0.009424  0.009362  \n",
       "component_3  0.000026  0.047674  0.040805  \n",
       "component_4  0.099260 -0.016288 -0.019701  \n",
       "\n",
       "[4 rows x 200 columns]"
      ]
     },
     "execution_count": 19,
     "metadata": {},
     "output_type": "execute_result"
    }
   ],
   "source": [
    "features = features.astype(float)\n",
    "lsa = TruncatedSVD(4, algorithm = 'randomized')\n",
    "dtm_lsa = lsa.fit_transform(features)\n",
    "dtm_lsa = Normalizer(copy=False).fit_transform(dtm_lsa)\n",
    "\n",
    "featuresnew = featuresnew.astype(float)\n",
    "lsa2 = TruncatedSVD(4, algorithm = 'arpack')\n",
    "dtm_lsa2 = lsa2.fit_transform(featuresnew)\n",
    "dtm_lsa2 = Normalizer(copy=False).fit_transform(dtm_lsa2)\n",
    "\n",
    "featurespresent = featurespresent.astype(float)\n",
    "lsa3 = TruncatedSVD(100, algorithm = 'arpack')\n",
    "dtm_lsa3 = lsa3.fit_transform(featuresnew)\n",
    "dtm_lsa3 = Normalizer(copy=False).fit_transform(dtm_lsa2)\n",
    "\n",
    "pd.DataFrame(lsa.components_,index = [\"component_1\",\"component_2\",\"component_3\",\"component_4\"],columns =\n",
    "             c.get_feature_names())\n",
    "#print(dtm_lsa)"
   ]
  },
  {
   "cell_type": "markdown",
   "metadata": {},
   "source": [
    "## Original reduced matrix plotted against its components"
   ]
  },
  {
   "cell_type": "code",
   "execution_count": 20,
   "metadata": {},
   "outputs": [
    {
     "data": {
      "text/html": [
       "<div>\n",
       "<style scoped>\n",
       "    .dataframe tbody tr th:only-of-type {\n",
       "        vertical-align: middle;\n",
       "    }\n",
       "\n",
       "    .dataframe tbody tr th {\n",
       "        vertical-align: top;\n",
       "    }\n",
       "\n",
       "    .dataframe thead th {\n",
       "        text-align: right;\n",
       "    }\n",
       "</style>\n",
       "<table border=\"1\" class=\"dataframe\">\n",
       "  <thead>\n",
       "    <tr style=\"text-align: right;\">\n",
       "      <th></th>\n",
       "      <th>component_1</th>\n",
       "      <th>component_2</th>\n",
       "      <th>component_3</th>\n",
       "      <th>component_4</th>\n",
       "    </tr>\n",
       "    <tr>\n",
       "      <th>text</th>\n",
       "      <th></th>\n",
       "      <th></th>\n",
       "      <th></th>\n",
       "      <th></th>\n",
       "    </tr>\n",
       "  </thead>\n",
       "  <tbody>\n",
       "    <tr>\n",
       "      <td>Kobe is a hero basketball NBA shocking</td>\n",
       "      <td>0.822072</td>\n",
       "      <td>-0.014068</td>\n",
       "      <td>-0.523421</td>\n",
       "      <td>0.223673</td>\n",
       "    </tr>\n",
       "    <tr>\n",
       "      <td>Kobe Bryant  #BlackMamba\\n\\nGianna Bryant \\n\\n7 others un-named\\n\\n</td>\n",
       "      <td>0.588021</td>\n",
       "      <td>0.246066</td>\n",
       "      <td>0.767190</td>\n",
       "      <td>-0.071430</td>\n",
       "    </tr>\n",
       "    <tr>\n",
       "      <td>Watch @CBCNews's broadcast: Kobe Bryant killed in helicopter crash | Police update https://www.pscp.tv/w/cP4fczFQbUVxa1haQURLb1l8MVlxR29RZU1CZWt4di6V4GzDn1Q69DQB4zMX4EvB7xDEFR4YLeYsJvgsPTA6 …</td>\n",
       "      <td>0.522535</td>\n",
       "      <td>0.243798</td>\n",
       "      <td>0.812031</td>\n",
       "      <td>-0.090140</td>\n",
       "    </tr>\n",
       "    <tr>\n",
       "      <td>People really in Lebron ig comments saying he killed Kobe!  fucking sick !</td>\n",
       "      <td>0.298687</td>\n",
       "      <td>0.793392</td>\n",
       "      <td>-0.344174</td>\n",
       "      <td>-0.403559</td>\n",
       "    </tr>\n",
       "    <tr>\n",
       "      <td>I totally Agree Mr President. What a huge loss. I was fortunate to have met Kobe years ago. He loved his Family. My Prayers and Condolences go out to is Family.\\n@Natalia4Trumphttps://twitter.com/realDonaldTrump/status/1221582230008619016 …</td>\n",
       "      <td>0.322543</td>\n",
       "      <td>0.841136</td>\n",
       "      <td>-0.317674</td>\n",
       "      <td>0.295870</td>\n",
       "    </tr>\n",
       "    <tr>\n",
       "      <td>...</td>\n",
       "      <td>...</td>\n",
       "      <td>...</td>\n",
       "      <td>...</td>\n",
       "      <td>...</td>\n",
       "    </tr>\n",
       "    <tr>\n",
       "      <td>i miss this dude kobe sm and i never met em</td>\n",
       "      <td>0.170868</td>\n",
       "      <td>0.455314</td>\n",
       "      <td>-0.303716</td>\n",
       "      <td>-0.819299</td>\n",
       "    </tr>\n",
       "    <tr>\n",
       "      <td>They’re honoring Kobe AND GiGi at the AAA  #RIPMamba #RIPKobeandGiannapic.twitter.com/GWbi6Dhpid</td>\n",
       "      <td>0.346289</td>\n",
       "      <td>0.807590</td>\n",
       "      <td>-0.281347</td>\n",
       "      <td>0.385651</td>\n",
       "    </tr>\n",
       "    <tr>\n",
       "      <td>Hell, I love Kobe more than I love most of my family. I know Kobe is only 14 years older than me, but it feels like I lost the dad I always wanted.</td>\n",
       "      <td>0.269667</td>\n",
       "      <td>0.711332</td>\n",
       "      <td>-0.348367</td>\n",
       "      <td>0.547656</td>\n",
       "    </tr>\n",
       "    <tr>\n",
       "      <td>hard throbbing cocks</td>\n",
       "      <td>0.246499</td>\n",
       "      <td>0.708148</td>\n",
       "      <td>-0.342867</td>\n",
       "      <td>0.565868</td>\n",
       "    </tr>\n",
       "    <tr>\n",
       "      <td>NBA: Petition to make Kobe Bryant the new NBA Logo - Sign the Petition! http://chng.it/dmWCBBxN  via @Change</td>\n",
       "      <td>0.903577</td>\n",
       "      <td>-0.409161</td>\n",
       "      <td>-0.126860</td>\n",
       "      <td>0.006417</td>\n",
       "    </tr>\n",
       "  </tbody>\n",
       "</table>\n",
       "<p>980 rows × 4 columns</p>\n",
       "</div>"
      ],
      "text/plain": [
       "                                                    component_1  component_2  \\\n",
       "text                                                                           \n",
       "Kobe is a hero basketball NBA shocking                 0.822072    -0.014068   \n",
       "Kobe Bryant  #BlackMamba\\n\\nGianna Bryant \\n\\n7...     0.588021     0.246066   \n",
       "Watch @CBCNews's broadcast: Kobe Bryant killed ...     0.522535     0.243798   \n",
       "People really in Lebron ig comments saying he k...     0.298687     0.793392   \n",
       "I totally Agree Mr President. What a huge loss....     0.322543     0.841136   \n",
       "...                                                         ...          ...   \n",
       "i miss this dude kobe sm and i never met em            0.170868     0.455314   \n",
       "They’re honoring Kobe AND GiGi at the AAA  #RIP...     0.346289     0.807590   \n",
       "Hell, I love Kobe more than I love most of my f...     0.269667     0.711332   \n",
       "hard throbbing cocks                                   0.246499     0.708148   \n",
       "NBA: Petition to make Kobe Bryant the new NBA L...     0.903577    -0.409161   \n",
       "\n",
       "                                                    component_3  component_4  \n",
       "text                                                                          \n",
       "Kobe is a hero basketball NBA shocking                -0.523421     0.223673  \n",
       "Kobe Bryant  #BlackMamba\\n\\nGianna Bryant \\n\\n7...     0.767190    -0.071430  \n",
       "Watch @CBCNews's broadcast: Kobe Bryant killed ...     0.812031    -0.090140  \n",
       "People really in Lebron ig comments saying he k...    -0.344174    -0.403559  \n",
       "I totally Agree Mr President. What a huge loss....    -0.317674     0.295870  \n",
       "...                                                         ...          ...  \n",
       "i miss this dude kobe sm and i never met em           -0.303716    -0.819299  \n",
       "They’re honoring Kobe AND GiGi at the AAA  #RIP...    -0.281347     0.385651  \n",
       "Hell, I love Kobe more than I love most of my f...    -0.348367     0.547656  \n",
       "hard throbbing cocks                                  -0.342867     0.565868  \n",
       "NBA: Petition to make Kobe Bryant the new NBA L...    -0.126860     0.006417  \n",
       "\n",
       "[980 rows x 4 columns]"
      ]
     },
     "execution_count": 20,
     "metadata": {},
     "output_type": "execute_result"
    }
   ],
   "source": [
    "pd.DataFrame(dtm_lsa, index = d, columns = [\"component_1\",\"component_2\",\"component_3\",\"component_4\"\n",
    "])\n",
    "#pd.DataFrame(dtm_lsa2, index = dnew, columns = [\"component_1\",\"component_2\",\"component_3\",\"component_4\"\n",
    "#])"
   ]
  },
  {
   "cell_type": "markdown",
   "metadata": {},
   "source": [
    "### Orginal reduced matrix plotted against itself\n",
    "### We insert a \"fake tweet\" into (0,0) spot to show how every real tweet is related to it. Note the relevant comments are more similar\n",
    "### We can generalize this as well to find specific similarities"
   ]
  },
  {
   "cell_type": "code",
   "execution_count": 21,
   "metadata": {},
   "outputs": [
    {
     "data": {
      "text/html": [
       "<div>\n",
       "<style scoped>\n",
       "    .dataframe tbody tr th:only-of-type {\n",
       "        vertical-align: middle;\n",
       "    }\n",
       "\n",
       "    .dataframe tbody tr th {\n",
       "        vertical-align: top;\n",
       "    }\n",
       "\n",
       "    .dataframe thead th {\n",
       "        text-align: right;\n",
       "    }\n",
       "</style>\n",
       "<table border=\"1\" class=\"dataframe\">\n",
       "  <thead>\n",
       "    <tr style=\"text-align: right;\">\n",
       "      <th></th>\n",
       "      <th>0</th>\n",
       "      <th>1</th>\n",
       "      <th>2</th>\n",
       "      <th>3</th>\n",
       "      <th>4</th>\n",
       "      <th>5</th>\n",
       "      <th>6</th>\n",
       "      <th>7</th>\n",
       "      <th>8</th>\n",
       "      <th>9</th>\n",
       "      <th>...</th>\n",
       "      <th>1013</th>\n",
       "      <th>1014</th>\n",
       "      <th>1015</th>\n",
       "      <th>1016</th>\n",
       "      <th>1017</th>\n",
       "      <th>1018</th>\n",
       "      <th>1019</th>\n",
       "      <th>1020</th>\n",
       "      <th>1021</th>\n",
       "      <th>1022</th>\n",
       "    </tr>\n",
       "    <tr>\n",
       "      <th>text</th>\n",
       "      <th></th>\n",
       "      <th></th>\n",
       "      <th></th>\n",
       "      <th></th>\n",
       "      <th></th>\n",
       "      <th></th>\n",
       "      <th></th>\n",
       "      <th></th>\n",
       "      <th></th>\n",
       "      <th></th>\n",
       "      <th></th>\n",
       "      <th></th>\n",
       "      <th></th>\n",
       "      <th></th>\n",
       "      <th></th>\n",
       "      <th></th>\n",
       "      <th></th>\n",
       "      <th></th>\n",
       "      <th></th>\n",
       "      <th></th>\n",
       "      <th></th>\n",
       "    </tr>\n",
       "  </thead>\n",
       "  <tbody>\n",
       "    <tr>\n",
       "      <td>Kobe is a hero basketball NBA shocking</td>\n",
       "      <td>1.000000</td>\n",
       "      <td>0.062393</td>\n",
       "      <td>-0.019065</td>\n",
       "      <td>0.324264</td>\n",
       "      <td>0.485776</td>\n",
       "      <td>0.059478</td>\n",
       "      <td>0.399724</td>\n",
       "      <td>-0.012269</td>\n",
       "      <td>0.509939</td>\n",
       "      <td>0.539382</td>\n",
       "      <td>...</td>\n",
       "      <td>0.503057</td>\n",
       "      <td>0.372616</td>\n",
       "      <td>0.089813</td>\n",
       "      <td>0.333573</td>\n",
       "      <td>0.536886</td>\n",
       "      <td>0.109777</td>\n",
       "      <td>0.506836</td>\n",
       "      <td>0.516516</td>\n",
       "      <td>0.498711</td>\n",
       "      <td>0.816399</td>\n",
       "    </tr>\n",
       "    <tr>\n",
       "      <td>Kobe Bryant  #BlackMamba\\n\\nGianna Bryant \\n\\n7 others un-named\\n\\n</td>\n",
       "      <td>0.062393</td>\n",
       "      <td>1.000000</td>\n",
       "      <td>0.996673</td>\n",
       "      <td>0.135640</td>\n",
       "      <td>0.131787</td>\n",
       "      <td>0.999115</td>\n",
       "      <td>0.791433</td>\n",
       "      <td>0.771531</td>\n",
       "      <td>0.107135</td>\n",
       "      <td>-0.098291</td>\n",
       "      <td>...</td>\n",
       "      <td>0.100568</td>\n",
       "      <td>0.351653</td>\n",
       "      <td>0.997946</td>\n",
       "      <td>0.060643</td>\n",
       "      <td>0.035327</td>\n",
       "      <td>0.038025</td>\n",
       "      <td>0.158952</td>\n",
       "      <td>0.027222</td>\n",
       "      <td>0.015734</td>\n",
       "      <td>0.332858</td>\n",
       "    </tr>\n",
       "    <tr>\n",
       "      <td>Watch @CBCNews's broadcast: Kobe Bryant killed in helicopter crash | Police update https://www.pscp.tv/w/cP4fczFQbUVxa1haQURLb1l8MVlxR29RZU1CZWt4di6V4GzDn1Q69DQB4zMX4EvB7xDEFR4YLeYsJvgsPTA6 …</td>\n",
       "      <td>-0.019065</td>\n",
       "      <td>0.996673</td>\n",
       "      <td>1.000000</td>\n",
       "      <td>0.106398</td>\n",
       "      <td>0.088977</td>\n",
       "      <td>0.996185</td>\n",
       "      <td>0.758301</td>\n",
       "      <td>0.772348</td>\n",
       "      <td>0.062348</td>\n",
       "      <td>-0.145267</td>\n",
       "      <td>...</td>\n",
       "      <td>0.056562</td>\n",
       "      <td>0.318833</td>\n",
       "      <td>0.992596</td>\n",
       "      <td>0.030612</td>\n",
       "      <td>-0.011424</td>\n",
       "      <td>0.027513</td>\n",
       "      <td>0.114612</td>\n",
       "      <td>-0.017919</td>\n",
       "      <td>-0.027976</td>\n",
       "      <td>0.268805</td>\n",
       "    </tr>\n",
       "    <tr>\n",
       "      <td>People really in Lebron ig comments saying he killed Kobe!  fucking sick !</td>\n",
       "      <td>0.324264</td>\n",
       "      <td>0.135640</td>\n",
       "      <td>0.106398</td>\n",
       "      <td>1.000000</td>\n",
       "      <td>0.753624</td>\n",
       "      <td>0.097856</td>\n",
       "      <td>0.513862</td>\n",
       "      <td>0.105907</td>\n",
       "      <td>0.759090</td>\n",
       "      <td>0.454259</td>\n",
       "      <td>...</td>\n",
       "      <td>0.586526</td>\n",
       "      <td>0.966286</td>\n",
       "      <td>0.113136</td>\n",
       "      <td>0.996007</td>\n",
       "      <td>0.549861</td>\n",
       "      <td>0.847444</td>\n",
       "      <td>0.685367</td>\n",
       "      <td>0.543798</td>\n",
       "      <td>0.525110</td>\n",
       "      <td>-0.013666</td>\n",
       "    </tr>\n",
       "    <tr>\n",
       "      <td>I totally Agree Mr President. What a huge loss. I was fortunate to have met Kobe years ago. He loved his Family. My Prayers and Condolences go out to is Family.\\n@Natalia4Trumphttps://twitter.com/realDonaldTrump/status/1221582230008619016 …</td>\n",
       "      <td>0.485776</td>\n",
       "      <td>0.131787</td>\n",
       "      <td>0.088977</td>\n",
       "      <td>0.753624</td>\n",
       "      <td>1.000000</td>\n",
       "      <td>0.096769</td>\n",
       "      <td>0.703607</td>\n",
       "      <td>0.469320</td>\n",
       "      <td>0.999220</td>\n",
       "      <td>0.910012</td>\n",
       "      <td>...</td>\n",
       "      <td>0.974164</td>\n",
       "      <td>0.819565</td>\n",
       "      <td>0.095465</td>\n",
       "      <td>0.723467</td>\n",
       "      <td>0.959521</td>\n",
       "      <td>0.292169</td>\n",
       "      <td>0.994465</td>\n",
       "      <td>0.958008</td>\n",
       "      <td>0.951499</td>\n",
       "      <td>-0.010519</td>\n",
       "    </tr>\n",
       "    <tr>\n",
       "      <td>@dotNoso predicted Kobe Bryant’s death</td>\n",
       "      <td>0.059478</td>\n",
       "      <td>0.999115</td>\n",
       "      <td>0.996185</td>\n",
       "      <td>0.097856</td>\n",
       "      <td>0.096769</td>\n",
       "      <td>1.000000</td>\n",
       "      <td>0.771516</td>\n",
       "      <td>0.760588</td>\n",
       "      <td>0.072295</td>\n",
       "      <td>-0.123717</td>\n",
       "      <td>...</td>\n",
       "      <td>0.070540</td>\n",
       "      <td>0.314918</td>\n",
       "      <td>0.998993</td>\n",
       "      <td>0.023516</td>\n",
       "      <td>0.006854</td>\n",
       "      <td>0.011488</td>\n",
       "      <td>0.126276</td>\n",
       "      <td>-0.001447</td>\n",
       "      <td>-0.012662</td>\n",
       "      <td>0.348993</td>\n",
       "    </tr>\n",
       "    <tr>\n",
       "      <td>RIP KOBE BRYANT MY IDOL DIED.  https://twitter.com/PopCrave/status/1221515370143604737 …</td>\n",
       "      <td>0.399724</td>\n",
       "      <td>0.791433</td>\n",
       "      <td>0.758301</td>\n",
       "      <td>0.513862</td>\n",
       "      <td>0.703607</td>\n",
       "      <td>0.771516</td>\n",
       "      <td>1.000000</td>\n",
       "      <td>0.842478</td>\n",
       "      <td>0.686741</td>\n",
       "      <td>0.512480</td>\n",
       "      <td>...</td>\n",
       "      <td>0.681148</td>\n",
       "      <td>0.717170</td>\n",
       "      <td>0.770647</td>\n",
       "      <td>0.441924</td>\n",
       "      <td>0.630902</td>\n",
       "      <td>0.145818</td>\n",
       "      <td>0.727195</td>\n",
       "      <td>0.623216</td>\n",
       "      <td>0.611235</td>\n",
       "      <td>0.291395</td>\n",
       "    </tr>\n",
       "    <tr>\n",
       "      <td>Goodbye Kobe. Rest in Peace. pic.twitter.com/UegrfwOUW4</td>\n",
       "      <td>-0.012269</td>\n",
       "      <td>0.771531</td>\n",
       "      <td>0.772348</td>\n",
       "      <td>0.105907</td>\n",
       "      <td>0.469320</td>\n",
       "      <td>0.760588</td>\n",
       "      <td>0.842478</td>\n",
       "      <td>1.000000</td>\n",
       "      <td>0.437994</td>\n",
       "      <td>0.385346</td>\n",
       "      <td>...</td>\n",
       "      <td>0.524930</td>\n",
       "      <td>0.341790</td>\n",
       "      <td>0.737509</td>\n",
       "      <td>0.017813</td>\n",
       "      <td>0.473664</td>\n",
       "      <td>-0.272322</td>\n",
       "      <td>0.522186</td>\n",
       "      <td>0.477216</td>\n",
       "      <td>0.480581</td>\n",
       "      <td>-0.038770</td>\n",
       "    </tr>\n",
       "    <tr>\n",
       "      <td>I knew basketball because of Kobe</td>\n",
       "      <td>0.509939</td>\n",
       "      <td>0.107135</td>\n",
       "      <td>0.062348</td>\n",
       "      <td>0.759090</td>\n",
       "      <td>0.999220</td>\n",
       "      <td>0.072295</td>\n",
       "      <td>0.686741</td>\n",
       "      <td>0.437994</td>\n",
       "      <td>1.000000</td>\n",
       "      <td>0.913636</td>\n",
       "      <td>...</td>\n",
       "      <td>0.972246</td>\n",
       "      <td>0.818587</td>\n",
       "      <td>0.072358</td>\n",
       "      <td>0.731935</td>\n",
       "      <td>0.960097</td>\n",
       "      <td>0.303041</td>\n",
       "      <td>0.992519</td>\n",
       "      <td>0.958042</td>\n",
       "      <td>0.951059</td>\n",
       "      <td>0.008022</td>\n",
       "    </tr>\n",
       "    <tr>\n",
       "      <td>I grew up on Kobe , my first Alexandra fair .. in a Kobe jersey .. dammn man</td>\n",
       "      <td>0.539382</td>\n",
       "      <td>-0.098291</td>\n",
       "      <td>-0.145267</td>\n",
       "      <td>0.454259</td>\n",
       "      <td>0.910012</td>\n",
       "      <td>-0.123717</td>\n",
       "      <td>0.512480</td>\n",
       "      <td>0.385346</td>\n",
       "      <td>0.913636</td>\n",
       "      <td>1.000000</td>\n",
       "      <td>...</td>\n",
       "      <td>0.970287</td>\n",
       "      <td>0.516254</td>\n",
       "      <td>-0.129916</td>\n",
       "      <td>0.434072</td>\n",
       "      <td>0.986927</td>\n",
       "      <td>-0.056651</td>\n",
       "      <td>0.934300</td>\n",
       "      <td>0.987718</td>\n",
       "      <td>0.989522</td>\n",
       "      <td>0.006853</td>\n",
       "    </tr>\n",
       "    <tr>\n",
       "      <td>Heroes come and go but legends are forever. Thank you Kobe, Rest In Paradise legend pic.twitter.com/uK4Somsk81</td>\n",
       "      <td>0.147544</td>\n",
       "      <td>0.700463</td>\n",
       "      <td>0.687138</td>\n",
       "      <td>0.440464</td>\n",
       "      <td>0.726139</td>\n",
       "      <td>0.677086</td>\n",
       "      <td>0.937917</td>\n",
       "      <td>0.935476</td>\n",
       "      <td>0.701197</td>\n",
       "      <td>0.572022</td>\n",
       "      <td>...</td>\n",
       "      <td>0.729771</td>\n",
       "      <td>0.641014</td>\n",
       "      <td>0.661357</td>\n",
       "      <td>0.361062</td>\n",
       "      <td>0.676153</td>\n",
       "      <td>0.015625</td>\n",
       "      <td>0.753825</td>\n",
       "      <td>0.677309</td>\n",
       "      <td>0.674605</td>\n",
       "      <td>-0.030426</td>\n",
       "    </tr>\n",
       "    <tr>\n",
       "      <td>Kobe from the 90s</td>\n",
       "      <td>-0.090413</td>\n",
       "      <td>-0.114594</td>\n",
       "      <td>-0.107305</td>\n",
       "      <td>0.479121</td>\n",
       "      <td>-0.205709</td>\n",
       "      <td>-0.123572</td>\n",
       "      <td>-0.264274</td>\n",
       "      <td>-0.590111</td>\n",
       "      <td>-0.190703</td>\n",
       "      <td>-0.491437</td>\n",
       "      <td>...</td>\n",
       "      <td>-0.413404</td>\n",
       "      <td>0.313059</td>\n",
       "      <td>-0.096044</td>\n",
       "      <td>0.525683</td>\n",
       "      <td>-0.435606</td>\n",
       "      <td>0.870900</td>\n",
       "      <td>-0.301781</td>\n",
       "      <td>-0.443327</td>\n",
       "      <td>-0.462351</td>\n",
       "      <td>0.022462</td>\n",
       "    </tr>\n",
       "    <tr>\n",
       "      <td>rest in peace kobe</td>\n",
       "      <td>0.090535</td>\n",
       "      <td>0.614541</td>\n",
       "      <td>0.606553</td>\n",
       "      <td>0.058141</td>\n",
       "      <td>0.553976</td>\n",
       "      <td>0.603691</td>\n",
       "      <td>0.796512</td>\n",
       "      <td>0.967422</td>\n",
       "      <td>0.526778</td>\n",
       "      <td>0.559459</td>\n",
       "      <td>...</td>\n",
       "      <td>0.649065</td>\n",
       "      <td>0.286933</td>\n",
       "      <td>0.578876</td>\n",
       "      <td>-0.023831</td>\n",
       "      <td>0.615688</td>\n",
       "      <td>-0.399004</td>\n",
       "      <td>0.618705</td>\n",
       "      <td>0.620244</td>\n",
       "      <td>0.627076</td>\n",
       "      <td>-0.037181</td>\n",
       "    </tr>\n",
       "    <tr>\n",
       "      <td>This so sad about Kobe Bryant  and daughter</td>\n",
       "      <td>0.099097</td>\n",
       "      <td>0.813399</td>\n",
       "      <td>0.805713</td>\n",
       "      <td>0.608331</td>\n",
       "      <td>0.288239</td>\n",
       "      <td>0.796467</td>\n",
       "      <td>0.718315</td>\n",
       "      <td>0.466281</td>\n",
       "      <td>0.274351</td>\n",
       "      <td>-0.098407</td>\n",
       "      <td>...</td>\n",
       "      <td>0.135387</td>\n",
       "      <td>0.714255</td>\n",
       "      <td>0.808830</td>\n",
       "      <td>0.561414</td>\n",
       "      <td>0.061380</td>\n",
       "      <td>0.611525</td>\n",
       "      <td>0.253755</td>\n",
       "      <td>0.050927</td>\n",
       "      <td>0.029490</td>\n",
       "      <td>0.240652</td>\n",
       "    </tr>\n",
       "    <tr>\n",
       "      <td>Every time they show the NBA reactions I just bust out crying! I never thought I would be this emotional over a celebrity! Man Kobe was my guy! #RIPKobeByrant</td>\n",
       "      <td>0.655474</td>\n",
       "      <td>-0.033530</td>\n",
       "      <td>-0.089626</td>\n",
       "      <td>0.906739</td>\n",
       "      <td>0.817021</td>\n",
       "      <td>-0.065703</td>\n",
       "      <td>0.466193</td>\n",
       "      <td>-0.007348</td>\n",
       "      <td>0.834210</td>\n",
       "      <td>0.649591</td>\n",
       "      <td>...</td>\n",
       "      <td>0.704964</td>\n",
       "      <td>0.871143</td>\n",
       "      <td>-0.043119</td>\n",
       "      <td>0.916785</td>\n",
       "      <td>0.700653</td>\n",
       "      <td>0.681037</td>\n",
       "      <td>0.770308</td>\n",
       "      <td>0.689776</td>\n",
       "      <td>0.670748</td>\n",
       "      <td>0.240802</td>\n",
       "    </tr>\n",
       "    <tr>\n",
       "      <td>GOD have Mercy!!!!\\n\\nRIP kobe Bryant,  Gianna and All the Victims. \\n#BlackMambaForever</td>\n",
       "      <td>0.100815</td>\n",
       "      <td>0.993463</td>\n",
       "      <td>0.986564</td>\n",
       "      <td>0.231764</td>\n",
       "      <td>0.240868</td>\n",
       "      <td>0.988060</td>\n",
       "      <td>0.850920</td>\n",
       "      <td>0.802882</td>\n",
       "      <td>0.216454</td>\n",
       "      <td>-0.003310</td>\n",
       "      <td>...</td>\n",
       "      <td>0.202152</td>\n",
       "      <td>0.447315</td>\n",
       "      <td>0.986763</td>\n",
       "      <td>0.155269</td>\n",
       "      <td>0.135198</td>\n",
       "      <td>0.090805</td>\n",
       "      <td>0.264312</td>\n",
       "      <td>0.127287</td>\n",
       "      <td>0.115135</td>\n",
       "      <td>0.309757</td>\n",
       "    </tr>\n",
       "    <tr>\n",
       "      <td>Shocked!! RIP Kobe!! #nba #legend #BlackMambaRIP</td>\n",
       "      <td>0.951056</td>\n",
       "      <td>0.349660</td>\n",
       "      <td>0.272534</td>\n",
       "      <td>0.426212</td>\n",
       "      <td>0.515142</td>\n",
       "      <td>0.343978</td>\n",
       "      <td>0.611046</td>\n",
       "      <td>0.181655</td>\n",
       "      <td>0.531468</td>\n",
       "      <td>0.461642</td>\n",
       "      <td>...</td>\n",
       "      <td>0.498894</td>\n",
       "      <td>0.521054</td>\n",
       "      <td>0.374212</td>\n",
       "      <td>0.415681</td>\n",
       "      <td>0.507441</td>\n",
       "      <td>0.217092</td>\n",
       "      <td>0.532312</td>\n",
       "      <td>0.485482</td>\n",
       "      <td>0.463441</td>\n",
       "      <td>0.849111</td>\n",
       "    </tr>\n",
       "    <tr>\n",
       "      <td>R.I.P. Kobe and His Daughter.</td>\n",
       "      <td>-0.049112</td>\n",
       "      <td>0.847087</td>\n",
       "      <td>0.850710</td>\n",
       "      <td>0.318263</td>\n",
       "      <td>0.495679</td>\n",
       "      <td>0.829880</td>\n",
       "      <td>0.891419</td>\n",
       "      <td>0.954540</td>\n",
       "      <td>0.464569</td>\n",
       "      <td>0.291747</td>\n",
       "      <td>...</td>\n",
       "      <td>0.483320</td>\n",
       "      <td>0.530633</td>\n",
       "      <td>0.812544</td>\n",
       "      <td>0.232517</td>\n",
       "      <td>0.415179</td>\n",
       "      <td>0.010630</td>\n",
       "      <td>0.521030</td>\n",
       "      <td>0.416893</td>\n",
       "      <td>0.414059</td>\n",
       "      <td>-0.056094</td>\n",
       "    </tr>\n",
       "    <tr>\n",
       "      <td>Words can’t describe this tragic situation. RIP to Kobe, Gigi, and everyone else on board!!! #MambaMentality https://twitter.com/bobbywbal/status/1221532085044666369 …</td>\n",
       "      <td>0.161276</td>\n",
       "      <td>0.129621</td>\n",
       "      <td>0.114525</td>\n",
       "      <td>0.928158</td>\n",
       "      <td>0.455232</td>\n",
       "      <td>0.098292</td>\n",
       "      <td>0.312476</td>\n",
       "      <td>-0.105518</td>\n",
       "      <td>0.462444</td>\n",
       "      <td>0.096233</td>\n",
       "      <td>...</td>\n",
       "      <td>0.243166</td>\n",
       "      <td>0.849663</td>\n",
       "      <td>0.119534</td>\n",
       "      <td>0.938174</td>\n",
       "      <td>0.200350</td>\n",
       "      <td>0.981207</td>\n",
       "      <td>0.366546</td>\n",
       "      <td>0.192925</td>\n",
       "      <td>0.171168</td>\n",
       "      <td>-0.009094</td>\n",
       "    </tr>\n",
       "    <tr>\n",
       "      <td>First NBA game I went to.. Kobe.. and he dropped 58.</td>\n",
       "      <td>0.984416</td>\n",
       "      <td>0.009796</td>\n",
       "      <td>-0.070226</td>\n",
       "      <td>0.178779</td>\n",
       "      <td>0.437069</td>\n",
       "      <td>0.011237</td>\n",
       "      <td>0.342942</td>\n",
       "      <td>0.000473</td>\n",
       "      <td>0.460615</td>\n",
       "      <td>0.560634</td>\n",
       "      <td>...</td>\n",
       "      <td>0.493311</td>\n",
       "      <td>0.236791</td>\n",
       "      <td>0.037528</td>\n",
       "      <td>0.187503</td>\n",
       "      <td>0.536497</td>\n",
       "      <td>-0.060459</td>\n",
       "      <td>0.473221</td>\n",
       "      <td>0.517787</td>\n",
       "      <td>0.504177</td>\n",
       "      <td>0.803129</td>\n",
       "    </tr>\n",
       "    <tr>\n",
       "      <td>Amen to that.   RIP Kobe Bryant. https://twitter.com/4thandjawn/status/1221523349827936258 …</td>\n",
       "      <td>0.166045</td>\n",
       "      <td>0.932488</td>\n",
       "      <td>0.919875</td>\n",
       "      <td>0.458746</td>\n",
       "      <td>0.291002</td>\n",
       "      <td>0.920955</td>\n",
       "      <td>0.823643</td>\n",
       "      <td>0.634896</td>\n",
       "      <td>0.273302</td>\n",
       "      <td>-0.036266</td>\n",
       "      <td>...</td>\n",
       "      <td>0.188873</td>\n",
       "      <td>0.623422</td>\n",
       "      <td>0.929457</td>\n",
       "      <td>0.397154</td>\n",
       "      <td>0.118186</td>\n",
       "      <td>0.386910</td>\n",
       "      <td>0.284633</td>\n",
       "      <td>0.107112</td>\n",
       "      <td>0.088159</td>\n",
       "      <td>0.342254</td>\n",
       "    </tr>\n",
       "    <tr>\n",
       "      <td>\"Kobe Bryant, daughter and seven others killed in helicopter crash\"  https://twitter.com/i/events/1221516526160769024 …</td>\n",
       "      <td>-0.041492</td>\n",
       "      <td>0.992230</td>\n",
       "      <td>0.997167</td>\n",
       "      <td>0.112848</td>\n",
       "      <td>0.129591</td>\n",
       "      <td>0.990161</td>\n",
       "      <td>0.779027</td>\n",
       "      <td>0.815022</td>\n",
       "      <td>0.101317</td>\n",
       "      <td>-0.098192</td>\n",
       "      <td>...</td>\n",
       "      <td>0.103593</td>\n",
       "      <td>0.330468</td>\n",
       "      <td>0.983723</td>\n",
       "      <td>0.033849</td>\n",
       "      <td>0.034671</td>\n",
       "      <td>0.003050</td>\n",
       "      <td>0.157298</td>\n",
       "      <td>0.029626</td>\n",
       "      <td>0.021084</td>\n",
       "      <td>0.218033</td>\n",
       "    </tr>\n",
       "    <tr>\n",
       "      <td>Sleep in peace, Kobe  A better world outside this awaits you</td>\n",
       "      <td>0.098920</td>\n",
       "      <td>0.201322</td>\n",
       "      <td>0.191654</td>\n",
       "      <td>0.891492</td>\n",
       "      <td>0.382402</td>\n",
       "      <td>0.172011</td>\n",
       "      <td>0.315714</td>\n",
       "      <td>-0.081795</td>\n",
       "      <td>0.387045</td>\n",
       "      <td>0.001494</td>\n",
       "      <td>...</td>\n",
       "      <td>0.164217</td>\n",
       "      <td>0.821869</td>\n",
       "      <td>0.192755</td>\n",
       "      <td>0.897717</td>\n",
       "      <td>0.115120</td>\n",
       "      <td>0.981091</td>\n",
       "      <td>0.293543</td>\n",
       "      <td>0.107657</td>\n",
       "      <td>0.085555</td>\n",
       "      <td>-0.008694</td>\n",
       "    </tr>\n",
       "    <tr>\n",
       "      <td>Rest Up !! 24 4L Sending my deepest condolences to Kobe’s  family  Sorry Gigi Rest In Peace  pic.twitter.com/yCUvrTQlSi</td>\n",
       "      <td>0.302485</td>\n",
       "      <td>0.408409</td>\n",
       "      <td>0.381979</td>\n",
       "      <td>0.283182</td>\n",
       "      <td>0.797920</td>\n",
       "      <td>0.388445</td>\n",
       "      <td>0.800903</td>\n",
       "      <td>0.843780</td>\n",
       "      <td>0.780536</td>\n",
       "      <td>0.818119</td>\n",
       "      <td>...</td>\n",
       "      <td>0.878436</td>\n",
       "      <td>0.468221</td>\n",
       "      <td>0.369640</td>\n",
       "      <td>0.216893</td>\n",
       "      <td>0.859105</td>\n",
       "      <td>-0.251091</td>\n",
       "      <td>0.849226</td>\n",
       "      <td>0.862082</td>\n",
       "      <td>0.866294</td>\n",
       "      <td>-0.017223</td>\n",
       "    </tr>\n",
       "    <tr>\n",
       "      <td>Amen!! Kobe is synonymous with the Staples Center and Los Angeles! It was common to drive around LA and see billboards of Kobe and the Lakers. Fans deserve to mourn Kobe and Gianna!</td>\n",
       "      <td>0.346927</td>\n",
       "      <td>0.401838</td>\n",
       "      <td>0.371371</td>\n",
       "      <td>0.454257</td>\n",
       "      <td>0.886526</td>\n",
       "      <td>0.376089</td>\n",
       "      <td>0.840817</td>\n",
       "      <td>0.801364</td>\n",
       "      <td>0.871608</td>\n",
       "      <td>0.849480</td>\n",
       "      <td>...</td>\n",
       "      <td>0.929776</td>\n",
       "      <td>0.619211</td>\n",
       "      <td>0.361654</td>\n",
       "      <td>0.392214</td>\n",
       "      <td>0.905234</td>\n",
       "      <td>-0.071877</td>\n",
       "      <td>0.921218</td>\n",
       "      <td>0.906789</td>\n",
       "      <td>0.907116</td>\n",
       "      <td>-0.016306</td>\n",
       "    </tr>\n",
       "  </tbody>\n",
       "</table>\n",
       "<p>25 rows × 980 columns</p>\n",
       "</div>"
      ],
      "text/plain": [
       "                                                        0         1     \\\n",
       "text                                                                     \n",
       "Kobe is a hero basketball NBA shocking              1.000000  0.062393   \n",
       "Kobe Bryant  #BlackMamba\\n\\nGianna Bryant \\n\\n7...  0.062393  1.000000   \n",
       "Watch @CBCNews's broadcast: Kobe Bryant killed ... -0.019065  0.996673   \n",
       "People really in Lebron ig comments saying he k...  0.324264  0.135640   \n",
       "I totally Agree Mr President. What a huge loss....  0.485776  0.131787   \n",
       "@dotNoso predicted Kobe Bryant’s death              0.059478  0.999115   \n",
       "RIP KOBE BRYANT MY IDOL DIED.  https://twitter....  0.399724  0.791433   \n",
       "Goodbye Kobe. Rest in Peace. pic.twitter.com/Ue... -0.012269  0.771531   \n",
       "I knew basketball because of Kobe                   0.509939  0.107135   \n",
       "I grew up on Kobe , my first Alexandra fair .. ...  0.539382 -0.098291   \n",
       "Heroes come and go but legends are forever. Tha...  0.147544  0.700463   \n",
       "Kobe from the 90s                                  -0.090413 -0.114594   \n",
       "rest in peace kobe                                  0.090535  0.614541   \n",
       "This so sad about Kobe Bryant  and daughter         0.099097  0.813399   \n",
       "Every time they show the NBA reactions I just b...  0.655474 -0.033530   \n",
       "GOD have Mercy!!!!\\n\\nRIP kobe Bryant,  Gianna ...  0.100815  0.993463   \n",
       "Shocked!! RIP Kobe!! #nba #legend #BlackMambaRIP    0.951056  0.349660   \n",
       "R.I.P. Kobe and His Daughter.                      -0.049112  0.847087   \n",
       "Words can’t describe this tragic situation. RIP...  0.161276  0.129621   \n",
       "First NBA game I went to.. Kobe.. and he droppe...  0.984416  0.009796   \n",
       "Amen to that.   RIP Kobe Bryant. https://twitte...  0.166045  0.932488   \n",
       "\"Kobe Bryant, daughter and seven others killed ... -0.041492  0.992230   \n",
       "Sleep in peace, Kobe  A better world outside th...  0.098920  0.201322   \n",
       "Rest Up !! 24 4L Sending my deepest condolences...  0.302485  0.408409   \n",
       "Amen!! Kobe is synonymous with the Staples Cent...  0.346927  0.401838   \n",
       "\n",
       "                                                        2         3     \\\n",
       "text                                                                     \n",
       "Kobe is a hero basketball NBA shocking             -0.019065  0.324264   \n",
       "Kobe Bryant  #BlackMamba\\n\\nGianna Bryant \\n\\n7...  0.996673  0.135640   \n",
       "Watch @CBCNews's broadcast: Kobe Bryant killed ...  1.000000  0.106398   \n",
       "People really in Lebron ig comments saying he k...  0.106398  1.000000   \n",
       "I totally Agree Mr President. What a huge loss....  0.088977  0.753624   \n",
       "@dotNoso predicted Kobe Bryant’s death              0.996185  0.097856   \n",
       "RIP KOBE BRYANT MY IDOL DIED.  https://twitter....  0.758301  0.513862   \n",
       "Goodbye Kobe. Rest in Peace. pic.twitter.com/Ue...  0.772348  0.105907   \n",
       "I knew basketball because of Kobe                   0.062348  0.759090   \n",
       "I grew up on Kobe , my first Alexandra fair .. ... -0.145267  0.454259   \n",
       "Heroes come and go but legends are forever. Tha...  0.687138  0.440464   \n",
       "Kobe from the 90s                                  -0.107305  0.479121   \n",
       "rest in peace kobe                                  0.606553  0.058141   \n",
       "This so sad about Kobe Bryant  and daughter         0.805713  0.608331   \n",
       "Every time they show the NBA reactions I just b... -0.089626  0.906739   \n",
       "GOD have Mercy!!!!\\n\\nRIP kobe Bryant,  Gianna ...  0.986564  0.231764   \n",
       "Shocked!! RIP Kobe!! #nba #legend #BlackMambaRIP    0.272534  0.426212   \n",
       "R.I.P. Kobe and His Daughter.                       0.850710  0.318263   \n",
       "Words can’t describe this tragic situation. RIP...  0.114525  0.928158   \n",
       "First NBA game I went to.. Kobe.. and he droppe... -0.070226  0.178779   \n",
       "Amen to that.   RIP Kobe Bryant. https://twitte...  0.919875  0.458746   \n",
       "\"Kobe Bryant, daughter and seven others killed ...  0.997167  0.112848   \n",
       "Sleep in peace, Kobe  A better world outside th...  0.191654  0.891492   \n",
       "Rest Up !! 24 4L Sending my deepest condolences...  0.381979  0.283182   \n",
       "Amen!! Kobe is synonymous with the Staples Cent...  0.371371  0.454257   \n",
       "\n",
       "                                                        4         5     \\\n",
       "text                                                                     \n",
       "Kobe is a hero basketball NBA shocking              0.485776  0.059478   \n",
       "Kobe Bryant  #BlackMamba\\n\\nGianna Bryant \\n\\n7...  0.131787  0.999115   \n",
       "Watch @CBCNews's broadcast: Kobe Bryant killed ...  0.088977  0.996185   \n",
       "People really in Lebron ig comments saying he k...  0.753624  0.097856   \n",
       "I totally Agree Mr President. What a huge loss....  1.000000  0.096769   \n",
       "@dotNoso predicted Kobe Bryant’s death              0.096769  1.000000   \n",
       "RIP KOBE BRYANT MY IDOL DIED.  https://twitter....  0.703607  0.771516   \n",
       "Goodbye Kobe. Rest in Peace. pic.twitter.com/Ue...  0.469320  0.760588   \n",
       "I knew basketball because of Kobe                   0.999220  0.072295   \n",
       "I grew up on Kobe , my first Alexandra fair .. ...  0.910012 -0.123717   \n",
       "Heroes come and go but legends are forever. Tha...  0.726139  0.677086   \n",
       "Kobe from the 90s                                  -0.205709 -0.123572   \n",
       "rest in peace kobe                                  0.553976  0.603691   \n",
       "This so sad about Kobe Bryant  and daughter         0.288239  0.796467   \n",
       "Every time they show the NBA reactions I just b...  0.817021 -0.065703   \n",
       "GOD have Mercy!!!!\\n\\nRIP kobe Bryant,  Gianna ...  0.240868  0.988060   \n",
       "Shocked!! RIP Kobe!! #nba #legend #BlackMambaRIP    0.515142  0.343978   \n",
       "R.I.P. Kobe and His Daughter.                       0.495679  0.829880   \n",
       "Words can’t describe this tragic situation. RIP...  0.455232  0.098292   \n",
       "First NBA game I went to.. Kobe.. and he droppe...  0.437069  0.011237   \n",
       "Amen to that.   RIP Kobe Bryant. https://twitte...  0.291002  0.920955   \n",
       "\"Kobe Bryant, daughter and seven others killed ...  0.129591  0.990161   \n",
       "Sleep in peace, Kobe  A better world outside th...  0.382402  0.172011   \n",
       "Rest Up !! 24 4L Sending my deepest condolences...  0.797920  0.388445   \n",
       "Amen!! Kobe is synonymous with the Staples Cent...  0.886526  0.376089   \n",
       "\n",
       "                                                        6         7     \\\n",
       "text                                                                     \n",
       "Kobe is a hero basketball NBA shocking              0.399724 -0.012269   \n",
       "Kobe Bryant  #BlackMamba\\n\\nGianna Bryant \\n\\n7...  0.791433  0.771531   \n",
       "Watch @CBCNews's broadcast: Kobe Bryant killed ...  0.758301  0.772348   \n",
       "People really in Lebron ig comments saying he k...  0.513862  0.105907   \n",
       "I totally Agree Mr President. What a huge loss....  0.703607  0.469320   \n",
       "@dotNoso predicted Kobe Bryant’s death              0.771516  0.760588   \n",
       "RIP KOBE BRYANT MY IDOL DIED.  https://twitter....  1.000000  0.842478   \n",
       "Goodbye Kobe. Rest in Peace. pic.twitter.com/Ue...  0.842478  1.000000   \n",
       "I knew basketball because of Kobe                   0.686741  0.437994   \n",
       "I grew up on Kobe , my first Alexandra fair .. ...  0.512480  0.385346   \n",
       "Heroes come and go but legends are forever. Tha...  0.937917  0.935476   \n",
       "Kobe from the 90s                                  -0.264274 -0.590111   \n",
       "rest in peace kobe                                  0.796512  0.967422   \n",
       "This so sad about Kobe Bryant  and daughter         0.718315  0.466281   \n",
       "Every time they show the NBA reactions I just b...  0.466193 -0.007348   \n",
       "GOD have Mercy!!!!\\n\\nRIP kobe Bryant,  Gianna ...  0.850920  0.802882   \n",
       "Shocked!! RIP Kobe!! #nba #legend #BlackMambaRIP    0.611046  0.181655   \n",
       "R.I.P. Kobe and His Daughter.                       0.891419  0.954540   \n",
       "Words can’t describe this tragic situation. RIP...  0.312476 -0.105518   \n",
       "First NBA game I went to.. Kobe.. and he droppe...  0.342942  0.000473   \n",
       "Amen to that.   RIP Kobe Bryant. https://twitte...  0.823643  0.634896   \n",
       "\"Kobe Bryant, daughter and seven others killed ...  0.779027  0.815022   \n",
       "Sleep in peace, Kobe  A better world outside th...  0.315714 -0.081795   \n",
       "Rest Up !! 24 4L Sending my deepest condolences...  0.800903  0.843780   \n",
       "Amen!! Kobe is synonymous with the Staples Cent...  0.840817  0.801364   \n",
       "\n",
       "                                                        8         9     ...  \\\n",
       "text                                                                    ...   \n",
       "Kobe is a hero basketball NBA shocking              0.509939  0.539382  ...   \n",
       "Kobe Bryant  #BlackMamba\\n\\nGianna Bryant \\n\\n7...  0.107135 -0.098291  ...   \n",
       "Watch @CBCNews's broadcast: Kobe Bryant killed ...  0.062348 -0.145267  ...   \n",
       "People really in Lebron ig comments saying he k...  0.759090  0.454259  ...   \n",
       "I totally Agree Mr President. What a huge loss....  0.999220  0.910012  ...   \n",
       "@dotNoso predicted Kobe Bryant’s death              0.072295 -0.123717  ...   \n",
       "RIP KOBE BRYANT MY IDOL DIED.  https://twitter....  0.686741  0.512480  ...   \n",
       "Goodbye Kobe. Rest in Peace. pic.twitter.com/Ue...  0.437994  0.385346  ...   \n",
       "I knew basketball because of Kobe                   1.000000  0.913636  ...   \n",
       "I grew up on Kobe , my first Alexandra fair .. ...  0.913636  1.000000  ...   \n",
       "Heroes come and go but legends are forever. Tha...  0.701197  0.572022  ...   \n",
       "Kobe from the 90s                                  -0.190703 -0.491437  ...   \n",
       "rest in peace kobe                                  0.526778  0.559459  ...   \n",
       "This so sad about Kobe Bryant  and daughter         0.274351 -0.098407  ...   \n",
       "Every time they show the NBA reactions I just b...  0.834210  0.649591  ...   \n",
       "GOD have Mercy!!!!\\n\\nRIP kobe Bryant,  Gianna ...  0.216454 -0.003310  ...   \n",
       "Shocked!! RIP Kobe!! #nba #legend #BlackMambaRIP    0.531468  0.461642  ...   \n",
       "R.I.P. Kobe and His Daughter.                       0.464569  0.291747  ...   \n",
       "Words can’t describe this tragic situation. RIP...  0.462444  0.096233  ...   \n",
       "First NBA game I went to.. Kobe.. and he droppe...  0.460615  0.560634  ...   \n",
       "Amen to that.   RIP Kobe Bryant. https://twitte...  0.273302 -0.036266  ...   \n",
       "\"Kobe Bryant, daughter and seven others killed ...  0.101317 -0.098192  ...   \n",
       "Sleep in peace, Kobe  A better world outside th...  0.387045  0.001494  ...   \n",
       "Rest Up !! 24 4L Sending my deepest condolences...  0.780536  0.818119  ...   \n",
       "Amen!! Kobe is synonymous with the Staples Cent...  0.871608  0.849480  ...   \n",
       "\n",
       "                                                        1013      1014  \\\n",
       "text                                                                     \n",
       "Kobe is a hero basketball NBA shocking              0.503057  0.372616   \n",
       "Kobe Bryant  #BlackMamba\\n\\nGianna Bryant \\n\\n7...  0.100568  0.351653   \n",
       "Watch @CBCNews's broadcast: Kobe Bryant killed ...  0.056562  0.318833   \n",
       "People really in Lebron ig comments saying he k...  0.586526  0.966286   \n",
       "I totally Agree Mr President. What a huge loss....  0.974164  0.819565   \n",
       "@dotNoso predicted Kobe Bryant’s death              0.070540  0.314918   \n",
       "RIP KOBE BRYANT MY IDOL DIED.  https://twitter....  0.681148  0.717170   \n",
       "Goodbye Kobe. Rest in Peace. pic.twitter.com/Ue...  0.524930  0.341790   \n",
       "I knew basketball because of Kobe                   0.972246  0.818587   \n",
       "I grew up on Kobe , my first Alexandra fair .. ...  0.970287  0.516254   \n",
       "Heroes come and go but legends are forever. Tha...  0.729771  0.641014   \n",
       "Kobe from the 90s                                  -0.413404  0.313059   \n",
       "rest in peace kobe                                  0.649065  0.286933   \n",
       "This so sad about Kobe Bryant  and daughter         0.135387  0.714255   \n",
       "Every time they show the NBA reactions I just b...  0.704964  0.871143   \n",
       "GOD have Mercy!!!!\\n\\nRIP kobe Bryant,  Gianna ...  0.202152  0.447315   \n",
       "Shocked!! RIP Kobe!! #nba #legend #BlackMambaRIP    0.498894  0.521054   \n",
       "R.I.P. Kobe and His Daughter.                       0.483320  0.530633   \n",
       "Words can’t describe this tragic situation. RIP...  0.243166  0.849663   \n",
       "First NBA game I went to.. Kobe.. and he droppe...  0.493311  0.236791   \n",
       "Amen to that.   RIP Kobe Bryant. https://twitte...  0.188873  0.623422   \n",
       "\"Kobe Bryant, daughter and seven others killed ...  0.103593  0.330468   \n",
       "Sleep in peace, Kobe  A better world outside th...  0.164217  0.821869   \n",
       "Rest Up !! 24 4L Sending my deepest condolences...  0.878436  0.468221   \n",
       "Amen!! Kobe is synonymous with the Staples Cent...  0.929776  0.619211   \n",
       "\n",
       "                                                        1015      1016  \\\n",
       "text                                                                     \n",
       "Kobe is a hero basketball NBA shocking              0.089813  0.333573   \n",
       "Kobe Bryant  #BlackMamba\\n\\nGianna Bryant \\n\\n7...  0.997946  0.060643   \n",
       "Watch @CBCNews's broadcast: Kobe Bryant killed ...  0.992596  0.030612   \n",
       "People really in Lebron ig comments saying he k...  0.113136  0.996007   \n",
       "I totally Agree Mr President. What a huge loss....  0.095465  0.723467   \n",
       "@dotNoso predicted Kobe Bryant’s death              0.998993  0.023516   \n",
       "RIP KOBE BRYANT MY IDOL DIED.  https://twitter....  0.770647  0.441924   \n",
       "Goodbye Kobe. Rest in Peace. pic.twitter.com/Ue...  0.737509  0.017813   \n",
       "I knew basketball because of Kobe                   0.072358  0.731935   \n",
       "I grew up on Kobe , my first Alexandra fair .. ... -0.129916  0.434072   \n",
       "Heroes come and go but legends are forever. Tha...  0.661357  0.361062   \n",
       "Kobe from the 90s                                  -0.096044  0.525683   \n",
       "rest in peace kobe                                  0.578876 -0.023831   \n",
       "This so sad about Kobe Bryant  and daughter         0.808830  0.561414   \n",
       "Every time they show the NBA reactions I just b... -0.043119  0.916785   \n",
       "GOD have Mercy!!!!\\n\\nRIP kobe Bryant,  Gianna ...  0.986763  0.155269   \n",
       "Shocked!! RIP Kobe!! #nba #legend #BlackMambaRIP    0.374212  0.415681   \n",
       "R.I.P. Kobe and His Daughter.                       0.812544  0.232517   \n",
       "Words can’t describe this tragic situation. RIP...  0.119534  0.938174   \n",
       "First NBA game I went to.. Kobe.. and he droppe...  0.037528  0.187503   \n",
       "Amen to that.   RIP Kobe Bryant. https://twitte...  0.929457  0.397154   \n",
       "\"Kobe Bryant, daughter and seven others killed ...  0.983723  0.033849   \n",
       "Sleep in peace, Kobe  A better world outside th...  0.192755  0.897717   \n",
       "Rest Up !! 24 4L Sending my deepest condolences...  0.369640  0.216893   \n",
       "Amen!! Kobe is synonymous with the Staples Cent...  0.361654  0.392214   \n",
       "\n",
       "                                                        1017      1018  \\\n",
       "text                                                                     \n",
       "Kobe is a hero basketball NBA shocking              0.536886  0.109777   \n",
       "Kobe Bryant  #BlackMamba\\n\\nGianna Bryant \\n\\n7...  0.035327  0.038025   \n",
       "Watch @CBCNews's broadcast: Kobe Bryant killed ... -0.011424  0.027513   \n",
       "People really in Lebron ig comments saying he k...  0.549861  0.847444   \n",
       "I totally Agree Mr President. What a huge loss....  0.959521  0.292169   \n",
       "@dotNoso predicted Kobe Bryant’s death              0.006854  0.011488   \n",
       "RIP KOBE BRYANT MY IDOL DIED.  https://twitter....  0.630902  0.145818   \n",
       "Goodbye Kobe. Rest in Peace. pic.twitter.com/Ue...  0.473664 -0.272322   \n",
       "I knew basketball because of Kobe                   0.960097  0.303041   \n",
       "I grew up on Kobe , my first Alexandra fair .. ...  0.986927 -0.056651   \n",
       "Heroes come and go but legends are forever. Tha...  0.676153  0.015625   \n",
       "Kobe from the 90s                                  -0.435606  0.870900   \n",
       "rest in peace kobe                                  0.615688 -0.399004   \n",
       "This so sad about Kobe Bryant  and daughter         0.061380  0.611525   \n",
       "Every time they show the NBA reactions I just b...  0.700653  0.681037   \n",
       "GOD have Mercy!!!!\\n\\nRIP kobe Bryant,  Gianna ...  0.135198  0.090805   \n",
       "Shocked!! RIP Kobe!! #nba #legend #BlackMambaRIP    0.507441  0.217092   \n",
       "R.I.P. Kobe and His Daughter.                       0.415179  0.010630   \n",
       "Words can’t describe this tragic situation. RIP...  0.200350  0.981207   \n",
       "First NBA game I went to.. Kobe.. and he droppe...  0.536497 -0.060459   \n",
       "Amen to that.   RIP Kobe Bryant. https://twitte...  0.118186  0.386910   \n",
       "\"Kobe Bryant, daughter and seven others killed ...  0.034671  0.003050   \n",
       "Sleep in peace, Kobe  A better world outside th...  0.115120  0.981091   \n",
       "Rest Up !! 24 4L Sending my deepest condolences...  0.859105 -0.251091   \n",
       "Amen!! Kobe is synonymous with the Staples Cent...  0.905234 -0.071877   \n",
       "\n",
       "                                                        1019      1020  \\\n",
       "text                                                                     \n",
       "Kobe is a hero basketball NBA shocking              0.506836  0.516516   \n",
       "Kobe Bryant  #BlackMamba\\n\\nGianna Bryant \\n\\n7...  0.158952  0.027222   \n",
       "Watch @CBCNews's broadcast: Kobe Bryant killed ...  0.114612 -0.017919   \n",
       "People really in Lebron ig comments saying he k...  0.685367  0.543798   \n",
       "I totally Agree Mr President. What a huge loss....  0.994465  0.958008   \n",
       "@dotNoso predicted Kobe Bryant’s death              0.126276 -0.001447   \n",
       "RIP KOBE BRYANT MY IDOL DIED.  https://twitter....  0.727195  0.623216   \n",
       "Goodbye Kobe. Rest in Peace. pic.twitter.com/Ue...  0.522186  0.477216   \n",
       "I knew basketball because of Kobe                   0.992519  0.958042   \n",
       "I grew up on Kobe , my first Alexandra fair .. ...  0.934300  0.987718   \n",
       "Heroes come and go but legends are forever. Tha...  0.753825  0.677309   \n",
       "Kobe from the 90s                                  -0.301781 -0.443327   \n",
       "rest in peace kobe                                  0.618705  0.620244   \n",
       "This so sad about Kobe Bryant  and daughter         0.253755  0.050927   \n",
       "Every time they show the NBA reactions I just b...  0.770308  0.689776   \n",
       "GOD have Mercy!!!!\\n\\nRIP kobe Bryant,  Gianna ...  0.264312  0.127287   \n",
       "Shocked!! RIP Kobe!! #nba #legend #BlackMambaRIP    0.532312  0.485482   \n",
       "R.I.P. Kobe and His Daughter.                       0.521030  0.416893   \n",
       "Words can’t describe this tragic situation. RIP...  0.366546  0.192925   \n",
       "First NBA game I went to.. Kobe.. and he droppe...  0.473221  0.517787   \n",
       "Amen to that.   RIP Kobe Bryant. https://twitte...  0.284633  0.107112   \n",
       "\"Kobe Bryant, daughter and seven others killed ...  0.157298  0.029626   \n",
       "Sleep in peace, Kobe  A better world outside th...  0.293543  0.107657   \n",
       "Rest Up !! 24 4L Sending my deepest condolences...  0.849226  0.862082   \n",
       "Amen!! Kobe is synonymous with the Staples Cent...  0.921218  0.906789   \n",
       "\n",
       "                                                        1021      1022  \n",
       "text                                                                    \n",
       "Kobe is a hero basketball NBA shocking              0.498711  0.816399  \n",
       "Kobe Bryant  #BlackMamba\\n\\nGianna Bryant \\n\\n7...  0.015734  0.332858  \n",
       "Watch @CBCNews's broadcast: Kobe Bryant killed ... -0.027976  0.268805  \n",
       "People really in Lebron ig comments saying he k...  0.525110 -0.013666  \n",
       "I totally Agree Mr President. What a huge loss....  0.951499 -0.010519  \n",
       "@dotNoso predicted Kobe Bryant’s death             -0.012662  0.348993  \n",
       "RIP KOBE BRYANT MY IDOL DIED.  https://twitter....  0.611235  0.291395  \n",
       "Goodbye Kobe. Rest in Peace. pic.twitter.com/Ue...  0.480581 -0.038770  \n",
       "I knew basketball because of Kobe                   0.951059  0.008022  \n",
       "I grew up on Kobe , my first Alexandra fair .. ...  0.989522  0.006853  \n",
       "Heroes come and go but legends are forever. Tha...  0.674605 -0.030426  \n",
       "Kobe from the 90s                                  -0.462351  0.022462  \n",
       "rest in peace kobe                                  0.627076 -0.037181  \n",
       "This so sad about Kobe Bryant  and daughter         0.029490  0.240652  \n",
       "Every time they show the NBA reactions I just b...  0.670748  0.240802  \n",
       "GOD have Mercy!!!!\\n\\nRIP kobe Bryant,  Gianna ...  0.115135  0.309757  \n",
       "Shocked!! RIP Kobe!! #nba #legend #BlackMambaRIP    0.463441  0.849111  \n",
       "R.I.P. Kobe and His Daughter.                       0.414059 -0.056094  \n",
       "Words can’t describe this tragic situation. RIP...  0.171168 -0.009094  \n",
       "First NBA game I went to.. Kobe.. and he droppe...  0.504177  0.803129  \n",
       "Amen to that.   RIP Kobe Bryant. https://twitte...  0.088159  0.342254  \n",
       "\"Kobe Bryant, daughter and seven others killed ...  0.021084  0.218033  \n",
       "Sleep in peace, Kobe  A better world outside th...  0.085555 -0.008694  \n",
       "Rest Up !! 24 4L Sending my deepest condolences...  0.866294 -0.017223  \n",
       "Amen!! Kobe is synonymous with the Staples Cent...  0.907116 -0.016306  \n",
       "\n",
       "[25 rows x 980 columns]"
      ]
     },
     "execution_count": 21,
     "metadata": {},
     "output_type": "execute_result"
    }
   ],
   "source": [
    "similarity = np.asarray(np.asmatrix(dtm_lsa) * np.asmatrix(dtm_lsa).T)\n",
    "dfmatrix = pd.DataFrame(similarity,index=d, columns=d.index)\n",
    "dfmatrix.head(25)"
   ]
  },
  {
   "cell_type": "markdown",
   "metadata": {},
   "source": [
    "## Original tweet set plotted against second set"
   ]
  },
  {
   "cell_type": "code",
   "execution_count": 22,
   "metadata": {},
   "outputs": [
    {
     "data": {
      "text/html": [
       "<div>\n",
       "<style scoped>\n",
       "    .dataframe tbody tr th:only-of-type {\n",
       "        vertical-align: middle;\n",
       "    }\n",
       "\n",
       "    .dataframe tbody tr th {\n",
       "        vertical-align: top;\n",
       "    }\n",
       "\n",
       "    .dataframe thead th {\n",
       "        text-align: right;\n",
       "    }\n",
       "</style>\n",
       "<table border=\"1\" class=\"dataframe\">\n",
       "  <thead>\n",
       "    <tr style=\"text-align: right;\">\n",
       "      <th>text</th>\n",
       "      <th>Wow they’re giving out a free Kobe jersey to every seat in the staples center tonight</th>\n",
       "      <th>next Tuesday, February 4 is senior Knight for @hoops_knights the theme is purple and yellow in honor of Kobe!!! #MambaMentalityForever</th>\n",
       "      <th>Good luck with that. The wounds are still too fresh. Gathering lends comfort and grief support. Let it be, Chief... for our #Kobe. https://twitter.com/LAPDHQ/status/1223365218182426624 …</th>\n",
       "      <th>24 shots in 8 minutes for kobe tonight? say less.</th>\n",
       "      <th>January was a tough year but we are almost done with it</th>\n",
       "      <th>still not real...\\nRIP KOBE , GIGI , NIPSEY</th>\n",
       "      <th>A few years ago I told myself that I would tattoo a mount rushmore of my personal influencers and icons on my chest....since then weve lost Nip and Kobe, that's 2/4 ....I think I need to start my tattoo</th>\n",
       "      <th>Love that he remembers the exact score ... Hahaha Kobe was a dawwggg always  “11-3..” With ZERO hesitation  True competitive nature. https://twitter.com/espn/status/1223376763327336450 …</th>\n",
       "      <th>I know. I've been loading up on reaction memes for when the hatedom attacks. Stock up if you need some morepic.twitter.com/IzjARh4zOs</th>\n",
       "      <th>@Tigerfists88 #PeoplesChamp.!! Obama #p2 Biden #news kobe pic.twitter.com/iWuZDY0dcI pic.twitter.com/l7uEAi4GSI Please RT. #t4a #y0AU</th>\n",
       "      <th>...</th>\n",
       "      <th>I just wanted a quiet lunch and now people are talking about “pussy society,” and”how can people have the audacity to talk about Kobe’s rape charge.” \\n\\nI’m all for discussion but not unintelligent opinions</th>\n",
       "      <th>Olivia Munn &amp; Kobe Bryant Were Planning Project That Helped Kids Cope With Death. I hope someone can counsel young Kobe fans about his death. I have trouble coping with the death of Kobe and Gianna and I am a grown lady. https://twitter.com/TraceyR03852081/status/1223749250246414337 …</th>\n",
       "      <th>24, for my boy Kobe.</th>\n",
       "      <th>Can y’all stop talking about Kobe #RIPKobeByrant tho</th>\n",
       "      <th>He’s super cancelled after disrespecting Kobe.  I have a draft on that but idk I just felt like people were over him  I made so many videos on him already... but the kobe thing really did push my buttons</th>\n",
       "      <th>This is facts and the best black history month pack was with the Kobe 8s</th>\n",
       "      <th>For all the clowns that think curry is faking it lolhttps://twitter.com/wojespn/status/1190356591620562944 …</th>\n",
       "      <th>And we haven’t heard from Khan since lol</th>\n",
       "      <th>Remembering Kobe Bryant...\\n#BlackMambaForever\\n#ForKobe\\n#StaplesCenter\\n#rememberingkobepic.twitter.com/38ZhM0LMey</th>\n",
       "      <th>Sue me I’m rooting for everybody that’s Black!!https://twitter.com/nfl/status/1223751911897255936 …</th>\n",
       "    </tr>\n",
       "    <tr>\n",
       "      <th>text</th>\n",
       "      <th></th>\n",
       "      <th></th>\n",
       "      <th></th>\n",
       "      <th></th>\n",
       "      <th></th>\n",
       "      <th></th>\n",
       "      <th></th>\n",
       "      <th></th>\n",
       "      <th></th>\n",
       "      <th></th>\n",
       "      <th></th>\n",
       "      <th></th>\n",
       "      <th></th>\n",
       "      <th></th>\n",
       "      <th></th>\n",
       "      <th></th>\n",
       "      <th></th>\n",
       "      <th></th>\n",
       "      <th></th>\n",
       "      <th></th>\n",
       "      <th></th>\n",
       "    </tr>\n",
       "  </thead>\n",
       "  <tbody>\n",
       "    <tr>\n",
       "      <td>Kobe is a hero basketball NBA shocking</td>\n",
       "      <td>0.880069</td>\n",
       "      <td>0.885944</td>\n",
       "      <td>0.415981</td>\n",
       "      <td>0.914386</td>\n",
       "      <td>0.633937</td>\n",
       "      <td>0.863489</td>\n",
       "      <td>0.816156</td>\n",
       "      <td>0.425037</td>\n",
       "      <td>0.451319</td>\n",
       "      <td>0.916266</td>\n",
       "      <td>...</td>\n",
       "      <td>0.855084</td>\n",
       "      <td>0.592597</td>\n",
       "      <td>0.886095</td>\n",
       "      <td>0.867633</td>\n",
       "      <td>0.758275</td>\n",
       "      <td>0.700364</td>\n",
       "      <td>-0.354473</td>\n",
       "      <td>0.678766</td>\n",
       "      <td>0.800009</td>\n",
       "      <td>-0.275032</td>\n",
       "    </tr>\n",
       "    <tr>\n",
       "      <td>Kobe Bryant  #BlackMamba\\n\\nGianna Bryant \\n\\n7 others un-named\\n\\n</td>\n",
       "      <td>0.441824</td>\n",
       "      <td>0.403570</td>\n",
       "      <td>0.648993</td>\n",
       "      <td>0.345441</td>\n",
       "      <td>0.162642</td>\n",
       "      <td>0.415764</td>\n",
       "      <td>0.376632</td>\n",
       "      <td>0.639630</td>\n",
       "      <td>0.249733</td>\n",
       "      <td>0.253830</td>\n",
       "      <td>...</td>\n",
       "      <td>0.416447</td>\n",
       "      <td>0.569746</td>\n",
       "      <td>0.389742</td>\n",
       "      <td>0.454799</td>\n",
       "      <td>0.459363</td>\n",
       "      <td>0.560259</td>\n",
       "      <td>0.563392</td>\n",
       "      <td>0.047501</td>\n",
       "      <td>0.358850</td>\n",
       "      <td>0.589152</td>\n",
       "    </tr>\n",
       "    <tr>\n",
       "      <td>Watch @CBCNews's broadcast: Kobe Bryant killed in helicopter crash | Police update https://www.pscp.tv/w/cP4fczFQbUVxa1haQURLb1l8MVlxR29RZU1CZWt4di6V4GzDn1Q69DQB4zMX4EvB7xDEFR4YLeYsJvgsPTA6 …</td>\n",
       "      <td>0.371858</td>\n",
       "      <td>0.332711</td>\n",
       "      <td>0.618355</td>\n",
       "      <td>0.272142</td>\n",
       "      <td>0.113382</td>\n",
       "      <td>0.347197</td>\n",
       "      <td>0.312235</td>\n",
       "      <td>0.607982</td>\n",
       "      <td>0.215526</td>\n",
       "      <td>0.179878</td>\n",
       "      <td>...</td>\n",
       "      <td>0.348883</td>\n",
       "      <td>0.522792</td>\n",
       "      <td>0.319394</td>\n",
       "      <td>0.385945</td>\n",
       "      <td>0.399824</td>\n",
       "      <td>0.506068</td>\n",
       "      <td>0.595232</td>\n",
       "      <td>-0.005941</td>\n",
       "      <td>0.293181</td>\n",
       "      <td>0.614972</td>\n",
       "    </tr>\n",
       "    <tr>\n",
       "      <td>People really in Lebron ig comments saying he killed Kobe!  fucking sick !</td>\n",
       "      <td>0.085733</td>\n",
       "      <td>0.332293</td>\n",
       "      <td>0.005677</td>\n",
       "      <td>0.324849</td>\n",
       "      <td>-0.488503</td>\n",
       "      <td>0.217176</td>\n",
       "      <td>-0.145186</td>\n",
       "      <td>0.101468</td>\n",
       "      <td>-0.611115</td>\n",
       "      <td>0.440692</td>\n",
       "      <td>...</td>\n",
       "      <td>0.008191</td>\n",
       "      <td>0.508350</td>\n",
       "      <td>0.049531</td>\n",
       "      <td>0.161681</td>\n",
       "      <td>-0.177671</td>\n",
       "      <td>-0.063535</td>\n",
       "      <td>-0.119104</td>\n",
       "      <td>-0.444631</td>\n",
       "      <td>0.737858</td>\n",
       "      <td>-0.218034</td>\n",
       "    </tr>\n",
       "    <tr>\n",
       "      <td>I totally Agree Mr President. What a huge loss. I was fortunate to have met Kobe years ago. He loved his Family. My Prayers and Condolences go out to is Family.\\n@Natalia4Trumphttps://twitter.com/realDonaldTrump/status/1221582230008619016 …</td>\n",
       "      <td>0.252842</td>\n",
       "      <td>0.284075</td>\n",
       "      <td>-0.246539</td>\n",
       "      <td>0.298620</td>\n",
       "      <td>-0.078154</td>\n",
       "      <td>0.185732</td>\n",
       "      <td>0.139935</td>\n",
       "      <td>-0.198624</td>\n",
       "      <td>-0.140298</td>\n",
       "      <td>0.349021</td>\n",
       "      <td>...</td>\n",
       "      <td>0.147308</td>\n",
       "      <td>0.184671</td>\n",
       "      <td>0.205167</td>\n",
       "      <td>0.210562</td>\n",
       "      <td>0.128689</td>\n",
       "      <td>-0.033037</td>\n",
       "      <td>-0.598521</td>\n",
       "      <td>0.005732</td>\n",
       "      <td>0.589667</td>\n",
       "      <td>-0.636189</td>\n",
       "    </tr>\n",
       "    <tr>\n",
       "      <td>@dotNoso predicted Kobe Bryant’s death</td>\n",
       "      <td>0.450480</td>\n",
       "      <td>0.405170</td>\n",
       "      <td>0.665208</td>\n",
       "      <td>0.347075</td>\n",
       "      <td>0.188469</td>\n",
       "      <td>0.422390</td>\n",
       "      <td>0.392511</td>\n",
       "      <td>0.652351</td>\n",
       "      <td>0.277489</td>\n",
       "      <td>0.250889</td>\n",
       "      <td>...</td>\n",
       "      <td>0.429144</td>\n",
       "      <td>0.565189</td>\n",
       "      <td>0.400355</td>\n",
       "      <td>0.462455</td>\n",
       "      <td>0.475744</td>\n",
       "      <td>0.577308</td>\n",
       "      <td>0.577977</td>\n",
       "      <td>0.070347</td>\n",
       "      <td>0.340939</td>\n",
       "      <td>0.608643</td>\n",
       "    </tr>\n",
       "    <tr>\n",
       "      <td>RIP KOBE BRYANT MY IDOL DIED.  https://twitter.com/PopCrave/status/1221515370143604737 …</td>\n",
       "      <td>0.534125</td>\n",
       "      <td>0.504855</td>\n",
       "      <td>0.334820</td>\n",
       "      <td>0.475407</td>\n",
       "      <td>0.156299</td>\n",
       "      <td>0.459198</td>\n",
       "      <td>0.431348</td>\n",
       "      <td>0.350871</td>\n",
       "      <td>0.176524</td>\n",
       "      <td>0.431941</td>\n",
       "      <td>...</td>\n",
       "      <td>0.453396</td>\n",
       "      <td>0.522442</td>\n",
       "      <td>0.469992</td>\n",
       "      <td>0.508404</td>\n",
       "      <td>0.482002</td>\n",
       "      <td>0.435548</td>\n",
       "      <td>0.002982</td>\n",
       "      <td>0.127206</td>\n",
       "      <td>0.626231</td>\n",
       "      <td>0.011924</td>\n",
       "    </tr>\n",
       "    <tr>\n",
       "      <td>Goodbye Kobe. Rest in Peace. pic.twitter.com/UegrfwOUW4</td>\n",
       "      <td>0.229113</td>\n",
       "      <td>0.065948</td>\n",
       "      <td>0.077384</td>\n",
       "      <td>0.032818</td>\n",
       "      <td>0.145415</td>\n",
       "      <td>0.057196</td>\n",
       "      <td>0.239458</td>\n",
       "      <td>0.053149</td>\n",
       "      <td>0.291432</td>\n",
       "      <td>-0.061140</td>\n",
       "      <td>...</td>\n",
       "      <td>0.160502</td>\n",
       "      <td>0.070598</td>\n",
       "      <td>0.162534</td>\n",
       "      <td>0.148037</td>\n",
       "      <td>0.331450</td>\n",
       "      <td>0.181395</td>\n",
       "      <td>-0.001665</td>\n",
       "      <td>0.102128</td>\n",
       "      <td>0.110415</td>\n",
       "      <td>0.016694</td>\n",
       "    </tr>\n",
       "    <tr>\n",
       "      <td>I knew basketball because of Kobe</td>\n",
       "      <td>0.265225</td>\n",
       "      <td>0.301533</td>\n",
       "      <td>-0.242365</td>\n",
       "      <td>0.317958</td>\n",
       "      <td>-0.068592</td>\n",
       "      <td>0.202666</td>\n",
       "      <td>0.150570</td>\n",
       "      <td>-0.193400</td>\n",
       "      <td>-0.139649</td>\n",
       "      <td>0.371599</td>\n",
       "      <td>...</td>\n",
       "      <td>0.160977</td>\n",
       "      <td>0.194353</td>\n",
       "      <td>0.219723</td>\n",
       "      <td>0.224859</td>\n",
       "      <td>0.134972</td>\n",
       "      <td>-0.024505</td>\n",
       "      <td>-0.610204</td>\n",
       "      <td>0.018224</td>\n",
       "      <td>0.604697</td>\n",
       "      <td>-0.646759</td>\n",
       "    </tr>\n",
       "    <tr>\n",
       "      <td>I grew up on Kobe , my first Alexandra fair .. in a Kobe jersey .. dammn man</td>\n",
       "      <td>0.275523</td>\n",
       "      <td>0.198052</td>\n",
       "      <td>-0.407192</td>\n",
       "      <td>0.234974</td>\n",
       "      <td>0.179101</td>\n",
       "      <td>0.126840</td>\n",
       "      <td>0.256362</td>\n",
       "      <td>-0.392207</td>\n",
       "      <td>0.126690</td>\n",
       "      <td>0.258902</td>\n",
       "      <td>...</td>\n",
       "      <td>0.183405</td>\n",
       "      <td>-0.080903</td>\n",
       "      <td>0.244471</td>\n",
       "      <td>0.179179</td>\n",
       "      <td>0.236060</td>\n",
       "      <td>-0.054081</td>\n",
       "      <td>-0.850464</td>\n",
       "      <td>0.291323</td>\n",
       "      <td>0.380931</td>\n",
       "      <td>-0.845375</td>\n",
       "    </tr>\n",
       "    <tr>\n",
       "      <td>Heroes come and go but legends are forever. Thank you Kobe, Rest In Paradise legend pic.twitter.com/uK4Somsk81</td>\n",
       "      <td>0.258147</td>\n",
       "      <td>0.183877</td>\n",
       "      <td>0.032853</td>\n",
       "      <td>0.156717</td>\n",
       "      <td>0.000770</td>\n",
       "      <td>0.134448</td>\n",
       "      <td>0.194948</td>\n",
       "      <td>0.042327</td>\n",
       "      <td>0.083677</td>\n",
       "      <td>0.112651</td>\n",
       "      <td>...</td>\n",
       "      <td>0.166176</td>\n",
       "      <td>0.211820</td>\n",
       "      <td>0.186575</td>\n",
       "      <td>0.201462</td>\n",
       "      <td>0.262401</td>\n",
       "      <td>0.138428</td>\n",
       "      <td>-0.122378</td>\n",
       "      <td>-0.012281</td>\n",
       "      <td>0.361929</td>\n",
       "      <td>-0.135236</td>\n",
       "    </tr>\n",
       "    <tr>\n",
       "      <td>Kobe from the 90s</td>\n",
       "      <td>-0.195937</td>\n",
       "      <td>0.134930</td>\n",
       "      <td>0.287913</td>\n",
       "      <td>0.115175</td>\n",
       "      <td>-0.585529</td>\n",
       "      <td>0.092859</td>\n",
       "      <td>-0.383449</td>\n",
       "      <td>0.367842</td>\n",
       "      <td>-0.713564</td>\n",
       "      <td>0.232759</td>\n",
       "      <td>...</td>\n",
       "      <td>-0.167151</td>\n",
       "      <td>0.480301</td>\n",
       "      <td>-0.177212</td>\n",
       "      <td>-0.028626</td>\n",
       "      <td>-0.433913</td>\n",
       "      <td>-0.064887</td>\n",
       "      <td>0.518981</td>\n",
       "      <td>-0.613047</td>\n",
       "      <td>0.323299</td>\n",
       "      <td>0.426430</td>\n",
       "    </tr>\n",
       "    <tr>\n",
       "      <td>rest in peace kobe</td>\n",
       "      <td>0.260210</td>\n",
       "      <td>0.052842</td>\n",
       "      <td>-0.063528</td>\n",
       "      <td>0.036505</td>\n",
       "      <td>0.258274</td>\n",
       "      <td>0.043151</td>\n",
       "      <td>0.303264</td>\n",
       "      <td>-0.096330</td>\n",
       "      <td>0.391348</td>\n",
       "      <td>-0.057307</td>\n",
       "      <td>...</td>\n",
       "      <td>0.185822</td>\n",
       "      <td>-0.056255</td>\n",
       "      <td>0.199055</td>\n",
       "      <td>0.147426</td>\n",
       "      <td>0.382830</td>\n",
       "      <td>0.144464</td>\n",
       "      <td>-0.239833</td>\n",
       "      <td>0.247439</td>\n",
       "      <td>0.079456</td>\n",
       "      <td>-0.206270</td>\n",
       "    </tr>\n",
       "    <tr>\n",
       "      <td>This so sad about Kobe Bryant  and daughter</td>\n",
       "      <td>0.289915</td>\n",
       "      <td>0.454403</td>\n",
       "      <td>0.603370</td>\n",
       "      <td>0.397474</td>\n",
       "      <td>-0.256674</td>\n",
       "      <td>0.410493</td>\n",
       "      <td>0.096653</td>\n",
       "      <td>0.655569</td>\n",
       "      <td>-0.265185</td>\n",
       "      <td>0.403132</td>\n",
       "      <td>...</td>\n",
       "      <td>0.252322</td>\n",
       "      <td>0.774144</td>\n",
       "      <td>0.241054</td>\n",
       "      <td>0.382402</td>\n",
       "      <td>0.137367</td>\n",
       "      <td>0.381741</td>\n",
       "      <td>0.593868</td>\n",
       "      <td>-0.344447</td>\n",
       "      <td>0.626829</td>\n",
       "      <td>0.546401</td>\n",
       "    </tr>\n",
       "    <tr>\n",
       "      <td>Every time they show the NBA reactions I just bust out crying! I never thought I would be this emotional over a celebrity! Man Kobe was my guy! #RIPKobeByrant</td>\n",
       "      <td>0.347313</td>\n",
       "      <td>0.538075</td>\n",
       "      <td>0.023905</td>\n",
       "      <td>0.554899</td>\n",
       "      <td>-0.150627</td>\n",
       "      <td>0.433315</td>\n",
       "      <td>0.154546</td>\n",
       "      <td>0.103578</td>\n",
       "      <td>-0.330059</td>\n",
       "      <td>0.660630</td>\n",
       "      <td>...</td>\n",
       "      <td>0.274407</td>\n",
       "      <td>0.515644</td>\n",
       "      <td>0.326967</td>\n",
       "      <td>0.390779</td>\n",
       "      <td>0.093861</td>\n",
       "      <td>0.119744</td>\n",
       "      <td>-0.381694</td>\n",
       "      <td>-0.073130</td>\n",
       "      <td>0.840610</td>\n",
       "      <td>-0.431869</td>\n",
       "    </tr>\n",
       "    <tr>\n",
       "      <td>GOD have Mercy!!!!\\n\\nRIP kobe Bryant,  Gianna and All the Victims. \\n#BlackMambaForever</td>\n",
       "      <td>0.443681</td>\n",
       "      <td>0.417180</td>\n",
       "      <td>0.603681</td>\n",
       "      <td>0.361023</td>\n",
       "      <td>0.124643</td>\n",
       "      <td>0.416312</td>\n",
       "      <td>0.362733</td>\n",
       "      <td>0.602079</td>\n",
       "      <td>0.202996</td>\n",
       "      <td>0.280037</td>\n",
       "      <td>...</td>\n",
       "      <td>0.406659</td>\n",
       "      <td>0.580865</td>\n",
       "      <td>0.386914</td>\n",
       "      <td>0.454982</td>\n",
       "      <td>0.442473</td>\n",
       "      <td>0.530272</td>\n",
       "      <td>0.495517</td>\n",
       "      <td>0.020795</td>\n",
       "      <td>0.417455</td>\n",
       "      <td>0.512495</td>\n",
       "    </tr>\n",
       "    <tr>\n",
       "      <td>Shocked!! RIP Kobe!! #nba #legend #BlackMambaRIP</td>\n",
       "      <td>0.930995</td>\n",
       "      <td>0.960809</td>\n",
       "      <td>0.591295</td>\n",
       "      <td>0.968303</td>\n",
       "      <td>0.564897</td>\n",
       "      <td>0.934401</td>\n",
       "      <td>0.827781</td>\n",
       "      <td>0.607557</td>\n",
       "      <td>0.406957</td>\n",
       "      <td>0.957541</td>\n",
       "      <td>...</td>\n",
       "      <td>0.898039</td>\n",
       "      <td>0.771880</td>\n",
       "      <td>0.920485</td>\n",
       "      <td>0.938548</td>\n",
       "      <td>0.793539</td>\n",
       "      <td>0.800202</td>\n",
       "      <td>-0.134779</td>\n",
       "      <td>0.573250</td>\n",
       "      <td>0.904070</td>\n",
       "      <td>-0.065819</td>\n",
       "    </tr>\n",
       "    <tr>\n",
       "      <td>R.I.P. Kobe and His Daughter.</td>\n",
       "      <td>0.182334</td>\n",
       "      <td>0.115359</td>\n",
       "      <td>0.171519</td>\n",
       "      <td>0.070266</td>\n",
       "      <td>-0.061910</td>\n",
       "      <td>0.086506</td>\n",
       "      <td>0.123506</td>\n",
       "      <td>0.174299</td>\n",
       "      <td>0.061058</td>\n",
       "      <td>0.006954</td>\n",
       "      <td>...</td>\n",
       "      <td>0.110079</td>\n",
       "      <td>0.247281</td>\n",
       "      <td>0.110566</td>\n",
       "      <td>0.147959</td>\n",
       "      <td>0.211674</td>\n",
       "      <td>0.166576</td>\n",
       "      <td>0.166854</td>\n",
       "      <td>-0.118814</td>\n",
       "      <td>0.249170</td>\n",
       "      <td>0.151165</td>\n",
       "    </tr>\n",
       "    <tr>\n",
       "      <td>Words can’t describe this tragic situation. RIP to Kobe, Gigi, and everyone else on board!!! #MambaMentality https://twitter.com/bobbywbal/status/1221532085044666369 …</td>\n",
       "      <td>-0.021333</td>\n",
       "      <td>0.293575</td>\n",
       "      <td>0.158575</td>\n",
       "      <td>0.273965</td>\n",
       "      <td>-0.615689</td>\n",
       "      <td>0.193783</td>\n",
       "      <td>-0.270909</td>\n",
       "      <td>0.260812</td>\n",
       "      <td>-0.743792</td>\n",
       "      <td>0.400225</td>\n",
       "      <td>...</td>\n",
       "      <td>-0.067035</td>\n",
       "      <td>0.592435</td>\n",
       "      <td>-0.044487</td>\n",
       "      <td>0.105537</td>\n",
       "      <td>-0.306508</td>\n",
       "      <td>-0.058567</td>\n",
       "      <td>0.190029</td>\n",
       "      <td>-0.606310</td>\n",
       "      <td>0.668883</td>\n",
       "      <td>0.077728</td>\n",
       "    </tr>\n",
       "    <tr>\n",
       "      <td>First NBA game I went to.. Kobe.. and he dropped 58.</td>\n",
       "      <td>0.876027</td>\n",
       "      <td>0.826501</td>\n",
       "      <td>0.352891</td>\n",
       "      <td>0.861019</td>\n",
       "      <td>0.736028</td>\n",
       "      <td>0.818012</td>\n",
       "      <td>0.855840</td>\n",
       "      <td>0.345396</td>\n",
       "      <td>0.572174</td>\n",
       "      <td>0.844849</td>\n",
       "      <td>...</td>\n",
       "      <td>0.856038</td>\n",
       "      <td>0.469521</td>\n",
       "      <td>0.886082</td>\n",
       "      <td>0.838089</td>\n",
       "      <td>0.801464</td>\n",
       "      <td>0.688002</td>\n",
       "      <td>-0.432022</td>\n",
       "      <td>0.786344</td>\n",
       "      <td>0.686007</td>\n",
       "      <td>-0.334657</td>\n",
       "    </tr>\n",
       "    <tr>\n",
       "      <td>Amen to that.   RIP Kobe Bryant. https://twitter.com/4thandjawn/status/1221523349827936258 …</td>\n",
       "      <td>0.433176</td>\n",
       "      <td>0.512084</td>\n",
       "      <td>0.661649</td>\n",
       "      <td>0.455119</td>\n",
       "      <td>-0.036025</td>\n",
       "      <td>0.487554</td>\n",
       "      <td>0.284146</td>\n",
       "      <td>0.689692</td>\n",
       "      <td>-0.015128</td>\n",
       "      <td>0.418528</td>\n",
       "      <td>...</td>\n",
       "      <td>0.394797</td>\n",
       "      <td>0.749941</td>\n",
       "      <td>0.380085</td>\n",
       "      <td>0.490208</td>\n",
       "      <td>0.341170</td>\n",
       "      <td>0.518872</td>\n",
       "      <td>0.555957</td>\n",
       "      <td>-0.133331</td>\n",
       "      <td>0.595963</td>\n",
       "      <td>0.544125</td>\n",
       "    </tr>\n",
       "    <tr>\n",
       "      <td>\"Kobe Bryant, daughter and seven others killed in helicopter crash\"  https://twitter.com/i/events/1221516526160769024 …</td>\n",
       "      <td>0.341000</td>\n",
       "      <td>0.290409</td>\n",
       "      <td>0.559995</td>\n",
       "      <td>0.230771</td>\n",
       "      <td>0.095704</td>\n",
       "      <td>0.301721</td>\n",
       "      <td>0.286600</td>\n",
       "      <td>0.548887</td>\n",
       "      <td>0.208118</td>\n",
       "      <td>0.137900</td>\n",
       "      <td>...</td>\n",
       "      <td>0.312169</td>\n",
       "      <td>0.474106</td>\n",
       "      <td>0.285266</td>\n",
       "      <td>0.346183</td>\n",
       "      <td>0.377604</td>\n",
       "      <td>0.460738</td>\n",
       "      <td>0.549411</td>\n",
       "      <td>-0.018287</td>\n",
       "      <td>0.266995</td>\n",
       "      <td>0.565958</td>\n",
       "    </tr>\n",
       "    <tr>\n",
       "      <td>Sleep in peace, Kobe  A better world outside this awaits you</td>\n",
       "      <td>-0.035096</td>\n",
       "      <td>0.281551</td>\n",
       "      <td>0.220329</td>\n",
       "      <td>0.254684</td>\n",
       "      <td>-0.632116</td>\n",
       "      <td>0.188811</td>\n",
       "      <td>-0.284927</td>\n",
       "      <td>0.320189</td>\n",
       "      <td>-0.745272</td>\n",
       "      <td>0.372519</td>\n",
       "      <td>...</td>\n",
       "      <td>-0.074860</td>\n",
       "      <td>0.618494</td>\n",
       "      <td>-0.059493</td>\n",
       "      <td>0.099554</td>\n",
       "      <td>-0.311864</td>\n",
       "      <td>-0.035300</td>\n",
       "      <td>0.298741</td>\n",
       "      <td>-0.639888</td>\n",
       "      <td>0.641123</td>\n",
       "      <td>0.186161</td>\n",
       "    </tr>\n",
       "    <tr>\n",
       "      <td>Rest Up !! 24 4L Sending my deepest condolences to Kobe’s  family  Sorry Gigi Rest In Peace  pic.twitter.com/yCUvrTQlSi</td>\n",
       "      <td>0.305049</td>\n",
       "      <td>0.143249</td>\n",
       "      <td>-0.198378</td>\n",
       "      <td>0.145680</td>\n",
       "      <td>0.227799</td>\n",
       "      <td>0.101343</td>\n",
       "      <td>0.313068</td>\n",
       "      <td>-0.209776</td>\n",
       "      <td>0.292794</td>\n",
       "      <td>0.095536</td>\n",
       "      <td>...</td>\n",
       "      <td>0.211391</td>\n",
       "      <td>-0.033680</td>\n",
       "      <td>0.247303</td>\n",
       "      <td>0.192278</td>\n",
       "      <td>0.359246</td>\n",
       "      <td>0.084250</td>\n",
       "      <td>-0.510021</td>\n",
       "      <td>0.266639</td>\n",
       "      <td>0.257750</td>\n",
       "      <td>-0.489717</td>\n",
       "    </tr>\n",
       "    <tr>\n",
       "      <td>Amen!! Kobe is synonymous with the Staples Center and Los Angeles! It was common to drive around LA and see billboards of Kobe and the Lakers. Fans deserve to mourn Kobe and Gianna!</td>\n",
       "      <td>0.301982</td>\n",
       "      <td>0.198662</td>\n",
       "      <td>-0.183947</td>\n",
       "      <td>0.199852</td>\n",
       "      <td>0.120973</td>\n",
       "      <td>0.137679</td>\n",
       "      <td>0.265491</td>\n",
       "      <td>-0.176249</td>\n",
       "      <td>0.156934</td>\n",
       "      <td>0.175634</td>\n",
       "      <td>...</td>\n",
       "      <td>0.200178</td>\n",
       "      <td>0.065789</td>\n",
       "      <td>0.241652</td>\n",
       "      <td>0.211510</td>\n",
       "      <td>0.301664</td>\n",
       "      <td>0.067149</td>\n",
       "      <td>-0.500360</td>\n",
       "      <td>0.166048</td>\n",
       "      <td>0.381999</td>\n",
       "      <td>-0.500052</td>\n",
       "    </tr>\n",
       "  </tbody>\n",
       "</table>\n",
       "<p>25 rows × 939 columns</p>\n",
       "</div>"
      ],
      "text/plain": [
       "text                                                Wow they’re giving out a free Kobe jersey to every seat in the staples center tonight  \\\n",
       "text                                                                                                                                        \n",
       "Kobe is a hero basketball NBA shocking                                                       0.880069                                       \n",
       "Kobe Bryant  #BlackMamba\\n\\nGianna Bryant \\n\\n7...                                           0.441824                                       \n",
       "Watch @CBCNews's broadcast: Kobe Bryant killed ...                                           0.371858                                       \n",
       "People really in Lebron ig comments saying he k...                                           0.085733                                       \n",
       "I totally Agree Mr President. What a huge loss....                                           0.252842                                       \n",
       "@dotNoso predicted Kobe Bryant’s death                                                       0.450480                                       \n",
       "RIP KOBE BRYANT MY IDOL DIED.  https://twitter....                                           0.534125                                       \n",
       "Goodbye Kobe. Rest in Peace. pic.twitter.com/Ue...                                           0.229113                                       \n",
       "I knew basketball because of Kobe                                                            0.265225                                       \n",
       "I grew up on Kobe , my first Alexandra fair .. ...                                           0.275523                                       \n",
       "Heroes come and go but legends are forever. Tha...                                           0.258147                                       \n",
       "Kobe from the 90s                                                                           -0.195937                                       \n",
       "rest in peace kobe                                                                           0.260210                                       \n",
       "This so sad about Kobe Bryant  and daughter                                                  0.289915                                       \n",
       "Every time they show the NBA reactions I just b...                                           0.347313                                       \n",
       "GOD have Mercy!!!!\\n\\nRIP kobe Bryant,  Gianna ...                                           0.443681                                       \n",
       "Shocked!! RIP Kobe!! #nba #legend #BlackMambaRIP                                             0.930995                                       \n",
       "R.I.P. Kobe and His Daughter.                                                                0.182334                                       \n",
       "Words can’t describe this tragic situation. RIP...                                          -0.021333                                       \n",
       "First NBA game I went to.. Kobe.. and he droppe...                                           0.876027                                       \n",
       "Amen to that.   RIP Kobe Bryant. https://twitte...                                           0.433176                                       \n",
       "\"Kobe Bryant, daughter and seven others killed ...                                           0.341000                                       \n",
       "Sleep in peace, Kobe  A better world outside th...                                          -0.035096                                       \n",
       "Rest Up !! 24 4L Sending my deepest condolences...                                           0.305049                                       \n",
       "Amen!! Kobe is synonymous with the Staples Cent...                                           0.301982                                       \n",
       "\n",
       "text                                                next Tuesday, February 4 is senior Knight for @hoops_knights the theme is purple and yellow in honor of Kobe!!! #MambaMentalityForever  \\\n",
       "text                                                                                                                                                                                         \n",
       "Kobe is a hero basketball NBA shocking                                                       0.885944                                                                                        \n",
       "Kobe Bryant  #BlackMamba\\n\\nGianna Bryant \\n\\n7...                                           0.403570                                                                                        \n",
       "Watch @CBCNews's broadcast: Kobe Bryant killed ...                                           0.332711                                                                                        \n",
       "People really in Lebron ig comments saying he k...                                           0.332293                                                                                        \n",
       "I totally Agree Mr President. What a huge loss....                                           0.284075                                                                                        \n",
       "@dotNoso predicted Kobe Bryant’s death                                                       0.405170                                                                                        \n",
       "RIP KOBE BRYANT MY IDOL DIED.  https://twitter....                                           0.504855                                                                                        \n",
       "Goodbye Kobe. Rest in Peace. pic.twitter.com/Ue...                                           0.065948                                                                                        \n",
       "I knew basketball because of Kobe                                                            0.301533                                                                                        \n",
       "I grew up on Kobe , my first Alexandra fair .. ...                                           0.198052                                                                                        \n",
       "Heroes come and go but legends are forever. Tha...                                           0.183877                                                                                        \n",
       "Kobe from the 90s                                                                            0.134930                                                                                        \n",
       "rest in peace kobe                                                                           0.052842                                                                                        \n",
       "This so sad about Kobe Bryant  and daughter                                                  0.454403                                                                                        \n",
       "Every time they show the NBA reactions I just b...                                           0.538075                                                                                        \n",
       "GOD have Mercy!!!!\\n\\nRIP kobe Bryant,  Gianna ...                                           0.417180                                                                                        \n",
       "Shocked!! RIP Kobe!! #nba #legend #BlackMambaRIP                                             0.960809                                                                                        \n",
       "R.I.P. Kobe and His Daughter.                                                                0.115359                                                                                        \n",
       "Words can’t describe this tragic situation. RIP...                                           0.293575                                                                                        \n",
       "First NBA game I went to.. Kobe.. and he droppe...                                           0.826501                                                                                        \n",
       "Amen to that.   RIP Kobe Bryant. https://twitte...                                           0.512084                                                                                        \n",
       "\"Kobe Bryant, daughter and seven others killed ...                                           0.290409                                                                                        \n",
       "Sleep in peace, Kobe  A better world outside th...                                           0.281551                                                                                        \n",
       "Rest Up !! 24 4L Sending my deepest condolences...                                           0.143249                                                                                        \n",
       "Amen!! Kobe is synonymous with the Staples Cent...                                           0.198662                                                                                        \n",
       "\n",
       "text                                                Good luck with that. The wounds are still too fresh. Gathering lends comfort and grief support. Let it be, Chief... for our #Kobe. https://twitter.com/LAPDHQ/status/1223365218182426624 …  \\\n",
       "text                                                                                                                                                                                                                                             \n",
       "Kobe is a hero basketball NBA shocking                                                       0.415981                                                                                                                                            \n",
       "Kobe Bryant  #BlackMamba\\n\\nGianna Bryant \\n\\n7...                                           0.648993                                                                                                                                            \n",
       "Watch @CBCNews's broadcast: Kobe Bryant killed ...                                           0.618355                                                                                                                                            \n",
       "People really in Lebron ig comments saying he k...                                           0.005677                                                                                                                                            \n",
       "I totally Agree Mr President. What a huge loss....                                          -0.246539                                                                                                                                            \n",
       "@dotNoso predicted Kobe Bryant’s death                                                       0.665208                                                                                                                                            \n",
       "RIP KOBE BRYANT MY IDOL DIED.  https://twitter....                                           0.334820                                                                                                                                            \n",
       "Goodbye Kobe. Rest in Peace. pic.twitter.com/Ue...                                           0.077384                                                                                                                                            \n",
       "I knew basketball because of Kobe                                                           -0.242365                                                                                                                                            \n",
       "I grew up on Kobe , my first Alexandra fair .. ...                                          -0.407192                                                                                                                                            \n",
       "Heroes come and go but legends are forever. Tha...                                           0.032853                                                                                                                                            \n",
       "Kobe from the 90s                                                                            0.287913                                                                                                                                            \n",
       "rest in peace kobe                                                                          -0.063528                                                                                                                                            \n",
       "This so sad about Kobe Bryant  and daughter                                                  0.603370                                                                                                                                            \n",
       "Every time they show the NBA reactions I just b...                                           0.023905                                                                                                                                            \n",
       "GOD have Mercy!!!!\\n\\nRIP kobe Bryant,  Gianna ...                                           0.603681                                                                                                                                            \n",
       "Shocked!! RIP Kobe!! #nba #legend #BlackMambaRIP                                             0.591295                                                                                                                                            \n",
       "R.I.P. Kobe and His Daughter.                                                                0.171519                                                                                                                                            \n",
       "Words can’t describe this tragic situation. RIP...                                           0.158575                                                                                                                                            \n",
       "First NBA game I went to.. Kobe.. and he droppe...                                           0.352891                                                                                                                                            \n",
       "Amen to that.   RIP Kobe Bryant. https://twitte...                                           0.661649                                                                                                                                            \n",
       "\"Kobe Bryant, daughter and seven others killed ...                                           0.559995                                                                                                                                            \n",
       "Sleep in peace, Kobe  A better world outside th...                                           0.220329                                                                                                                                            \n",
       "Rest Up !! 24 4L Sending my deepest condolences...                                          -0.198378                                                                                                                                            \n",
       "Amen!! Kobe is synonymous with the Staples Cent...                                          -0.183947                                                                                                                                            \n",
       "\n",
       "text                                                24 shots in 8 minutes for kobe tonight? say less.  \\\n",
       "text                                                                                                    \n",
       "Kobe is a hero basketball NBA shocking                                                       0.914386   \n",
       "Kobe Bryant  #BlackMamba\\n\\nGianna Bryant \\n\\n7...                                           0.345441   \n",
       "Watch @CBCNews's broadcast: Kobe Bryant killed ...                                           0.272142   \n",
       "People really in Lebron ig comments saying he k...                                           0.324849   \n",
       "I totally Agree Mr President. What a huge loss....                                           0.298620   \n",
       "@dotNoso predicted Kobe Bryant’s death                                                       0.347075   \n",
       "RIP KOBE BRYANT MY IDOL DIED.  https://twitter....                                           0.475407   \n",
       "Goodbye Kobe. Rest in Peace. pic.twitter.com/Ue...                                           0.032818   \n",
       "I knew basketball because of Kobe                                                            0.317958   \n",
       "I grew up on Kobe , my first Alexandra fair .. ...                                           0.234974   \n",
       "Heroes come and go but legends are forever. Tha...                                           0.156717   \n",
       "Kobe from the 90s                                                                            0.115175   \n",
       "rest in peace kobe                                                                           0.036505   \n",
       "This so sad about Kobe Bryant  and daughter                                                  0.397474   \n",
       "Every time they show the NBA reactions I just b...                                           0.554899   \n",
       "GOD have Mercy!!!!\\n\\nRIP kobe Bryant,  Gianna ...                                           0.361023   \n",
       "Shocked!! RIP Kobe!! #nba #legend #BlackMambaRIP                                             0.968303   \n",
       "R.I.P. Kobe and His Daughter.                                                                0.070266   \n",
       "Words can’t describe this tragic situation. RIP...                                           0.273965   \n",
       "First NBA game I went to.. Kobe.. and he droppe...                                           0.861019   \n",
       "Amen to that.   RIP Kobe Bryant. https://twitte...                                           0.455119   \n",
       "\"Kobe Bryant, daughter and seven others killed ...                                           0.230771   \n",
       "Sleep in peace, Kobe  A better world outside th...                                           0.254684   \n",
       "Rest Up !! 24 4L Sending my deepest condolences...                                           0.145680   \n",
       "Amen!! Kobe is synonymous with the Staples Cent...                                           0.199852   \n",
       "\n",
       "text                                                January was a tough year but we are almost done with it   \\\n",
       "text                                                                                                           \n",
       "Kobe is a hero basketball NBA shocking                                                       0.633937          \n",
       "Kobe Bryant  #BlackMamba\\n\\nGianna Bryant \\n\\n7...                                           0.162642          \n",
       "Watch @CBCNews's broadcast: Kobe Bryant killed ...                                           0.113382          \n",
       "People really in Lebron ig comments saying he k...                                          -0.488503          \n",
       "I totally Agree Mr President. What a huge loss....                                          -0.078154          \n",
       "@dotNoso predicted Kobe Bryant’s death                                                       0.188469          \n",
       "RIP KOBE BRYANT MY IDOL DIED.  https://twitter....                                           0.156299          \n",
       "Goodbye Kobe. Rest in Peace. pic.twitter.com/Ue...                                           0.145415          \n",
       "I knew basketball because of Kobe                                                           -0.068592          \n",
       "I grew up on Kobe , my first Alexandra fair .. ...                                           0.179101          \n",
       "Heroes come and go but legends are forever. Tha...                                           0.000770          \n",
       "Kobe from the 90s                                                                           -0.585529          \n",
       "rest in peace kobe                                                                           0.258274          \n",
       "This so sad about Kobe Bryant  and daughter                                                 -0.256674          \n",
       "Every time they show the NBA reactions I just b...                                          -0.150627          \n",
       "GOD have Mercy!!!!\\n\\nRIP kobe Bryant,  Gianna ...                                           0.124643          \n",
       "Shocked!! RIP Kobe!! #nba #legend #BlackMambaRIP                                             0.564897          \n",
       "R.I.P. Kobe and His Daughter.                                                               -0.061910          \n",
       "Words can’t describe this tragic situation. RIP...                                          -0.615689          \n",
       "First NBA game I went to.. Kobe.. and he droppe...                                           0.736028          \n",
       "Amen to that.   RIP Kobe Bryant. https://twitte...                                          -0.036025          \n",
       "\"Kobe Bryant, daughter and seven others killed ...                                           0.095704          \n",
       "Sleep in peace, Kobe  A better world outside th...                                          -0.632116          \n",
       "Rest Up !! 24 4L Sending my deepest condolences...                                           0.227799          \n",
       "Amen!! Kobe is synonymous with the Staples Cent...                                           0.120973          \n",
       "\n",
       "text                                                still not real...\\nRIP KOBE , GIGI , NIPSEY   \\\n",
       "text                                                                                               \n",
       "Kobe is a hero basketball NBA shocking                                                  0.863489   \n",
       "Kobe Bryant  #BlackMamba\\n\\nGianna Bryant \\n\\n7...                                      0.415764   \n",
       "Watch @CBCNews's broadcast: Kobe Bryant killed ...                                      0.347197   \n",
       "People really in Lebron ig comments saying he k...                                      0.217176   \n",
       "I totally Agree Mr President. What a huge loss....                                      0.185732   \n",
       "@dotNoso predicted Kobe Bryant’s death                                                  0.422390   \n",
       "RIP KOBE BRYANT MY IDOL DIED.  https://twitter....                                      0.459198   \n",
       "Goodbye Kobe. Rest in Peace. pic.twitter.com/Ue...                                      0.057196   \n",
       "I knew basketball because of Kobe                                                       0.202666   \n",
       "I grew up on Kobe , my first Alexandra fair .. ...                                      0.126840   \n",
       "Heroes come and go but legends are forever. Tha...                                      0.134448   \n",
       "Kobe from the 90s                                                                       0.092859   \n",
       "rest in peace kobe                                                                      0.043151   \n",
       "This so sad about Kobe Bryant  and daughter                                             0.410493   \n",
       "Every time they show the NBA reactions I just b...                                      0.433315   \n",
       "GOD have Mercy!!!!\\n\\nRIP kobe Bryant,  Gianna ...                                      0.416312   \n",
       "Shocked!! RIP Kobe!! #nba #legend #BlackMambaRIP                                        0.934401   \n",
       "R.I.P. Kobe and His Daughter.                                                           0.086506   \n",
       "Words can’t describe this tragic situation. RIP...                                      0.193783   \n",
       "First NBA game I went to.. Kobe.. and he droppe...                                      0.818012   \n",
       "Amen to that.   RIP Kobe Bryant. https://twitte...                                      0.487554   \n",
       "\"Kobe Bryant, daughter and seven others killed ...                                      0.301721   \n",
       "Sleep in peace, Kobe  A better world outside th...                                      0.188811   \n",
       "Rest Up !! 24 4L Sending my deepest condolences...                                      0.101343   \n",
       "Amen!! Kobe is synonymous with the Staples Cent...                                      0.137679   \n",
       "\n",
       "text                                                A few years ago I told myself that I would tattoo a mount rushmore of my personal influencers and icons on my chest....since then weve lost Nip and Kobe, that's 2/4 ....I think I need to start my tattoo  \\\n",
       "text                                                                                                                                                                                                                                                             \n",
       "Kobe is a hero basketball NBA shocking                                                       0.816156                                                                                                                                                            \n",
       "Kobe Bryant  #BlackMamba\\n\\nGianna Bryant \\n\\n7...                                           0.376632                                                                                                                                                            \n",
       "Watch @CBCNews's broadcast: Kobe Bryant killed ...                                           0.312235                                                                                                                                                            \n",
       "People really in Lebron ig comments saying he k...                                          -0.145186                                                                                                                                                            \n",
       "I totally Agree Mr President. What a huge loss....                                           0.139935                                                                                                                                                            \n",
       "@dotNoso predicted Kobe Bryant’s death                                                       0.392511                                                                                                                                                            \n",
       "RIP KOBE BRYANT MY IDOL DIED.  https://twitter....                                           0.431348                                                                                                                                                            \n",
       "Goodbye Kobe. Rest in Peace. pic.twitter.com/Ue...                                           0.239458                                                                                                                                                            \n",
       "I knew basketball because of Kobe                                                            0.150570                                                                                                                                                            \n",
       "I grew up on Kobe , my first Alexandra fair .. ...                                           0.256362                                                                                                                                                            \n",
       "Heroes come and go but legends are forever. Tha...                                           0.194948                                                                                                                                                            \n",
       "Kobe from the 90s                                                                           -0.383449                                                                                                                                                            \n",
       "rest in peace kobe                                                                           0.303264                                                                                                                                                            \n",
       "This so sad about Kobe Bryant  and daughter                                                  0.096653                                                                                                                                                            \n",
       "Every time they show the NBA reactions I just b...                                           0.154546                                                                                                                                                            \n",
       "GOD have Mercy!!!!\\n\\nRIP kobe Bryant,  Gianna ...                                           0.362733                                                                                                                                                            \n",
       "Shocked!! RIP Kobe!! #nba #legend #BlackMambaRIP                                             0.827781                                                                                                                                                            \n",
       "R.I.P. Kobe and His Daughter.                                                                0.123506                                                                                                                                                            \n",
       "Words can’t describe this tragic situation. RIP...                                          -0.270909                                                                                                                                                            \n",
       "First NBA game I went to.. Kobe.. and he droppe...                                           0.855840                                                                                                                                                            \n",
       "Amen to that.   RIP Kobe Bryant. https://twitte...                                           0.284146                                                                                                                                                            \n",
       "\"Kobe Bryant, daughter and seven others killed ...                                           0.286600                                                                                                                                                            \n",
       "Sleep in peace, Kobe  A better world outside th...                                          -0.284927                                                                                                                                                            \n",
       "Rest Up !! 24 4L Sending my deepest condolences...                                           0.313068                                                                                                                                                            \n",
       "Amen!! Kobe is synonymous with the Staples Cent...                                           0.265491                                                                                                                                                            \n",
       "\n",
       "text                                                Love that he remembers the exact score ... Hahaha Kobe was a dawwggg always  “11-3..” With ZERO hesitation  True competitive nature. https://twitter.com/espn/status/1223376763327336450 …  \\\n",
       "text                                                                                                                                                                                                                                             \n",
       "Kobe is a hero basketball NBA shocking                                                       0.425037                                                                                                                                            \n",
       "Kobe Bryant  #BlackMamba\\n\\nGianna Bryant \\n\\n7...                                           0.639630                                                                                                                                            \n",
       "Watch @CBCNews's broadcast: Kobe Bryant killed ...                                           0.607982                                                                                                                                            \n",
       "People really in Lebron ig comments saying he k...                                           0.101468                                                                                                                                            \n",
       "I totally Agree Mr President. What a huge loss....                                          -0.198624                                                                                                                                            \n",
       "@dotNoso predicted Kobe Bryant’s death                                                       0.652351                                                                                                                                            \n",
       "RIP KOBE BRYANT MY IDOL DIED.  https://twitter....                                           0.350871                                                                                                                                            \n",
       "Goodbye Kobe. Rest in Peace. pic.twitter.com/Ue...                                           0.053149                                                                                                                                            \n",
       "I knew basketball because of Kobe                                                           -0.193400                                                                                                                                            \n",
       "I grew up on Kobe , my first Alexandra fair .. ...                                          -0.392207                                                                                                                                            \n",
       "Heroes come and go but legends are forever. Tha...                                           0.042327                                                                                                                                            \n",
       "Kobe from the 90s                                                                            0.367842                                                                                                                                            \n",
       "rest in peace kobe                                                                          -0.096330                                                                                                                                            \n",
       "This so sad about Kobe Bryant  and daughter                                                  0.655569                                                                                                                                            \n",
       "Every time they show the NBA reactions I just b...                                           0.103578                                                                                                                                            \n",
       "GOD have Mercy!!!!\\n\\nRIP kobe Bryant,  Gianna ...                                           0.602079                                                                                                                                            \n",
       "Shocked!! RIP Kobe!! #nba #legend #BlackMambaRIP                                             0.607557                                                                                                                                            \n",
       "R.I.P. Kobe and His Daughter.                                                                0.174299                                                                                                                                            \n",
       "Words can’t describe this tragic situation. RIP...                                           0.260812                                                                                                                                            \n",
       "First NBA game I went to.. Kobe.. and he droppe...                                           0.345396                                                                                                                                            \n",
       "Amen to that.   RIP Kobe Bryant. https://twitte...                                           0.689692                                                                                                                                            \n",
       "\"Kobe Bryant, daughter and seven others killed ...                                           0.548887                                                                                                                                            \n",
       "Sleep in peace, Kobe  A better world outside th...                                           0.320189                                                                                                                                            \n",
       "Rest Up !! 24 4L Sending my deepest condolences...                                          -0.209776                                                                                                                                            \n",
       "Amen!! Kobe is synonymous with the Staples Cent...                                          -0.176249                                                                                                                                            \n",
       "\n",
       "text                                                I know. I've been loading up on reaction memes for when the hatedom attacks. Stock up if you need some morepic.twitter.com/IzjARh4zOs  \\\n",
       "text                                                                                                                                                                                        \n",
       "Kobe is a hero basketball NBA shocking                                                       0.451319                                                                                       \n",
       "Kobe Bryant  #BlackMamba\\n\\nGianna Bryant \\n\\n7...                                           0.249733                                                                                       \n",
       "Watch @CBCNews's broadcast: Kobe Bryant killed ...                                           0.215526                                                                                       \n",
       "People really in Lebron ig comments saying he k...                                          -0.611115                                                                                       \n",
       "I totally Agree Mr President. What a huge loss....                                          -0.140298                                                                                       \n",
       "@dotNoso predicted Kobe Bryant’s death                                                       0.277489                                                                                       \n",
       "RIP KOBE BRYANT MY IDOL DIED.  https://twitter....                                           0.176524                                                                                       \n",
       "Goodbye Kobe. Rest in Peace. pic.twitter.com/Ue...                                           0.291432                                                                                       \n",
       "I knew basketball because of Kobe                                                           -0.139649                                                                                       \n",
       "I grew up on Kobe , my first Alexandra fair .. ...                                           0.126690                                                                                       \n",
       "Heroes come and go but legends are forever. Tha...                                           0.083677                                                                                       \n",
       "Kobe from the 90s                                                                           -0.713564                                                                                       \n",
       "rest in peace kobe                                                                           0.391348                                                                                       \n",
       "This so sad about Kobe Bryant  and daughter                                                 -0.265185                                                                                       \n",
       "Every time they show the NBA reactions I just b...                                          -0.330059                                                                                       \n",
       "GOD have Mercy!!!!\\n\\nRIP kobe Bryant,  Gianna ...                                           0.202996                                                                                       \n",
       "Shocked!! RIP Kobe!! #nba #legend #BlackMambaRIP                                             0.406957                                                                                       \n",
       "R.I.P. Kobe and His Daughter.                                                                0.061058                                                                                       \n",
       "Words can’t describe this tragic situation. RIP...                                          -0.743792                                                                                       \n",
       "First NBA game I went to.. Kobe.. and he droppe...                                           0.572174                                                                                       \n",
       "Amen to that.   RIP Kobe Bryant. https://twitte...                                          -0.015128                                                                                       \n",
       "\"Kobe Bryant, daughter and seven others killed ...                                           0.208118                                                                                       \n",
       "Sleep in peace, Kobe  A better world outside th...                                          -0.745272                                                                                       \n",
       "Rest Up !! 24 4L Sending my deepest condolences...                                           0.292794                                                                                       \n",
       "Amen!! Kobe is synonymous with the Staples Cent...                                           0.156934                                                                                       \n",
       "\n",
       "text                                                @Tigerfists88 #PeoplesChamp.!! Obama #p2 Biden #news kobe pic.twitter.com/iWuZDY0dcI pic.twitter.com/l7uEAi4GSI Please RT. #t4a #y0AU  \\\n",
       "text                                                                                                                                                                                        \n",
       "Kobe is a hero basketball NBA shocking                                                       0.916266                                                                                       \n",
       "Kobe Bryant  #BlackMamba\\n\\nGianna Bryant \\n\\n7...                                           0.253830                                                                                       \n",
       "Watch @CBCNews's broadcast: Kobe Bryant killed ...                                           0.179878                                                                                       \n",
       "People really in Lebron ig comments saying he k...                                           0.440692                                                                                       \n",
       "I totally Agree Mr President. What a huge loss....                                           0.349021                                                                                       \n",
       "@dotNoso predicted Kobe Bryant’s death                                                       0.250889                                                                                       \n",
       "RIP KOBE BRYANT MY IDOL DIED.  https://twitter....                                           0.431941                                                                                       \n",
       "Goodbye Kobe. Rest in Peace. pic.twitter.com/Ue...                                          -0.061140                                                                                       \n",
       "I knew basketball because of Kobe                                                            0.371599                                                                                       \n",
       "I grew up on Kobe , my first Alexandra fair .. ...                                           0.258902                                                                                       \n",
       "Heroes come and go but legends are forever. Tha...                                           0.112651                                                                                       \n",
       "Kobe from the 90s                                                                            0.232759                                                                                       \n",
       "rest in peace kobe                                                                          -0.057307                                                                                       \n",
       "This so sad about Kobe Bryant  and daughter                                                  0.403132                                                                                       \n",
       "Every time they show the NBA reactions I just b...                                           0.660630                                                                                       \n",
       "GOD have Mercy!!!!\\n\\nRIP kobe Bryant,  Gianna ...                                           0.280037                                                                                       \n",
       "Shocked!! RIP Kobe!! #nba #legend #BlackMambaRIP                                             0.957541                                                                                       \n",
       "R.I.P. Kobe and His Daughter.                                                                0.006954                                                                                       \n",
       "Words can’t describe this tragic situation. RIP...                                           0.400225                                                                                       \n",
       "First NBA game I went to.. Kobe.. and he droppe...                                           0.844849                                                                                       \n",
       "Amen to that.   RIP Kobe Bryant. https://twitte...                                           0.418528                                                                                       \n",
       "\"Kobe Bryant, daughter and seven others killed ...                                           0.137900                                                                                       \n",
       "Sleep in peace, Kobe  A better world outside th...                                           0.372519                                                                                       \n",
       "Rest Up !! 24 4L Sending my deepest condolences...                                           0.095536                                                                                       \n",
       "Amen!! Kobe is synonymous with the Staples Cent...                                           0.175634                                                                                       \n",
       "\n",
       "text                                                ...  \\\n",
       "text                                                ...   \n",
       "Kobe is a hero basketball NBA shocking              ...   \n",
       "Kobe Bryant  #BlackMamba\\n\\nGianna Bryant \\n\\n7...  ...   \n",
       "Watch @CBCNews's broadcast: Kobe Bryant killed ...  ...   \n",
       "People really in Lebron ig comments saying he k...  ...   \n",
       "I totally Agree Mr President. What a huge loss....  ...   \n",
       "@dotNoso predicted Kobe Bryant’s death              ...   \n",
       "RIP KOBE BRYANT MY IDOL DIED.  https://twitter....  ...   \n",
       "Goodbye Kobe. Rest in Peace. pic.twitter.com/Ue...  ...   \n",
       "I knew basketball because of Kobe                   ...   \n",
       "I grew up on Kobe , my first Alexandra fair .. ...  ...   \n",
       "Heroes come and go but legends are forever. Tha...  ...   \n",
       "Kobe from the 90s                                   ...   \n",
       "rest in peace kobe                                  ...   \n",
       "This so sad about Kobe Bryant  and daughter         ...   \n",
       "Every time they show the NBA reactions I just b...  ...   \n",
       "GOD have Mercy!!!!\\n\\nRIP kobe Bryant,  Gianna ...  ...   \n",
       "Shocked!! RIP Kobe!! #nba #legend #BlackMambaRIP    ...   \n",
       "R.I.P. Kobe and His Daughter.                       ...   \n",
       "Words can’t describe this tragic situation. RIP...  ...   \n",
       "First NBA game I went to.. Kobe.. and he droppe...  ...   \n",
       "Amen to that.   RIP Kobe Bryant. https://twitte...  ...   \n",
       "\"Kobe Bryant, daughter and seven others killed ...  ...   \n",
       "Sleep in peace, Kobe  A better world outside th...  ...   \n",
       "Rest Up !! 24 4L Sending my deepest condolences...  ...   \n",
       "Amen!! Kobe is synonymous with the Staples Cent...  ...   \n",
       "\n",
       "text                                                I just wanted a quiet lunch and now people are talking about “pussy society,” and”how can people have the audacity to talk about Kobe’s rape charge.” \\n\\nI’m all for discussion but not unintelligent opinions  \\\n",
       "text                                                                                                                                                                                                                                                                  \n",
       "Kobe is a hero basketball NBA shocking                                                       0.855084                                                                                                                                                                 \n",
       "Kobe Bryant  #BlackMamba\\n\\nGianna Bryant \\n\\n7...                                           0.416447                                                                                                                                                                 \n",
       "Watch @CBCNews's broadcast: Kobe Bryant killed ...                                           0.348883                                                                                                                                                                 \n",
       "People really in Lebron ig comments saying he k...                                           0.008191                                                                                                                                                                 \n",
       "I totally Agree Mr President. What a huge loss....                                           0.147308                                                                                                                                                                 \n",
       "@dotNoso predicted Kobe Bryant’s death                                                       0.429144                                                                                                                                                                 \n",
       "RIP KOBE BRYANT MY IDOL DIED.  https://twitter....                                           0.453396                                                                                                                                                                 \n",
       "Goodbye Kobe. Rest in Peace. pic.twitter.com/Ue...                                           0.160502                                                                                                                                                                 \n",
       "I knew basketball because of Kobe                                                            0.160977                                                                                                                                                                 \n",
       "I grew up on Kobe , my first Alexandra fair .. ...                                           0.183405                                                                                                                                                                 \n",
       "Heroes come and go but legends are forever. Tha...                                           0.166176                                                                                                                                                                 \n",
       "Kobe from the 90s                                                                           -0.167151                                                                                                                                                                 \n",
       "rest in peace kobe                                                                           0.185822                                                                                                                                                                 \n",
       "This so sad about Kobe Bryant  and daughter                                                  0.252322                                                                                                                                                                 \n",
       "Every time they show the NBA reactions I just b...                                           0.274407                                                                                                                                                                 \n",
       "GOD have Mercy!!!!\\n\\nRIP kobe Bryant,  Gianna ...                                           0.406659                                                                                                                                                                 \n",
       "Shocked!! RIP Kobe!! #nba #legend #BlackMambaRIP                                             0.898039                                                                                                                                                                 \n",
       "R.I.P. Kobe and His Daughter.                                                                0.110079                                                                                                                                                                 \n",
       "Words can’t describe this tragic situation. RIP...                                          -0.067035                                                                                                                                                                 \n",
       "First NBA game I went to.. Kobe.. and he droppe...                                           0.856038                                                                                                                                                                 \n",
       "Amen to that.   RIP Kobe Bryant. https://twitte...                                           0.394797                                                                                                                                                                 \n",
       "\"Kobe Bryant, daughter and seven others killed ...                                           0.312169                                                                                                                                                                 \n",
       "Sleep in peace, Kobe  A better world outside th...                                          -0.074860                                                                                                                                                                 \n",
       "Rest Up !! 24 4L Sending my deepest condolences...                                           0.211391                                                                                                                                                                 \n",
       "Amen!! Kobe is synonymous with the Staples Cent...                                           0.200178                                                                                                                                                                 \n",
       "\n",
       "text                                                Olivia Munn & Kobe Bryant Were Planning Project That Helped Kids Cope With Death. I hope someone can counsel young Kobe fans about his death. I have trouble coping with the death of Kobe and Gianna and I am a grown lady. https://twitter.com/TraceyR03852081/status/1223749250246414337 …  \\\n",
       "text                                                                                                                                                                                                                                                                                                                                                \n",
       "Kobe is a hero basketball NBA shocking                                                       0.592597                                                                                                                                                                                                                                               \n",
       "Kobe Bryant  #BlackMamba\\n\\nGianna Bryant \\n\\n7...                                           0.569746                                                                                                                                                                                                                                               \n",
       "Watch @CBCNews's broadcast: Kobe Bryant killed ...                                           0.522792                                                                                                                                                                                                                                               \n",
       "People really in Lebron ig comments saying he k...                                           0.508350                                                                                                                                                                                                                                               \n",
       "I totally Agree Mr President. What a huge loss....                                           0.184671                                                                                                                                                                                                                                               \n",
       "@dotNoso predicted Kobe Bryant’s death                                                       0.565189                                                                                                                                                                                                                                               \n",
       "RIP KOBE BRYANT MY IDOL DIED.  https://twitter....                                           0.522442                                                                                                                                                                                                                                               \n",
       "Goodbye Kobe. Rest in Peace. pic.twitter.com/Ue...                                           0.070598                                                                                                                                                                                                                                               \n",
       "I knew basketball because of Kobe                                                            0.194353                                                                                                                                                                                                                                               \n",
       "I grew up on Kobe , my first Alexandra fair .. ...                                          -0.080903                                                                                                                                                                                                                                               \n",
       "Heroes come and go but legends are forever. Tha...                                           0.211820                                                                                                                                                                                                                                               \n",
       "Kobe from the 90s                                                                            0.480301                                                                                                                                                                                                                                               \n",
       "rest in peace kobe                                                                          -0.056255                                                                                                                                                                                                                                               \n",
       "This so sad about Kobe Bryant  and daughter                                                  0.774144                                                                                                                                                                                                                                               \n",
       "Every time they show the NBA reactions I just b...                                           0.515644                                                                                                                                                                                                                                               \n",
       "GOD have Mercy!!!!\\n\\nRIP kobe Bryant,  Gianna ...                                           0.580865                                                                                                                                                                                                                                               \n",
       "Shocked!! RIP Kobe!! #nba #legend #BlackMambaRIP                                             0.771880                                                                                                                                                                                                                                               \n",
       "R.I.P. Kobe and His Daughter.                                                                0.247281                                                                                                                                                                                                                                               \n",
       "Words can’t describe this tragic situation. RIP...                                           0.592435                                                                                                                                                                                                                                               \n",
       "First NBA game I went to.. Kobe.. and he droppe...                                           0.469521                                                                                                                                                                                                                                               \n",
       "Amen to that.   RIP Kobe Bryant. https://twitte...                                           0.749941                                                                                                                                                                                                                                               \n",
       "\"Kobe Bryant, daughter and seven others killed ...                                           0.474106                                                                                                                                                                                                                                               \n",
       "Sleep in peace, Kobe  A better world outside th...                                           0.618494                                                                                                                                                                                                                                               \n",
       "Rest Up !! 24 4L Sending my deepest condolences...                                          -0.033680                                                                                                                                                                                                                                               \n",
       "Amen!! Kobe is synonymous with the Staples Cent...                                           0.065789                                                                                                                                                                                                                                               \n",
       "\n",
       "text                                                24, for my boy Kobe.   \\\n",
       "text                                                                        \n",
       "Kobe is a hero basketball NBA shocking                           0.886095   \n",
       "Kobe Bryant  #BlackMamba\\n\\nGianna Bryant \\n\\n7...               0.389742   \n",
       "Watch @CBCNews's broadcast: Kobe Bryant killed ...               0.319394   \n",
       "People really in Lebron ig comments saying he k...               0.049531   \n",
       "I totally Agree Mr President. What a huge loss....               0.205167   \n",
       "@dotNoso predicted Kobe Bryant’s death                           0.400355   \n",
       "RIP KOBE BRYANT MY IDOL DIED.  https://twitter....               0.469992   \n",
       "Goodbye Kobe. Rest in Peace. pic.twitter.com/Ue...               0.162534   \n",
       "I knew basketball because of Kobe                                0.219723   \n",
       "I grew up on Kobe , my first Alexandra fair .. ...               0.244471   \n",
       "Heroes come and go but legends are forever. Tha...               0.186575   \n",
       "Kobe from the 90s                                               -0.177212   \n",
       "rest in peace kobe                                               0.199055   \n",
       "This so sad about Kobe Bryant  and daughter                      0.241054   \n",
       "Every time they show the NBA reactions I just b...               0.326967   \n",
       "GOD have Mercy!!!!\\n\\nRIP kobe Bryant,  Gianna ...               0.386914   \n",
       "Shocked!! RIP Kobe!! #nba #legend #BlackMambaRIP                 0.920485   \n",
       "R.I.P. Kobe and His Daughter.                                    0.110566   \n",
       "Words can’t describe this tragic situation. RIP...              -0.044487   \n",
       "First NBA game I went to.. Kobe.. and he droppe...               0.886082   \n",
       "Amen to that.   RIP Kobe Bryant. https://twitte...               0.380085   \n",
       "\"Kobe Bryant, daughter and seven others killed ...               0.285266   \n",
       "Sleep in peace, Kobe  A better world outside th...              -0.059493   \n",
       "Rest Up !! 24 4L Sending my deepest condolences...               0.247303   \n",
       "Amen!! Kobe is synonymous with the Staples Cent...               0.241652   \n",
       "\n",
       "text                                                Can y’all stop talking about Kobe #RIPKobeByrant tho  \\\n",
       "text                                                                                                       \n",
       "Kobe is a hero basketball NBA shocking                                                       0.867633      \n",
       "Kobe Bryant  #BlackMamba\\n\\nGianna Bryant \\n\\n7...                                           0.454799      \n",
       "Watch @CBCNews's broadcast: Kobe Bryant killed ...                                           0.385945      \n",
       "People really in Lebron ig comments saying he k...                                           0.161681      \n",
       "I totally Agree Mr President. What a huge loss....                                           0.210562      \n",
       "@dotNoso predicted Kobe Bryant’s death                                                       0.462455      \n",
       "RIP KOBE BRYANT MY IDOL DIED.  https://twitter....                                           0.508404      \n",
       "Goodbye Kobe. Rest in Peace. pic.twitter.com/Ue...                                           0.148037      \n",
       "I knew basketball because of Kobe                                                            0.224859      \n",
       "I grew up on Kobe , my first Alexandra fair .. ...                                           0.179179      \n",
       "Heroes come and go but legends are forever. Tha...                                           0.201462      \n",
       "Kobe from the 90s                                                                           -0.028626      \n",
       "rest in peace kobe                                                                           0.147426      \n",
       "This so sad about Kobe Bryant  and daughter                                                  0.382402      \n",
       "Every time they show the NBA reactions I just b...                                           0.390779      \n",
       "GOD have Mercy!!!!\\n\\nRIP kobe Bryant,  Gianna ...                                           0.454982      \n",
       "Shocked!! RIP Kobe!! #nba #legend #BlackMambaRIP                                             0.938548      \n",
       "R.I.P. Kobe and His Daughter.                                                                0.147959      \n",
       "Words can’t describe this tragic situation. RIP...                                           0.105537      \n",
       "First NBA game I went to.. Kobe.. and he droppe...                                           0.838089      \n",
       "Amen to that.   RIP Kobe Bryant. https://twitte...                                           0.490208      \n",
       "\"Kobe Bryant, daughter and seven others killed ...                                           0.346183      \n",
       "Sleep in peace, Kobe  A better world outside th...                                           0.099554      \n",
       "Rest Up !! 24 4L Sending my deepest condolences...                                           0.192278      \n",
       "Amen!! Kobe is synonymous with the Staples Cent...                                           0.211510      \n",
       "\n",
       "text                                                He’s super cancelled after disrespecting Kobe.  I have a draft on that but idk I just felt like people were over him  I made so many videos on him already... but the kobe thing really did push my buttons  \\\n",
       "text                                                                                                                                                                                                                                                              \n",
       "Kobe is a hero basketball NBA shocking                                                       0.758275                                                                                                                                                             \n",
       "Kobe Bryant  #BlackMamba\\n\\nGianna Bryant \\n\\n7...                                           0.459363                                                                                                                                                             \n",
       "Watch @CBCNews's broadcast: Kobe Bryant killed ...                                           0.399824                                                                                                                                                             \n",
       "People really in Lebron ig comments saying he k...                                          -0.177671                                                                                                                                                             \n",
       "I totally Agree Mr President. What a huge loss....                                           0.128689                                                                                                                                                             \n",
       "@dotNoso predicted Kobe Bryant’s death                                                       0.475744                                                                                                                                                             \n",
       "RIP KOBE BRYANT MY IDOL DIED.  https://twitter....                                           0.482002                                                                                                                                                             \n",
       "Goodbye Kobe. Rest in Peace. pic.twitter.com/Ue...                                           0.331450                                                                                                                                                             \n",
       "I knew basketball because of Kobe                                                            0.134972                                                                                                                                                             \n",
       "I grew up on Kobe , my first Alexandra fair .. ...                                           0.236060                                                                                                                                                             \n",
       "Heroes come and go but legends are forever. Tha...                                           0.262401                                                                                                                                                             \n",
       "Kobe from the 90s                                                                           -0.433913                                                                                                                                                             \n",
       "rest in peace kobe                                                                           0.382830                                                                                                                                                             \n",
       "This so sad about Kobe Bryant  and daughter                                                  0.137367                                                                                                                                                             \n",
       "Every time they show the NBA reactions I just b...                                           0.093861                                                                                                                                                             \n",
       "GOD have Mercy!!!!\\n\\nRIP kobe Bryant,  Gianna ...                                           0.442473                                                                                                                                                             \n",
       "Shocked!! RIP Kobe!! #nba #legend #BlackMambaRIP                                             0.793539                                                                                                                                                             \n",
       "R.I.P. Kobe and His Daughter.                                                                0.211674                                                                                                                                                             \n",
       "Words can’t describe this tragic situation. RIP...                                          -0.306508                                                                                                                                                             \n",
       "First NBA game I went to.. Kobe.. and he droppe...                                           0.801464                                                                                                                                                             \n",
       "Amen to that.   RIP Kobe Bryant. https://twitte...                                           0.341170                                                                                                                                                             \n",
       "\"Kobe Bryant, daughter and seven others killed ...                                           0.377604                                                                                                                                                             \n",
       "Sleep in peace, Kobe  A better world outside th...                                          -0.311864                                                                                                                                                             \n",
       "Rest Up !! 24 4L Sending my deepest condolences...                                           0.359246                                                                                                                                                             \n",
       "Amen!! Kobe is synonymous with the Staples Cent...                                           0.301664                                                                                                                                                             \n",
       "\n",
       "text                                                This is facts and the best black history month pack was with the Kobe 8s  \\\n",
       "text                                                                                                                           \n",
       "Kobe is a hero basketball NBA shocking                                                       0.700364                          \n",
       "Kobe Bryant  #BlackMamba\\n\\nGianna Bryant \\n\\n7...                                           0.560259                          \n",
       "Watch @CBCNews's broadcast: Kobe Bryant killed ...                                           0.506068                          \n",
       "People really in Lebron ig comments saying he k...                                          -0.063535                          \n",
       "I totally Agree Mr President. What a huge loss....                                          -0.033037                          \n",
       "@dotNoso predicted Kobe Bryant’s death                                                       0.577308                          \n",
       "RIP KOBE BRYANT MY IDOL DIED.  https://twitter....                                           0.435548                          \n",
       "Goodbye Kobe. Rest in Peace. pic.twitter.com/Ue...                                           0.181395                          \n",
       "I knew basketball because of Kobe                                                           -0.024505                          \n",
       "I grew up on Kobe , my first Alexandra fair .. ...                                          -0.054081                          \n",
       "Heroes come and go but legends are forever. Tha...                                           0.138428                          \n",
       "Kobe from the 90s                                                                           -0.064887                          \n",
       "rest in peace kobe                                                                           0.144464                          \n",
       "This so sad about Kobe Bryant  and daughter                                                  0.381741                          \n",
       "Every time they show the NBA reactions I just b...                                           0.119744                          \n",
       "GOD have Mercy!!!!\\n\\nRIP kobe Bryant,  Gianna ...                                           0.530272                          \n",
       "Shocked!! RIP Kobe!! #nba #legend #BlackMambaRIP                                             0.800202                          \n",
       "R.I.P. Kobe and His Daughter.                                                                0.166576                          \n",
       "Words can’t describe this tragic situation. RIP...                                          -0.058567                          \n",
       "First NBA game I went to.. Kobe.. and he droppe...                                           0.688002                          \n",
       "Amen to that.   RIP Kobe Bryant. https://twitte...                                           0.518872                          \n",
       "\"Kobe Bryant, daughter and seven others killed ...                                           0.460738                          \n",
       "Sleep in peace, Kobe  A better world outside th...                                          -0.035300                          \n",
       "Rest Up !! 24 4L Sending my deepest condolences...                                           0.084250                          \n",
       "Amen!! Kobe is synonymous with the Staples Cent...                                           0.067149                          \n",
       "\n",
       "text                                                For all the clowns that think curry is faking it lolhttps://twitter.com/wojespn/status/1190356591620562944 …  \\\n",
       "text                                                                                                                                                               \n",
       "Kobe is a hero basketball NBA shocking                                                      -0.354473                                                              \n",
       "Kobe Bryant  #BlackMamba\\n\\nGianna Bryant \\n\\n7...                                           0.563392                                                              \n",
       "Watch @CBCNews's broadcast: Kobe Bryant killed ...                                           0.595232                                                              \n",
       "People really in Lebron ig comments saying he k...                                          -0.119104                                                              \n",
       "I totally Agree Mr President. What a huge loss....                                          -0.598521                                                              \n",
       "@dotNoso predicted Kobe Bryant’s death                                                       0.577977                                                              \n",
       "RIP KOBE BRYANT MY IDOL DIED.  https://twitter....                                           0.002982                                                              \n",
       "Goodbye Kobe. Rest in Peace. pic.twitter.com/Ue...                                          -0.001665                                                              \n",
       "I knew basketball because of Kobe                                                           -0.610204                                                              \n",
       "I grew up on Kobe , my first Alexandra fair .. ...                                          -0.850464                                                              \n",
       "Heroes come and go but legends are forever. Tha...                                          -0.122378                                                              \n",
       "Kobe from the 90s                                                                            0.518981                                                              \n",
       "rest in peace kobe                                                                          -0.239833                                                              \n",
       "This so sad about Kobe Bryant  and daughter                                                  0.593868                                                              \n",
       "Every time they show the NBA reactions I just b...                                          -0.381694                                                              \n",
       "GOD have Mercy!!!!\\n\\nRIP kobe Bryant,  Gianna ...                                           0.495517                                                              \n",
       "Shocked!! RIP Kobe!! #nba #legend #BlackMambaRIP                                            -0.134779                                                              \n",
       "R.I.P. Kobe and His Daughter.                                                                0.166854                                                              \n",
       "Words can’t describe this tragic situation. RIP...                                           0.190029                                                              \n",
       "First NBA game I went to.. Kobe.. and he droppe...                                          -0.432022                                                              \n",
       "Amen to that.   RIP Kobe Bryant. https://twitte...                                           0.555957                                                              \n",
       "\"Kobe Bryant, daughter and seven others killed ...                                           0.549411                                                              \n",
       "Sleep in peace, Kobe  A better world outside th...                                           0.298741                                                              \n",
       "Rest Up !! 24 4L Sending my deepest condolences...                                          -0.510021                                                              \n",
       "Amen!! Kobe is synonymous with the Staples Cent...                                          -0.500360                                                              \n",
       "\n",
       "text                                                And we haven’t heard from Khan since lol  \\\n",
       "text                                                                                           \n",
       "Kobe is a hero basketball NBA shocking                                              0.678766   \n",
       "Kobe Bryant  #BlackMamba\\n\\nGianna Bryant \\n\\n7...                                  0.047501   \n",
       "Watch @CBCNews's broadcast: Kobe Bryant killed ...                                 -0.005941   \n",
       "People really in Lebron ig comments saying he k...                                 -0.444631   \n",
       "I totally Agree Mr President. What a huge loss....                                  0.005732   \n",
       "@dotNoso predicted Kobe Bryant’s death                                              0.070347   \n",
       "RIP KOBE BRYANT MY IDOL DIED.  https://twitter....                                  0.127206   \n",
       "Goodbye Kobe. Rest in Peace. pic.twitter.com/Ue...                                  0.102128   \n",
       "I knew basketball because of Kobe                                                   0.018224   \n",
       "I grew up on Kobe , my first Alexandra fair .. ...                                  0.291323   \n",
       "Heroes come and go but legends are forever. Tha...                                 -0.012281   \n",
       "Kobe from the 90s                                                                  -0.613047   \n",
       "rest in peace kobe                                                                  0.247439   \n",
       "This so sad about Kobe Bryant  and daughter                                        -0.344447   \n",
       "Every time they show the NBA reactions I just b...                                 -0.073130   \n",
       "GOD have Mercy!!!!\\n\\nRIP kobe Bryant,  Gianna ...                                  0.020795   \n",
       "Shocked!! RIP Kobe!! #nba #legend #BlackMambaRIP                                    0.573250   \n",
       "R.I.P. Kobe and His Daughter.                                                      -0.118814   \n",
       "Words can’t describe this tragic situation. RIP...                                 -0.606310   \n",
       "First NBA game I went to.. Kobe.. and he droppe...                                  0.786344   \n",
       "Amen to that.   RIP Kobe Bryant. https://twitte...                                 -0.133331   \n",
       "\"Kobe Bryant, daughter and seven others killed ...                                 -0.018287   \n",
       "Sleep in peace, Kobe  A better world outside th...                                 -0.639888   \n",
       "Rest Up !! 24 4L Sending my deepest condolences...                                  0.266639   \n",
       "Amen!! Kobe is synonymous with the Staples Cent...                                  0.166048   \n",
       "\n",
       "text                                                Remembering Kobe Bryant...\\n#BlackMambaForever\\n#ForKobe\\n#StaplesCenter\\n#rememberingkobepic.twitter.com/38ZhM0LMey  \\\n",
       "text                                                                                                                                                                       \n",
       "Kobe is a hero basketball NBA shocking                                                       0.800009                                                                      \n",
       "Kobe Bryant  #BlackMamba\\n\\nGianna Bryant \\n\\n7...                                           0.358850                                                                      \n",
       "Watch @CBCNews's broadcast: Kobe Bryant killed ...                                           0.293181                                                                      \n",
       "People really in Lebron ig comments saying he k...                                           0.737858                                                                      \n",
       "I totally Agree Mr President. What a huge loss....                                           0.589667                                                                      \n",
       "@dotNoso predicted Kobe Bryant’s death                                                       0.340939                                                                      \n",
       "RIP KOBE BRYANT MY IDOL DIED.  https://twitter....                                           0.626231                                                                      \n",
       "Goodbye Kobe. Rest in Peace. pic.twitter.com/Ue...                                           0.110415                                                                      \n",
       "I knew basketball because of Kobe                                                            0.604697                                                                      \n",
       "I grew up on Kobe , my first Alexandra fair .. ...                                           0.380931                                                                      \n",
       "Heroes come and go but legends are forever. Tha...                                           0.361929                                                                      \n",
       "Kobe from the 90s                                                                            0.323299                                                                      \n",
       "rest in peace kobe                                                                           0.079456                                                                      \n",
       "This so sad about Kobe Bryant  and daughter                                                  0.626829                                                                      \n",
       "Every time they show the NBA reactions I just b...                                           0.840610                                                                      \n",
       "GOD have Mercy!!!!\\n\\nRIP kobe Bryant,  Gianna ...                                           0.417455                                                                      \n",
       "Shocked!! RIP Kobe!! #nba #legend #BlackMambaRIP                                             0.904070                                                                      \n",
       "R.I.P. Kobe and His Daughter.                                                                0.249170                                                                      \n",
       "Words can’t describe this tragic situation. RIP...                                           0.668883                                                                      \n",
       "First NBA game I went to.. Kobe.. and he droppe...                                           0.686007                                                                      \n",
       "Amen to that.   RIP Kobe Bryant. https://twitte...                                           0.595963                                                                      \n",
       "\"Kobe Bryant, daughter and seven others killed ...                                           0.266995                                                                      \n",
       "Sleep in peace, Kobe  A better world outside th...                                           0.641123                                                                      \n",
       "Rest Up !! 24 4L Sending my deepest condolences...                                           0.257750                                                                      \n",
       "Amen!! Kobe is synonymous with the Staples Cent...                                           0.381999                                                                      \n",
       "\n",
       "text                                                Sue me I’m rooting for everybody that’s Black!!https://twitter.com/nfl/status/1223751911897255936 …  \n",
       "text                                                                                                                                                     \n",
       "Kobe is a hero basketball NBA shocking                                                      -0.275032                                                    \n",
       "Kobe Bryant  #BlackMamba\\n\\nGianna Bryant \\n\\n7...                                           0.589152                                                    \n",
       "Watch @CBCNews's broadcast: Kobe Bryant killed ...                                           0.614972                                                    \n",
       "People really in Lebron ig comments saying he k...                                          -0.218034                                                    \n",
       "I totally Agree Mr President. What a huge loss....                                          -0.636189                                                    \n",
       "@dotNoso predicted Kobe Bryant’s death                                                       0.608643                                                    \n",
       "RIP KOBE BRYANT MY IDOL DIED.  https://twitter....                                           0.011924                                                    \n",
       "Goodbye Kobe. Rest in Peace. pic.twitter.com/Ue...                                           0.016694                                                    \n",
       "I knew basketball because of Kobe                                                           -0.646759                                                    \n",
       "I grew up on Kobe , my first Alexandra fair .. ...                                          -0.845375                                                    \n",
       "Heroes come and go but legends are forever. Tha...                                          -0.135236                                                    \n",
       "Kobe from the 90s                                                                            0.426430                                                    \n",
       "rest in peace kobe                                                                          -0.206270                                                    \n",
       "This so sad about Kobe Bryant  and daughter                                                  0.546401                                                    \n",
       "Every time they show the NBA reactions I just b...                                          -0.431869                                                    \n",
       "GOD have Mercy!!!!\\n\\nRIP kobe Bryant,  Gianna ...                                           0.512495                                                    \n",
       "Shocked!! RIP Kobe!! #nba #legend #BlackMambaRIP                                            -0.065819                                                    \n",
       "R.I.P. Kobe and His Daughter.                                                                0.151165                                                    \n",
       "Words can’t describe this tragic situation. RIP...                                           0.077728                                                    \n",
       "First NBA game I went to.. Kobe.. and he droppe...                                          -0.334657                                                    \n",
       "Amen to that.   RIP Kobe Bryant. https://twitte...                                           0.544125                                                    \n",
       "\"Kobe Bryant, daughter and seven others killed ...                                           0.565958                                                    \n",
       "Sleep in peace, Kobe  A better world outside th...                                           0.186161                                                    \n",
       "Rest Up !! 24 4L Sending my deepest condolences...                                          -0.489717                                                    \n",
       "Amen!! Kobe is synonymous with the Staples Cent...                                          -0.500052                                                    \n",
       "\n",
       "[25 rows x 939 columns]"
      ]
     },
     "execution_count": 22,
     "metadata": {},
     "output_type": "execute_result"
    }
   ],
   "source": [
    "dtm_lsa2formatted = dtm_lsa2[0:939]\n",
    "dtm_lsa2.shape\n",
    "dtm_lsaformatted = dtm_lsa[0:939]\n",
    "dtm_lsa2.shape\n",
    "similarity = np.asarray(np.asmatrix(dtm_lsaformatted) * np.asmatrix(dtm_lsa2formatted).T)\n",
    "dfmatrix = pd.DataFrame(similarity,index=d[0:939], columns=dnew[0:939])\n",
    "dfmatrix.head(25)"
   ]
  },
  {
   "cell_type": "code",
   "execution_count": 23,
   "metadata": {},
   "outputs": [
    {
     "name": "stdout",
     "output_type": "stream",
     "text": [
      "Populating the interactive namespace from numpy and matplotlib\n"
     ]
    },
    {
     "name": "stderr",
     "output_type": "stream",
     "text": [
      "/Library/Frameworks/Python.framework/Versions/3.7/lib/python3.7/site-packages/IPython/core/magics/pylab.py:160: UserWarning:\n",
      "\n",
      "pylab import has clobbered these variables: ['f']\n",
      "`%matplotlib` prevents importing * from pylab and numpy\n",
      "\n"
     ]
    },
    {
     "data": {
      "image/png": "[encoded data removed]",
      "text/plain": [
       "<Figure size 432x288 with 1 Axes>"
      ]
     },
     "metadata": {
      "needs_background": "light"
     },
     "output_type": "display_data"
    }
   ],
   "source": [
    "xs = [w[0] for w in dtm_lsa]\n",
    "ys = [w[1] for w in dtm_lsa]\n",
    "xs, ys\n",
    "%pylab inline\n",
    "import matplotlib.pyplot as plt\n",
    "figure()\n",
    "plt.scatter(xs,ys)\n",
    "xlabel('First principal component')\n",
    "ylabel('Second principal component')\n",
    "title('Plot of points against LSA principal components')\n",
    "show()"
   ]
  },
  {
   "cell_type": "code",
   "execution_count": 24,
   "metadata": {},
   "outputs": [
    {
     "name": "stdout",
     "output_type": "stream",
     "text": [
      "0.16569265189639926\n",
      "0.1532839935951959\n",
      "0.8307027728968338\n"
     ]
    }
   ],
   "source": [
    "print(lsa.explained_variance_ratio_.sum())\n",
    "print(lsa2.explained_variance_ratio_.sum())\n",
    "print(lsa3.explained_variance_ratio_.sum())"
   ]
  },
  {
   "cell_type": "code",
   "execution_count": 25,
   "metadata": {},
   "outputs": [
    {
     "name": "stdout",
     "output_type": "stream",
     "text": [
      "Topic 0: \n",
      "bryant\n",
      " \n",
      "nba\n",
      " \n",
      "via\n",
      " \n",
      "logo\n",
      " \n",
      "make\n",
      " \n",
      "petition\n",
      " \n",
      "chng\n",
      " \n",
      "new\n",
      " \n",
      "change\n",
      " \n",
      "this\n",
      " \n",
      "Topic 1: \n",
      "this\n",
      " \n",
      "my\n",
      " \n",
      "with\n",
      " \n",
      "status\n",
      " \n",
      "me\n",
      " \n",
      "daughter\n",
      " \n",
      "basketball\n",
      " \n",
      "can\n",
      " \n",
      "rip\n",
      " \n",
      "bryant\n",
      " \n",
      "Topic 2: \n",
      "bryant\n",
      " \n",
      "pic\n",
      " \n",
      "daughter\n",
      " \n",
      "crash\n",
      " \n",
      "helicopter\n",
      " \n",
      "death\n",
      " \n",
      "rest\n",
      " \n",
      "peace\n",
      " \n",
      "2020\n",
      " \n",
      "killed\n",
      " \n",
      "Topic 3: \n",
      "my\n",
      " \n",
      "with\n",
      " \n",
      "me\n",
      " \n",
      "him\n",
      " \n",
      "rest\n",
      " \n",
      "your\n",
      " \n",
      "game\n",
      " \n",
      "peace\n",
      " \n",
      "were\n",
      " \n",
      "player\n",
      " \n"
     ]
    }
   ],
   "source": [
    "terms = c.get_feature_names()\n",
    "\n",
    "for i, comp in enumerate(lsa.components_):\n",
    "    terms_comp = zip(terms, comp)\n",
    "    sorted_terms = sorted(terms_comp, key= lambda x:x[1], reverse=True)[:10]\n",
    "    print(\"Topic \"+str(i)+\": \")\n",
    "    for t in sorted_terms:\n",
    "        print(t[0])\n",
    "        print(\" \")\n"
   ]
  },
  {
   "cell_type": "code",
   "execution_count": 26,
   "metadata": {},
   "outputs": [],
   "source": [
    "#terms1 = c1.get_feature_names()\n",
    "#\n",
    "#for i, comp in enumerate(lsa2.components_):\n",
    "#    terms_comp1 = zip(terms1, comp)\n",
    "#    sorted_terms1 = sorted(terms_comp1, key= lambda x:x[1], reverse=True)[:7]\n",
    "#    print(\"Topic \"+str(i)+\": \")\n",
    "#    for t in sorted_terms1:\n",
    "#        print(t[0])\n",
    "#        print(\" \")"
   ]
  },
  {
   "cell_type": "code",
   "execution_count": 27,
   "metadata": {},
   "outputs": [
    {
     "name": "stdout",
     "output_type": "stream",
     "text": [
      "Topic 0: \n",
      "let\n",
      " \n",
      "came\n",
      " \n",
      "top\n",
      " \n",
      "news\n",
      " \n",
      "with\n",
      " \n",
      "them\n",
      " \n",
      "mvp\n",
      " \n",
      "Topic 1: \n",
      "came\n",
      " \n",
      "want\n",
      " \n",
      "co\n",
      " \n",
      "photo\n",
      " \n",
      "next\n",
      " \n",
      "comments\n",
      " \n",
      "magic\n",
      " \n",
      "Topic 2: \n",
      "them\n",
      " \n",
      "top\n",
      " \n",
      "co\n",
      " \n",
      "comments\n",
      " \n",
      "photo\n",
      " \n",
      "mj\n",
      " \n",
      "want\n",
      " \n",
      "Topic 3: \n",
      "news\n",
      " \n",
      "too\n",
      " \n",
      "while\n",
      " \n",
      "mvp\n",
      " \n",
      "with\n",
      " \n",
      "co\n",
      " \n",
      "comments\n",
      " \n",
      "Topic 4: \n",
      "top\n",
      " \n",
      "came\n",
      " \n",
      "what\n",
      " \n",
      "with\n",
      " \n",
      "mvp\n",
      " \n",
      "pic\n",
      " \n",
      "loses\n",
      " \n",
      "Topic 5: \n",
      "news\n",
      " \n",
      "with\n",
      " \n",
      "came\n",
      " \n",
      "mvp\n",
      " \n",
      "them\n",
      " \n",
      "first\n",
      " \n",
      "team\n",
      " \n",
      "Topic 6: \n",
      "with\n",
      " \n",
      "too\n",
      " \n",
      "them\n",
      " \n",
      "jordan\n",
      " \n",
      "other\n",
      " \n",
      "don\n",
      " \n",
      "came\n",
      " \n",
      "Topic 7: \n",
      "came\n",
      " \n",
      "mvp\n",
      " \n",
      "news\n",
      " \n",
      "check\n",
      " \n",
      "don\n",
      " \n",
      "pic\n",
      " \n",
      "lebron\n",
      " \n",
      "Topic 8: \n",
      "too\n",
      " \n",
      "pic\n",
      " \n",
      "while\n",
      " \n",
      "tt\n",
      " \n",
      "top\n",
      " \n",
      "18\n",
      " \n",
      "dirk\n",
      " \n",
      "Topic 9: \n",
      "check\n",
      " \n",
      "18\n",
      " \n",
      "tt\n",
      " \n",
      "most\n",
      " \n",
      "while\n",
      " \n",
      "dirk\n",
      " \n",
      "came\n",
      " \n",
      "Topic 10: \n",
      "don\n",
      " \n",
      "lebron\n",
      " \n",
      "came\n",
      " \n",
      "took\n",
      " \n",
      "why\n",
      " \n",
      "top\n",
      " \n",
      "today\n",
      " \n",
      "Topic 11: \n",
      "check\n",
      " \n",
      "news\n",
      " \n",
      "pic\n",
      " \n",
      "game\n",
      " \n",
      "old\n",
      " \n",
      "people\n",
      " \n",
      "no\n",
      " \n",
      "Topic 12: \n",
      "why\n",
      " \n",
      "full\n",
      " \n",
      "mvp\n",
      " \n",
      "pic\n",
      " \n",
      "ve\n",
      " \n",
      "la\n",
      " \n",
      "game\n",
      " \n",
      "Topic 13: \n",
      "what\n",
      " \n",
      "why\n",
      " \n",
      "game\n",
      " \n",
      "100\n",
      " \n",
      "too\n",
      " \n",
      "jordan\n",
      " \n",
      "10\n",
      " \n",
      "Topic 14: \n",
      "what\n",
      " \n",
      "la\n",
      " \n",
      "then\n",
      " \n",
      "pau\n",
      " \n",
      "didn\n",
      " \n",
      "owned\n",
      " \n",
      "want\n",
      " \n",
      "Topic 15: \n",
      "la\n",
      " \n",
      "most\n",
      " \n",
      "full\n",
      " \n",
      "beef\n",
      " \n",
      "took\n",
      " \n",
      "lebron\n",
      " \n",
      "while\n",
      " \n",
      "Topic 16: \n",
      "check\n",
      " \n",
      "while\n",
      " \n",
      "100\n",
      " \n",
      "been\n",
      " \n",
      "wade\n",
      " \n",
      "beef\n",
      " \n",
      "life\n",
      " \n",
      "Topic 17: \n",
      "la\n",
      " \n",
      "pau\n",
      " \n",
      "now\n",
      " \n",
      "old\n",
      " \n",
      "those\n",
      " \n",
      "jordan\n",
      " \n",
      "loses\n",
      " \n",
      "Topic 18: \n",
      "jordan\n",
      " \n",
      "why\n",
      " \n",
      "people\n",
      " \n",
      "other\n",
      " \n",
      "beef\n",
      " \n",
      "18\n",
      " \n",
      "tell\n",
      " \n",
      "Topic 19: \n",
      "most\n",
      " \n",
      "other\n",
      " \n",
      "la\n",
      " \n",
      "today\n",
      " \n",
      "too\n",
      " \n",
      "check\n",
      " \n",
      "then\n",
      " \n",
      "Topic 20: \n",
      "game\n",
      " \n",
      "old\n",
      " \n",
      "mvp\n",
      " \n",
      "other\n",
      " \n",
      "100\n",
      " \n",
      "today\n",
      " \n",
      "jordan\n",
      " \n",
      "Topic 21: \n",
      "jordan\n",
      " \n",
      "wade\n",
      " \n",
      "been\n",
      " \n",
      "too\n",
      " \n",
      "most\n",
      " \n",
      "youtube\n",
      " \n",
      "zoom\n",
      " \n",
      "Topic 22: \n",
      "re\n",
      " \n",
      "didn\n",
      " \n",
      "la\n",
      " \n",
      "old\n",
      " \n",
      "next\n",
      " \n",
      "while\n",
      " \n",
      "100\n",
      " \n",
      "Topic 23: \n",
      "tt\n",
      " \n",
      "people\n",
      " \n",
      "those\n",
      " \n",
      "11\n",
      " \n",
      "nba\n",
      " \n",
      "been\n",
      " \n",
      "take\n",
      " \n",
      "Topic 24: \n",
      "pau\n",
      " \n",
      "100\n",
      " \n",
      "life\n",
      " \n",
      "don\n",
      " \n",
      "didn\n",
      " \n",
      "game\n",
      " \n",
      "next\n",
      " \n",
      "Topic 25: \n",
      "pau\n",
      " \n",
      "old\n",
      " \n",
      "most\n",
      " \n",
      "while\n",
      " \n",
      "what\n",
      " \n",
      "11\n",
      " \n",
      "more\n",
      " \n",
      "Topic 26: \n",
      "beef\n",
      " \n",
      "pau\n",
      " \n",
      "has\n",
      " \n",
      "pic\n",
      " \n",
      "didn\n",
      " \n",
      "losing\n",
      " \n",
      "people\n",
      " \n",
      "Topic 27: \n",
      "pau\n",
      " \n",
      "need\n",
      " \n",
      "too\n",
      " \n",
      "post\n",
      " \n",
      "get\n",
      " \n",
      "next\n",
      " \n",
      "took\n",
      " \n",
      "Topic 28: \n",
      "wade\n",
      " \n",
      "jordan\n",
      " \n",
      "most\n",
      " \n",
      "has\n",
      " \n",
      "while\n",
      " \n",
      "then\n",
      " \n",
      "pic\n",
      " \n",
      "Topic 29: \n",
      "life\n",
      " \n",
      "has\n",
      " \n",
      "la\n",
      " \n",
      "stop\n",
      " \n",
      "what\n",
      " \n",
      "rt\n",
      " \n",
      "zoom\n",
      " \n",
      "Topic 30: \n",
      "youtu\n",
      " \n",
      "game\n",
      " \n",
      "more\n",
      " \n",
      "la\n",
      " \n",
      "rt\n",
      " \n",
      "has\n",
      " \n",
      "losing\n",
      " \n",
      "Topic 31: \n",
      "would\n",
      " \n",
      "while\n",
      " \n",
      "la\n",
      " \n",
      "then\n",
      " \n",
      "too\n",
      " \n",
      "its\n",
      " \n",
      "her\n",
      " \n",
      "Topic 32: \n",
      "full\n",
      " \n",
      "pic\n",
      " \n",
      "we\n",
      " \n",
      "zoom\n",
      " \n",
      "youtube\n",
      " \n",
      "lebron\n",
      " \n",
      "while\n",
      " \n",
      "Topic 33: \n",
      "her\n",
      " \n",
      "18\n",
      " \n",
      "full\n",
      " \n",
      "don\n",
      " \n",
      "look\n",
      " \n",
      "11\n",
      " \n",
      "out\n",
      " \n",
      "Topic 34: \n",
      "11\n",
      " \n",
      "game\n",
      " \n",
      "wade\n",
      " \n",
      "michael\n",
      " \n",
      "didn\n",
      " \n",
      "dirk\n",
      " \n",
      "took\n",
      " \n",
      "Topic 35: \n",
      "old\n",
      " \n",
      "get\n",
      " \n",
      "tt\n",
      " \n",
      "then\n",
      " \n",
      "does\n",
      " \n",
      "tell\n",
      " \n",
      "end\n",
      " \n",
      "Topic 36: \n",
      "been\n",
      " \n",
      "gotta\n",
      " \n",
      "basketball\n",
      " \n",
      "still\n",
      " \n",
      "today\n",
      " \n",
      "nike\n",
      " \n",
      "post\n",
      " \n",
      "Topic 37: \n",
      "tell\n",
      " \n",
      "game\n",
      " \n",
      "get\n",
      " \n",
      "life\n",
      " \n",
      "while\n",
      " \n",
      "wade\n",
      " \n",
      "stop\n",
      " \n",
      "Topic 38: \n",
      "gotta\n",
      " \n",
      "kill\n",
      " \n",
      "ift\n",
      " \n",
      "ve\n",
      " \n",
      "gasol\n",
      " \n",
      "people\n",
      " \n",
      "100\n",
      " \n",
      "Topic 39: \n",
      "gotta\n",
      " \n",
      "loses\n",
      " \n",
      "other\n",
      " \n",
      "would\n",
      " \n",
      "tell\n",
      " \n",
      "dirk\n",
      " \n",
      "took\n",
      " \n",
      "Topic 40: \n",
      "next\n",
      " \n",
      "more\n",
      " \n",
      "out\n",
      " \n",
      "paul\n",
      " \n",
      "tell\n",
      " \n",
      "has\n",
      " \n",
      "wade\n",
      " \n",
      "Topic 41: \n",
      "get\n",
      " \n",
      "dirk\n",
      " \n",
      "took\n",
      " \n",
      "video\n",
      " \n",
      "we\n",
      " \n",
      "those\n",
      " \n",
      "jordan\n",
      " \n",
      "Topic 42: \n",
      "still\n",
      " \n",
      "james\n",
      " \n",
      "video\n",
      " \n",
      "has\n",
      " \n",
      "kd\n",
      " \n",
      "la\n",
      " \n",
      "ball\n",
      " \n",
      "Topic 43: \n",
      "gotta\n",
      " \n",
      "stop\n",
      " \n",
      "tt\n",
      " \n",
      "ever\n",
      " \n",
      "jordan\n",
      " \n",
      "gonna\n",
      " \n",
      "post\n",
      " \n",
      "Topic 44: \n",
      "life\n",
      " \n",
      "michael\n",
      " \n",
      "nose\n",
      " \n",
      "tho\n",
      " \n",
      "their\n",
      " \n",
      "people\n",
      " \n",
      "ll\n",
      " \n",
      "Topic 45: \n",
      "ift\n",
      " \n",
      "end\n",
      " \n",
      "youtu\n",
      " \n",
      "rt\n",
      " \n",
      "gonna\n",
      " \n",
      "need\n",
      " \n",
      "ve\n",
      " \n",
      "Topic 46: \n",
      "11\n",
      " \n",
      "would\n",
      " \n",
      "since\n",
      " \n",
      "today\n",
      " \n",
      "then\n",
      " \n",
      "tt\n",
      " \n",
      "get\n",
      " \n",
      "Topic 47: \n",
      "ift\n",
      " \n",
      "those\n",
      " \n",
      "gonna\n",
      " \n",
      "tt\n",
      " \n",
      "lebron\n",
      " \n",
      "team\n",
      " \n",
      "paul\n",
      " \n",
      "Topic 48: \n",
      "dirk\n",
      " \n",
      "don\n",
      " \n",
      "man\n",
      " \n",
      "or\n",
      " \n",
      "rt\n",
      " \n",
      "11\n",
      " \n",
      "got\n",
      " \n",
      "Topic 49: \n",
      "today\n",
      " \n",
      "youtu\n",
      " \n",
      "people\n",
      " \n",
      "post\n",
      " \n",
      "gonna\n",
      " \n",
      "her\n",
      " \n",
      "tell\n",
      " \n",
      "Topic 50: \n",
      "does\n",
      " \n",
      "bron\n",
      " \n",
      "more\n",
      " \n",
      "end\n",
      " \n",
      "would\n",
      " \n",
      "game\n",
      " \n",
      "tell\n",
      " \n",
      "Topic 51: \n",
      "video\n",
      " \n",
      "tell\n",
      " \n",
      "100\n",
      " \n",
      "life\n",
      " \n",
      "liked\n",
      " \n",
      "get\n",
      " \n",
      "out\n",
      " \n",
      "Topic 52: \n",
      "has\n",
      " \n",
      "video\n",
      " \n",
      "paul\n",
      " \n",
      "gotta\n",
      " \n",
      "what\n",
      " \n",
      "stop\n",
      " \n",
      "vs\n",
      " \n",
      "Topic 53: \n",
      "video\n",
      " \n",
      "new\n",
      " \n",
      "michael\n",
      " \n",
      "tell\n",
      " \n",
      "don\n",
      " \n",
      "via\n",
      " \n",
      "got\n",
      " \n",
      "Topic 54: \n",
      "stop\n",
      " \n",
      "time\n",
      " \n",
      "nose\n",
      " \n",
      "100\n",
      " \n",
      "win\n",
      " \n",
      "wade\n",
      " \n",
      "when\n",
      " \n",
      "Topic 55: \n",
      "than\n",
      " \n",
      "game\n",
      " \n",
      "re\n",
      " \n",
      "see\n",
      " \n",
      "need\n",
      " \n",
      "gotta\n",
      " \n",
      "dirk\n",
      " \n",
      "Topic 56: \n",
      "lebron\n",
      " \n",
      "where\n",
      " \n",
      "dirk\n",
      " \n",
      "bron\n",
      " \n",
      "more\n",
      " \n",
      "hard\n",
      " \n",
      "bitch\n",
      " \n",
      "Topic 57: \n",
      "damn\n",
      " \n",
      "end\n",
      " \n",
      "those\n",
      " \n",
      "took\n",
      " \n",
      "gasol\n",
      " \n",
      "vs\n",
      " \n",
      "didn\n",
      " \n",
      "Topic 58: \n",
      "tt\n",
      " \n",
      "win\n",
      " \n",
      "had\n",
      " \n",
      "more\n",
      " \n",
      "no\n",
      " \n",
      "bron\n",
      " \n",
      "kill\n",
      " \n",
      "Topic 59: \n",
      "gasol\n",
      " \n",
      "tho\n",
      " \n",
      "lebron\n",
      " \n",
      "watching\n",
      " \n",
      "mj\n",
      " \n",
      "old\n",
      " \n",
      "since\n",
      " \n",
      "Topic 60: \n",
      "ift\n",
      " \n",
      "ball\n",
      " \n",
      "we\n",
      " \n",
      "stop\n",
      " \n",
      "well\n",
      " \n",
      "don\n",
      " \n",
      "know\n",
      " \n",
      "Topic 61: \n",
      "nose\n",
      " \n",
      "stop\n",
      " \n",
      "ve\n",
      " \n",
      "rookie\n",
      " \n",
      "points\n",
      " \n",
      "mj\n",
      " \n",
      "tell\n",
      " \n",
      "Topic 62: \n",
      "stop\n",
      " \n",
      "than\n",
      " \n",
      "dirk\n",
      " \n",
      "since\n",
      " \n",
      "ve\n",
      " \n",
      "tinyurl\n",
      " \n",
      "take\n",
      " \n",
      "Topic 63: \n",
      "paul\n",
      " \n",
      "those\n",
      " \n",
      "damn\n",
      " \n",
      "nike\n",
      " \n",
      "nba\n",
      " \n",
      "while\n",
      " \n",
      "got\n",
      " \n",
      "Topic 64: \n",
      "post\n",
      " \n",
      "rookie\n",
      " \n",
      "status\n",
      " \n",
      "bron\n",
      " \n",
      "video\n",
      " \n",
      "gonna\n",
      " \n",
      "more\n",
      " \n",
      "Topic 65: \n",
      "would\n",
      " \n",
      "ift\n",
      " \n",
      "we\n",
      " \n",
      "gasol\n",
      " \n",
      "bitch\n",
      " \n",
      "nose\n",
      " \n",
      "stop\n",
      " \n",
      "Topic 66: \n",
      "utm_campaign\n",
      " \n",
      "vs\n",
      " \n",
      "people\n",
      " \n",
      "way\n",
      " \n",
      "put\n",
      " \n",
      "get\n",
      " \n",
      "out\n",
      " \n",
      "Topic 67: \n",
      "ll\n",
      " \n",
      "gonna\n",
      " \n",
      "post\n",
      " \n",
      "look\n",
      " \n",
      "paul\n",
      " \n",
      "young\n",
      " \n",
      "get\n",
      " \n",
      "Topic 68: \n",
      "post\n",
      " \n",
      "say\n",
      " \n",
      "status\n",
      " \n",
      "where\n",
      " \n",
      "fans\n",
      " \n",
      "beef\n",
      " \n",
      "way\n",
      " \n",
      "Topic 69: \n",
      "say\n",
      " \n",
      "had\n",
      " \n",
      "ball\n",
      " \n",
      "dirk\n",
      " \n",
      "gonna\n",
      " \n",
      "via\n",
      " \n",
      "people\n",
      " \n",
      "Topic 70: \n",
      "those\n",
      " \n",
      "other\n",
      " \n",
      "contest\n",
      " \n",
      "ift\n",
      " \n",
      "out\n",
      " \n",
      "via\n",
      " \n",
      "ll\n",
      " \n",
      "Topic 71: \n",
      "tell\n",
      " \n",
      "new\n",
      " \n",
      "hard\n",
      " \n",
      "youtu\n",
      " \n",
      "ll\n",
      " \n",
      "really\n",
      " \n",
      "win\n",
      " \n",
      "Topic 72: \n",
      "time\n",
      " \n",
      "love\n",
      " \n",
      "does\n",
      " \n",
      "took\n",
      " \n",
      "only\n",
      " \n",
      "status\n",
      " \n",
      "ball\n",
      " \n",
      "Topic 73: \n",
      "nose\n",
      " \n",
      "love\n",
      " \n",
      "life\n",
      " \n",
      "say\n",
      " \n",
      "look\n",
      " \n",
      "other\n",
      " \n",
      "bitch\n",
      " \n",
      "Topic 74: \n",
      "vs\n",
      " \n",
      "look\n",
      " \n",
      "nba\n",
      " \n",
      "rookie\n",
      " \n",
      "him\n",
      " \n",
      "via\n",
      " \n",
      "got\n",
      " \n",
      "Topic 75: \n",
      "we\n",
      " \n",
      "back\n",
      " \n",
      "point\n",
      " \n",
      "end\n",
      " \n",
      "those\n",
      " \n",
      "never\n",
      " \n",
      "damn\n",
      " \n",
      "Topic 76: \n",
      "had\n",
      " \n",
      "people\n",
      " \n",
      "via\n",
      " \n",
      "rt\n",
      " \n",
      "rookie\n",
      " \n",
      "nose\n",
      " \n",
      "tho\n",
      " \n",
      "Topic 77: \n",
      "damn\n",
      " \n",
      "owned\n",
      " \n",
      "man\n",
      " \n",
      "go\n",
      " \n",
      "since\n",
      " \n",
      "win\n",
      " \n",
      "rt\n",
      " \n",
      "Topic 78: \n",
      "hard\n",
      " \n",
      "loses\n",
      " \n",
      "got\n",
      " \n",
      "were\n",
      " \n",
      "win\n",
      " \n",
      "video\n",
      " \n",
      "gasol\n",
      " \n",
      "Topic 79: \n",
      "sz\n",
      " \n",
      "via\n",
      " \n",
      "status\n",
      " \n",
      "point\n",
      " \n",
      "life\n",
      " \n",
      "or\n",
      " \n",
      "look\n",
      " \n",
      "Topic 80: \n",
      "they\n",
      " \n",
      "aston\n",
      " \n",
      "fan\n",
      " \n",
      "gasol\n",
      " \n",
      "go\n",
      " \n",
      "nba\n",
      " \n",
      "win\n",
      " \n",
      "Topic 81: \n",
      "their\n",
      " \n",
      "well\n",
      " \n",
      "today\n",
      " \n",
      "get\n",
      " \n",
      "man\n",
      " \n",
      "these\n",
      " \n",
      "stop\n",
      " \n",
      "Topic 82: \n",
      "new\n",
      " \n",
      "ball\n",
      " \n",
      "my\n",
      " \n",
      "put\n",
      " \n",
      "we\n",
      " \n",
      "good\n",
      " \n",
      "games\n",
      " \n",
      "Topic 83: \n",
      "we\n",
      " \n",
      "say\n",
      " \n",
      "since\n",
      " \n",
      "via\n",
      " \n",
      "than\n",
      " \n",
      "give\n",
      " \n",
      "ll\n",
      " \n",
      "Topic 84: \n",
      "kill\n",
      " \n",
      "were\n",
      " \n",
      "man\n",
      " \n",
      "first\n",
      " \n",
      "much\n",
      " \n",
      "new\n",
      " \n",
      "wade\n",
      " \n",
      "Topic 85: \n",
      "after\n",
      " \n",
      "man\n",
      " \n",
      "young\n",
      " \n",
      "youtu\n",
      " \n",
      "losing\n",
      " \n",
      "dlvr\n",
      " \n",
      "fan\n",
      " \n",
      "Topic 86: \n",
      "gonna\n",
      " \n",
      "no\n",
      " \n",
      "ball\n",
      " \n",
      "utm_campaign\n",
      " \n",
      "since\n",
      " \n",
      "over\n",
      " \n",
      "sz\n",
      " \n",
      "Topic 87: \n",
      "put\n",
      " \n",
      "paul\n",
      " \n",
      "new\n",
      " \n",
      "sz\n",
      " \n",
      "ever\n",
      " \n",
      "never\n",
      " \n",
      "watching\n",
      " \n",
      "Topic 88: \n",
      "when\n",
      " \n",
      "owned\n",
      " \n",
      "know\n",
      " \n",
      "fan\n",
      " \n",
      "bron\n",
      " \n",
      "mj\n",
      " \n",
      "youtu\n",
      " \n",
      "Topic 89: \n",
      "fuck\n",
      " \n",
      "when\n",
      " \n",
      "dunk\n",
      " \n",
      "true\n",
      " \n",
      "sz\n",
      " \n",
      "nba\n",
      " \n",
      "dlvr\n",
      " \n",
      "Topic 90: \n",
      "might\n",
      " \n",
      "ly\n",
      " \n",
      "nike\n",
      " \n",
      "their\n",
      " \n",
      "utm_source\n",
      " \n",
      "kill\n",
      " \n",
      "know\n",
      " \n",
      "Topic 91: \n",
      "games\n",
      " \n",
      "since\n",
      " \n",
      "nigga\n",
      " \n",
      "me\n",
      " \n",
      "hard\n",
      " \n",
      "laker\n",
      " \n",
      "ever\n",
      " \n",
      "Topic 92: \n",
      "had\n",
      " \n",
      "bitch\n",
      " \n",
      "love\n",
      " \n",
      "know\n",
      " \n",
      "though\n",
      " \n",
      "fuck\n",
      " \n",
      "again\n",
      " \n",
      "Topic 93: \n",
      "nike\n",
      " \n",
      "even\n",
      " \n",
      "rookie\n",
      " \n",
      "this\n",
      " \n",
      "my\n",
      " \n",
      "watching\n",
      " \n",
      "see\n",
      " \n",
      "Topic 94: \n",
      "put\n",
      " \n",
      "michael\n",
      " \n",
      "rookie\n",
      " \n",
      "bit\n",
      " \n",
      "me\n",
      " \n",
      "again\n",
      " \n",
      "dunk\n",
      " \n",
      "Topic 95: \n",
      "dirk\n",
      " \n",
      "owned\n",
      " \n",
      "put\n",
      " \n",
      "ll\n",
      " \n",
      "mj\n",
      " \n",
      "beef\n",
      " \n",
      "play\n",
      " \n",
      "Topic 96: \n",
      "say\n",
      " \n",
      "martin\n",
      " \n",
      "playing\n",
      " \n",
      "re\n",
      " \n",
      "never\n",
      " \n",
      "had\n",
      " \n",
      "time\n",
      " \n",
      "Topic 97: \n",
      "day\n",
      " \n",
      "know\n",
      " \n",
      "go\n",
      " \n",
      "way\n",
      " \n",
      "ly\n",
      " \n",
      "said\n",
      " \n",
      "been\n",
      " \n",
      "Topic 98: \n",
      "every\n",
      " \n",
      "youtu\n",
      " \n",
      "laker\n",
      " \n",
      "your\n",
      " \n",
      "never\n",
      " \n",
      "wade\n",
      " \n",
      "know\n",
      " \n",
      "Topic 99: \n",
      "shaq\n",
      " \n",
      "after\n",
      " \n",
      "need\n",
      " \n",
      "lebron\n",
      " \n",
      "fan\n",
      " \n",
      "utm_source\n",
      " \n",
      "new\n",
      " \n"
     ]
    }
   ],
   "source": [
    "terms2 = c2.get_feature_names()\n",
    "\n",
    "for i, comp in enumerate(lsa3.components_):\n",
    "    terms_comp2 = zip(terms2, comp)\n",
    "    sorted_terms2 = sorted(terms_comp2, key= lambda x:x[1], reverse=True)[:7]\n",
    "    print(\"Topic \"+str(i)+\": \")\n",
    "    for t in sorted_terms2:\n",
    "        print(t[0])\n",
    "        print(\" \")"
   ]
  },
  {
   "cell_type": "code",
   "execution_count": 28,
   "metadata": {},
   "outputs": [
    {
     "data": {
      "image/png": "[encoded data removed]",
      "text/plain": [
       "<Figure size 504x360 with 1 Axes>"
      ]
     },
     "metadata": {
      "needs_background": "light"
     },
     "output_type": "display_data"
    }
   ],
   "source": [
    "import umap.umap_ as umap\n",
    "\n",
    "X_topics = lsa.fit_transform(features)\n",
    "embedding = umap.UMAP(n_neighbors=150, min_dist=1, random_state=5).fit_transform(X_topics)\n",
    "plt.figure(figsize=(7,5))\n",
    "plt.scatter(embedding[:, 0], embedding[:, 1], \n",
    "s = 10, \n",
    "c=xs,# size\n",
    "edgecolor='none'\n",
    ")\n",
    "plt.show()"
   ]
  },
  {
   "cell_type": "code",
   "execution_count": null,
   "metadata": {},
   "outputs": [],
   "source": []
  },
  {
   "cell_type": "code",
   "execution_count": null,
   "metadata": {},
   "outputs": [],
   "source": []
  }
 ],
 "metadata": {
  "kernelspec": {
   "display_name": "Python 3",
   "language": "python",
   "name": "python3"
  },
  "language_info": {
   "codemirror_mode": {
    "name": "ipython",
    "version": 3
   },
   "file_extension": ".py",
   "mimetype": "text/x-python",
   "name": "python",
   "nbconvert_exporter": "python",
   "pygments_lexer": "ipython3",
   "version": "3.7.4"
  }
 },
 "nbformat": 4,
 "nbformat_minor": 2
}
