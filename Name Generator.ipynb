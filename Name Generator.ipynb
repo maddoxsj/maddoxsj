{
 "cells": [
  {
   "cell_type": "code",
   "execution_count": 5,
   "metadata": {},
   "outputs": [
    {
     "name": "stdout",
     "output_type": "stream",
     "text": [
      "Aumya\n"
     ]
    }
   ],
   "source": [
    "from collections import defaultdict, Counter\n",
    "import random\n",
    "import sys\n",
    "\n",
    "step = 1 #only concerned with 1 character at a time\n",
    "data = \"Alice Aria Autumn Arabella Adelaide Amina Alyssa Athena Amelia Arielle Aaliyah Adeline Annika Ainsley Aspen Annalise Amaya Addison Avery Ariana Annabelle Anastasia Ayla Amira Amber Annie April Azalea Anya Aurelia Ava Alma Astrid Alessia Adrienne Amalia Abigail Aurora Adele Amy Alicia Angelina Andrea Alina Alexis Agnes Amanda Aubrey Antonia Alana\"\n",
    "#data = \"Emma Olivia Ava Isabella Sophia Charlotte Mia Amelia Harper Evelyn Abigail Emily Elizabeth Mila Ella Avery Sofia Camila Aria Scarlett Victoria Madison Luna Grace Chloe Penelope Layla Riley Zoey Nora Lily Eleanor Hannah Lillian Addison Aubrey Ellie Stella Natalie Zoe Leah Hazel Violet Aurora Savannah Audrey Brooklyn Bella Claire Skylar Lucy Paisley Everly Anna Caroline Nova Genesis Emilia Kennedy Samantha Maya Willow Kinsley Naomi Aaliyah Elena Sarah Ariana Allison Gabriella Alice Madelyn Cora Ruby Eva Serenity Autumn Adeline Hailey Gianna Valentina Isla Eliana Quinn Nevaeh Ivy Sadie Piper Lydia Alexa Josephine Emery Julia Delilah Arianna Vivian Kaylee Sophie Brielle Madeline\"\n",
    "model = defaultdict(Counter)\n",
    "\n",
    "#training set\n",
    "for i in range(len(data) - step):\n",
    "    state = data[i:i + step]\n",
    "    next = data[i + step]\n",
    "    model[state][next] += 1\n",
    "    \n",
    "#creating the name\n",
    "state = \"A\"\n",
    "out = list(state)\n",
    "for i in range(9):\n",
    "    out.extend(random.choices(list(model[state]), model[state].values()))\n",
    "    state = state[1:] + out[-1]\n",
    "x =''.join(out)\n",
    "#removes space and prints name \n",
    "sep = ' '\n",
    "name = x.split(sep, 1)[0]\n",
    "print(name)"
   ]
  },
  {
   "cell_type": "code",
   "execution_count": null,
   "metadata": {},
   "outputs": [],
   "source": []
  },
  {
   "cell_type": "code",
   "execution_count": null,
   "metadata": {},
   "outputs": [],
   "source": []
  },
  {
   "cell_type": "code",
   "execution_count": null,
   "metadata": {},
   "outputs": [],
   "source": []
  }
 ],
 "metadata": {
  "kernelspec": {
   "display_name": "Python 3",
   "language": "python",
   "name": "python3"
  },
  "language_info": {
   "codemirror_mode": {
    "name": "ipython",
    "version": 3
   },
   "file_extension": ".py",
   "mimetype": "text/x-python",
   "name": "python",
   "nbconvert_exporter": "python",
   "pygments_lexer": "ipython3",
   "version": "3.7.4"
  }
 },
 "nbformat": 4,
 "nbformat_minor": 2
}
